{
 "cells": [
  {
   "cell_type": "code",
   "execution_count": 1,
   "metadata": {
    "id": "Du_tmC4hVPTr"
   },
   "outputs": [],
   "source": [
    "import cv2\n",
    "import math\n",
    "import matplotlib.pyplot as plt\n",
    "%matplotlib inline\n",
    "import pandas as pd\n",
    "import numpy as np\n",
    "from keras.preprocessing import image\n",
    "import numpy as np\n",
    "from keras.utils import np_utils\n",
    "from skimage.transform import resize\n",
    "from PIL import Image\n",
    "import re\n",
    "import os\n",
    "import random\n",
    "import shutil\n",
    "import keras\n",
    "from keras.models import load_model"
   ]
  },
  {
   "cell_type": "code",
   "execution_count": 2,
   "metadata": {
    "colab": {
     "base_uri": "https://localhost:8080/"
    },
    "id": "fbBFx_ZIVXku",
    "outputId": "5955b0ff-3792-4301-933d-d2dfee3d8404"
   },
   "outputs": [
    {
     "data": {
      "text/plain": [
       "('model6.zip', <http.client.HTTPMessage at 0x7fef3fbbf2d0>)"
      ]
     },
     "execution_count": 2,
     "metadata": {
      "tags": []
     },
     "output_type": "execute_result"
    }
   ],
   "source": [
    "import os\n",
    "import urllib.request\n",
    "url =\"https://onedrive.live.com/download?cid=6906019B94799E0F&resid=6906019B94799E0F%211318&authkey=APMlWUawZNEMr3E\"\n",
    "filename = 'model6.zip'\n",
    "urllib.request.urlretrieve(url, filename)"
   ]
  },
  {
   "cell_type": "code",
   "execution_count": 3,
   "metadata": {
    "id": "-hmMNiSAVZ3Q"
   },
   "outputs": [],
   "source": [
    "import zipfile\n",
    "with zipfile.ZipFile(\"model6.zip\", 'r') as zip_ref:\n",
    "    zip_ref.extractall(\"files\")"
   ]
  },
  {
   "cell_type": "code",
   "execution_count": 4,
   "metadata": {
    "colab": {
     "base_uri": "https://localhost:8080/"
    },
    "id": "yMByrGkFVqdd",
    "outputId": "e848974e-cb81-44ac-e53e-79506171bbf8"
   },
   "outputs": [
    {
     "name": "stdout",
     "output_type": "stream",
     "text": [
      "Collecting youtube-search-python\n",
      "\u001b[?25l  Downloading https://files.pythonhosted.org/packages/c1/4c/92dd7b3b29afcab9ca968853d63bcec4638bba2183d3665c3ef1a5efbc43/youtube_search_python-1.4.5-py3-none-any.whl (69kB)\n",
      "\u001b[K     |████████████████████████████████| 71kB 6.1MB/s \n",
      "\u001b[?25hCollecting httpx\n",
      "\u001b[?25l  Downloading https://files.pythonhosted.org/packages/04/69/17b725b1bfe63228369cddf50206381eadb14bc46b933a864ae93ea1b9bf/httpx-0.18.1-py3-none-any.whl (75kB)\n",
      "\u001b[K     |████████████████████████████████| 81kB 8.4MB/s \n",
      "\u001b[?25hCollecting httpcore<0.14.0,>=0.13.0\n",
      "\u001b[?25l  Downloading https://files.pythonhosted.org/packages/21/d9/e9bd4ce296a965113070b7eee3919844058573ab361588c1d211f6ad2d35/httpcore-0.13.2-py3-none-any.whl (56kB)\n",
      "\u001b[K     |████████████████████████████████| 61kB 8.5MB/s \n",
      "\u001b[?25hCollecting sniffio\n",
      "  Downloading https://files.pythonhosted.org/packages/52/b0/7b2e028b63d092804b6794595871f936aafa5e9322dcaaad50ebf67445b3/sniffio-1.2.0-py3-none-any.whl\n",
      "Collecting rfc3986[idna2008]<2,>=1.3\n",
      "  Downloading https://files.pythonhosted.org/packages/78/be/7b8b99fd74ff5684225f50dd0e865393d2265656ef3b4ba9eaaaffe622b8/rfc3986-1.4.0-py2.py3-none-any.whl\n",
      "Requirement already satisfied: certifi in /usr/local/lib/python3.7/dist-packages (from httpx->youtube-search-python) (2020.12.5)\n",
      "Collecting h11==0.*\n",
      "\u001b[?25l  Downloading https://files.pythonhosted.org/packages/60/0f/7a0eeea938eaf61074f29fed9717f2010e8d0e0905d36b38d3275a1e4622/h11-0.12.0-py3-none-any.whl (54kB)\n",
      "\u001b[K     |████████████████████████████████| 61kB 5.9MB/s \n",
      "\u001b[?25hRequirement already satisfied: idna; extra == \"idna2008\" in /usr/local/lib/python3.7/dist-packages (from rfc3986[idna2008]<2,>=1.3->httpx->youtube-search-python) (2.10)\n",
      "Installing collected packages: sniffio, h11, httpcore, rfc3986, httpx, youtube-search-python\n",
      "Successfully installed h11-0.12.0 httpcore-0.13.2 httpx-0.18.1 rfc3986-1.4.0 sniffio-1.2.0 youtube-search-python-1.4.5\n",
      "Collecting pytube\n",
      "\u001b[?25l  Downloading https://files.pythonhosted.org/packages/91/96/0cc31cb18fda662a5ae235dff33ad66dfbc94bf46f19e9e22cb1960b3253/pytube-10.7.2-py3-none-any.whl (42kB)\n",
      "\u001b[K     |████████████████████████████████| 51kB 6.0MB/s \n",
      "\u001b[?25hInstalling collected packages: pytube\n",
      "Successfully installed pytube-10.7.2\n",
      "Requirement already satisfied: moviepy in /usr/local/lib/python3.7/dist-packages (0.2.3.5)\n",
      "Requirement already satisfied: decorator<5.0,>=4.0.2 in /usr/local/lib/python3.7/dist-packages (from moviepy) (4.4.2)\n",
      "Requirement already satisfied: tqdm<5.0,>=4.11.2 in /usr/local/lib/python3.7/dist-packages (from moviepy) (4.41.1)\n",
      "Requirement already satisfied: numpy in /usr/local/lib/python3.7/dist-packages (from moviepy) (1.19.5)\n",
      "Requirement already satisfied: imageio<3.0,>=2.1.2 in /usr/local/lib/python3.7/dist-packages (from moviepy) (2.4.1)\n",
      "Requirement already satisfied: pillow in /usr/local/lib/python3.7/dist-packages (from imageio<3.0,>=2.1.2->moviepy) (7.1.2)\n"
     ]
    }
   ],
   "source": [
    "!pip install youtube-search-python\n",
    "!pip install pytube\n",
    "!pip install moviepy"
   ]
  },
  {
   "cell_type": "code",
   "execution_count": 5,
   "metadata": {
    "id": "eqf4rqn5XDlA"
   },
   "outputs": [],
   "source": [
    "links = ['https://www.youtube.com/watch?v=6H4VsHbynQc']"
   ]
  },
  {
   "cell_type": "code",
   "execution_count": 6,
   "metadata": {
    "id": "PInaH37qX0FJ"
   },
   "outputs": [],
   "source": [
    "os.mkdir('youtube_downloads')"
   ]
  },
  {
   "cell_type": "code",
   "execution_count": 7,
   "metadata": {
    "id": "dGdJ5V1HXKe0"
   },
   "outputs": [],
   "source": [
    "#Download videos\n",
    "import pytube\n",
    "\n",
    "for i in range(len(links)):\n",
    "    video_url = links[i] # paste here your Youube videos' url\n",
    "    youtube = pytube.YouTube(video_url)\n",
    "    video = youtube.streams.first().download('youtube_downloads')\n",
    "    os.rename(video, './youtube_downloads/' + links[i].split(\"=\")[1] + '.mp4')"
   ]
  },
  {
   "cell_type": "code",
   "execution_count": 8,
   "metadata": {
    "colab": {
     "base_uri": "https://localhost:8080/"
    },
    "id": "x0y8CJZqXZ_w",
    "outputId": "b4ed243a-7172-4e29-cb4f-8a5e9e8c81cd"
   },
   "outputs": [
    {
     "name": "stdout",
     "output_type": "stream",
     "text": [
      "Imageio: 'ffmpeg-linux64-v3.3.1' was not found on your computer; downloading it now.\n",
      "Try 1. Download from https://github.com/imageio/imageio-binaries/raw/master/ffmpeg/ffmpeg-linux64-v3.3.1 (43.8 MB)\n",
      "Downloading: 8192/45929032 bytes (0.0%)\b\b\b\b\b\b\b\b\b\b\b\b\b\b\b\b\b\b\b\b\b\b\b\b\b\b1720320/45929032 bytes (3.7%)\b\b\b\b\b\b\b\b\b\b\b\b\b\b\b\b\b\b\b\b\b\b\b\b\b\b\b\b\b5693440/45929032 bytes (12.4%)\b\b\b\b\b\b\b\b\b\b\b\b\b\b\b\b\b\b\b\b\b\b\b\b\b\b\b\b\b\b10018816/45929032 bytes (21.8%)\b\b\b\b\b\b\b\b\b\b\b\b\b\b\b\b\b\b\b\b\b\b\b\b\b\b\b\b\b\b\b14262272/45929032 bytes (31.1%)\b\b\b\b\b\b\b\b\b\b\b\b\b\b\b\b\b\b\b\b\b\b\b\b\b\b\b\b\b\b\b18644992/45929032 bytes (40.6%)\b\b\b\b\b\b\b\b\b\b\b\b\b\b\b\b\b\b\b\b\b\b\b\b\b\b\b\b\b\b\b22806528/45929032 bytes (49.7%)\b\b\b\b\b\b\b\b\b\b\b\b\b\b\b\b\b\b\b\b\b\b\b\b\b\b\b\b\b\b\b27082752/45929032 bytes (59.0%)\b\b\b\b\b\b\b\b\b\b\b\b\b\b\b\b\b\b\b\b\b\b\b\b\b\b\b\b\b\b\b31170560/45929032 bytes (67.9%)\b\b\b\b\b\b\b\b\b\b\b\b\b\b\b\b\b\b\b\b\b\b\b\b\b\b\b\b\b\b\b35160064/45929032 bytes (76.6%)\b\b\b\b\b\b\b\b\b\b\b\b\b\b\b\b\b\b\b\b\b\b\b\b\b\b\b\b\b\b\b39256064/45929032 bytes (85.5%)\b\b\b\b\b\b\b\b\b\b\b\b\b\b\b\b\b\b\b\b\b\b\b\b\b\b\b\b\b\b\b43393024/45929032 bytes (94.5%)\b\b\b\b\b\b\b\b\b\b\b\b\b\b\b\b\b\b\b\b\b\b\b\b\b\b\b\b\b\b\b45929032/45929032 bytes (100.0%)\n",
      "  Done\n",
      "File saved as /root/.imageio/ffmpeg/ffmpeg-linux64-v3.3.1.\n",
      "[MoviePy] >>>> Building video ./clip/6H4VsHbynQc__0__2.mp4\n",
      "[MoviePy] Writing audio in 6H4VsHbynQc__0__2TEMP_MPY_wvf_snd.mp4\n"
     ]
    },
    {
     "name": "stderr",
     "output_type": "stream",
     "text": [
      "100%|██████████| 45/45 [00:00<00:00, 356.37it/s]"
     ]
    },
    {
     "name": "stdout",
     "output_type": "stream",
     "text": [
      "[MoviePy] Done.\n",
      "[MoviePy] Writing video ./clip/6H4VsHbynQc__0__2.mp4\n"
     ]
    },
    {
     "name": "stderr",
     "output_type": "stream",
     "text": [
      "\n",
      "100%|██████████| 60/60 [00:00<00:00, 250.76it/s]\n"
     ]
    },
    {
     "name": "stdout",
     "output_type": "stream",
     "text": [
      "[MoviePy] Done.\n",
      "[MoviePy] >>>> Video ready: ./clip/6H4VsHbynQc__0__2.mp4 \n",
      "\n",
      "[MoviePy] >>>> Building video ./clip/6H4VsHbynQc__2__4.mp4\n",
      "[MoviePy] Writing audio in 6H4VsHbynQc__2__4TEMP_MPY_wvf_snd.mp4\n"
     ]
    },
    {
     "name": "stderr",
     "output_type": "stream",
     "text": [
      "100%|██████████| 45/45 [00:00<00:00, 350.98it/s]"
     ]
    },
    {
     "name": "stdout",
     "output_type": "stream",
     "text": [
      "[MoviePy] Done.\n",
      "[MoviePy] Writing video ./clip/6H4VsHbynQc__2__4.mp4\n"
     ]
    },
    {
     "name": "stderr",
     "output_type": "stream",
     "text": [
      "\n",
      "100%|██████████| 60/60 [00:00<00:00, 265.73it/s]\n"
     ]
    },
    {
     "name": "stdout",
     "output_type": "stream",
     "text": [
      "[MoviePy] Done.\n",
      "[MoviePy] >>>> Video ready: ./clip/6H4VsHbynQc__2__4.mp4 \n",
      "\n",
      "[MoviePy] >>>> Building video ./clip/6H4VsHbynQc__4__6.mp4\n",
      "[MoviePy] Writing audio in 6H4VsHbynQc__4__6TEMP_MPY_wvf_snd.mp4\n"
     ]
    },
    {
     "name": "stderr",
     "output_type": "stream",
     "text": [
      "100%|██████████| 45/45 [00:00<00:00, 292.13it/s]"
     ]
    },
    {
     "name": "stdout",
     "output_type": "stream",
     "text": [
      "[MoviePy] Done.\n",
      "[MoviePy] Writing video ./clip/6H4VsHbynQc__4__6.mp4\n"
     ]
    },
    {
     "name": "stderr",
     "output_type": "stream",
     "text": [
      "\n",
      "100%|██████████| 60/60 [00:00<00:00, 262.34it/s]\n"
     ]
    },
    {
     "name": "stdout",
     "output_type": "stream",
     "text": [
      "[MoviePy] Done.\n",
      "[MoviePy] >>>> Video ready: ./clip/6H4VsHbynQc__4__6.mp4 \n",
      "\n",
      "[MoviePy] >>>> Building video ./clip/6H4VsHbynQc__6__8.mp4\n",
      "[MoviePy] Writing audio in 6H4VsHbynQc__6__8TEMP_MPY_wvf_snd.mp4\n"
     ]
    },
    {
     "name": "stderr",
     "output_type": "stream",
     "text": [
      "100%|██████████| 45/45 [00:00<00:00, 301.79it/s]"
     ]
    },
    {
     "name": "stdout",
     "output_type": "stream",
     "text": [
      "[MoviePy] Done.\n",
      "[MoviePy] Writing video ./clip/6H4VsHbynQc__6__8.mp4\n"
     ]
    },
    {
     "name": "stderr",
     "output_type": "stream",
     "text": [
      "\n",
      "100%|██████████| 60/60 [00:00<00:00, 222.98it/s]\n"
     ]
    },
    {
     "name": "stdout",
     "output_type": "stream",
     "text": [
      "[MoviePy] Done.\n",
      "[MoviePy] >>>> Video ready: ./clip/6H4VsHbynQc__6__8.mp4 \n",
      "\n",
      "[MoviePy] >>>> Building video ./clip/6H4VsHbynQc__8__10.mp4\n",
      "[MoviePy] Writing audio in 6H4VsHbynQc__8__10TEMP_MPY_wvf_snd.mp4\n"
     ]
    },
    {
     "name": "stderr",
     "output_type": "stream",
     "text": [
      "100%|██████████| 45/45 [00:00<00:00, 359.29it/s]"
     ]
    },
    {
     "name": "stdout",
     "output_type": "stream",
     "text": [
      "[MoviePy] Done.\n",
      "[MoviePy] Writing video ./clip/6H4VsHbynQc__8__10.mp4\n"
     ]
    },
    {
     "name": "stderr",
     "output_type": "stream",
     "text": [
      "\n",
      "100%|██████████| 60/60 [00:00<00:00, 273.76it/s]\n"
     ]
    },
    {
     "name": "stdout",
     "output_type": "stream",
     "text": [
      "[MoviePy] Done.\n",
      "[MoviePy] >>>> Video ready: ./clip/6H4VsHbynQc__8__10.mp4 \n",
      "\n",
      "[MoviePy] >>>> Building video ./clip/6H4VsHbynQc__10__12.mp4\n",
      "[MoviePy] Writing audio in 6H4VsHbynQc__10__12TEMP_MPY_wvf_snd.mp4\n"
     ]
    },
    {
     "name": "stderr",
     "output_type": "stream",
     "text": [
      "100%|██████████| 45/45 [00:00<00:00, 298.48it/s]"
     ]
    },
    {
     "name": "stdout",
     "output_type": "stream",
     "text": [
      "[MoviePy] Done.\n",
      "[MoviePy] Writing video ./clip/6H4VsHbynQc__10__12.mp4\n"
     ]
    },
    {
     "name": "stderr",
     "output_type": "stream",
     "text": [
      "\n",
      "100%|██████████| 60/60 [00:00<00:00, 313.32it/s]\n"
     ]
    },
    {
     "name": "stdout",
     "output_type": "stream",
     "text": [
      "[MoviePy] Done.\n",
      "[MoviePy] >>>> Video ready: ./clip/6H4VsHbynQc__10__12.mp4 \n",
      "\n",
      "[MoviePy] >>>> Building video ./clip/6H4VsHbynQc__12__14.mp4\n",
      "[MoviePy] Writing audio in 6H4VsHbynQc__12__14TEMP_MPY_wvf_snd.mp4\n"
     ]
    },
    {
     "name": "stderr",
     "output_type": "stream",
     "text": [
      "100%|██████████| 45/45 [00:00<00:00, 324.94it/s]"
     ]
    },
    {
     "name": "stdout",
     "output_type": "stream",
     "text": [
      "[MoviePy] Done.\n",
      "[MoviePy] Writing video ./clip/6H4VsHbynQc__12__14.mp4\n"
     ]
    },
    {
     "name": "stderr",
     "output_type": "stream",
     "text": [
      "\n",
      "100%|██████████| 60/60 [00:00<00:00, 332.53it/s]\n"
     ]
    },
    {
     "name": "stdout",
     "output_type": "stream",
     "text": [
      "[MoviePy] Done.\n",
      "[MoviePy] >>>> Video ready: ./clip/6H4VsHbynQc__12__14.mp4 \n",
      "\n",
      "[MoviePy] >>>> Building video ./clip/6H4VsHbynQc__14__16.mp4\n",
      "[MoviePy] Writing audio in 6H4VsHbynQc__14__16TEMP_MPY_wvf_snd.mp4\n"
     ]
    },
    {
     "name": "stderr",
     "output_type": "stream",
     "text": [
      "100%|██████████| 45/45 [00:00<00:00, 350.25it/s]"
     ]
    },
    {
     "name": "stdout",
     "output_type": "stream",
     "text": [
      "[MoviePy] Done.\n",
      "[MoviePy] Writing video ./clip/6H4VsHbynQc__14__16.mp4\n"
     ]
    },
    {
     "name": "stderr",
     "output_type": "stream",
     "text": [
      "\n",
      "100%|██████████| 60/60 [00:00<00:00, 274.92it/s]\n"
     ]
    },
    {
     "name": "stdout",
     "output_type": "stream",
     "text": [
      "[MoviePy] Done.\n",
      "[MoviePy] >>>> Video ready: ./clip/6H4VsHbynQc__14__16.mp4 \n",
      "\n",
      "[MoviePy] >>>> Building video ./clip/6H4VsHbynQc__16__18.mp4\n",
      "[MoviePy] Writing audio in 6H4VsHbynQc__16__18TEMP_MPY_wvf_snd.mp4\n"
     ]
    },
    {
     "name": "stderr",
     "output_type": "stream",
     "text": [
      "100%|██████████| 45/45 [00:00<00:00, 333.28it/s]"
     ]
    },
    {
     "name": "stdout",
     "output_type": "stream",
     "text": [
      "[MoviePy] Done.\n",
      "[MoviePy] Writing video ./clip/6H4VsHbynQc__16__18.mp4\n"
     ]
    },
    {
     "name": "stderr",
     "output_type": "stream",
     "text": [
      "\n",
      "100%|██████████| 60/60 [00:00<00:00, 328.74it/s]\n"
     ]
    },
    {
     "name": "stdout",
     "output_type": "stream",
     "text": [
      "[MoviePy] Done.\n",
      "[MoviePy] >>>> Video ready: ./clip/6H4VsHbynQc__16__18.mp4 \n",
      "\n",
      "[MoviePy] >>>> Building video ./clip/6H4VsHbynQc__18__20.mp4\n",
      "[MoviePy] Writing audio in 6H4VsHbynQc__18__20TEMP_MPY_wvf_snd.mp4\n"
     ]
    },
    {
     "name": "stderr",
     "output_type": "stream",
     "text": [
      "100%|██████████| 45/45 [00:00<00:00, 323.92it/s]"
     ]
    },
    {
     "name": "stdout",
     "output_type": "stream",
     "text": [
      "[MoviePy] Done.\n",
      "[MoviePy] Writing video ./clip/6H4VsHbynQc__18__20.mp4\n"
     ]
    },
    {
     "name": "stderr",
     "output_type": "stream",
     "text": [
      "\n",
      "100%|██████████| 60/60 [00:00<00:00, 320.70it/s]\n"
     ]
    },
    {
     "name": "stdout",
     "output_type": "stream",
     "text": [
      "[MoviePy] Done.\n",
      "[MoviePy] >>>> Video ready: ./clip/6H4VsHbynQc__18__20.mp4 \n",
      "\n",
      "[MoviePy] >>>> Building video ./clip/6H4VsHbynQc__20__22.mp4\n",
      "[MoviePy] Writing audio in 6H4VsHbynQc__20__22TEMP_MPY_wvf_snd.mp4\n"
     ]
    },
    {
     "name": "stderr",
     "output_type": "stream",
     "text": [
      "100%|██████████| 45/45 [00:00<00:00, 324.35it/s]"
     ]
    },
    {
     "name": "stdout",
     "output_type": "stream",
     "text": [
      "[MoviePy] Done.\n",
      "[MoviePy] Writing video ./clip/6H4VsHbynQc__20__22.mp4\n"
     ]
    },
    {
     "name": "stderr",
     "output_type": "stream",
     "text": [
      "\n",
      "100%|██████████| 60/60 [00:00<00:00, 257.61it/s]\n"
     ]
    },
    {
     "name": "stdout",
     "output_type": "stream",
     "text": [
      "[MoviePy] Done.\n",
      "[MoviePy] >>>> Video ready: ./clip/6H4VsHbynQc__20__22.mp4 \n",
      "\n",
      "[MoviePy] >>>> Building video ./clip/6H4VsHbynQc__22__24.mp4\n",
      "[MoviePy] Writing audio in 6H4VsHbynQc__22__24TEMP_MPY_wvf_snd.mp4\n"
     ]
    },
    {
     "name": "stderr",
     "output_type": "stream",
     "text": [
      "100%|██████████| 45/45 [00:00<00:00, 305.16it/s]"
     ]
    },
    {
     "name": "stdout",
     "output_type": "stream",
     "text": [
      "[MoviePy] Done.\n",
      "[MoviePy] Writing video ./clip/6H4VsHbynQc__22__24.mp4\n"
     ]
    },
    {
     "name": "stderr",
     "output_type": "stream",
     "text": [
      "\n",
      "100%|██████████| 60/60 [00:00<00:00, 257.59it/s]\n"
     ]
    },
    {
     "name": "stdout",
     "output_type": "stream",
     "text": [
      "[MoviePy] Done.\n",
      "[MoviePy] >>>> Video ready: ./clip/6H4VsHbynQc__22__24.mp4 \n",
      "\n",
      "[MoviePy] >>>> Building video ./clip/6H4VsHbynQc__24__26.mp4\n",
      "[MoviePy] Writing audio in 6H4VsHbynQc__24__26TEMP_MPY_wvf_snd.mp4\n"
     ]
    },
    {
     "name": "stderr",
     "output_type": "stream",
     "text": [
      "100%|██████████| 45/45 [00:00<00:00, 301.69it/s]"
     ]
    },
    {
     "name": "stdout",
     "output_type": "stream",
     "text": [
      "[MoviePy] Done.\n",
      "[MoviePy] Writing video ./clip/6H4VsHbynQc__24__26.mp4\n"
     ]
    },
    {
     "name": "stderr",
     "output_type": "stream",
     "text": [
      "\n",
      "100%|██████████| 60/60 [00:00<00:00, 260.21it/s]\n"
     ]
    },
    {
     "name": "stdout",
     "output_type": "stream",
     "text": [
      "[MoviePy] Done.\n",
      "[MoviePy] >>>> Video ready: ./clip/6H4VsHbynQc__24__26.mp4 \n",
      "\n",
      "[MoviePy] >>>> Building video ./clip/6H4VsHbynQc__26__28.mp4\n",
      "[MoviePy] Writing audio in 6H4VsHbynQc__26__28TEMP_MPY_wvf_snd.mp4\n"
     ]
    },
    {
     "name": "stderr",
     "output_type": "stream",
     "text": [
      "100%|██████████| 45/45 [00:00<00:00, 297.51it/s]"
     ]
    },
    {
     "name": "stdout",
     "output_type": "stream",
     "text": [
      "[MoviePy] Done.\n",
      "[MoviePy] Writing video ./clip/6H4VsHbynQc__26__28.mp4\n"
     ]
    },
    {
     "name": "stderr",
     "output_type": "stream",
     "text": [
      "\n",
      "100%|██████████| 60/60 [00:00<00:00, 254.02it/s]\n"
     ]
    },
    {
     "name": "stdout",
     "output_type": "stream",
     "text": [
      "[MoviePy] Done.\n",
      "[MoviePy] >>>> Video ready: ./clip/6H4VsHbynQc__26__28.mp4 \n",
      "\n",
      "[MoviePy] >>>> Building video ./clip/6H4VsHbynQc__28__30.mp4\n",
      "[MoviePy] Writing audio in 6H4VsHbynQc__28__30TEMP_MPY_wvf_snd.mp4\n"
     ]
    },
    {
     "name": "stderr",
     "output_type": "stream",
     "text": [
      "100%|██████████| 45/45 [00:00<00:00, 327.88it/s]"
     ]
    },
    {
     "name": "stdout",
     "output_type": "stream",
     "text": [
      "[MoviePy] Done.\n",
      "[MoviePy] Writing video ./clip/6H4VsHbynQc__28__30.mp4\n"
     ]
    },
    {
     "name": "stderr",
     "output_type": "stream",
     "text": [
      "\n",
      "100%|██████████| 60/60 [00:00<00:00, 277.01it/s]\n"
     ]
    },
    {
     "name": "stdout",
     "output_type": "stream",
     "text": [
      "[MoviePy] Done.\n",
      "[MoviePy] >>>> Video ready: ./clip/6H4VsHbynQc__28__30.mp4 \n",
      "\n",
      "[MoviePy] >>>> Building video ./clip/6H4VsHbynQc__30__32.mp4\n",
      "[MoviePy] Writing audio in 6H4VsHbynQc__30__32TEMP_MPY_wvf_snd.mp4\n"
     ]
    },
    {
     "name": "stderr",
     "output_type": "stream",
     "text": [
      "100%|██████████| 45/45 [00:00<00:00, 257.33it/s]"
     ]
    },
    {
     "name": "stdout",
     "output_type": "stream",
     "text": [
      "[MoviePy] Done.\n",
      "[MoviePy] Writing video ./clip/6H4VsHbynQc__30__32.mp4\n"
     ]
    },
    {
     "name": "stderr",
     "output_type": "stream",
     "text": [
      "\n",
      "100%|██████████| 60/60 [00:00<00:00, 262.61it/s]\n"
     ]
    },
    {
     "name": "stdout",
     "output_type": "stream",
     "text": [
      "[MoviePy] Done.\n",
      "[MoviePy] >>>> Video ready: ./clip/6H4VsHbynQc__30__32.mp4 \n",
      "\n",
      "[MoviePy] >>>> Building video ./clip/6H4VsHbynQc__32__34.mp4\n",
      "[MoviePy] Writing audio in 6H4VsHbynQc__32__34TEMP_MPY_wvf_snd.mp4\n"
     ]
    },
    {
     "name": "stderr",
     "output_type": "stream",
     "text": [
      "100%|██████████| 45/45 [00:00<00:00, 248.76it/s]"
     ]
    },
    {
     "name": "stdout",
     "output_type": "stream",
     "text": [
      "[MoviePy] Done.\n",
      "[MoviePy] Writing video ./clip/6H4VsHbynQc__32__34.mp4\n"
     ]
    },
    {
     "name": "stderr",
     "output_type": "stream",
     "text": [
      "\n",
      "100%|██████████| 60/60 [00:00<00:00, 264.14it/s]\n"
     ]
    },
    {
     "name": "stdout",
     "output_type": "stream",
     "text": [
      "[MoviePy] Done.\n",
      "[MoviePy] >>>> Video ready: ./clip/6H4VsHbynQc__32__34.mp4 \n",
      "\n",
      "[MoviePy] >>>> Building video ./clip/6H4VsHbynQc__34__36.mp4\n",
      "[MoviePy] Writing audio in 6H4VsHbynQc__34__36TEMP_MPY_wvf_snd.mp4\n"
     ]
    },
    {
     "name": "stderr",
     "output_type": "stream",
     "text": [
      "100%|██████████| 45/45 [00:00<00:00, 263.09it/s]"
     ]
    },
    {
     "name": "stdout",
     "output_type": "stream",
     "text": [
      "[MoviePy] Done.\n",
      "[MoviePy] Writing video ./clip/6H4VsHbynQc__34__36.mp4\n"
     ]
    },
    {
     "name": "stderr",
     "output_type": "stream",
     "text": [
      "\n",
      "100%|██████████| 60/60 [00:00<00:00, 253.06it/s]\n"
     ]
    },
    {
     "name": "stdout",
     "output_type": "stream",
     "text": [
      "[MoviePy] Done.\n",
      "[MoviePy] >>>> Video ready: ./clip/6H4VsHbynQc__34__36.mp4 \n",
      "\n",
      "[MoviePy] >>>> Building video ./clip/6H4VsHbynQc__36__38.mp4\n",
      "[MoviePy] Writing audio in 6H4VsHbynQc__36__38TEMP_MPY_wvf_snd.mp4\n"
     ]
    },
    {
     "name": "stderr",
     "output_type": "stream",
     "text": [
      "100%|██████████| 45/45 [00:00<00:00, 272.32it/s]"
     ]
    },
    {
     "name": "stdout",
     "output_type": "stream",
     "text": [
      "[MoviePy] Done.\n",
      "[MoviePy] Writing video ./clip/6H4VsHbynQc__36__38.mp4\n"
     ]
    },
    {
     "name": "stderr",
     "output_type": "stream",
     "text": [
      "\n",
      "100%|██████████| 60/60 [00:00<00:00, 247.84it/s]\n"
     ]
    },
    {
     "name": "stdout",
     "output_type": "stream",
     "text": [
      "[MoviePy] Done.\n",
      "[MoviePy] >>>> Video ready: ./clip/6H4VsHbynQc__36__38.mp4 \n",
      "\n",
      "[MoviePy] >>>> Building video ./clip/6H4VsHbynQc__38__40.mp4\n",
      "[MoviePy] Writing audio in 6H4VsHbynQc__38__40TEMP_MPY_wvf_snd.mp4\n"
     ]
    },
    {
     "name": "stderr",
     "output_type": "stream",
     "text": [
      "100%|██████████| 45/45 [00:00<00:00, 249.26it/s]"
     ]
    },
    {
     "name": "stdout",
     "output_type": "stream",
     "text": [
      "[MoviePy] Done.\n",
      "[MoviePy] Writing video ./clip/6H4VsHbynQc__38__40.mp4\n"
     ]
    },
    {
     "name": "stderr",
     "output_type": "stream",
     "text": [
      "\n",
      "100%|██████████| 60/60 [00:00<00:00, 259.44it/s]\n"
     ]
    },
    {
     "name": "stdout",
     "output_type": "stream",
     "text": [
      "[MoviePy] Done.\n",
      "[MoviePy] >>>> Video ready: ./clip/6H4VsHbynQc__38__40.mp4 \n",
      "\n",
      "[MoviePy] >>>> Building video ./clip/6H4VsHbynQc__40__42.mp4\n",
      "[MoviePy] Writing audio in 6H4VsHbynQc__40__42TEMP_MPY_wvf_snd.mp4\n"
     ]
    },
    {
     "name": "stderr",
     "output_type": "stream",
     "text": [
      "100%|██████████| 45/45 [00:00<00:00, 237.11it/s]\n"
     ]
    },
    {
     "name": "stdout",
     "output_type": "stream",
     "text": [
      "[MoviePy] Done.\n",
      "[MoviePy] Writing video ./clip/6H4VsHbynQc__40__42.mp4\n"
     ]
    },
    {
     "name": "stderr",
     "output_type": "stream",
     "text": [
      "100%|██████████| 60/60 [00:00<00:00, 233.06it/s]\n"
     ]
    },
    {
     "name": "stdout",
     "output_type": "stream",
     "text": [
      "[MoviePy] Done.\n",
      "[MoviePy] >>>> Video ready: ./clip/6H4VsHbynQc__40__42.mp4 \n",
      "\n",
      "[MoviePy] >>>> Building video ./clip/6H4VsHbynQc__42__44.mp4\n",
      "[MoviePy] Writing audio in 6H4VsHbynQc__42__44TEMP_MPY_wvf_snd.mp4\n"
     ]
    },
    {
     "name": "stderr",
     "output_type": "stream",
     "text": [
      "100%|██████████| 45/45 [00:00<00:00, 263.20it/s]"
     ]
    },
    {
     "name": "stdout",
     "output_type": "stream",
     "text": [
      "[MoviePy] Done.\n",
      "[MoviePy] Writing video ./clip/6H4VsHbynQc__42__44.mp4\n"
     ]
    },
    {
     "name": "stderr",
     "output_type": "stream",
     "text": [
      "\n",
      "100%|██████████| 60/60 [00:00<00:00, 254.57it/s]\n"
     ]
    },
    {
     "name": "stdout",
     "output_type": "stream",
     "text": [
      "[MoviePy] Done.\n",
      "[MoviePy] >>>> Video ready: ./clip/6H4VsHbynQc__42__44.mp4 \n",
      "\n",
      "[MoviePy] >>>> Building video ./clip/6H4VsHbynQc__44__46.mp4\n",
      "[MoviePy] Writing audio in 6H4VsHbynQc__44__46TEMP_MPY_wvf_snd.mp4\n"
     ]
    },
    {
     "name": "stderr",
     "output_type": "stream",
     "text": [
      "100%|██████████| 45/45 [00:00<00:00, 236.54it/s]\n"
     ]
    },
    {
     "name": "stdout",
     "output_type": "stream",
     "text": [
      "[MoviePy] Done.\n",
      "[MoviePy] Writing video ./clip/6H4VsHbynQc__44__46.mp4\n"
     ]
    },
    {
     "name": "stderr",
     "output_type": "stream",
     "text": [
      "100%|██████████| 60/60 [00:00<00:00, 245.17it/s]\n"
     ]
    },
    {
     "name": "stdout",
     "output_type": "stream",
     "text": [
      "[MoviePy] Done.\n",
      "[MoviePy] >>>> Video ready: ./clip/6H4VsHbynQc__44__46.mp4 \n",
      "\n",
      "[MoviePy] >>>> Building video ./clip/6H4VsHbynQc__46__48.mp4\n",
      "[MoviePy] Writing audio in 6H4VsHbynQc__46__48TEMP_MPY_wvf_snd.mp4\n"
     ]
    },
    {
     "name": "stderr",
     "output_type": "stream",
     "text": [
      "100%|██████████| 45/45 [00:00<00:00, 214.01it/s]"
     ]
    },
    {
     "name": "stdout",
     "output_type": "stream",
     "text": [
      "[MoviePy] Done.\n",
      "[MoviePy] Writing video ./clip/6H4VsHbynQc__46__48.mp4\n"
     ]
    },
    {
     "name": "stderr",
     "output_type": "stream",
     "text": [
      "\n",
      "100%|██████████| 60/60 [00:00<00:00, 250.95it/s]\n"
     ]
    },
    {
     "name": "stdout",
     "output_type": "stream",
     "text": [
      "[MoviePy] Done.\n",
      "[MoviePy] >>>> Video ready: ./clip/6H4VsHbynQc__46__48.mp4 \n",
      "\n",
      "[MoviePy] >>>> Building video ./clip/6H4VsHbynQc__48__50.mp4\n",
      "[MoviePy] Writing audio in 6H4VsHbynQc__48__50TEMP_MPY_wvf_snd.mp4\n"
     ]
    },
    {
     "name": "stderr",
     "output_type": "stream",
     "text": [
      "100%|██████████| 45/45 [00:00<00:00, 191.95it/s]"
     ]
    },
    {
     "name": "stdout",
     "output_type": "stream",
     "text": [
      "[MoviePy] Done.\n",
      "[MoviePy] Writing video ./clip/6H4VsHbynQc__48__50.mp4\n"
     ]
    },
    {
     "name": "stderr",
     "output_type": "stream",
     "text": [
      "\n",
      "100%|██████████| 60/60 [00:00<00:00, 255.61it/s]\n"
     ]
    },
    {
     "name": "stdout",
     "output_type": "stream",
     "text": [
      "[MoviePy] Done.\n",
      "[MoviePy] >>>> Video ready: ./clip/6H4VsHbynQc__48__50.mp4 \n",
      "\n",
      "[MoviePy] >>>> Building video ./clip/6H4VsHbynQc__50__52.mp4\n",
      "[MoviePy] Writing audio in 6H4VsHbynQc__50__52TEMP_MPY_wvf_snd.mp4\n"
     ]
    },
    {
     "name": "stderr",
     "output_type": "stream",
     "text": [
      "100%|██████████| 45/45 [00:00<00:00, 214.97it/s]"
     ]
    },
    {
     "name": "stdout",
     "output_type": "stream",
     "text": [
      "[MoviePy] Done.\n",
      "[MoviePy] Writing video ./clip/6H4VsHbynQc__50__52.mp4\n"
     ]
    },
    {
     "name": "stderr",
     "output_type": "stream",
     "text": [
      "\n",
      "100%|██████████| 60/60 [00:00<00:00, 236.09it/s]\n"
     ]
    },
    {
     "name": "stdout",
     "output_type": "stream",
     "text": [
      "[MoviePy] Done.\n",
      "[MoviePy] >>>> Video ready: ./clip/6H4VsHbynQc__50__52.mp4 \n",
      "\n",
      "[MoviePy] >>>> Building video ./clip/6H4VsHbynQc__52__54.mp4\n",
      "[MoviePy] Writing audio in 6H4VsHbynQc__52__54TEMP_MPY_wvf_snd.mp4\n"
     ]
    },
    {
     "name": "stderr",
     "output_type": "stream",
     "text": [
      "100%|██████████| 45/45 [00:00<00:00, 209.53it/s]"
     ]
    },
    {
     "name": "stdout",
     "output_type": "stream",
     "text": [
      "[MoviePy] Done.\n",
      "[MoviePy] Writing video ./clip/6H4VsHbynQc__52__54.mp4\n"
     ]
    },
    {
     "name": "stderr",
     "output_type": "stream",
     "text": [
      "\n",
      "100%|██████████| 60/60 [00:00<00:00, 247.57it/s]\n"
     ]
    },
    {
     "name": "stdout",
     "output_type": "stream",
     "text": [
      "[MoviePy] Done.\n",
      "[MoviePy] >>>> Video ready: ./clip/6H4VsHbynQc__52__54.mp4 \n",
      "\n",
      "[MoviePy] >>>> Building video ./clip/6H4VsHbynQc__54__56.mp4\n",
      "[MoviePy] Writing audio in 6H4VsHbynQc__54__56TEMP_MPY_wvf_snd.mp4\n"
     ]
    },
    {
     "name": "stderr",
     "output_type": "stream",
     "text": [
      "100%|██████████| 45/45 [00:00<00:00, 193.55it/s]"
     ]
    },
    {
     "name": "stdout",
     "output_type": "stream",
     "text": [
      "[MoviePy] Done.\n",
      "[MoviePy] Writing video ./clip/6H4VsHbynQc__54__56.mp4\n"
     ]
    },
    {
     "name": "stderr",
     "output_type": "stream",
     "text": [
      "\n",
      "100%|██████████| 60/60 [00:00<00:00, 264.43it/s]\n"
     ]
    },
    {
     "name": "stdout",
     "output_type": "stream",
     "text": [
      "[MoviePy] Done.\n",
      "[MoviePy] >>>> Video ready: ./clip/6H4VsHbynQc__54__56.mp4 \n",
      "\n",
      "[MoviePy] >>>> Building video ./clip/6H4VsHbynQc__56__58.mp4\n",
      "[MoviePy] Writing audio in 6H4VsHbynQc__56__58TEMP_MPY_wvf_snd.mp4\n"
     ]
    },
    {
     "name": "stderr",
     "output_type": "stream",
     "text": [
      "100%|██████████| 45/45 [00:00<00:00, 211.77it/s]"
     ]
    },
    {
     "name": "stdout",
     "output_type": "stream",
     "text": [
      "[MoviePy] Done.\n",
      "[MoviePy] Writing video ./clip/6H4VsHbynQc__56__58.mp4\n"
     ]
    },
    {
     "name": "stderr",
     "output_type": "stream",
     "text": [
      "\n",
      "100%|██████████| 60/60 [00:00<00:00, 256.85it/s]\n"
     ]
    },
    {
     "name": "stdout",
     "output_type": "stream",
     "text": [
      "[MoviePy] Done.\n",
      "[MoviePy] >>>> Video ready: ./clip/6H4VsHbynQc__56__58.mp4 \n",
      "\n",
      "[MoviePy] >>>> Building video ./clip/6H4VsHbynQc__58__60.mp4\n",
      "[MoviePy] Writing audio in 6H4VsHbynQc__58__60TEMP_MPY_wvf_snd.mp4\n"
     ]
    },
    {
     "name": "stderr",
     "output_type": "stream",
     "text": [
      "100%|██████████| 45/45 [00:00<00:00, 195.59it/s]"
     ]
    },
    {
     "name": "stdout",
     "output_type": "stream",
     "text": [
      "[MoviePy] Done.\n",
      "[MoviePy] Writing video ./clip/6H4VsHbynQc__58__60.mp4\n"
     ]
    },
    {
     "name": "stderr",
     "output_type": "stream",
     "text": [
      "\n",
      "100%|██████████| 60/60 [00:00<00:00, 248.76it/s]\n"
     ]
    },
    {
     "name": "stdout",
     "output_type": "stream",
     "text": [
      "[MoviePy] Done.\n",
      "[MoviePy] >>>> Video ready: ./clip/6H4VsHbynQc__58__60.mp4 \n",
      "\n",
      "[MoviePy] >>>> Building video ./clip/6H4VsHbynQc__60__62.mp4\n",
      "[MoviePy] Writing audio in 6H4VsHbynQc__60__62TEMP_MPY_wvf_snd.mp4\n"
     ]
    },
    {
     "name": "stderr",
     "output_type": "stream",
     "text": [
      "100%|██████████| 45/45 [00:00<00:00, 198.43it/s]"
     ]
    },
    {
     "name": "stdout",
     "output_type": "stream",
     "text": [
      "[MoviePy] Done.\n",
      "[MoviePy] Writing video ./clip/6H4VsHbynQc__60__62.mp4\n"
     ]
    },
    {
     "name": "stderr",
     "output_type": "stream",
     "text": [
      "\n",
      "100%|██████████| 60/60 [00:00<00:00, 229.67it/s]\n"
     ]
    },
    {
     "name": "stdout",
     "output_type": "stream",
     "text": [
      "[MoviePy] Done.\n",
      "[MoviePy] >>>> Video ready: ./clip/6H4VsHbynQc__60__62.mp4 \n",
      "\n",
      "[MoviePy] >>>> Building video ./clip/6H4VsHbynQc__62__64.mp4\n",
      "[MoviePy] Writing audio in 6H4VsHbynQc__62__64TEMP_MPY_wvf_snd.mp4\n"
     ]
    },
    {
     "name": "stderr",
     "output_type": "stream",
     "text": [
      "100%|██████████| 45/45 [00:00<00:00, 187.70it/s]"
     ]
    },
    {
     "name": "stdout",
     "output_type": "stream",
     "text": [
      "[MoviePy] Done.\n",
      "[MoviePy] Writing video ./clip/6H4VsHbynQc__62__64.mp4\n"
     ]
    },
    {
     "name": "stderr",
     "output_type": "stream",
     "text": [
      "\n",
      "100%|██████████| 60/60 [00:00<00:00, 242.20it/s]\n"
     ]
    },
    {
     "name": "stdout",
     "output_type": "stream",
     "text": [
      "[MoviePy] Done.\n",
      "[MoviePy] >>>> Video ready: ./clip/6H4VsHbynQc__62__64.mp4 \n",
      "\n",
      "[MoviePy] >>>> Building video ./clip/6H4VsHbynQc__64__66.mp4\n",
      "[MoviePy] Writing audio in 6H4VsHbynQc__64__66TEMP_MPY_wvf_snd.mp4\n"
     ]
    },
    {
     "name": "stderr",
     "output_type": "stream",
     "text": [
      "100%|██████████| 45/45 [00:00<00:00, 202.61it/s]"
     ]
    },
    {
     "name": "stdout",
     "output_type": "stream",
     "text": [
      "[MoviePy] Done.\n",
      "[MoviePy] Writing video ./clip/6H4VsHbynQc__64__66.mp4\n"
     ]
    },
    {
     "name": "stderr",
     "output_type": "stream",
     "text": [
      "\n",
      "100%|██████████| 60/60 [00:00<00:00, 243.92it/s]\n"
     ]
    },
    {
     "name": "stdout",
     "output_type": "stream",
     "text": [
      "[MoviePy] Done.\n",
      "[MoviePy] >>>> Video ready: ./clip/6H4VsHbynQc__64__66.mp4 \n",
      "\n",
      "[MoviePy] >>>> Building video ./clip/6H4VsHbynQc__66__68.mp4\n",
      "[MoviePy] Writing audio in 6H4VsHbynQc__66__68TEMP_MPY_wvf_snd.mp4\n"
     ]
    },
    {
     "name": "stderr",
     "output_type": "stream",
     "text": [
      "100%|██████████| 45/45 [00:00<00:00, 194.80it/s]"
     ]
    },
    {
     "name": "stdout",
     "output_type": "stream",
     "text": [
      "[MoviePy] Done.\n",
      "[MoviePy] Writing video ./clip/6H4VsHbynQc__66__68.mp4\n"
     ]
    },
    {
     "name": "stderr",
     "output_type": "stream",
     "text": [
      "\n",
      "100%|██████████| 60/60 [00:00<00:00, 239.45it/s]\n"
     ]
    },
    {
     "name": "stdout",
     "output_type": "stream",
     "text": [
      "[MoviePy] Done.\n",
      "[MoviePy] >>>> Video ready: ./clip/6H4VsHbynQc__66__68.mp4 \n",
      "\n",
      "[MoviePy] >>>> Building video ./clip/6H4VsHbynQc__68__70.mp4\n",
      "[MoviePy] Writing audio in 6H4VsHbynQc__68__70TEMP_MPY_wvf_snd.mp4\n"
     ]
    },
    {
     "name": "stderr",
     "output_type": "stream",
     "text": [
      "100%|██████████| 45/45 [00:00<00:00, 224.37it/s]"
     ]
    },
    {
     "name": "stdout",
     "output_type": "stream",
     "text": [
      "[MoviePy] Done.\n",
      "[MoviePy] Writing video ./clip/6H4VsHbynQc__68__70.mp4\n"
     ]
    },
    {
     "name": "stderr",
     "output_type": "stream",
     "text": [
      "\n",
      "100%|██████████| 60/60 [00:00<00:00, 256.29it/s]\n"
     ]
    },
    {
     "name": "stdout",
     "output_type": "stream",
     "text": [
      "[MoviePy] Done.\n",
      "[MoviePy] >>>> Video ready: ./clip/6H4VsHbynQc__68__70.mp4 \n",
      "\n",
      "[MoviePy] >>>> Building video ./clip/6H4VsHbynQc__70__72.mp4\n",
      "[MoviePy] Writing audio in 6H4VsHbynQc__70__72TEMP_MPY_wvf_snd.mp4\n"
     ]
    },
    {
     "name": "stderr",
     "output_type": "stream",
     "text": [
      "100%|██████████| 45/45 [00:00<00:00, 209.62it/s]"
     ]
    },
    {
     "name": "stdout",
     "output_type": "stream",
     "text": [
      "[MoviePy] Done.\n",
      "[MoviePy] Writing video ./clip/6H4VsHbynQc__70__72.mp4\n"
     ]
    },
    {
     "name": "stderr",
     "output_type": "stream",
     "text": [
      "\n",
      "100%|██████████| 60/60 [00:00<00:00, 258.83it/s]\n"
     ]
    },
    {
     "name": "stdout",
     "output_type": "stream",
     "text": [
      "[MoviePy] Done.\n",
      "[MoviePy] >>>> Video ready: ./clip/6H4VsHbynQc__70__72.mp4 \n",
      "\n",
      "[MoviePy] >>>> Building video ./clip/6H4VsHbynQc__72__74.mp4\n",
      "[MoviePy] Writing audio in 6H4VsHbynQc__72__74TEMP_MPY_wvf_snd.mp4\n"
     ]
    },
    {
     "name": "stderr",
     "output_type": "stream",
     "text": [
      "100%|██████████| 45/45 [00:00<00:00, 208.10it/s]"
     ]
    },
    {
     "name": "stdout",
     "output_type": "stream",
     "text": [
      "[MoviePy] Done.\n",
      "[MoviePy] Writing video ./clip/6H4VsHbynQc__72__74.mp4\n"
     ]
    },
    {
     "name": "stderr",
     "output_type": "stream",
     "text": [
      "\n",
      "100%|██████████| 60/60 [00:00<00:00, 264.42it/s]\n"
     ]
    },
    {
     "name": "stdout",
     "output_type": "stream",
     "text": [
      "[MoviePy] Done.\n",
      "[MoviePy] >>>> Video ready: ./clip/6H4VsHbynQc__72__74.mp4 \n",
      "\n",
      "[MoviePy] >>>> Building video ./clip/6H4VsHbynQc__74__76.mp4\n",
      "[MoviePy] Writing audio in 6H4VsHbynQc__74__76TEMP_MPY_wvf_snd.mp4\n"
     ]
    },
    {
     "name": "stderr",
     "output_type": "stream",
     "text": [
      "100%|██████████| 45/45 [00:00<00:00, 200.93it/s]"
     ]
    },
    {
     "name": "stdout",
     "output_type": "stream",
     "text": [
      "[MoviePy] Done.\n",
      "[MoviePy] Writing video ./clip/6H4VsHbynQc__74__76.mp4\n"
     ]
    },
    {
     "name": "stderr",
     "output_type": "stream",
     "text": [
      "\n",
      "100%|██████████| 60/60 [00:00<00:00, 257.06it/s]\n"
     ]
    },
    {
     "name": "stdout",
     "output_type": "stream",
     "text": [
      "[MoviePy] Done.\n",
      "[MoviePy] >>>> Video ready: ./clip/6H4VsHbynQc__74__76.mp4 \n",
      "\n",
      "[MoviePy] >>>> Building video ./clip/6H4VsHbynQc__76__78.mp4\n",
      "[MoviePy] Writing audio in 6H4VsHbynQc__76__78TEMP_MPY_wvf_snd.mp4\n"
     ]
    },
    {
     "name": "stderr",
     "output_type": "stream",
     "text": [
      "100%|██████████| 45/45 [00:00<00:00, 205.57it/s]"
     ]
    },
    {
     "name": "stdout",
     "output_type": "stream",
     "text": [
      "[MoviePy] Done.\n",
      "[MoviePy] Writing video ./clip/6H4VsHbynQc__76__78.mp4\n"
     ]
    },
    {
     "name": "stderr",
     "output_type": "stream",
     "text": [
      "\n",
      "100%|██████████| 60/60 [00:00<00:00, 268.47it/s]\n"
     ]
    },
    {
     "name": "stdout",
     "output_type": "stream",
     "text": [
      "[MoviePy] Done.\n",
      "[MoviePy] >>>> Video ready: ./clip/6H4VsHbynQc__76__78.mp4 \n",
      "\n",
      "[MoviePy] >>>> Building video ./clip/6H4VsHbynQc__78__80.mp4\n",
      "[MoviePy] Writing audio in 6H4VsHbynQc__78__80TEMP_MPY_wvf_snd.mp4\n"
     ]
    },
    {
     "name": "stderr",
     "output_type": "stream",
     "text": [
      "100%|██████████| 45/45 [00:00<00:00, 213.25it/s]"
     ]
    },
    {
     "name": "stdout",
     "output_type": "stream",
     "text": [
      "[MoviePy] Done.\n",
      "[MoviePy] Writing video ./clip/6H4VsHbynQc__78__80.mp4\n"
     ]
    },
    {
     "name": "stderr",
     "output_type": "stream",
     "text": [
      "\n",
      "100%|██████████| 60/60 [00:00<00:00, 311.65it/s]\n"
     ]
    },
    {
     "name": "stdout",
     "output_type": "stream",
     "text": [
      "[MoviePy] Done.\n",
      "[MoviePy] >>>> Video ready: ./clip/6H4VsHbynQc__78__80.mp4 \n",
      "\n",
      "[MoviePy] >>>> Building video ./clip/6H4VsHbynQc__80__82.mp4\n",
      "[MoviePy] Writing audio in 6H4VsHbynQc__80__82TEMP_MPY_wvf_snd.mp4\n"
     ]
    },
    {
     "name": "stderr",
     "output_type": "stream",
     "text": [
      "100%|██████████| 45/45 [00:00<00:00, 179.33it/s]"
     ]
    },
    {
     "name": "stdout",
     "output_type": "stream",
     "text": [
      "[MoviePy] Done.\n",
      "[MoviePy] Writing video ./clip/6H4VsHbynQc__80__82.mp4\n"
     ]
    },
    {
     "name": "stderr",
     "output_type": "stream",
     "text": [
      "\n",
      "100%|██████████| 60/60 [00:00<00:00, 258.41it/s]\n"
     ]
    },
    {
     "name": "stdout",
     "output_type": "stream",
     "text": [
      "[MoviePy] Done.\n",
      "[MoviePy] >>>> Video ready: ./clip/6H4VsHbynQc__80__82.mp4 \n",
      "\n",
      "[MoviePy] >>>> Building video ./clip/6H4VsHbynQc__82__84.mp4\n",
      "[MoviePy] Writing audio in 6H4VsHbynQc__82__84TEMP_MPY_wvf_snd.mp4\n"
     ]
    },
    {
     "name": "stderr",
     "output_type": "stream",
     "text": [
      "100%|██████████| 45/45 [00:00<00:00, 213.55it/s]"
     ]
    },
    {
     "name": "stdout",
     "output_type": "stream",
     "text": [
      "[MoviePy] Done.\n",
      "[MoviePy] Writing video ./clip/6H4VsHbynQc__82__84.mp4\n"
     ]
    },
    {
     "name": "stderr",
     "output_type": "stream",
     "text": [
      "\n",
      "100%|██████████| 60/60 [00:00<00:00, 317.52it/s]\n"
     ]
    },
    {
     "name": "stdout",
     "output_type": "stream",
     "text": [
      "[MoviePy] Done.\n",
      "[MoviePy] >>>> Video ready: ./clip/6H4VsHbynQc__82__84.mp4 \n",
      "\n",
      "[MoviePy] >>>> Building video ./clip/6H4VsHbynQc__84__86.mp4\n",
      "[MoviePy] Writing audio in 6H4VsHbynQc__84__86TEMP_MPY_wvf_snd.mp4\n"
     ]
    },
    {
     "name": "stderr",
     "output_type": "stream",
     "text": [
      "100%|██████████| 45/45 [00:00<00:00, 203.40it/s]"
     ]
    },
    {
     "name": "stdout",
     "output_type": "stream",
     "text": [
      "[MoviePy] Done.\n",
      "[MoviePy] Writing video ./clip/6H4VsHbynQc__84__86.mp4\n"
     ]
    },
    {
     "name": "stderr",
     "output_type": "stream",
     "text": [
      "\n",
      "100%|██████████| 60/60 [00:00<00:00, 296.38it/s]\n"
     ]
    },
    {
     "name": "stdout",
     "output_type": "stream",
     "text": [
      "[MoviePy] Done.\n",
      "[MoviePy] >>>> Video ready: ./clip/6H4VsHbynQc__84__86.mp4 \n",
      "\n",
      "[MoviePy] >>>> Building video ./clip/6H4VsHbynQc__86__88.mp4\n",
      "[MoviePy] Writing audio in 6H4VsHbynQc__86__88TEMP_MPY_wvf_snd.mp4\n"
     ]
    },
    {
     "name": "stderr",
     "output_type": "stream",
     "text": [
      "100%|██████████| 45/45 [00:00<00:00, 202.18it/s]"
     ]
    },
    {
     "name": "stdout",
     "output_type": "stream",
     "text": [
      "[MoviePy] Done.\n",
      "[MoviePy] Writing video ./clip/6H4VsHbynQc__86__88.mp4\n"
     ]
    },
    {
     "name": "stderr",
     "output_type": "stream",
     "text": [
      "\n",
      "100%|██████████| 60/60 [00:00<00:00, 271.34it/s]\n"
     ]
    },
    {
     "name": "stdout",
     "output_type": "stream",
     "text": [
      "[MoviePy] Done.\n",
      "[MoviePy] >>>> Video ready: ./clip/6H4VsHbynQc__86__88.mp4 \n",
      "\n",
      "[MoviePy] >>>> Building video ./clip/6H4VsHbynQc__88__90.mp4\n",
      "[MoviePy] Writing audio in 6H4VsHbynQc__88__90TEMP_MPY_wvf_snd.mp4\n"
     ]
    },
    {
     "name": "stderr",
     "output_type": "stream",
     "text": [
      "100%|██████████| 45/45 [00:00<00:00, 200.07it/s]"
     ]
    },
    {
     "name": "stdout",
     "output_type": "stream",
     "text": [
      "[MoviePy] Done.\n",
      "[MoviePy] Writing video ./clip/6H4VsHbynQc__88__90.mp4\n"
     ]
    },
    {
     "name": "stderr",
     "output_type": "stream",
     "text": [
      "\n",
      "100%|██████████| 60/60 [00:00<00:00, 258.23it/s]\n"
     ]
    },
    {
     "name": "stdout",
     "output_type": "stream",
     "text": [
      "[MoviePy] Done.\n",
      "[MoviePy] >>>> Video ready: ./clip/6H4VsHbynQc__88__90.mp4 \n",
      "\n",
      "[MoviePy] >>>> Building video ./clip/6H4VsHbynQc__90__92.mp4\n",
      "[MoviePy] Writing audio in 6H4VsHbynQc__90__92TEMP_MPY_wvf_snd.mp4\n"
     ]
    },
    {
     "name": "stderr",
     "output_type": "stream",
     "text": [
      "100%|██████████| 45/45 [00:00<00:00, 185.97it/s]"
     ]
    },
    {
     "name": "stdout",
     "output_type": "stream",
     "text": [
      "[MoviePy] Done.\n",
      "[MoviePy] Writing video ./clip/6H4VsHbynQc__90__92.mp4\n"
     ]
    },
    {
     "name": "stderr",
     "output_type": "stream",
     "text": [
      "\n",
      "100%|██████████| 60/60 [00:00<00:00, 248.41it/s]\n"
     ]
    },
    {
     "name": "stdout",
     "output_type": "stream",
     "text": [
      "[MoviePy] Done.\n",
      "[MoviePy] >>>> Video ready: ./clip/6H4VsHbynQc__90__92.mp4 \n",
      "\n",
      "[MoviePy] >>>> Building video ./clip/6H4VsHbynQc__92__94.mp4\n",
      "[MoviePy] Writing audio in 6H4VsHbynQc__92__94TEMP_MPY_wvf_snd.mp4\n"
     ]
    },
    {
     "name": "stderr",
     "output_type": "stream",
     "text": [
      "100%|██████████| 45/45 [00:00<00:00, 174.86it/s]"
     ]
    },
    {
     "name": "stdout",
     "output_type": "stream",
     "text": [
      "[MoviePy] Done.\n",
      "[MoviePy] Writing video ./clip/6H4VsHbynQc__92__94.mp4\n"
     ]
    },
    {
     "name": "stderr",
     "output_type": "stream",
     "text": [
      "\n",
      "100%|██████████| 60/60 [00:00<00:00, 250.24it/s]\n"
     ]
    },
    {
     "name": "stdout",
     "output_type": "stream",
     "text": [
      "[MoviePy] Done.\n",
      "[MoviePy] >>>> Video ready: ./clip/6H4VsHbynQc__92__94.mp4 \n",
      "\n",
      "[MoviePy] >>>> Building video ./clip/6H4VsHbynQc__94__96.mp4\n",
      "[MoviePy] Writing audio in 6H4VsHbynQc__94__96TEMP_MPY_wvf_snd.mp4\n"
     ]
    },
    {
     "name": "stderr",
     "output_type": "stream",
     "text": [
      "100%|██████████| 45/45 [00:00<00:00, 187.57it/s]"
     ]
    },
    {
     "name": "stdout",
     "output_type": "stream",
     "text": [
      "[MoviePy] Done.\n",
      "[MoviePy] Writing video ./clip/6H4VsHbynQc__94__96.mp4\n"
     ]
    },
    {
     "name": "stderr",
     "output_type": "stream",
     "text": [
      "\n",
      "100%|██████████| 60/60 [00:00<00:00, 259.48it/s]\n"
     ]
    },
    {
     "name": "stdout",
     "output_type": "stream",
     "text": [
      "[MoviePy] Done.\n",
      "[MoviePy] >>>> Video ready: ./clip/6H4VsHbynQc__94__96.mp4 \n",
      "\n",
      "[MoviePy] >>>> Building video ./clip/6H4VsHbynQc__96__98.mp4\n",
      "[MoviePy] Writing audio in 6H4VsHbynQc__96__98TEMP_MPY_wvf_snd.mp4\n"
     ]
    },
    {
     "name": "stderr",
     "output_type": "stream",
     "text": [
      "100%|██████████| 45/45 [00:00<00:00, 200.04it/s]"
     ]
    },
    {
     "name": "stdout",
     "output_type": "stream",
     "text": [
      "[MoviePy] Done.\n",
      "[MoviePy] Writing video ./clip/6H4VsHbynQc__96__98.mp4\n"
     ]
    },
    {
     "name": "stderr",
     "output_type": "stream",
     "text": [
      "\n",
      "100%|██████████| 60/60 [00:00<00:00, 275.70it/s]\n"
     ]
    },
    {
     "name": "stdout",
     "output_type": "stream",
     "text": [
      "[MoviePy] Done.\n",
      "[MoviePy] >>>> Video ready: ./clip/6H4VsHbynQc__96__98.mp4 \n",
      "\n",
      "[MoviePy] >>>> Building video ./clip/6H4VsHbynQc__98__100.mp4\n",
      "[MoviePy] Writing audio in 6H4VsHbynQc__98__100TEMP_MPY_wvf_snd.mp4\n"
     ]
    },
    {
     "name": "stderr",
     "output_type": "stream",
     "text": [
      "100%|██████████| 45/45 [00:00<00:00, 195.03it/s]"
     ]
    },
    {
     "name": "stdout",
     "output_type": "stream",
     "text": [
      "[MoviePy] Done.\n",
      "[MoviePy] Writing video ./clip/6H4VsHbynQc__98__100.mp4\n"
     ]
    },
    {
     "name": "stderr",
     "output_type": "stream",
     "text": [
      "\n",
      "100%|██████████| 60/60 [00:00<00:00, 265.46it/s]\n"
     ]
    },
    {
     "name": "stdout",
     "output_type": "stream",
     "text": [
      "[MoviePy] Done.\n",
      "[MoviePy] >>>> Video ready: ./clip/6H4VsHbynQc__98__100.mp4 \n",
      "\n",
      "[MoviePy] >>>> Building video ./clip/6H4VsHbynQc__100__102.mp4\n",
      "[MoviePy] Writing audio in 6H4VsHbynQc__100__102TEMP_MPY_wvf_snd.mp4\n"
     ]
    },
    {
     "name": "stderr",
     "output_type": "stream",
     "text": [
      "100%|██████████| 45/45 [00:00<00:00, 198.21it/s]"
     ]
    },
    {
     "name": "stdout",
     "output_type": "stream",
     "text": [
      "[MoviePy] Done.\n",
      "[MoviePy] Writing video ./clip/6H4VsHbynQc__100__102.mp4\n"
     ]
    },
    {
     "name": "stderr",
     "output_type": "stream",
     "text": [
      "\n",
      "100%|██████████| 60/60 [00:00<00:00, 251.49it/s]\n"
     ]
    },
    {
     "name": "stdout",
     "output_type": "stream",
     "text": [
      "[MoviePy] Done.\n",
      "[MoviePy] >>>> Video ready: ./clip/6H4VsHbynQc__100__102.mp4 \n",
      "\n",
      "[MoviePy] >>>> Building video ./clip/6H4VsHbynQc__102__104.mp4\n",
      "[MoviePy] Writing audio in 6H4VsHbynQc__102__104TEMP_MPY_wvf_snd.mp4\n"
     ]
    },
    {
     "name": "stderr",
     "output_type": "stream",
     "text": [
      "100%|██████████| 45/45 [00:00<00:00, 195.44it/s]"
     ]
    },
    {
     "name": "stdout",
     "output_type": "stream",
     "text": [
      "[MoviePy] Done.\n",
      "[MoviePy] Writing video ./clip/6H4VsHbynQc__102__104.mp4\n"
     ]
    },
    {
     "name": "stderr",
     "output_type": "stream",
     "text": [
      "\n",
      "100%|██████████| 60/60 [00:00<00:00, 273.77it/s]\n"
     ]
    },
    {
     "name": "stdout",
     "output_type": "stream",
     "text": [
      "[MoviePy] Done.\n",
      "[MoviePy] >>>> Video ready: ./clip/6H4VsHbynQc__102__104.mp4 \n",
      "\n",
      "[MoviePy] >>>> Building video ./clip/6H4VsHbynQc__104__106.mp4\n",
      "[MoviePy] Writing audio in 6H4VsHbynQc__104__106TEMP_MPY_wvf_snd.mp4\n"
     ]
    },
    {
     "name": "stderr",
     "output_type": "stream",
     "text": [
      "100%|██████████| 45/45 [00:00<00:00, 196.42it/s]"
     ]
    },
    {
     "name": "stdout",
     "output_type": "stream",
     "text": [
      "[MoviePy] Done.\n",
      "[MoviePy] Writing video ./clip/6H4VsHbynQc__104__106.mp4\n"
     ]
    },
    {
     "name": "stderr",
     "output_type": "stream",
     "text": [
      "\n",
      "100%|██████████| 60/60 [00:00<00:00, 270.31it/s]\n"
     ]
    },
    {
     "name": "stdout",
     "output_type": "stream",
     "text": [
      "[MoviePy] Done.\n",
      "[MoviePy] >>>> Video ready: ./clip/6H4VsHbynQc__104__106.mp4 \n",
      "\n",
      "[MoviePy] >>>> Building video ./clip/6H4VsHbynQc__106__108.mp4\n",
      "[MoviePy] Writing audio in 6H4VsHbynQc__106__108TEMP_MPY_wvf_snd.mp4\n"
     ]
    },
    {
     "name": "stderr",
     "output_type": "stream",
     "text": [
      "100%|██████████| 45/45 [00:00<00:00, 199.22it/s]"
     ]
    },
    {
     "name": "stdout",
     "output_type": "stream",
     "text": [
      "[MoviePy] Done.\n",
      "[MoviePy] Writing video ./clip/6H4VsHbynQc__106__108.mp4\n"
     ]
    },
    {
     "name": "stderr",
     "output_type": "stream",
     "text": [
      "\n",
      "100%|██████████| 60/60 [00:00<00:00, 264.04it/s]\n"
     ]
    },
    {
     "name": "stdout",
     "output_type": "stream",
     "text": [
      "[MoviePy] Done.\n",
      "[MoviePy] >>>> Video ready: ./clip/6H4VsHbynQc__106__108.mp4 \n",
      "\n",
      "[MoviePy] >>>> Building video ./clip/6H4VsHbynQc__108__110.mp4\n",
      "[MoviePy] Writing audio in 6H4VsHbynQc__108__110TEMP_MPY_wvf_snd.mp4\n"
     ]
    },
    {
     "name": "stderr",
     "output_type": "stream",
     "text": [
      "100%|██████████| 45/45 [00:00<00:00, 193.45it/s]"
     ]
    },
    {
     "name": "stdout",
     "output_type": "stream",
     "text": [
      "[MoviePy] Done.\n",
      "[MoviePy] Writing video ./clip/6H4VsHbynQc__108__110.mp4\n"
     ]
    },
    {
     "name": "stderr",
     "output_type": "stream",
     "text": [
      "\n",
      "100%|██████████| 60/60 [00:00<00:00, 238.14it/s]\n"
     ]
    },
    {
     "name": "stdout",
     "output_type": "stream",
     "text": [
      "[MoviePy] Done.\n",
      "[MoviePy] >>>> Video ready: ./clip/6H4VsHbynQc__108__110.mp4 \n",
      "\n",
      "[MoviePy] >>>> Building video ./clip/6H4VsHbynQc__110__112.mp4\n",
      "[MoviePy] Writing audio in 6H4VsHbynQc__110__112TEMP_MPY_wvf_snd.mp4\n"
     ]
    },
    {
     "name": "stderr",
     "output_type": "stream",
     "text": [
      "100%|██████████| 45/45 [00:00<00:00, 210.24it/s]"
     ]
    },
    {
     "name": "stdout",
     "output_type": "stream",
     "text": [
      "[MoviePy] Done.\n",
      "[MoviePy] Writing video ./clip/6H4VsHbynQc__110__112.mp4\n"
     ]
    },
    {
     "name": "stderr",
     "output_type": "stream",
     "text": [
      "\n",
      "100%|██████████| 60/60 [00:00<00:00, 296.59it/s]\n"
     ]
    },
    {
     "name": "stdout",
     "output_type": "stream",
     "text": [
      "[MoviePy] Done.\n",
      "[MoviePy] >>>> Video ready: ./clip/6H4VsHbynQc__110__112.mp4 \n",
      "\n",
      "[MoviePy] >>>> Building video ./clip/6H4VsHbynQc__112__114.mp4\n",
      "[MoviePy] Writing audio in 6H4VsHbynQc__112__114TEMP_MPY_wvf_snd.mp4\n"
     ]
    },
    {
     "name": "stderr",
     "output_type": "stream",
     "text": [
      "100%|██████████| 45/45 [00:00<00:00, 204.13it/s]"
     ]
    },
    {
     "name": "stdout",
     "output_type": "stream",
     "text": [
      "[MoviePy] Done.\n",
      "[MoviePy] Writing video ./clip/6H4VsHbynQc__112__114.mp4\n"
     ]
    },
    {
     "name": "stderr",
     "output_type": "stream",
     "text": [
      "\n",
      "100%|██████████| 60/60 [00:00<00:00, 279.65it/s]\n"
     ]
    },
    {
     "name": "stdout",
     "output_type": "stream",
     "text": [
      "[MoviePy] Done.\n",
      "[MoviePy] >>>> Video ready: ./clip/6H4VsHbynQc__112__114.mp4 \n",
      "\n",
      "[MoviePy] >>>> Building video ./clip/6H4VsHbynQc__114__116.mp4\n",
      "[MoviePy] Writing audio in 6H4VsHbynQc__114__116TEMP_MPY_wvf_snd.mp4\n"
     ]
    },
    {
     "name": "stderr",
     "output_type": "stream",
     "text": [
      "100%|██████████| 45/45 [00:00<00:00, 192.41it/s]"
     ]
    },
    {
     "name": "stdout",
     "output_type": "stream",
     "text": [
      "[MoviePy] Done.\n",
      "[MoviePy] Writing video ./clip/6H4VsHbynQc__114__116.mp4\n"
     ]
    },
    {
     "name": "stderr",
     "output_type": "stream",
     "text": [
      "\n",
      "100%|██████████| 60/60 [00:00<00:00, 271.09it/s]\n"
     ]
    },
    {
     "name": "stdout",
     "output_type": "stream",
     "text": [
      "[MoviePy] Done.\n",
      "[MoviePy] >>>> Video ready: ./clip/6H4VsHbynQc__114__116.mp4 \n",
      "\n",
      "[MoviePy] >>>> Building video ./clip/6H4VsHbynQc__116__118.mp4\n",
      "[MoviePy] Writing audio in 6H4VsHbynQc__116__118TEMP_MPY_wvf_snd.mp4\n"
     ]
    },
    {
     "name": "stderr",
     "output_type": "stream",
     "text": [
      "100%|██████████| 45/45 [00:00<00:00, 198.32it/s]"
     ]
    },
    {
     "name": "stdout",
     "output_type": "stream",
     "text": [
      "[MoviePy] Done.\n",
      "[MoviePy] Writing video ./clip/6H4VsHbynQc__116__118.mp4\n"
     ]
    },
    {
     "name": "stderr",
     "output_type": "stream",
     "text": [
      "\n",
      "100%|██████████| 60/60 [00:00<00:00, 284.60it/s]\n"
     ]
    },
    {
     "name": "stdout",
     "output_type": "stream",
     "text": [
      "[MoviePy] Done.\n",
      "[MoviePy] >>>> Video ready: ./clip/6H4VsHbynQc__116__118.mp4 \n",
      "\n",
      "[MoviePy] >>>> Building video ./clip/6H4VsHbynQc__118__120.mp4\n",
      "[MoviePy] Writing audio in 6H4VsHbynQc__118__120TEMP_MPY_wvf_snd.mp4\n"
     ]
    },
    {
     "name": "stderr",
     "output_type": "stream",
     "text": [
      "100%|██████████| 45/45 [00:00<00:00, 189.77it/s]"
     ]
    },
    {
     "name": "stdout",
     "output_type": "stream",
     "text": [
      "[MoviePy] Done.\n",
      "[MoviePy] Writing video ./clip/6H4VsHbynQc__118__120.mp4\n"
     ]
    },
    {
     "name": "stderr",
     "output_type": "stream",
     "text": [
      "\n",
      "100%|██████████| 60/60 [00:00<00:00, 289.48it/s]\n"
     ]
    },
    {
     "name": "stdout",
     "output_type": "stream",
     "text": [
      "[MoviePy] Done.\n",
      "[MoviePy] >>>> Video ready: ./clip/6H4VsHbynQc__118__120.mp4 \n",
      "\n",
      "[MoviePy] >>>> Building video ./clip/6H4VsHbynQc__120__122.mp4\n",
      "[MoviePy] Writing audio in 6H4VsHbynQc__120__122TEMP_MPY_wvf_snd.mp4\n"
     ]
    },
    {
     "name": "stderr",
     "output_type": "stream",
     "text": [
      "100%|██████████| 45/45 [00:00<00:00, 198.70it/s]"
     ]
    },
    {
     "name": "stdout",
     "output_type": "stream",
     "text": [
      "[MoviePy] Done.\n",
      "[MoviePy] Writing video ./clip/6H4VsHbynQc__120__122.mp4\n"
     ]
    },
    {
     "name": "stderr",
     "output_type": "stream",
     "text": [
      "\n",
      "100%|██████████| 60/60 [00:00<00:00, 282.94it/s]\n"
     ]
    },
    {
     "name": "stdout",
     "output_type": "stream",
     "text": [
      "[MoviePy] Done.\n",
      "[MoviePy] >>>> Video ready: ./clip/6H4VsHbynQc__120__122.mp4 \n",
      "\n",
      "[MoviePy] >>>> Building video ./clip/6H4VsHbynQc__122__124.mp4\n",
      "[MoviePy] Writing audio in 6H4VsHbynQc__122__124TEMP_MPY_wvf_snd.mp4\n"
     ]
    },
    {
     "name": "stderr",
     "output_type": "stream",
     "text": [
      "100%|██████████| 45/45 [00:00<00:00, 185.91it/s]"
     ]
    },
    {
     "name": "stdout",
     "output_type": "stream",
     "text": [
      "[MoviePy] Done.\n",
      "[MoviePy] Writing video ./clip/6H4VsHbynQc__122__124.mp4\n"
     ]
    },
    {
     "name": "stderr",
     "output_type": "stream",
     "text": [
      "\n",
      "100%|██████████| 60/60 [00:00<00:00, 275.74it/s]\n"
     ]
    },
    {
     "name": "stdout",
     "output_type": "stream",
     "text": [
      "[MoviePy] Done.\n",
      "[MoviePy] >>>> Video ready: ./clip/6H4VsHbynQc__122__124.mp4 \n",
      "\n",
      "[MoviePy] >>>> Building video ./clip/6H4VsHbynQc__124__126.mp4\n",
      "[MoviePy] Writing audio in 6H4VsHbynQc__124__126TEMP_MPY_wvf_snd.mp4\n"
     ]
    },
    {
     "name": "stderr",
     "output_type": "stream",
     "text": [
      "100%|██████████| 45/45 [00:00<00:00, 201.01it/s]"
     ]
    },
    {
     "name": "stdout",
     "output_type": "stream",
     "text": [
      "[MoviePy] Done.\n",
      "[MoviePy] Writing video ./clip/6H4VsHbynQc__124__126.mp4\n"
     ]
    },
    {
     "name": "stderr",
     "output_type": "stream",
     "text": [
      "\n",
      "100%|██████████| 60/60 [00:00<00:00, 257.91it/s]\n"
     ]
    },
    {
     "name": "stdout",
     "output_type": "stream",
     "text": [
      "[MoviePy] Done.\n",
      "[MoviePy] >>>> Video ready: ./clip/6H4VsHbynQc__124__126.mp4 \n",
      "\n",
      "[MoviePy] >>>> Building video ./clip/6H4VsHbynQc__126__128.mp4\n",
      "[MoviePy] Writing audio in 6H4VsHbynQc__126__128TEMP_MPY_wvf_snd.mp4\n"
     ]
    },
    {
     "name": "stderr",
     "output_type": "stream",
     "text": [
      "100%|██████████| 45/45 [00:00<00:00, 201.76it/s]"
     ]
    },
    {
     "name": "stdout",
     "output_type": "stream",
     "text": [
      "[MoviePy] Done.\n",
      "[MoviePy] Writing video ./clip/6H4VsHbynQc__126__128.mp4\n"
     ]
    },
    {
     "name": "stderr",
     "output_type": "stream",
     "text": [
      "\n",
      "100%|██████████| 60/60 [00:00<00:00, 266.29it/s]\n"
     ]
    },
    {
     "name": "stdout",
     "output_type": "stream",
     "text": [
      "[MoviePy] Done.\n",
      "[MoviePy] >>>> Video ready: ./clip/6H4VsHbynQc__126__128.mp4 \n",
      "\n",
      "[MoviePy] >>>> Building video ./clip/6H4VsHbynQc__128__130.mp4\n",
      "[MoviePy] Writing audio in 6H4VsHbynQc__128__130TEMP_MPY_wvf_snd.mp4\n"
     ]
    },
    {
     "name": "stderr",
     "output_type": "stream",
     "text": [
      "100%|██████████| 45/45 [00:00<00:00, 217.78it/s]"
     ]
    },
    {
     "name": "stdout",
     "output_type": "stream",
     "text": [
      "[MoviePy] Done.\n",
      "[MoviePy] Writing video ./clip/6H4VsHbynQc__128__130.mp4\n"
     ]
    },
    {
     "name": "stderr",
     "output_type": "stream",
     "text": [
      "\n",
      "100%|██████████| 60/60 [00:00<00:00, 245.70it/s]\n"
     ]
    },
    {
     "name": "stdout",
     "output_type": "stream",
     "text": [
      "[MoviePy] Done.\n",
      "[MoviePy] >>>> Video ready: ./clip/6H4VsHbynQc__128__130.mp4 \n",
      "\n",
      "[MoviePy] >>>> Building video ./clip/6H4VsHbynQc__130__132.mp4\n",
      "[MoviePy] Writing audio in 6H4VsHbynQc__130__132TEMP_MPY_wvf_snd.mp4\n"
     ]
    },
    {
     "name": "stderr",
     "output_type": "stream",
     "text": [
      "100%|██████████| 45/45 [00:00<00:00, 201.82it/s]"
     ]
    },
    {
     "name": "stdout",
     "output_type": "stream",
     "text": [
      "[MoviePy] Done.\n",
      "[MoviePy] Writing video ./clip/6H4VsHbynQc__130__132.mp4\n"
     ]
    },
    {
     "name": "stderr",
     "output_type": "stream",
     "text": [
      "\n",
      "100%|██████████| 60/60 [00:00<00:00, 280.28it/s]\n"
     ]
    },
    {
     "name": "stdout",
     "output_type": "stream",
     "text": [
      "[MoviePy] Done.\n",
      "[MoviePy] >>>> Video ready: ./clip/6H4VsHbynQc__130__132.mp4 \n",
      "\n",
      "[MoviePy] >>>> Building video ./clip/6H4VsHbynQc__132__134.mp4\n",
      "[MoviePy] Writing audio in 6H4VsHbynQc__132__134TEMP_MPY_wvf_snd.mp4\n"
     ]
    },
    {
     "name": "stderr",
     "output_type": "stream",
     "text": [
      "100%|██████████| 45/45 [00:00<00:00, 213.33it/s]"
     ]
    },
    {
     "name": "stdout",
     "output_type": "stream",
     "text": [
      "[MoviePy] Done.\n",
      "[MoviePy] Writing video ./clip/6H4VsHbynQc__132__134.mp4\n"
     ]
    },
    {
     "name": "stderr",
     "output_type": "stream",
     "text": [
      "\n",
      "100%|██████████| 60/60 [00:00<00:00, 287.42it/s]\n"
     ]
    },
    {
     "name": "stdout",
     "output_type": "stream",
     "text": [
      "[MoviePy] Done.\n",
      "[MoviePy] >>>> Video ready: ./clip/6H4VsHbynQc__132__134.mp4 \n",
      "\n",
      "[MoviePy] >>>> Building video ./clip/6H4VsHbynQc__134__136.mp4\n",
      "[MoviePy] Writing audio in 6H4VsHbynQc__134__136TEMP_MPY_wvf_snd.mp4\n"
     ]
    },
    {
     "name": "stderr",
     "output_type": "stream",
     "text": [
      "100%|██████████| 45/45 [00:00<00:00, 209.86it/s]"
     ]
    },
    {
     "name": "stdout",
     "output_type": "stream",
     "text": [
      "[MoviePy] Done.\n",
      "[MoviePy] Writing video ./clip/6H4VsHbynQc__134__136.mp4\n"
     ]
    },
    {
     "name": "stderr",
     "output_type": "stream",
     "text": [
      "\n",
      "100%|██████████| 60/60 [00:00<00:00, 273.77it/s]\n"
     ]
    },
    {
     "name": "stdout",
     "output_type": "stream",
     "text": [
      "[MoviePy] Done.\n",
      "[MoviePy] >>>> Video ready: ./clip/6H4VsHbynQc__134__136.mp4 \n",
      "\n",
      "[MoviePy] >>>> Building video ./clip/6H4VsHbynQc__136__138.mp4\n",
      "[MoviePy] Writing audio in 6H4VsHbynQc__136__138TEMP_MPY_wvf_snd.mp4\n"
     ]
    },
    {
     "name": "stderr",
     "output_type": "stream",
     "text": [
      "100%|██████████| 45/45 [00:00<00:00, 204.80it/s]"
     ]
    },
    {
     "name": "stdout",
     "output_type": "stream",
     "text": [
      "[MoviePy] Done.\n",
      "[MoviePy] Writing video ./clip/6H4VsHbynQc__136__138.mp4\n"
     ]
    },
    {
     "name": "stderr",
     "output_type": "stream",
     "text": [
      "\n",
      "100%|██████████| 60/60 [00:00<00:00, 301.27it/s]\n"
     ]
    },
    {
     "name": "stdout",
     "output_type": "stream",
     "text": [
      "[MoviePy] Done.\n",
      "[MoviePy] >>>> Video ready: ./clip/6H4VsHbynQc__136__138.mp4 \n",
      "\n",
      "[MoviePy] >>>> Building video ./clip/6H4VsHbynQc__138__140.mp4\n",
      "[MoviePy] Writing audio in 6H4VsHbynQc__138__140TEMP_MPY_wvf_snd.mp4\n"
     ]
    },
    {
     "name": "stderr",
     "output_type": "stream",
     "text": [
      "100%|██████████| 45/45 [00:00<00:00, 208.25it/s]"
     ]
    },
    {
     "name": "stdout",
     "output_type": "stream",
     "text": [
      "[MoviePy] Done.\n",
      "[MoviePy] Writing video ./clip/6H4VsHbynQc__138__140.mp4\n"
     ]
    },
    {
     "name": "stderr",
     "output_type": "stream",
     "text": [
      "\n",
      "100%|██████████| 60/60 [00:00<00:00, 294.72it/s]\n"
     ]
    },
    {
     "name": "stdout",
     "output_type": "stream",
     "text": [
      "[MoviePy] Done.\n",
      "[MoviePy] >>>> Video ready: ./clip/6H4VsHbynQc__138__140.mp4 \n",
      "\n",
      "[MoviePy] >>>> Building video ./clip/6H4VsHbynQc__140__142.mp4\n",
      "[MoviePy] Writing audio in 6H4VsHbynQc__140__142TEMP_MPY_wvf_snd.mp4\n"
     ]
    },
    {
     "name": "stderr",
     "output_type": "stream",
     "text": [
      "100%|██████████| 45/45 [00:00<00:00, 218.68it/s]"
     ]
    },
    {
     "name": "stdout",
     "output_type": "stream",
     "text": [
      "[MoviePy] Done.\n",
      "[MoviePy] Writing video ./clip/6H4VsHbynQc__140__142.mp4\n"
     ]
    },
    {
     "name": "stderr",
     "output_type": "stream",
     "text": [
      "\n",
      "100%|██████████| 60/60 [00:00<00:00, 300.55it/s]\n"
     ]
    },
    {
     "name": "stdout",
     "output_type": "stream",
     "text": [
      "[MoviePy] Done.\n",
      "[MoviePy] >>>> Video ready: ./clip/6H4VsHbynQc__140__142.mp4 \n",
      "\n",
      "[MoviePy] >>>> Building video ./clip/6H4VsHbynQc__142__144.mp4\n",
      "[MoviePy] Writing audio in 6H4VsHbynQc__142__144TEMP_MPY_wvf_snd.mp4\n"
     ]
    },
    {
     "name": "stderr",
     "output_type": "stream",
     "text": [
      "100%|██████████| 45/45 [00:00<00:00, 215.66it/s]"
     ]
    },
    {
     "name": "stdout",
     "output_type": "stream",
     "text": [
      "[MoviePy] Done.\n",
      "[MoviePy] Writing video ./clip/6H4VsHbynQc__142__144.mp4\n"
     ]
    },
    {
     "name": "stderr",
     "output_type": "stream",
     "text": [
      "\n",
      "100%|██████████| 60/60 [00:00<00:00, 293.75it/s]\n"
     ]
    },
    {
     "name": "stdout",
     "output_type": "stream",
     "text": [
      "[MoviePy] Done.\n",
      "[MoviePy] >>>> Video ready: ./clip/6H4VsHbynQc__142__144.mp4 \n",
      "\n",
      "[MoviePy] >>>> Building video ./clip/6H4VsHbynQc__144__146.mp4\n",
      "[MoviePy] Writing audio in 6H4VsHbynQc__144__146TEMP_MPY_wvf_snd.mp4\n"
     ]
    },
    {
     "name": "stderr",
     "output_type": "stream",
     "text": [
      "100%|██████████| 45/45 [00:00<00:00, 197.60it/s]"
     ]
    },
    {
     "name": "stdout",
     "output_type": "stream",
     "text": [
      "[MoviePy] Done.\n",
      "[MoviePy] Writing video ./clip/6H4VsHbynQc__144__146.mp4\n"
     ]
    },
    {
     "name": "stderr",
     "output_type": "stream",
     "text": [
      "\n",
      "100%|██████████| 60/60 [00:00<00:00, 294.81it/s]\n"
     ]
    },
    {
     "name": "stdout",
     "output_type": "stream",
     "text": [
      "[MoviePy] Done.\n",
      "[MoviePy] >>>> Video ready: ./clip/6H4VsHbynQc__144__146.mp4 \n",
      "\n",
      "[MoviePy] >>>> Building video ./clip/6H4VsHbynQc__146__148.mp4\n",
      "[MoviePy] Writing audio in 6H4VsHbynQc__146__148TEMP_MPY_wvf_snd.mp4\n"
     ]
    },
    {
     "name": "stderr",
     "output_type": "stream",
     "text": [
      "100%|██████████| 45/45 [00:00<00:00, 209.22it/s]"
     ]
    },
    {
     "name": "stdout",
     "output_type": "stream",
     "text": [
      "[MoviePy] Done.\n",
      "[MoviePy] Writing video ./clip/6H4VsHbynQc__146__148.mp4\n"
     ]
    },
    {
     "name": "stderr",
     "output_type": "stream",
     "text": [
      "\n",
      "100%|██████████| 60/60 [00:00<00:00, 281.63it/s]\n"
     ]
    },
    {
     "name": "stdout",
     "output_type": "stream",
     "text": [
      "[MoviePy] Done.\n",
      "[MoviePy] >>>> Video ready: ./clip/6H4VsHbynQc__146__148.mp4 \n",
      "\n",
      "[MoviePy] >>>> Building video ./clip/6H4VsHbynQc__148__150.mp4\n",
      "[MoviePy] Writing audio in 6H4VsHbynQc__148__150TEMP_MPY_wvf_snd.mp4\n"
     ]
    },
    {
     "name": "stderr",
     "output_type": "stream",
     "text": [
      "100%|██████████| 45/45 [00:00<00:00, 217.74it/s]"
     ]
    },
    {
     "name": "stdout",
     "output_type": "stream",
     "text": [
      "[MoviePy] Done.\n",
      "[MoviePy] Writing video ./clip/6H4VsHbynQc__148__150.mp4\n"
     ]
    },
    {
     "name": "stderr",
     "output_type": "stream",
     "text": [
      "\n",
      "100%|██████████| 60/60 [00:00<00:00, 277.07it/s]\n"
     ]
    },
    {
     "name": "stdout",
     "output_type": "stream",
     "text": [
      "[MoviePy] Done.\n",
      "[MoviePy] >>>> Video ready: ./clip/6H4VsHbynQc__148__150.mp4 \n",
      "\n",
      "[MoviePy] >>>> Building video ./clip/6H4VsHbynQc__150__152.mp4\n",
      "[MoviePy] Writing audio in 6H4VsHbynQc__150__152TEMP_MPY_wvf_snd.mp4\n"
     ]
    },
    {
     "name": "stderr",
     "output_type": "stream",
     "text": [
      "100%|██████████| 45/45 [00:00<00:00, 197.26it/s]"
     ]
    },
    {
     "name": "stdout",
     "output_type": "stream",
     "text": [
      "[MoviePy] Done.\n",
      "[MoviePy] Writing video ./clip/6H4VsHbynQc__150__152.mp4\n"
     ]
    },
    {
     "name": "stderr",
     "output_type": "stream",
     "text": [
      "\n",
      "100%|██████████| 60/60 [00:00<00:00, 263.76it/s]\n"
     ]
    },
    {
     "name": "stdout",
     "output_type": "stream",
     "text": [
      "[MoviePy] Done.\n",
      "[MoviePy] >>>> Video ready: ./clip/6H4VsHbynQc__150__152.mp4 \n",
      "\n",
      "[MoviePy] >>>> Building video ./clip/6H4VsHbynQc__152__154.mp4\n",
      "[MoviePy] Writing audio in 6H4VsHbynQc__152__154TEMP_MPY_wvf_snd.mp4\n"
     ]
    },
    {
     "name": "stderr",
     "output_type": "stream",
     "text": [
      "100%|██████████| 45/45 [00:00<00:00, 191.76it/s]"
     ]
    },
    {
     "name": "stdout",
     "output_type": "stream",
     "text": [
      "[MoviePy] Done.\n",
      "[MoviePy] Writing video ./clip/6H4VsHbynQc__152__154.mp4\n"
     ]
    },
    {
     "name": "stderr",
     "output_type": "stream",
     "text": [
      "\n",
      "100%|██████████| 60/60 [00:00<00:00, 242.19it/s]\n"
     ]
    },
    {
     "name": "stdout",
     "output_type": "stream",
     "text": [
      "[MoviePy] Done.\n",
      "[MoviePy] >>>> Video ready: ./clip/6H4VsHbynQc__152__154.mp4 \n",
      "\n",
      "[MoviePy] >>>> Building video ./clip/6H4VsHbynQc__154__156.mp4\n",
      "[MoviePy] Writing audio in 6H4VsHbynQc__154__156TEMP_MPY_wvf_snd.mp4\n"
     ]
    },
    {
     "name": "stderr",
     "output_type": "stream",
     "text": [
      "100%|██████████| 45/45 [00:00<00:00, 202.79it/s]"
     ]
    },
    {
     "name": "stdout",
     "output_type": "stream",
     "text": [
      "[MoviePy] Done.\n",
      "[MoviePy] Writing video ./clip/6H4VsHbynQc__154__156.mp4\n"
     ]
    },
    {
     "name": "stderr",
     "output_type": "stream",
     "text": [
      "\n",
      "100%|██████████| 60/60 [00:00<00:00, 274.16it/s]\n"
     ]
    },
    {
     "name": "stdout",
     "output_type": "stream",
     "text": [
      "[MoviePy] Done.\n",
      "[MoviePy] >>>> Video ready: ./clip/6H4VsHbynQc__154__156.mp4 \n",
      "\n",
      "[MoviePy] >>>> Building video ./clip/6H4VsHbynQc__156__158.mp4\n",
      "[MoviePy] Writing audio in 6H4VsHbynQc__156__158TEMP_MPY_wvf_snd.mp4\n"
     ]
    },
    {
     "name": "stderr",
     "output_type": "stream",
     "text": [
      "100%|██████████| 45/45 [00:00<00:00, 207.58it/s]"
     ]
    },
    {
     "name": "stdout",
     "output_type": "stream",
     "text": [
      "[MoviePy] Done.\n",
      "[MoviePy] Writing video ./clip/6H4VsHbynQc__156__158.mp4\n"
     ]
    },
    {
     "name": "stderr",
     "output_type": "stream",
     "text": [
      "\n",
      "100%|██████████| 60/60 [00:00<00:00, 282.39it/s]\n"
     ]
    },
    {
     "name": "stdout",
     "output_type": "stream",
     "text": [
      "[MoviePy] Done.\n",
      "[MoviePy] >>>> Video ready: ./clip/6H4VsHbynQc__156__158.mp4 \n",
      "\n",
      "[MoviePy] >>>> Building video ./clip/6H4VsHbynQc__158__160.mp4\n",
      "[MoviePy] Writing audio in 6H4VsHbynQc__158__160TEMP_MPY_wvf_snd.mp4\n"
     ]
    },
    {
     "name": "stderr",
     "output_type": "stream",
     "text": [
      "100%|██████████| 45/45 [00:00<00:00, 212.99it/s]"
     ]
    },
    {
     "name": "stdout",
     "output_type": "stream",
     "text": [
      "[MoviePy] Done.\n",
      "[MoviePy] Writing video ./clip/6H4VsHbynQc__158__160.mp4\n"
     ]
    },
    {
     "name": "stderr",
     "output_type": "stream",
     "text": [
      "\n",
      "100%|██████████| 60/60 [00:00<00:00, 265.84it/s]\n"
     ]
    },
    {
     "name": "stdout",
     "output_type": "stream",
     "text": [
      "[MoviePy] Done.\n",
      "[MoviePy] >>>> Video ready: ./clip/6H4VsHbynQc__158__160.mp4 \n",
      "\n",
      "[MoviePy] >>>> Building video ./clip/6H4VsHbynQc__160__162.mp4\n",
      "[MoviePy] Writing audio in 6H4VsHbynQc__160__162TEMP_MPY_wvf_snd.mp4\n"
     ]
    },
    {
     "name": "stderr",
     "output_type": "stream",
     "text": [
      "100%|██████████| 45/45 [00:00<00:00, 192.46it/s]"
     ]
    },
    {
     "name": "stdout",
     "output_type": "stream",
     "text": [
      "[MoviePy] Done.\n",
      "[MoviePy] Writing video ./clip/6H4VsHbynQc__160__162.mp4\n"
     ]
    },
    {
     "name": "stderr",
     "output_type": "stream",
     "text": [
      "\n",
      "100%|██████████| 60/60 [00:00<00:00, 272.51it/s]\n"
     ]
    },
    {
     "name": "stdout",
     "output_type": "stream",
     "text": [
      "[MoviePy] Done.\n",
      "[MoviePy] >>>> Video ready: ./clip/6H4VsHbynQc__160__162.mp4 \n",
      "\n",
      "[MoviePy] >>>> Building video ./clip/6H4VsHbynQc__162__164.mp4\n",
      "[MoviePy] Writing audio in 6H4VsHbynQc__162__164TEMP_MPY_wvf_snd.mp4\n"
     ]
    },
    {
     "name": "stderr",
     "output_type": "stream",
     "text": [
      "100%|██████████| 45/45 [00:00<00:00, 216.05it/s]"
     ]
    },
    {
     "name": "stdout",
     "output_type": "stream",
     "text": [
      "[MoviePy] Done.\n",
      "[MoviePy] Writing video ./clip/6H4VsHbynQc__162__164.mp4\n"
     ]
    },
    {
     "name": "stderr",
     "output_type": "stream",
     "text": [
      "\n",
      "100%|██████████| 60/60 [00:00<00:00, 301.81it/s]\n"
     ]
    },
    {
     "name": "stdout",
     "output_type": "stream",
     "text": [
      "[MoviePy] Done.\n",
      "[MoviePy] >>>> Video ready: ./clip/6H4VsHbynQc__162__164.mp4 \n",
      "\n",
      "[MoviePy] >>>> Building video ./clip/6H4VsHbynQc__164__166.mp4\n",
      "[MoviePy] Writing audio in 6H4VsHbynQc__164__166TEMP_MPY_wvf_snd.mp4\n"
     ]
    },
    {
     "name": "stderr",
     "output_type": "stream",
     "text": [
      "100%|██████████| 45/45 [00:00<00:00, 214.49it/s]"
     ]
    },
    {
     "name": "stdout",
     "output_type": "stream",
     "text": [
      "[MoviePy] Done.\n",
      "[MoviePy] Writing video ./clip/6H4VsHbynQc__164__166.mp4\n"
     ]
    },
    {
     "name": "stderr",
     "output_type": "stream",
     "text": [
      "\n",
      "100%|██████████| 60/60 [00:00<00:00, 268.77it/s]\n"
     ]
    },
    {
     "name": "stdout",
     "output_type": "stream",
     "text": [
      "[MoviePy] Done.\n",
      "[MoviePy] >>>> Video ready: ./clip/6H4VsHbynQc__164__166.mp4 \n",
      "\n",
      "[MoviePy] >>>> Building video ./clip/6H4VsHbynQc__166__168.mp4\n",
      "[MoviePy] Writing audio in 6H4VsHbynQc__166__168TEMP_MPY_wvf_snd.mp4\n"
     ]
    },
    {
     "name": "stderr",
     "output_type": "stream",
     "text": [
      "100%|██████████| 45/45 [00:00<00:00, 188.98it/s]"
     ]
    },
    {
     "name": "stdout",
     "output_type": "stream",
     "text": [
      "[MoviePy] Done.\n",
      "[MoviePy] Writing video ./clip/6H4VsHbynQc__166__168.mp4\n"
     ]
    },
    {
     "name": "stderr",
     "output_type": "stream",
     "text": [
      "\n",
      "100%|██████████| 60/60 [00:00<00:00, 262.68it/s]\n"
     ]
    },
    {
     "name": "stdout",
     "output_type": "stream",
     "text": [
      "[MoviePy] Done.\n",
      "[MoviePy] >>>> Video ready: ./clip/6H4VsHbynQc__166__168.mp4 \n",
      "\n",
      "[MoviePy] >>>> Building video ./clip/6H4VsHbynQc__168__170.mp4\n",
      "[MoviePy] Writing audio in 6H4VsHbynQc__168__170TEMP_MPY_wvf_snd.mp4\n"
     ]
    },
    {
     "name": "stderr",
     "output_type": "stream",
     "text": [
      "100%|██████████| 45/45 [00:00<00:00, 192.72it/s]"
     ]
    },
    {
     "name": "stdout",
     "output_type": "stream",
     "text": [
      "[MoviePy] Done.\n",
      "[MoviePy] Writing video ./clip/6H4VsHbynQc__168__170.mp4\n"
     ]
    },
    {
     "name": "stderr",
     "output_type": "stream",
     "text": [
      "\n",
      "100%|██████████| 60/60 [00:00<00:00, 265.57it/s]\n"
     ]
    },
    {
     "name": "stdout",
     "output_type": "stream",
     "text": [
      "[MoviePy] Done.\n",
      "[MoviePy] >>>> Video ready: ./clip/6H4VsHbynQc__168__170.mp4 \n",
      "\n",
      "[MoviePy] >>>> Building video ./clip/6H4VsHbynQc__170__172.mp4\n",
      "[MoviePy] Writing audio in 6H4VsHbynQc__170__172TEMP_MPY_wvf_snd.mp4\n"
     ]
    },
    {
     "name": "stderr",
     "output_type": "stream",
     "text": [
      "100%|██████████| 45/45 [00:00<00:00, 187.55it/s]"
     ]
    },
    {
     "name": "stdout",
     "output_type": "stream",
     "text": [
      "[MoviePy] Done.\n",
      "[MoviePy] Writing video ./clip/6H4VsHbynQc__170__172.mp4\n"
     ]
    },
    {
     "name": "stderr",
     "output_type": "stream",
     "text": [
      "\n",
      "100%|██████████| 60/60 [00:00<00:00, 270.90it/s]\n"
     ]
    },
    {
     "name": "stdout",
     "output_type": "stream",
     "text": [
      "[MoviePy] Done.\n",
      "[MoviePy] >>>> Video ready: ./clip/6H4VsHbynQc__170__172.mp4 \n",
      "\n",
      "[MoviePy] >>>> Building video ./clip/6H4VsHbynQc__172__174.mp4\n",
      "[MoviePy] Writing audio in 6H4VsHbynQc__172__174TEMP_MPY_wvf_snd.mp4\n"
     ]
    },
    {
     "name": "stderr",
     "output_type": "stream",
     "text": [
      "100%|██████████| 45/45 [00:00<00:00, 191.04it/s]"
     ]
    },
    {
     "name": "stdout",
     "output_type": "stream",
     "text": [
      "[MoviePy] Done.\n",
      "[MoviePy] Writing video ./clip/6H4VsHbynQc__172__174.mp4\n"
     ]
    },
    {
     "name": "stderr",
     "output_type": "stream",
     "text": [
      "\n",
      "100%|██████████| 60/60 [00:00<00:00, 264.00it/s]\n"
     ]
    },
    {
     "name": "stdout",
     "output_type": "stream",
     "text": [
      "[MoviePy] Done.\n",
      "[MoviePy] >>>> Video ready: ./clip/6H4VsHbynQc__172__174.mp4 \n",
      "\n",
      "[MoviePy] >>>> Building video ./clip/6H4VsHbynQc__174__176.mp4\n",
      "[MoviePy] Writing audio in 6H4VsHbynQc__174__176TEMP_MPY_wvf_snd.mp4\n"
     ]
    },
    {
     "name": "stderr",
     "output_type": "stream",
     "text": [
      "100%|██████████| 45/45 [00:00<00:00, 203.80it/s]"
     ]
    },
    {
     "name": "stdout",
     "output_type": "stream",
     "text": [
      "[MoviePy] Done.\n",
      "[MoviePy] Writing video ./clip/6H4VsHbynQc__174__176.mp4\n"
     ]
    },
    {
     "name": "stderr",
     "output_type": "stream",
     "text": [
      "\n",
      "100%|██████████| 60/60 [00:00<00:00, 281.72it/s]\n"
     ]
    },
    {
     "name": "stdout",
     "output_type": "stream",
     "text": [
      "[MoviePy] Done.\n",
      "[MoviePy] >>>> Video ready: ./clip/6H4VsHbynQc__174__176.mp4 \n",
      "\n",
      "[MoviePy] >>>> Building video ./clip/6H4VsHbynQc__176__178.mp4\n",
      "[MoviePy] Writing audio in 6H4VsHbynQc__176__178TEMP_MPY_wvf_snd.mp4\n"
     ]
    },
    {
     "name": "stderr",
     "output_type": "stream",
     "text": [
      "100%|██████████| 45/45 [00:00<00:00, 219.02it/s]"
     ]
    },
    {
     "name": "stdout",
     "output_type": "stream",
     "text": [
      "[MoviePy] Done.\n",
      "[MoviePy] Writing video ./clip/6H4VsHbynQc__176__178.mp4\n"
     ]
    },
    {
     "name": "stderr",
     "output_type": "stream",
     "text": [
      "\n",
      "100%|██████████| 60/60 [00:00<00:00, 292.15it/s]\n"
     ]
    },
    {
     "name": "stdout",
     "output_type": "stream",
     "text": [
      "[MoviePy] Done.\n",
      "[MoviePy] >>>> Video ready: ./clip/6H4VsHbynQc__176__178.mp4 \n",
      "\n",
      "[MoviePy] >>>> Building video ./clip/6H4VsHbynQc__178__180.mp4\n",
      "[MoviePy] Writing audio in 6H4VsHbynQc__178__180TEMP_MPY_wvf_snd.mp4\n"
     ]
    },
    {
     "name": "stderr",
     "output_type": "stream",
     "text": [
      "100%|██████████| 45/45 [00:00<00:00, 193.79it/s]"
     ]
    },
    {
     "name": "stdout",
     "output_type": "stream",
     "text": [
      "[MoviePy] Done.\n",
      "[MoviePy] Writing video ./clip/6H4VsHbynQc__178__180.mp4\n"
     ]
    },
    {
     "name": "stderr",
     "output_type": "stream",
     "text": [
      "\n",
      "100%|██████████| 60/60 [00:00<00:00, 281.60it/s]\n"
     ]
    },
    {
     "name": "stdout",
     "output_type": "stream",
     "text": [
      "[MoviePy] Done.\n",
      "[MoviePy] >>>> Video ready: ./clip/6H4VsHbynQc__178__180.mp4 \n",
      "\n",
      "[MoviePy] >>>> Building video ./clip/6H4VsHbynQc__180__182.mp4\n",
      "[MoviePy] Writing audio in 6H4VsHbynQc__180__182TEMP_MPY_wvf_snd.mp4\n"
     ]
    },
    {
     "name": "stderr",
     "output_type": "stream",
     "text": [
      "100%|██████████| 45/45 [00:00<00:00, 208.70it/s]"
     ]
    },
    {
     "name": "stdout",
     "output_type": "stream",
     "text": [
      "[MoviePy] Done.\n",
      "[MoviePy] Writing video ./clip/6H4VsHbynQc__180__182.mp4\n"
     ]
    },
    {
     "name": "stderr",
     "output_type": "stream",
     "text": [
      "\n",
      "100%|██████████| 60/60 [00:00<00:00, 278.27it/s]\n"
     ]
    },
    {
     "name": "stdout",
     "output_type": "stream",
     "text": [
      "[MoviePy] Done.\n",
      "[MoviePy] >>>> Video ready: ./clip/6H4VsHbynQc__180__182.mp4 \n",
      "\n",
      "[MoviePy] >>>> Building video ./clip/6H4VsHbynQc__182__184.mp4\n",
      "[MoviePy] Writing audio in 6H4VsHbynQc__182__184TEMP_MPY_wvf_snd.mp4\n"
     ]
    },
    {
     "name": "stderr",
     "output_type": "stream",
     "text": [
      "100%|██████████| 45/45 [00:00<00:00, 205.75it/s]"
     ]
    },
    {
     "name": "stdout",
     "output_type": "stream",
     "text": [
      "[MoviePy] Done.\n",
      "[MoviePy] Writing video ./clip/6H4VsHbynQc__182__184.mp4\n"
     ]
    },
    {
     "name": "stderr",
     "output_type": "stream",
     "text": [
      "\n",
      "100%|██████████| 60/60 [00:00<00:00, 303.55it/s]\n"
     ]
    },
    {
     "name": "stdout",
     "output_type": "stream",
     "text": [
      "[MoviePy] Done.\n",
      "[MoviePy] >>>> Video ready: ./clip/6H4VsHbynQc__182__184.mp4 \n",
      "\n",
      "[MoviePy] >>>> Building video ./clip/6H4VsHbynQc__184__186.mp4\n",
      "[MoviePy] Writing audio in 6H4VsHbynQc__184__186TEMP_MPY_wvf_snd.mp4\n"
     ]
    },
    {
     "name": "stderr",
     "output_type": "stream",
     "text": [
      "100%|██████████| 45/45 [00:00<00:00, 203.53it/s]"
     ]
    },
    {
     "name": "stdout",
     "output_type": "stream",
     "text": [
      "[MoviePy] Done.\n",
      "[MoviePy] Writing video ./clip/6H4VsHbynQc__184__186.mp4\n"
     ]
    },
    {
     "name": "stderr",
     "output_type": "stream",
     "text": [
      "\n",
      "100%|██████████| 60/60 [00:00<00:00, 315.62it/s]\n"
     ]
    },
    {
     "name": "stdout",
     "output_type": "stream",
     "text": [
      "[MoviePy] Done.\n",
      "[MoviePy] >>>> Video ready: ./clip/6H4VsHbynQc__184__186.mp4 \n",
      "\n",
      "[MoviePy] >>>> Building video ./clip/6H4VsHbynQc__186__188.mp4\n",
      "[MoviePy] Writing audio in 6H4VsHbynQc__186__188TEMP_MPY_wvf_snd.mp4\n"
     ]
    },
    {
     "name": "stderr",
     "output_type": "stream",
     "text": [
      "100%|██████████| 45/45 [00:00<00:00, 209.19it/s]"
     ]
    },
    {
     "name": "stdout",
     "output_type": "stream",
     "text": [
      "[MoviePy] Done.\n",
      "[MoviePy] Writing video ./clip/6H4VsHbynQc__186__188.mp4\n"
     ]
    },
    {
     "name": "stderr",
     "output_type": "stream",
     "text": [
      "\n",
      "100%|██████████| 60/60 [00:00<00:00, 319.56it/s]\n"
     ]
    },
    {
     "name": "stdout",
     "output_type": "stream",
     "text": [
      "[MoviePy] Done.\n",
      "[MoviePy] >>>> Video ready: ./clip/6H4VsHbynQc__186__188.mp4 \n",
      "\n",
      "[MoviePy] >>>> Building video ./clip/6H4VsHbynQc__188__190.mp4\n",
      "[MoviePy] Writing audio in 6H4VsHbynQc__188__190TEMP_MPY_wvf_snd.mp4\n"
     ]
    },
    {
     "name": "stderr",
     "output_type": "stream",
     "text": [
      "100%|██████████| 45/45 [00:00<00:00, 199.64it/s]"
     ]
    },
    {
     "name": "stdout",
     "output_type": "stream",
     "text": [
      "[MoviePy] Done.\n",
      "[MoviePy] Writing video ./clip/6H4VsHbynQc__188__190.mp4\n"
     ]
    },
    {
     "name": "stderr",
     "output_type": "stream",
     "text": [
      "\n",
      "100%|██████████| 60/60 [00:00<00:00, 260.15it/s]\n"
     ]
    },
    {
     "name": "stdout",
     "output_type": "stream",
     "text": [
      "[MoviePy] Done.\n",
      "[MoviePy] >>>> Video ready: ./clip/6H4VsHbynQc__188__190.mp4 \n",
      "\n",
      "[MoviePy] >>>> Building video ./clip/6H4VsHbynQc__190__192.mp4\n",
      "[MoviePy] Writing audio in 6H4VsHbynQc__190__192TEMP_MPY_wvf_snd.mp4\n"
     ]
    },
    {
     "name": "stderr",
     "output_type": "stream",
     "text": [
      "100%|██████████| 45/45 [00:00<00:00, 216.45it/s]"
     ]
    },
    {
     "name": "stdout",
     "output_type": "stream",
     "text": [
      "[MoviePy] Done.\n",
      "[MoviePy] Writing video ./clip/6H4VsHbynQc__190__192.mp4\n"
     ]
    },
    {
     "name": "stderr",
     "output_type": "stream",
     "text": [
      "\n",
      "100%|██████████| 60/60 [00:00<00:00, 280.56it/s]\n"
     ]
    },
    {
     "name": "stdout",
     "output_type": "stream",
     "text": [
      "[MoviePy] Done.\n",
      "[MoviePy] >>>> Video ready: ./clip/6H4VsHbynQc__190__192.mp4 \n",
      "\n",
      "[MoviePy] >>>> Building video ./clip/6H4VsHbynQc__192__194.mp4\n",
      "[MoviePy] Writing audio in 6H4VsHbynQc__192__194TEMP_MPY_wvf_snd.mp4\n"
     ]
    },
    {
     "name": "stderr",
     "output_type": "stream",
     "text": [
      "100%|██████████| 45/45 [00:00<00:00, 207.30it/s]"
     ]
    },
    {
     "name": "stdout",
     "output_type": "stream",
     "text": [
      "[MoviePy] Done.\n",
      "[MoviePy] Writing video ./clip/6H4VsHbynQc__192__194.mp4\n"
     ]
    },
    {
     "name": "stderr",
     "output_type": "stream",
     "text": [
      "\n",
      "100%|██████████| 60/60 [00:00<00:00, 301.43it/s]\n"
     ]
    },
    {
     "name": "stdout",
     "output_type": "stream",
     "text": [
      "[MoviePy] Done.\n",
      "[MoviePy] >>>> Video ready: ./clip/6H4VsHbynQc__192__194.mp4 \n",
      "\n",
      "[MoviePy] >>>> Building video ./clip/6H4VsHbynQc__194__196.mp4\n",
      "[MoviePy] Writing audio in 6H4VsHbynQc__194__196TEMP_MPY_wvf_snd.mp4\n"
     ]
    },
    {
     "name": "stderr",
     "output_type": "stream",
     "text": [
      "100%|██████████| 45/45 [00:00<00:00, 223.79it/s]"
     ]
    },
    {
     "name": "stdout",
     "output_type": "stream",
     "text": [
      "[MoviePy] Done.\n",
      "[MoviePy] Writing video ./clip/6H4VsHbynQc__194__196.mp4\n"
     ]
    },
    {
     "name": "stderr",
     "output_type": "stream",
     "text": [
      "\n",
      "100%|██████████| 60/60 [00:00<00:00, 257.80it/s]\n"
     ]
    },
    {
     "name": "stdout",
     "output_type": "stream",
     "text": [
      "[MoviePy] Done.\n",
      "[MoviePy] >>>> Video ready: ./clip/6H4VsHbynQc__194__196.mp4 \n",
      "\n",
      "[MoviePy] >>>> Building video ./clip/6H4VsHbynQc__196__198.mp4\n",
      "[MoviePy] Writing audio in 6H4VsHbynQc__196__198TEMP_MPY_wvf_snd.mp4\n"
     ]
    },
    {
     "name": "stderr",
     "output_type": "stream",
     "text": [
      "100%|██████████| 45/45 [00:00<00:00, 239.90it/s]\n"
     ]
    },
    {
     "name": "stdout",
     "output_type": "stream",
     "text": [
      "[MoviePy] Done.\n",
      "[MoviePy] Writing video ./clip/6H4VsHbynQc__196__198.mp4\n"
     ]
    },
    {
     "name": "stderr",
     "output_type": "stream",
     "text": [
      "100%|██████████| 60/60 [00:00<00:00, 253.91it/s]\n"
     ]
    },
    {
     "name": "stdout",
     "output_type": "stream",
     "text": [
      "[MoviePy] Done.\n",
      "[MoviePy] >>>> Video ready: ./clip/6H4VsHbynQc__196__198.mp4 \n",
      "\n",
      "[MoviePy] >>>> Building video ./clip/6H4VsHbynQc__198__200.mp4\n",
      "[MoviePy] Writing audio in 6H4VsHbynQc__198__200TEMP_MPY_wvf_snd.mp4\n"
     ]
    },
    {
     "name": "stderr",
     "output_type": "stream",
     "text": [
      "100%|██████████| 45/45 [00:00<00:00, 242.84it/s]\n"
     ]
    },
    {
     "name": "stdout",
     "output_type": "stream",
     "text": [
      "[MoviePy] Done.\n",
      "[MoviePy] Writing video ./clip/6H4VsHbynQc__198__200.mp4\n"
     ]
    },
    {
     "name": "stderr",
     "output_type": "stream",
     "text": [
      "100%|██████████| 60/60 [00:00<00:00, 249.14it/s]\n"
     ]
    },
    {
     "name": "stdout",
     "output_type": "stream",
     "text": [
      "[MoviePy] Done.\n",
      "[MoviePy] >>>> Video ready: ./clip/6H4VsHbynQc__198__200.mp4 \n",
      "\n",
      "[MoviePy] >>>> Building video ./clip/6H4VsHbynQc__200__202.mp4\n",
      "[MoviePy] Writing audio in 6H4VsHbynQc__200__202TEMP_MPY_wvf_snd.mp4\n"
     ]
    },
    {
     "name": "stderr",
     "output_type": "stream",
     "text": [
      "100%|██████████| 45/45 [00:00<00:00, 240.19it/s]\n"
     ]
    },
    {
     "name": "stdout",
     "output_type": "stream",
     "text": [
      "[MoviePy] Done.\n",
      "[MoviePy] Writing video ./clip/6H4VsHbynQc__200__202.mp4\n"
     ]
    },
    {
     "name": "stderr",
     "output_type": "stream",
     "text": [
      "100%|██████████| 60/60 [00:00<00:00, 257.96it/s]\n"
     ]
    },
    {
     "name": "stdout",
     "output_type": "stream",
     "text": [
      "[MoviePy] Done.\n",
      "[MoviePy] >>>> Video ready: ./clip/6H4VsHbynQc__200__202.mp4 \n",
      "\n",
      "[MoviePy] >>>> Building video ./clip/6H4VsHbynQc__202__204.mp4\n",
      "[MoviePy] Writing audio in 6H4VsHbynQc__202__204TEMP_MPY_wvf_snd.mp4\n"
     ]
    },
    {
     "name": "stderr",
     "output_type": "stream",
     "text": [
      "100%|██████████| 45/45 [00:00<00:00, 239.66it/s]\n"
     ]
    },
    {
     "name": "stdout",
     "output_type": "stream",
     "text": [
      "[MoviePy] Done.\n",
      "[MoviePy] Writing video ./clip/6H4VsHbynQc__202__204.mp4\n"
     ]
    },
    {
     "name": "stderr",
     "output_type": "stream",
     "text": [
      "100%|██████████| 60/60 [00:00<00:00, 258.90it/s]\n"
     ]
    },
    {
     "name": "stdout",
     "output_type": "stream",
     "text": [
      "[MoviePy] Done.\n",
      "[MoviePy] >>>> Video ready: ./clip/6H4VsHbynQc__202__204.mp4 \n",
      "\n",
      "[MoviePy] >>>> Building video ./clip/6H4VsHbynQc__204__206.mp4\n",
      "[MoviePy] Writing audio in 6H4VsHbynQc__204__206TEMP_MPY_wvf_snd.mp4\n"
     ]
    },
    {
     "name": "stderr",
     "output_type": "stream",
     "text": [
      "100%|██████████| 45/45 [00:00<00:00, 235.43it/s]\n"
     ]
    },
    {
     "name": "stdout",
     "output_type": "stream",
     "text": [
      "[MoviePy] Done.\n",
      "[MoviePy] Writing video ./clip/6H4VsHbynQc__204__206.mp4\n"
     ]
    },
    {
     "name": "stderr",
     "output_type": "stream",
     "text": [
      "100%|██████████| 60/60 [00:00<00:00, 258.23it/s]\n"
     ]
    },
    {
     "name": "stdout",
     "output_type": "stream",
     "text": [
      "[MoviePy] Done.\n",
      "[MoviePy] >>>> Video ready: ./clip/6H4VsHbynQc__204__206.mp4 \n",
      "\n",
      "[MoviePy] >>>> Building video ./clip/6H4VsHbynQc__206__208.mp4\n",
      "[MoviePy] Writing audio in 6H4VsHbynQc__206__208TEMP_MPY_wvf_snd.mp4\n"
     ]
    },
    {
     "name": "stderr",
     "output_type": "stream",
     "text": [
      "100%|██████████| 45/45 [00:00<00:00, 231.68it/s]\n"
     ]
    },
    {
     "name": "stdout",
     "output_type": "stream",
     "text": [
      "[MoviePy] Done.\n",
      "[MoviePy] Writing video ./clip/6H4VsHbynQc__206__208.mp4\n"
     ]
    },
    {
     "name": "stderr",
     "output_type": "stream",
     "text": [
      "100%|██████████| 60/60 [00:00<00:00, 254.43it/s]\n"
     ]
    },
    {
     "name": "stdout",
     "output_type": "stream",
     "text": [
      "[MoviePy] Done.\n",
      "[MoviePy] >>>> Video ready: ./clip/6H4VsHbynQc__206__208.mp4 \n",
      "\n",
      "[MoviePy] >>>> Building video ./clip/6H4VsHbynQc__208__210.mp4\n",
      "[MoviePy] Writing audio in 6H4VsHbynQc__208__210TEMP_MPY_wvf_snd.mp4\n"
     ]
    },
    {
     "name": "stderr",
     "output_type": "stream",
     "text": [
      "100%|██████████| 45/45 [00:00<00:00, 220.63it/s]"
     ]
    },
    {
     "name": "stdout",
     "output_type": "stream",
     "text": [
      "[MoviePy] Done.\n",
      "[MoviePy] Writing video ./clip/6H4VsHbynQc__208__210.mp4\n"
     ]
    },
    {
     "name": "stderr",
     "output_type": "stream",
     "text": [
      "\n",
      "100%|██████████| 60/60 [00:00<00:00, 250.79it/s]\n"
     ]
    },
    {
     "name": "stdout",
     "output_type": "stream",
     "text": [
      "[MoviePy] Done.\n",
      "[MoviePy] >>>> Video ready: ./clip/6H4VsHbynQc__208__210.mp4 \n",
      "\n",
      "[MoviePy] >>>> Building video ./clip/6H4VsHbynQc__210__212.mp4\n",
      "[MoviePy] Writing audio in 6H4VsHbynQc__210__212TEMP_MPY_wvf_snd.mp4\n"
     ]
    },
    {
     "name": "stderr",
     "output_type": "stream",
     "text": [
      "100%|██████████| 45/45 [00:00<00:00, 204.58it/s]"
     ]
    },
    {
     "name": "stdout",
     "output_type": "stream",
     "text": [
      "[MoviePy] Done.\n",
      "[MoviePy] Writing video ./clip/6H4VsHbynQc__210__212.mp4\n"
     ]
    },
    {
     "name": "stderr",
     "output_type": "stream",
     "text": [
      "\n",
      "100%|██████████| 60/60 [00:00<00:00, 244.80it/s]\n"
     ]
    },
    {
     "name": "stdout",
     "output_type": "stream",
     "text": [
      "[MoviePy] Done.\n",
      "[MoviePy] >>>> Video ready: ./clip/6H4VsHbynQc__210__212.mp4 \n",
      "\n",
      "[MoviePy] >>>> Building video ./clip/6H4VsHbynQc__212__214.mp4\n",
      "[MoviePy] Writing audio in 6H4VsHbynQc__212__214TEMP_MPY_wvf_snd.mp4\n"
     ]
    },
    {
     "name": "stderr",
     "output_type": "stream",
     "text": [
      "100%|██████████| 45/45 [00:00<00:00, 242.93it/s]\n"
     ]
    },
    {
     "name": "stdout",
     "output_type": "stream",
     "text": [
      "[MoviePy] Done.\n",
      "[MoviePy] Writing video ./clip/6H4VsHbynQc__212__214.mp4\n"
     ]
    },
    {
     "name": "stderr",
     "output_type": "stream",
     "text": [
      "100%|██████████| 60/60 [00:00<00:00, 264.55it/s]\n"
     ]
    },
    {
     "name": "stdout",
     "output_type": "stream",
     "text": [
      "[MoviePy] Done.\n",
      "[MoviePy] >>>> Video ready: ./clip/6H4VsHbynQc__212__214.mp4 \n",
      "\n",
      "[MoviePy] >>>> Building video ./clip/6H4VsHbynQc__214__216.mp4\n",
      "[MoviePy] Writing audio in 6H4VsHbynQc__214__216TEMP_MPY_wvf_snd.mp4\n"
     ]
    },
    {
     "name": "stderr",
     "output_type": "stream",
     "text": [
      "100%|██████████| 45/45 [00:00<00:00, 243.21it/s]\n"
     ]
    },
    {
     "name": "stdout",
     "output_type": "stream",
     "text": [
      "[MoviePy] Done.\n",
      "[MoviePy] Writing video ./clip/6H4VsHbynQc__214__216.mp4\n"
     ]
    },
    {
     "name": "stderr",
     "output_type": "stream",
     "text": [
      "100%|██████████| 60/60 [00:00<00:00, 255.83it/s]\n"
     ]
    },
    {
     "name": "stdout",
     "output_type": "stream",
     "text": [
      "[MoviePy] Done.\n",
      "[MoviePy] >>>> Video ready: ./clip/6H4VsHbynQc__214__216.mp4 \n",
      "\n",
      "[MoviePy] >>>> Building video ./clip/6H4VsHbynQc__216__218.mp4\n",
      "[MoviePy] Writing audio in 6H4VsHbynQc__216__218TEMP_MPY_wvf_snd.mp4\n"
     ]
    },
    {
     "name": "stderr",
     "output_type": "stream",
     "text": [
      "100%|██████████| 45/45 [00:00<00:00, 208.36it/s]"
     ]
    },
    {
     "name": "stdout",
     "output_type": "stream",
     "text": [
      "[MoviePy] Done.\n",
      "[MoviePy] Writing video ./clip/6H4VsHbynQc__216__218.mp4\n"
     ]
    },
    {
     "name": "stderr",
     "output_type": "stream",
     "text": [
      "\n",
      "100%|██████████| 60/60 [00:00<00:00, 311.52it/s]\n"
     ]
    },
    {
     "name": "stdout",
     "output_type": "stream",
     "text": [
      "[MoviePy] Done.\n",
      "[MoviePy] >>>> Video ready: ./clip/6H4VsHbynQc__216__218.mp4 \n",
      "\n",
      "[MoviePy] >>>> Building video ./clip/6H4VsHbynQc__218__220.mp4\n",
      "[MoviePy] Writing audio in 6H4VsHbynQc__218__220TEMP_MPY_wvf_snd.mp4\n"
     ]
    },
    {
     "name": "stderr",
     "output_type": "stream",
     "text": [
      "100%|██████████| 45/45 [00:00<00:00, 199.94it/s]"
     ]
    },
    {
     "name": "stdout",
     "output_type": "stream",
     "text": [
      "[MoviePy] Done.\n",
      "[MoviePy] Writing video ./clip/6H4VsHbynQc__218__220.mp4\n"
     ]
    },
    {
     "name": "stderr",
     "output_type": "stream",
     "text": [
      "\n",
      "100%|██████████| 60/60 [00:00<00:00, 289.82it/s]\n"
     ]
    },
    {
     "name": "stdout",
     "output_type": "stream",
     "text": [
      "[MoviePy] Done.\n",
      "[MoviePy] >>>> Video ready: ./clip/6H4VsHbynQc__218__220.mp4 \n",
      "\n",
      "[MoviePy] >>>> Building video ./clip/6H4VsHbynQc__220__222.mp4\n",
      "[MoviePy] Writing audio in 6H4VsHbynQc__220__222TEMP_MPY_wvf_snd.mp4\n"
     ]
    },
    {
     "name": "stderr",
     "output_type": "stream",
     "text": [
      "100%|██████████| 45/45 [00:00<00:00, 195.47it/s]"
     ]
    },
    {
     "name": "stdout",
     "output_type": "stream",
     "text": [
      "[MoviePy] Done.\n",
      "[MoviePy] Writing video ./clip/6H4VsHbynQc__220__222.mp4\n"
     ]
    },
    {
     "name": "stderr",
     "output_type": "stream",
     "text": [
      "\n",
      "100%|██████████| 60/60 [00:00<00:00, 309.00it/s]\n"
     ]
    },
    {
     "name": "stdout",
     "output_type": "stream",
     "text": [
      "[MoviePy] Done.\n",
      "[MoviePy] >>>> Video ready: ./clip/6H4VsHbynQc__220__222.mp4 \n",
      "\n",
      "[MoviePy] >>>> Building video ./clip/6H4VsHbynQc__222__224.mp4\n",
      "[MoviePy] Writing audio in 6H4VsHbynQc__222__224TEMP_MPY_wvf_snd.mp4\n"
     ]
    },
    {
     "name": "stderr",
     "output_type": "stream",
     "text": [
      "100%|██████████| 45/45 [00:00<00:00, 207.30it/s]"
     ]
    },
    {
     "name": "stdout",
     "output_type": "stream",
     "text": [
      "[MoviePy] Done.\n",
      "[MoviePy] Writing video ./clip/6H4VsHbynQc__222__224.mp4\n"
     ]
    },
    {
     "name": "stderr",
     "output_type": "stream",
     "text": [
      "\n",
      "100%|██████████| 60/60 [00:00<00:00, 287.90it/s]\n"
     ]
    },
    {
     "name": "stdout",
     "output_type": "stream",
     "text": [
      "[MoviePy] Done.\n",
      "[MoviePy] >>>> Video ready: ./clip/6H4VsHbynQc__222__224.mp4 \n",
      "\n",
      "[MoviePy] >>>> Building video ./clip/6H4VsHbynQc__224__226.mp4\n",
      "[MoviePy] Writing audio in 6H4VsHbynQc__224__226TEMP_MPY_wvf_snd.mp4\n"
     ]
    },
    {
     "name": "stderr",
     "output_type": "stream",
     "text": [
      "100%|██████████| 45/45 [00:00<00:00, 209.88it/s]"
     ]
    },
    {
     "name": "stdout",
     "output_type": "stream",
     "text": [
      "[MoviePy] Done.\n",
      "[MoviePy] Writing video ./clip/6H4VsHbynQc__224__226.mp4\n"
     ]
    },
    {
     "name": "stderr",
     "output_type": "stream",
     "text": [
      "\n",
      "100%|██████████| 60/60 [00:00<00:00, 302.15it/s]\n"
     ]
    },
    {
     "name": "stdout",
     "output_type": "stream",
     "text": [
      "[MoviePy] Done.\n",
      "[MoviePy] >>>> Video ready: ./clip/6H4VsHbynQc__224__226.mp4 \n",
      "\n",
      "[MoviePy] >>>> Building video ./clip/6H4VsHbynQc__226__228.mp4\n",
      "[MoviePy] Writing audio in 6H4VsHbynQc__226__228TEMP_MPY_wvf_snd.mp4\n"
     ]
    },
    {
     "name": "stderr",
     "output_type": "stream",
     "text": [
      "100%|██████████| 45/45 [00:00<00:00, 206.09it/s]"
     ]
    },
    {
     "name": "stdout",
     "output_type": "stream",
     "text": [
      "[MoviePy] Done.\n",
      "[MoviePy] Writing video ./clip/6H4VsHbynQc__226__228.mp4\n"
     ]
    },
    {
     "name": "stderr",
     "output_type": "stream",
     "text": [
      "\n",
      "100%|██████████| 60/60 [00:00<00:00, 314.94it/s]\n"
     ]
    },
    {
     "name": "stdout",
     "output_type": "stream",
     "text": [
      "[MoviePy] Done.\n",
      "[MoviePy] >>>> Video ready: ./clip/6H4VsHbynQc__226__228.mp4 \n",
      "\n",
      "[MoviePy] >>>> Building video ./clip/6H4VsHbynQc__228__230.mp4\n",
      "[MoviePy] Writing audio in 6H4VsHbynQc__228__230TEMP_MPY_wvf_snd.mp4\n"
     ]
    },
    {
     "name": "stderr",
     "output_type": "stream",
     "text": [
      "100%|██████████| 45/45 [00:00<00:00, 197.07it/s]"
     ]
    },
    {
     "name": "stdout",
     "output_type": "stream",
     "text": [
      "[MoviePy] Done.\n",
      "[MoviePy] Writing video ./clip/6H4VsHbynQc__228__230.mp4\n"
     ]
    },
    {
     "name": "stderr",
     "output_type": "stream",
     "text": [
      "\n",
      "100%|██████████| 60/60 [00:00<00:00, 283.52it/s]\n"
     ]
    },
    {
     "name": "stdout",
     "output_type": "stream",
     "text": [
      "[MoviePy] Done.\n",
      "[MoviePy] >>>> Video ready: ./clip/6H4VsHbynQc__228__230.mp4 \n",
      "\n",
      "[MoviePy] >>>> Building video ./clip/6H4VsHbynQc__230__232.mp4\n",
      "[MoviePy] Writing audio in 6H4VsHbynQc__230__232TEMP_MPY_wvf_snd.mp4\n"
     ]
    },
    {
     "name": "stderr",
     "output_type": "stream",
     "text": [
      "100%|██████████| 45/45 [00:00<00:00, 195.46it/s]"
     ]
    },
    {
     "name": "stdout",
     "output_type": "stream",
     "text": [
      "[MoviePy] Done.\n",
      "[MoviePy] Writing video ./clip/6H4VsHbynQc__230__232.mp4\n"
     ]
    },
    {
     "name": "stderr",
     "output_type": "stream",
     "text": [
      "\n",
      "100%|██████████| 60/60 [00:00<00:00, 298.91it/s]\n"
     ]
    },
    {
     "name": "stdout",
     "output_type": "stream",
     "text": [
      "[MoviePy] Done.\n",
      "[MoviePy] >>>> Video ready: ./clip/6H4VsHbynQc__230__232.mp4 \n",
      "\n",
      "[MoviePy] >>>> Building video ./clip/6H4VsHbynQc__232__234.mp4\n",
      "[MoviePy] Writing audio in 6H4VsHbynQc__232__234TEMP_MPY_wvf_snd.mp4\n"
     ]
    },
    {
     "name": "stderr",
     "output_type": "stream",
     "text": [
      "100%|██████████| 45/45 [00:00<00:00, 208.47it/s]"
     ]
    },
    {
     "name": "stdout",
     "output_type": "stream",
     "text": [
      "[MoviePy] Done.\n",
      "[MoviePy] Writing video ./clip/6H4VsHbynQc__232__234.mp4\n"
     ]
    },
    {
     "name": "stderr",
     "output_type": "stream",
     "text": [
      "\n",
      "100%|██████████| 60/60 [00:00<00:00, 297.91it/s]\n"
     ]
    },
    {
     "name": "stdout",
     "output_type": "stream",
     "text": [
      "[MoviePy] Done.\n",
      "[MoviePy] >>>> Video ready: ./clip/6H4VsHbynQc__232__234.mp4 \n",
      "\n",
      "[MoviePy] >>>> Building video ./clip/6H4VsHbynQc__234__236.mp4\n",
      "[MoviePy] Writing audio in 6H4VsHbynQc__234__236TEMP_MPY_wvf_snd.mp4\n"
     ]
    },
    {
     "name": "stderr",
     "output_type": "stream",
     "text": [
      "100%|██████████| 45/45 [00:00<00:00, 199.83it/s]"
     ]
    },
    {
     "name": "stdout",
     "output_type": "stream",
     "text": [
      "[MoviePy] Done.\n",
      "[MoviePy] Writing video ./clip/6H4VsHbynQc__234__236.mp4\n"
     ]
    },
    {
     "name": "stderr",
     "output_type": "stream",
     "text": [
      "\n",
      "100%|██████████| 60/60 [00:00<00:00, 313.93it/s]\n"
     ]
    },
    {
     "name": "stdout",
     "output_type": "stream",
     "text": [
      "[MoviePy] Done.\n",
      "[MoviePy] >>>> Video ready: ./clip/6H4VsHbynQc__234__236.mp4 \n",
      "\n",
      "[MoviePy] >>>> Building video ./clip/6H4VsHbynQc__236__238.mp4\n",
      "[MoviePy] Writing audio in 6H4VsHbynQc__236__238TEMP_MPY_wvf_snd.mp4\n"
     ]
    },
    {
     "name": "stderr",
     "output_type": "stream",
     "text": [
      "100%|██████████| 45/45 [00:00<00:00, 206.55it/s]"
     ]
    },
    {
     "name": "stdout",
     "output_type": "stream",
     "text": [
      "[MoviePy] Done.\n",
      "[MoviePy] Writing video ./clip/6H4VsHbynQc__236__238.mp4\n"
     ]
    },
    {
     "name": "stderr",
     "output_type": "stream",
     "text": [
      "\n",
      "100%|██████████| 60/60 [00:00<00:00, 315.55it/s]\n"
     ]
    },
    {
     "name": "stdout",
     "output_type": "stream",
     "text": [
      "[MoviePy] Done.\n",
      "[MoviePy] >>>> Video ready: ./clip/6H4VsHbynQc__236__238.mp4 \n",
      "\n",
      "[MoviePy] >>>> Building video ./clip/6H4VsHbynQc__238__240.mp4\n",
      "[MoviePy] Writing audio in 6H4VsHbynQc__238__240TEMP_MPY_wvf_snd.mp4\n"
     ]
    },
    {
     "name": "stderr",
     "output_type": "stream",
     "text": [
      "100%|██████████| 45/45 [00:00<00:00, 207.66it/s]"
     ]
    },
    {
     "name": "stdout",
     "output_type": "stream",
     "text": [
      "[MoviePy] Done.\n",
      "[MoviePy] Writing video ./clip/6H4VsHbynQc__238__240.mp4\n"
     ]
    },
    {
     "name": "stderr",
     "output_type": "stream",
     "text": [
      "\n",
      "100%|██████████| 60/60 [00:00<00:00, 299.81it/s]\n"
     ]
    },
    {
     "name": "stdout",
     "output_type": "stream",
     "text": [
      "[MoviePy] Done.\n",
      "[MoviePy] >>>> Video ready: ./clip/6H4VsHbynQc__238__240.mp4 \n",
      "\n",
      "[MoviePy] >>>> Building video ./clip/6H4VsHbynQc__240__242.mp4\n",
      "[MoviePy] Writing audio in 6H4VsHbynQc__240__242TEMP_MPY_wvf_snd.mp4\n"
     ]
    },
    {
     "name": "stderr",
     "output_type": "stream",
     "text": [
      "100%|██████████| 45/45 [00:00<00:00, 210.40it/s]"
     ]
    },
    {
     "name": "stdout",
     "output_type": "stream",
     "text": [
      "[MoviePy] Done.\n",
      "[MoviePy] Writing video ./clip/6H4VsHbynQc__240__242.mp4\n"
     ]
    },
    {
     "name": "stderr",
     "output_type": "stream",
     "text": [
      "\n",
      "100%|██████████| 60/60 [00:00<00:00, 313.83it/s]\n"
     ]
    },
    {
     "name": "stdout",
     "output_type": "stream",
     "text": [
      "[MoviePy] Done.\n",
      "[MoviePy] >>>> Video ready: ./clip/6H4VsHbynQc__240__242.mp4 \n",
      "\n",
      "[MoviePy] >>>> Building video ./clip/6H4VsHbynQc__242__244.mp4\n",
      "[MoviePy] Writing audio in 6H4VsHbynQc__242__244TEMP_MPY_wvf_snd.mp4\n"
     ]
    },
    {
     "name": "stderr",
     "output_type": "stream",
     "text": [
      "100%|██████████| 45/45 [00:00<00:00, 218.26it/s]"
     ]
    },
    {
     "name": "stdout",
     "output_type": "stream",
     "text": [
      "[MoviePy] Done.\n",
      "[MoviePy] Writing video ./clip/6H4VsHbynQc__242__244.mp4\n"
     ]
    },
    {
     "name": "stderr",
     "output_type": "stream",
     "text": [
      "\n",
      "100%|██████████| 60/60 [00:00<00:00, 309.11it/s]\n"
     ]
    },
    {
     "name": "stdout",
     "output_type": "stream",
     "text": [
      "[MoviePy] Done.\n",
      "[MoviePy] >>>> Video ready: ./clip/6H4VsHbynQc__242__244.mp4 \n",
      "\n",
      "[MoviePy] >>>> Building video ./clip/6H4VsHbynQc__244__246.mp4\n",
      "[MoviePy] Writing audio in 6H4VsHbynQc__244__246TEMP_MPY_wvf_snd.mp4\n"
     ]
    },
    {
     "name": "stderr",
     "output_type": "stream",
     "text": [
      "100%|██████████| 45/45 [00:00<00:00, 210.86it/s]"
     ]
    },
    {
     "name": "stdout",
     "output_type": "stream",
     "text": [
      "[MoviePy] Done.\n",
      "[MoviePy] Writing video ./clip/6H4VsHbynQc__244__246.mp4\n"
     ]
    },
    {
     "name": "stderr",
     "output_type": "stream",
     "text": [
      "\n",
      "100%|██████████| 60/60 [00:00<00:00, 320.85it/s]\n"
     ]
    },
    {
     "name": "stdout",
     "output_type": "stream",
     "text": [
      "[MoviePy] Done.\n",
      "[MoviePy] >>>> Video ready: ./clip/6H4VsHbynQc__244__246.mp4 \n",
      "\n",
      "[MoviePy] >>>> Building video ./clip/6H4VsHbynQc__246__248.mp4\n",
      "[MoviePy] Writing audio in 6H4VsHbynQc__246__248TEMP_MPY_wvf_snd.mp4\n"
     ]
    },
    {
     "name": "stderr",
     "output_type": "stream",
     "text": [
      "100%|██████████| 45/45 [00:00<00:00, 210.30it/s]"
     ]
    },
    {
     "name": "stdout",
     "output_type": "stream",
     "text": [
      "[MoviePy] Done.\n",
      "[MoviePy] Writing video ./clip/6H4VsHbynQc__246__248.mp4\n"
     ]
    },
    {
     "name": "stderr",
     "output_type": "stream",
     "text": [
      "\n",
      "100%|██████████| 60/60 [00:00<00:00, 310.49it/s]\n"
     ]
    },
    {
     "name": "stdout",
     "output_type": "stream",
     "text": [
      "[MoviePy] Done.\n",
      "[MoviePy] >>>> Video ready: ./clip/6H4VsHbynQc__246__248.mp4 \n",
      "\n",
      "[MoviePy] >>>> Building video ./clip/6H4VsHbynQc__248__250.mp4\n",
      "[MoviePy] Writing audio in 6H4VsHbynQc__248__250TEMP_MPY_wvf_snd.mp4\n"
     ]
    },
    {
     "name": "stderr",
     "output_type": "stream",
     "text": [
      "100%|██████████| 45/45 [00:00<00:00, 204.42it/s]"
     ]
    },
    {
     "name": "stdout",
     "output_type": "stream",
     "text": [
      "[MoviePy] Done.\n",
      "[MoviePy] Writing video ./clip/6H4VsHbynQc__248__250.mp4\n"
     ]
    },
    {
     "name": "stderr",
     "output_type": "stream",
     "text": [
      "\n",
      "100%|██████████| 60/60 [00:00<00:00, 290.86it/s]\n"
     ]
    },
    {
     "name": "stdout",
     "output_type": "stream",
     "text": [
      "[MoviePy] Done.\n",
      "[MoviePy] >>>> Video ready: ./clip/6H4VsHbynQc__248__250.mp4 \n",
      "\n",
      "[MoviePy] >>>> Building video ./clip/6H4VsHbynQc__250__252.mp4\n",
      "[MoviePy] Writing audio in 6H4VsHbynQc__250__252TEMP_MPY_wvf_snd.mp4\n"
     ]
    },
    {
     "name": "stderr",
     "output_type": "stream",
     "text": [
      "100%|██████████| 45/45 [00:00<00:00, 209.73it/s]"
     ]
    },
    {
     "name": "stdout",
     "output_type": "stream",
     "text": [
      "[MoviePy] Done.\n",
      "[MoviePy] Writing video ./clip/6H4VsHbynQc__250__252.mp4\n"
     ]
    },
    {
     "name": "stderr",
     "output_type": "stream",
     "text": [
      "\n",
      "100%|██████████| 60/60 [00:00<00:00, 306.75it/s]\n"
     ]
    },
    {
     "name": "stdout",
     "output_type": "stream",
     "text": [
      "[MoviePy] Done.\n",
      "[MoviePy] >>>> Video ready: ./clip/6H4VsHbynQc__250__252.mp4 \n",
      "\n",
      "[MoviePy] >>>> Building video ./clip/6H4VsHbynQc__252__254.mp4\n",
      "[MoviePy] Writing audio in 6H4VsHbynQc__252__254TEMP_MPY_wvf_snd.mp4\n"
     ]
    },
    {
     "name": "stderr",
     "output_type": "stream",
     "text": [
      "100%|██████████| 45/45 [00:00<00:00, 204.69it/s]"
     ]
    },
    {
     "name": "stdout",
     "output_type": "stream",
     "text": [
      "[MoviePy] Done.\n",
      "[MoviePy] Writing video ./clip/6H4VsHbynQc__252__254.mp4\n"
     ]
    },
    {
     "name": "stderr",
     "output_type": "stream",
     "text": [
      "\n",
      "100%|██████████| 60/60 [00:00<00:00, 316.09it/s]\n"
     ]
    },
    {
     "name": "stdout",
     "output_type": "stream",
     "text": [
      "[MoviePy] Done.\n",
      "[MoviePy] >>>> Video ready: ./clip/6H4VsHbynQc__252__254.mp4 \n",
      "\n",
      "[MoviePy] >>>> Building video ./clip/6H4VsHbynQc__254__256.mp4\n",
      "[MoviePy] Writing audio in 6H4VsHbynQc__254__256TEMP_MPY_wvf_snd.mp4\n"
     ]
    },
    {
     "name": "stderr",
     "output_type": "stream",
     "text": [
      "100%|██████████| 45/45 [00:00<00:00, 212.60it/s]"
     ]
    },
    {
     "name": "stdout",
     "output_type": "stream",
     "text": [
      "[MoviePy] Done.\n",
      "[MoviePy] Writing video ./clip/6H4VsHbynQc__254__256.mp4\n"
     ]
    },
    {
     "name": "stderr",
     "output_type": "stream",
     "text": [
      "\n",
      "100%|██████████| 60/60 [00:00<00:00, 323.06it/s]\n"
     ]
    },
    {
     "name": "stdout",
     "output_type": "stream",
     "text": [
      "[MoviePy] Done.\n",
      "[MoviePy] >>>> Video ready: ./clip/6H4VsHbynQc__254__256.mp4 \n",
      "\n",
      "[MoviePy] >>>> Building video ./clip/6H4VsHbynQc__256__258.mp4\n",
      "[MoviePy] Writing audio in 6H4VsHbynQc__256__258TEMP_MPY_wvf_snd.mp4\n"
     ]
    },
    {
     "name": "stderr",
     "output_type": "stream",
     "text": [
      "100%|██████████| 45/45 [00:00<00:00, 215.91it/s]"
     ]
    },
    {
     "name": "stdout",
     "output_type": "stream",
     "text": [
      "[MoviePy] Done.\n",
      "[MoviePy] Writing video ./clip/6H4VsHbynQc__256__258.mp4\n"
     ]
    },
    {
     "name": "stderr",
     "output_type": "stream",
     "text": [
      "\n",
      "100%|██████████| 60/60 [00:00<00:00, 319.46it/s]\n"
     ]
    },
    {
     "name": "stdout",
     "output_type": "stream",
     "text": [
      "[MoviePy] Done.\n",
      "[MoviePy] >>>> Video ready: ./clip/6H4VsHbynQc__256__258.mp4 \n",
      "\n",
      "[MoviePy] >>>> Building video ./clip/6H4VsHbynQc__258__260.mp4\n",
      "[MoviePy] Writing audio in 6H4VsHbynQc__258__260TEMP_MPY_wvf_snd.mp4\n"
     ]
    },
    {
     "name": "stderr",
     "output_type": "stream",
     "text": [
      "100%|██████████| 45/45 [00:00<00:00, 190.00it/s]"
     ]
    },
    {
     "name": "stdout",
     "output_type": "stream",
     "text": [
      "[MoviePy] Done.\n",
      "[MoviePy] Writing video ./clip/6H4VsHbynQc__258__260.mp4\n"
     ]
    },
    {
     "name": "stderr",
     "output_type": "stream",
     "text": [
      "\n",
      "100%|██████████| 60/60 [00:00<00:00, 301.16it/s]\n"
     ]
    },
    {
     "name": "stdout",
     "output_type": "stream",
     "text": [
      "[MoviePy] Done.\n",
      "[MoviePy] >>>> Video ready: ./clip/6H4VsHbynQc__258__260.mp4 \n",
      "\n",
      "[MoviePy] >>>> Building video ./clip/6H4VsHbynQc__260__262.mp4\n",
      "[MoviePy] Writing audio in 6H4VsHbynQc__260__262TEMP_MPY_wvf_snd.mp4\n"
     ]
    },
    {
     "name": "stderr",
     "output_type": "stream",
     "text": [
      "100%|██████████| 45/45 [00:00<00:00, 209.64it/s]"
     ]
    },
    {
     "name": "stdout",
     "output_type": "stream",
     "text": [
      "[MoviePy] Done.\n",
      "[MoviePy] Writing video ./clip/6H4VsHbynQc__260__262.mp4\n"
     ]
    },
    {
     "name": "stderr",
     "output_type": "stream",
     "text": [
      "\n",
      "100%|██████████| 60/60 [00:00<00:00, 286.70it/s]\n"
     ]
    },
    {
     "name": "stdout",
     "output_type": "stream",
     "text": [
      "[MoviePy] Done.\n",
      "[MoviePy] >>>> Video ready: ./clip/6H4VsHbynQc__260__262.mp4 \n",
      "\n",
      "[MoviePy] >>>> Building video ./clip/6H4VsHbynQc__262__264.mp4\n",
      "[MoviePy] Writing audio in 6H4VsHbynQc__262__264TEMP_MPY_wvf_snd.mp4\n"
     ]
    },
    {
     "name": "stderr",
     "output_type": "stream",
     "text": [
      "100%|██████████| 45/45 [00:00<00:00, 194.23it/s]"
     ]
    },
    {
     "name": "stdout",
     "output_type": "stream",
     "text": [
      "[MoviePy] Done.\n",
      "[MoviePy] Writing video ./clip/6H4VsHbynQc__262__264.mp4\n"
     ]
    },
    {
     "name": "stderr",
     "output_type": "stream",
     "text": [
      "\n",
      "100%|██████████| 60/60 [00:00<00:00, 317.10it/s]\n"
     ]
    },
    {
     "name": "stdout",
     "output_type": "stream",
     "text": [
      "[MoviePy] Done.\n",
      "[MoviePy] >>>> Video ready: ./clip/6H4VsHbynQc__262__264.mp4 \n",
      "\n",
      "[MoviePy] >>>> Building video ./clip/6H4VsHbynQc__264__266.mp4\n",
      "[MoviePy] Writing audio in 6H4VsHbynQc__264__266TEMP_MPY_wvf_snd.mp4\n"
     ]
    },
    {
     "name": "stderr",
     "output_type": "stream",
     "text": [
      "100%|██████████| 45/45 [00:00<00:00, 206.50it/s]"
     ]
    },
    {
     "name": "stdout",
     "output_type": "stream",
     "text": [
      "[MoviePy] Done.\n",
      "[MoviePy] Writing video ./clip/6H4VsHbynQc__264__266.mp4\n"
     ]
    },
    {
     "name": "stderr",
     "output_type": "stream",
     "text": [
      "\n",
      "100%|██████████| 60/60 [00:00<00:00, 315.98it/s]\n"
     ]
    },
    {
     "name": "stdout",
     "output_type": "stream",
     "text": [
      "[MoviePy] Done.\n",
      "[MoviePy] >>>> Video ready: ./clip/6H4VsHbynQc__264__266.mp4 \n",
      "\n",
      "[MoviePy] >>>> Building video ./clip/6H4VsHbynQc__266__268.mp4\n",
      "[MoviePy] Writing audio in 6H4VsHbynQc__266__268TEMP_MPY_wvf_snd.mp4\n"
     ]
    },
    {
     "name": "stderr",
     "output_type": "stream",
     "text": [
      "100%|██████████| 45/45 [00:00<00:00, 209.60it/s]"
     ]
    },
    {
     "name": "stdout",
     "output_type": "stream",
     "text": [
      "[MoviePy] Done.\n",
      "[MoviePy] Writing video ./clip/6H4VsHbynQc__266__268.mp4\n"
     ]
    },
    {
     "name": "stderr",
     "output_type": "stream",
     "text": [
      "\n",
      "100%|██████████| 60/60 [00:00<00:00, 307.32it/s]\n"
     ]
    },
    {
     "name": "stdout",
     "output_type": "stream",
     "text": [
      "[MoviePy] Done.\n",
      "[MoviePy] >>>> Video ready: ./clip/6H4VsHbynQc__266__268.mp4 \n",
      "\n",
      "[MoviePy] >>>> Building video ./clip/6H4VsHbynQc__268__270.mp4\n",
      "[MoviePy] Writing audio in 6H4VsHbynQc__268__270TEMP_MPY_wvf_snd.mp4\n"
     ]
    },
    {
     "name": "stderr",
     "output_type": "stream",
     "text": [
      "100%|██████████| 45/45 [00:00<00:00, 196.04it/s]"
     ]
    },
    {
     "name": "stdout",
     "output_type": "stream",
     "text": [
      "[MoviePy] Done.\n",
      "[MoviePy] Writing video ./clip/6H4VsHbynQc__268__270.mp4\n"
     ]
    },
    {
     "name": "stderr",
     "output_type": "stream",
     "text": [
      "\n",
      "100%|██████████| 60/60 [00:00<00:00, 302.04it/s]\n"
     ]
    },
    {
     "name": "stdout",
     "output_type": "stream",
     "text": [
      "[MoviePy] Done.\n",
      "[MoviePy] >>>> Video ready: ./clip/6H4VsHbynQc__268__270.mp4 \n",
      "\n",
      "[MoviePy] >>>> Building video ./clip/6H4VsHbynQc__270__272.mp4\n",
      "[MoviePy] Writing audio in 6H4VsHbynQc__270__272TEMP_MPY_wvf_snd.mp4\n"
     ]
    },
    {
     "name": "stderr",
     "output_type": "stream",
     "text": [
      "100%|██████████| 45/45 [00:00<00:00, 218.81it/s]"
     ]
    },
    {
     "name": "stdout",
     "output_type": "stream",
     "text": [
      "[MoviePy] Done.\n",
      "[MoviePy] Writing video ./clip/6H4VsHbynQc__270__272.mp4\n"
     ]
    },
    {
     "name": "stderr",
     "output_type": "stream",
     "text": [
      "\n",
      "100%|██████████| 60/60 [00:00<00:00, 311.86it/s]\n"
     ]
    },
    {
     "name": "stdout",
     "output_type": "stream",
     "text": [
      "[MoviePy] Done.\n",
      "[MoviePy] >>>> Video ready: ./clip/6H4VsHbynQc__270__272.mp4 \n",
      "\n",
      "[MoviePy] >>>> Building video ./clip/6H4VsHbynQc__272__274.mp4\n",
      "[MoviePy] Writing audio in 6H4VsHbynQc__272__274TEMP_MPY_wvf_snd.mp4\n"
     ]
    },
    {
     "name": "stderr",
     "output_type": "stream",
     "text": [
      "100%|██████████| 45/45 [00:00<00:00, 192.32it/s]"
     ]
    },
    {
     "name": "stdout",
     "output_type": "stream",
     "text": [
      "[MoviePy] Done.\n",
      "[MoviePy] Writing video ./clip/6H4VsHbynQc__272__274.mp4\n"
     ]
    },
    {
     "name": "stderr",
     "output_type": "stream",
     "text": [
      "\n",
      "100%|██████████| 60/60 [00:00<00:00, 329.49it/s]\n"
     ]
    },
    {
     "name": "stdout",
     "output_type": "stream",
     "text": [
      "[MoviePy] Done.\n",
      "[MoviePy] >>>> Video ready: ./clip/6H4VsHbynQc__272__274.mp4 \n",
      "\n",
      "[MoviePy] >>>> Building video ./clip/6H4VsHbynQc__274__276.mp4\n",
      "[MoviePy] Writing audio in 6H4VsHbynQc__274__276TEMP_MPY_wvf_snd.mp4\n"
     ]
    },
    {
     "name": "stderr",
     "output_type": "stream",
     "text": [
      "100%|██████████| 45/45 [00:00<00:00, 201.40it/s]"
     ]
    },
    {
     "name": "stdout",
     "output_type": "stream",
     "text": [
      "[MoviePy] Done.\n",
      "[MoviePy] Writing video ./clip/6H4VsHbynQc__274__276.mp4\n"
     ]
    },
    {
     "name": "stderr",
     "output_type": "stream",
     "text": [
      "\n",
      "100%|██████████| 60/60 [00:00<00:00, 283.84it/s]\n"
     ]
    },
    {
     "name": "stdout",
     "output_type": "stream",
     "text": [
      "[MoviePy] Done.\n",
      "[MoviePy] >>>> Video ready: ./clip/6H4VsHbynQc__274__276.mp4 \n",
      "\n",
      "[MoviePy] >>>> Building video ./clip/6H4VsHbynQc__276__278.mp4\n",
      "[MoviePy] Writing audio in 6H4VsHbynQc__276__278TEMP_MPY_wvf_snd.mp4\n"
     ]
    },
    {
     "name": "stderr",
     "output_type": "stream",
     "text": [
      "100%|██████████| 45/45 [00:00<00:00, 224.69it/s]"
     ]
    },
    {
     "name": "stdout",
     "output_type": "stream",
     "text": [
      "[MoviePy] Done.\n",
      "[MoviePy] Writing video ./clip/6H4VsHbynQc__276__278.mp4\n"
     ]
    },
    {
     "name": "stderr",
     "output_type": "stream",
     "text": [
      "\n",
      "100%|██████████| 60/60 [00:00<00:00, 312.77it/s]\n"
     ]
    },
    {
     "name": "stdout",
     "output_type": "stream",
     "text": [
      "[MoviePy] Done.\n",
      "[MoviePy] >>>> Video ready: ./clip/6H4VsHbynQc__276__278.mp4 \n",
      "\n",
      "[MoviePy] >>>> Building video ./clip/6H4VsHbynQc__278__280.mp4\n",
      "[MoviePy] Writing audio in 6H4VsHbynQc__278__280TEMP_MPY_wvf_snd.mp4\n"
     ]
    },
    {
     "name": "stderr",
     "output_type": "stream",
     "text": [
      "100%|██████████| 45/45 [00:00<00:00, 195.98it/s]"
     ]
    },
    {
     "name": "stdout",
     "output_type": "stream",
     "text": [
      "[MoviePy] Done.\n",
      "[MoviePy] Writing video ./clip/6H4VsHbynQc__278__280.mp4\n"
     ]
    },
    {
     "name": "stderr",
     "output_type": "stream",
     "text": [
      "\n",
      "100%|██████████| 60/60 [00:00<00:00, 283.50it/s]\n"
     ]
    },
    {
     "name": "stdout",
     "output_type": "stream",
     "text": [
      "[MoviePy] Done.\n",
      "[MoviePy] >>>> Video ready: ./clip/6H4VsHbynQc__278__280.mp4 \n",
      "\n",
      "[MoviePy] >>>> Building video ./clip/6H4VsHbynQc__280__282.mp4\n",
      "[MoviePy] Writing audio in 6H4VsHbynQc__280__282TEMP_MPY_wvf_snd.mp4\n"
     ]
    },
    {
     "name": "stderr",
     "output_type": "stream",
     "text": [
      "100%|██████████| 45/45 [00:00<00:00, 223.72it/s]"
     ]
    },
    {
     "name": "stdout",
     "output_type": "stream",
     "text": [
      "[MoviePy] Done.\n",
      "[MoviePy] Writing video ./clip/6H4VsHbynQc__280__282.mp4\n"
     ]
    },
    {
     "name": "stderr",
     "output_type": "stream",
     "text": [
      "\n",
      "100%|██████████| 60/60 [00:00<00:00, 274.64it/s]\n"
     ]
    },
    {
     "name": "stdout",
     "output_type": "stream",
     "text": [
      "[MoviePy] Done.\n",
      "[MoviePy] >>>> Video ready: ./clip/6H4VsHbynQc__280__282.mp4 \n",
      "\n",
      "[MoviePy] >>>> Building video ./clip/6H4VsHbynQc__282__284.mp4\n",
      "[MoviePy] Writing audio in 6H4VsHbynQc__282__284TEMP_MPY_wvf_snd.mp4\n"
     ]
    },
    {
     "name": "stderr",
     "output_type": "stream",
     "text": [
      "100%|██████████| 45/45 [00:00<00:00, 254.39it/s]"
     ]
    },
    {
     "name": "stdout",
     "output_type": "stream",
     "text": [
      "[MoviePy] Done.\n",
      "[MoviePy] Writing video ./clip/6H4VsHbynQc__282__284.mp4\n"
     ]
    },
    {
     "name": "stderr",
     "output_type": "stream",
     "text": [
      "\n",
      "100%|██████████| 60/60 [00:00<00:00, 301.20it/s]\n"
     ]
    },
    {
     "name": "stdout",
     "output_type": "stream",
     "text": [
      "[MoviePy] Done.\n",
      "[MoviePy] >>>> Video ready: ./clip/6H4VsHbynQc__282__284.mp4 \n",
      "\n",
      "[MoviePy] >>>> Building video ./clip/6H4VsHbynQc__284__286.mp4\n",
      "[MoviePy] Writing audio in 6H4VsHbynQc__284__286TEMP_MPY_wvf_snd.mp4\n"
     ]
    },
    {
     "name": "stderr",
     "output_type": "stream",
     "text": [
      "100%|██████████| 45/45 [00:00<00:00, 187.27it/s]"
     ]
    },
    {
     "name": "stdout",
     "output_type": "stream",
     "text": [
      "[MoviePy] Done.\n",
      "[MoviePy] Writing video ./clip/6H4VsHbynQc__284__286.mp4\n"
     ]
    },
    {
     "name": "stderr",
     "output_type": "stream",
     "text": [
      "\n",
      "100%|██████████| 60/60 [00:00<00:00, 297.72it/s]\n"
     ]
    },
    {
     "name": "stdout",
     "output_type": "stream",
     "text": [
      "[MoviePy] Done.\n",
      "[MoviePy] >>>> Video ready: ./clip/6H4VsHbynQc__284__286.mp4 \n",
      "\n",
      "[MoviePy] >>>> Building video ./clip/6H4VsHbynQc__286__288.mp4\n",
      "[MoviePy] Writing audio in 6H4VsHbynQc__286__288TEMP_MPY_wvf_snd.mp4\n"
     ]
    },
    {
     "name": "stderr",
     "output_type": "stream",
     "text": [
      "100%|██████████| 45/45 [00:00<00:00, 216.20it/s]"
     ]
    },
    {
     "name": "stdout",
     "output_type": "stream",
     "text": [
      "[MoviePy] Done.\n",
      "[MoviePy] Writing video ./clip/6H4VsHbynQc__286__288.mp4\n"
     ]
    },
    {
     "name": "stderr",
     "output_type": "stream",
     "text": [
      "\n",
      "100%|██████████| 60/60 [00:00<00:00, 284.20it/s]\n"
     ]
    },
    {
     "name": "stdout",
     "output_type": "stream",
     "text": [
      "[MoviePy] Done.\n",
      "[MoviePy] >>>> Video ready: ./clip/6H4VsHbynQc__286__288.mp4 \n",
      "\n",
      "[MoviePy] >>>> Building video ./clip/6H4VsHbynQc__288__290.mp4\n",
      "[MoviePy] Writing audio in 6H4VsHbynQc__288__290TEMP_MPY_wvf_snd.mp4\n"
     ]
    },
    {
     "name": "stderr",
     "output_type": "stream",
     "text": [
      "100%|██████████| 45/45 [00:00<00:00, 186.16it/s]"
     ]
    },
    {
     "name": "stdout",
     "output_type": "stream",
     "text": [
      "[MoviePy] Done.\n",
      "[MoviePy] Writing video ./clip/6H4VsHbynQc__288__290.mp4\n"
     ]
    },
    {
     "name": "stderr",
     "output_type": "stream",
     "text": [
      "\n",
      "100%|██████████| 60/60 [00:00<00:00, 287.13it/s]\n"
     ]
    },
    {
     "name": "stdout",
     "output_type": "stream",
     "text": [
      "[MoviePy] Done.\n",
      "[MoviePy] >>>> Video ready: ./clip/6H4VsHbynQc__288__290.mp4 \n",
      "\n",
      "[MoviePy] >>>> Building video ./clip/6H4VsHbynQc__290__292.mp4\n",
      "[MoviePy] Writing audio in 6H4VsHbynQc__290__292TEMP_MPY_wvf_snd.mp4\n"
     ]
    },
    {
     "name": "stderr",
     "output_type": "stream",
     "text": [
      "100%|██████████| 45/45 [00:00<00:00, 208.20it/s]"
     ]
    },
    {
     "name": "stdout",
     "output_type": "stream",
     "text": [
      "[MoviePy] Done.\n",
      "[MoviePy] Writing video ./clip/6H4VsHbynQc__290__292.mp4\n"
     ]
    },
    {
     "name": "stderr",
     "output_type": "stream",
     "text": [
      "\n",
      "100%|██████████| 60/60 [00:00<00:00, 267.33it/s]\n"
     ]
    },
    {
     "name": "stdout",
     "output_type": "stream",
     "text": [
      "[MoviePy] Done.\n",
      "[MoviePy] >>>> Video ready: ./clip/6H4VsHbynQc__290__292.mp4 \n",
      "\n",
      "[MoviePy] >>>> Building video ./clip/6H4VsHbynQc__292__294.mp4\n",
      "[MoviePy] Writing audio in 6H4VsHbynQc__292__294TEMP_MPY_wvf_snd.mp4\n"
     ]
    },
    {
     "name": "stderr",
     "output_type": "stream",
     "text": [
      "100%|██████████| 45/45 [00:00<00:00, 188.35it/s]"
     ]
    },
    {
     "name": "stdout",
     "output_type": "stream",
     "text": [
      "[MoviePy] Done.\n",
      "[MoviePy] Writing video ./clip/6H4VsHbynQc__292__294.mp4\n"
     ]
    },
    {
     "name": "stderr",
     "output_type": "stream",
     "text": [
      "\n",
      "100%|██████████| 60/60 [00:00<00:00, 311.60it/s]\n"
     ]
    },
    {
     "name": "stdout",
     "output_type": "stream",
     "text": [
      "[MoviePy] Done.\n",
      "[MoviePy] >>>> Video ready: ./clip/6H4VsHbynQc__292__294.mp4 \n",
      "\n",
      "[MoviePy] >>>> Building video ./clip/6H4VsHbynQc__294__296.mp4\n",
      "[MoviePy] Writing audio in 6H4VsHbynQc__294__296TEMP_MPY_wvf_snd.mp4\n"
     ]
    },
    {
     "name": "stderr",
     "output_type": "stream",
     "text": [
      "100%|██████████| 45/45 [00:00<00:00, 196.63it/s]"
     ]
    },
    {
     "name": "stdout",
     "output_type": "stream",
     "text": [
      "[MoviePy] Done.\n",
      "[MoviePy] Writing video ./clip/6H4VsHbynQc__294__296.mp4\n"
     ]
    },
    {
     "name": "stderr",
     "output_type": "stream",
     "text": [
      "\n",
      "100%|██████████| 60/60 [00:00<00:00, 310.26it/s]\n"
     ]
    },
    {
     "name": "stdout",
     "output_type": "stream",
     "text": [
      "[MoviePy] Done.\n",
      "[MoviePy] >>>> Video ready: ./clip/6H4VsHbynQc__294__296.mp4 \n",
      "\n",
      "[MoviePy] >>>> Building video ./clip/6H4VsHbynQc__296__298.mp4\n",
      "[MoviePy] Writing audio in 6H4VsHbynQc__296__298TEMP_MPY_wvf_snd.mp4\n"
     ]
    },
    {
     "name": "stderr",
     "output_type": "stream",
     "text": [
      "100%|██████████| 45/45 [00:00<00:00, 195.44it/s]"
     ]
    },
    {
     "name": "stdout",
     "output_type": "stream",
     "text": [
      "[MoviePy] Done.\n",
      "[MoviePy] Writing video ./clip/6H4VsHbynQc__296__298.mp4\n"
     ]
    },
    {
     "name": "stderr",
     "output_type": "stream",
     "text": [
      "\n",
      "100%|██████████| 60/60 [00:00<00:00, 324.55it/s]\n"
     ]
    },
    {
     "name": "stdout",
     "output_type": "stream",
     "text": [
      "[MoviePy] Done.\n",
      "[MoviePy] >>>> Video ready: ./clip/6H4VsHbynQc__296__298.mp4 \n",
      "\n",
      "[MoviePy] >>>> Building video ./clip/6H4VsHbynQc__298__300.mp4\n",
      "[MoviePy] Writing audio in 6H4VsHbynQc__298__300TEMP_MPY_wvf_snd.mp4\n"
     ]
    },
    {
     "name": "stderr",
     "output_type": "stream",
     "text": [
      "100%|██████████| 45/45 [00:00<00:00, 210.29it/s]"
     ]
    },
    {
     "name": "stdout",
     "output_type": "stream",
     "text": [
      "[MoviePy] Done.\n",
      "[MoviePy] Writing video ./clip/6H4VsHbynQc__298__300.mp4\n"
     ]
    },
    {
     "name": "stderr",
     "output_type": "stream",
     "text": [
      "\n",
      "100%|██████████| 60/60 [00:00<00:00, 327.67it/s]\n"
     ]
    },
    {
     "name": "stdout",
     "output_type": "stream",
     "text": [
      "[MoviePy] Done.\n",
      "[MoviePy] >>>> Video ready: ./clip/6H4VsHbynQc__298__300.mp4 \n",
      "\n",
      "[MoviePy] >>>> Building video ./clip/6H4VsHbynQc__300__302.mp4\n",
      "[MoviePy] Writing audio in 6H4VsHbynQc__300__302TEMP_MPY_wvf_snd.mp4\n"
     ]
    },
    {
     "name": "stderr",
     "output_type": "stream",
     "text": [
      "100%|██████████| 45/45 [00:00<00:00, 211.33it/s]"
     ]
    },
    {
     "name": "stdout",
     "output_type": "stream",
     "text": [
      "[MoviePy] Done.\n",
      "[MoviePy] Writing video ./clip/6H4VsHbynQc__300__302.mp4\n"
     ]
    },
    {
     "name": "stderr",
     "output_type": "stream",
     "text": [
      "\n",
      "100%|██████████| 60/60 [00:00<00:00, 307.46it/s]\n"
     ]
    },
    {
     "name": "stdout",
     "output_type": "stream",
     "text": [
      "[MoviePy] Done.\n",
      "[MoviePy] >>>> Video ready: ./clip/6H4VsHbynQc__300__302.mp4 \n",
      "\n",
      "[MoviePy] >>>> Building video ./clip/6H4VsHbynQc__302__304.mp4\n",
      "[MoviePy] Writing audio in 6H4VsHbynQc__302__304TEMP_MPY_wvf_snd.mp4\n"
     ]
    },
    {
     "name": "stderr",
     "output_type": "stream",
     "text": [
      "100%|██████████| 45/45 [00:00<00:00, 196.87it/s]"
     ]
    },
    {
     "name": "stdout",
     "output_type": "stream",
     "text": [
      "[MoviePy] Done.\n",
      "[MoviePy] Writing video ./clip/6H4VsHbynQc__302__304.mp4\n"
     ]
    },
    {
     "name": "stderr",
     "output_type": "stream",
     "text": [
      "\n",
      "100%|██████████| 60/60 [00:00<00:00, 305.55it/s]\n"
     ]
    },
    {
     "name": "stdout",
     "output_type": "stream",
     "text": [
      "[MoviePy] Done.\n",
      "[MoviePy] >>>> Video ready: ./clip/6H4VsHbynQc__302__304.mp4 \n",
      "\n",
      "[MoviePy] >>>> Building video ./clip/6H4VsHbynQc__304__306.mp4\n",
      "[MoviePy] Writing audio in 6H4VsHbynQc__304__306TEMP_MPY_wvf_snd.mp4\n"
     ]
    },
    {
     "name": "stderr",
     "output_type": "stream",
     "text": [
      "100%|██████████| 45/45 [00:00<00:00, 204.97it/s]"
     ]
    },
    {
     "name": "stdout",
     "output_type": "stream",
     "text": [
      "[MoviePy] Done.\n",
      "[MoviePy] Writing video ./clip/6H4VsHbynQc__304__306.mp4\n"
     ]
    },
    {
     "name": "stderr",
     "output_type": "stream",
     "text": [
      "\n",
      "100%|██████████| 60/60 [00:00<00:00, 277.36it/s]\n"
     ]
    },
    {
     "name": "stdout",
     "output_type": "stream",
     "text": [
      "[MoviePy] Done.\n",
      "[MoviePy] >>>> Video ready: ./clip/6H4VsHbynQc__304__306.mp4 \n",
      "\n",
      "[MoviePy] >>>> Building video ./clip/6H4VsHbynQc__306__308.mp4\n",
      "[MoviePy] Writing audio in 6H4VsHbynQc__306__308TEMP_MPY_wvf_snd.mp4\n"
     ]
    },
    {
     "name": "stderr",
     "output_type": "stream",
     "text": [
      "100%|██████████| 45/45 [00:00<00:00, 188.27it/s]"
     ]
    },
    {
     "name": "stdout",
     "output_type": "stream",
     "text": [
      "[MoviePy] Done.\n",
      "[MoviePy] Writing video ./clip/6H4VsHbynQc__306__308.mp4\n"
     ]
    },
    {
     "name": "stderr",
     "output_type": "stream",
     "text": [
      "\n",
      "100%|██████████| 60/60 [00:00<00:00, 299.54it/s]\n"
     ]
    },
    {
     "name": "stdout",
     "output_type": "stream",
     "text": [
      "[MoviePy] Done.\n",
      "[MoviePy] >>>> Video ready: ./clip/6H4VsHbynQc__306__308.mp4 \n",
      "\n",
      "[MoviePy] >>>> Building video ./clip/6H4VsHbynQc__308__310.mp4\n",
      "[MoviePy] Writing audio in 6H4VsHbynQc__308__310TEMP_MPY_wvf_snd.mp4\n"
     ]
    },
    {
     "name": "stderr",
     "output_type": "stream",
     "text": [
      "100%|██████████| 45/45 [00:00<00:00, 172.57it/s]"
     ]
    },
    {
     "name": "stdout",
     "output_type": "stream",
     "text": [
      "[MoviePy] Done.\n",
      "[MoviePy] Writing video ./clip/6H4VsHbynQc__308__310.mp4\n"
     ]
    },
    {
     "name": "stderr",
     "output_type": "stream",
     "text": [
      "\n",
      "100%|██████████| 60/60 [00:00<00:00, 249.11it/s]\n"
     ]
    },
    {
     "name": "stdout",
     "output_type": "stream",
     "text": [
      "[MoviePy] Done.\n",
      "[MoviePy] >>>> Video ready: ./clip/6H4VsHbynQc__308__310.mp4 \n",
      "\n",
      "[MoviePy] >>>> Building video ./clip/6H4VsHbynQc__310__312.mp4\n",
      "[MoviePy] Writing audio in 6H4VsHbynQc__310__312TEMP_MPY_wvf_snd.mp4\n"
     ]
    },
    {
     "name": "stderr",
     "output_type": "stream",
     "text": [
      "100%|██████████| 45/45 [00:00<00:00, 208.39it/s]"
     ]
    },
    {
     "name": "stdout",
     "output_type": "stream",
     "text": [
      "[MoviePy] Done.\n",
      "[MoviePy] Writing video ./clip/6H4VsHbynQc__310__312.mp4\n"
     ]
    },
    {
     "name": "stderr",
     "output_type": "stream",
     "text": [
      "\n",
      "100%|██████████| 60/60 [00:00<00:00, 303.32it/s]\n"
     ]
    },
    {
     "name": "stdout",
     "output_type": "stream",
     "text": [
      "[MoviePy] Done.\n",
      "[MoviePy] >>>> Video ready: ./clip/6H4VsHbynQc__310__312.mp4 \n",
      "\n",
      "[MoviePy] >>>> Building video ./clip/6H4VsHbynQc__312__314.mp4\n",
      "[MoviePy] Writing audio in 6H4VsHbynQc__312__314TEMP_MPY_wvf_snd.mp4\n"
     ]
    },
    {
     "name": "stderr",
     "output_type": "stream",
     "text": [
      "100%|██████████| 45/45 [00:00<00:00, 206.42it/s]"
     ]
    },
    {
     "name": "stdout",
     "output_type": "stream",
     "text": [
      "[MoviePy] Done.\n",
      "[MoviePy] Writing video ./clip/6H4VsHbynQc__312__314.mp4\n"
     ]
    },
    {
     "name": "stderr",
     "output_type": "stream",
     "text": [
      "\n",
      "100%|██████████| 60/60 [00:00<00:00, 312.18it/s]\n"
     ]
    },
    {
     "name": "stdout",
     "output_type": "stream",
     "text": [
      "[MoviePy] Done.\n",
      "[MoviePy] >>>> Video ready: ./clip/6H4VsHbynQc__312__314.mp4 \n",
      "\n",
      "[MoviePy] >>>> Building video ./clip/6H4VsHbynQc__314__316.mp4\n",
      "[MoviePy] Writing audio in 6H4VsHbynQc__314__316TEMP_MPY_wvf_snd.mp4\n"
     ]
    },
    {
     "name": "stderr",
     "output_type": "stream",
     "text": [
      "100%|██████████| 45/45 [00:00<00:00, 178.26it/s]"
     ]
    },
    {
     "name": "stdout",
     "output_type": "stream",
     "text": [
      "[MoviePy] Done.\n",
      "[MoviePy] Writing video ./clip/6H4VsHbynQc__314__316.mp4\n"
     ]
    },
    {
     "name": "stderr",
     "output_type": "stream",
     "text": [
      "\n",
      "100%|██████████| 60/60 [00:00<00:00, 275.39it/s]\n"
     ]
    },
    {
     "name": "stdout",
     "output_type": "stream",
     "text": [
      "[MoviePy] Done.\n",
      "[MoviePy] >>>> Video ready: ./clip/6H4VsHbynQc__314__316.mp4 \n",
      "\n",
      "[MoviePy] >>>> Building video ./clip/6H4VsHbynQc__316__318.mp4\n",
      "[MoviePy] Writing audio in 6H4VsHbynQc__316__318TEMP_MPY_wvf_snd.mp4\n"
     ]
    },
    {
     "name": "stderr",
     "output_type": "stream",
     "text": [
      "100%|██████████| 45/45 [00:00<00:00, 210.75it/s]"
     ]
    },
    {
     "name": "stdout",
     "output_type": "stream",
     "text": [
      "[MoviePy] Done.\n",
      "[MoviePy] Writing video ./clip/6H4VsHbynQc__316__318.mp4\n"
     ]
    },
    {
     "name": "stderr",
     "output_type": "stream",
     "text": [
      "\n",
      "100%|██████████| 60/60 [00:00<00:00, 289.94it/s]\n"
     ]
    },
    {
     "name": "stdout",
     "output_type": "stream",
     "text": [
      "[MoviePy] Done.\n",
      "[MoviePy] >>>> Video ready: ./clip/6H4VsHbynQc__316__318.mp4 \n",
      "\n",
      "[MoviePy] >>>> Building video ./clip/6H4VsHbynQc__318__320.mp4\n",
      "[MoviePy] Writing audio in 6H4VsHbynQc__318__320TEMP_MPY_wvf_snd.mp4\n"
     ]
    },
    {
     "name": "stderr",
     "output_type": "stream",
     "text": [
      "100%|██████████| 45/45 [00:00<00:00, 205.43it/s]"
     ]
    },
    {
     "name": "stdout",
     "output_type": "stream",
     "text": [
      "[MoviePy] Done.\n",
      "[MoviePy] Writing video ./clip/6H4VsHbynQc__318__320.mp4\n"
     ]
    },
    {
     "name": "stderr",
     "output_type": "stream",
     "text": [
      "\n",
      "100%|██████████| 60/60 [00:00<00:00, 268.57it/s]\n"
     ]
    },
    {
     "name": "stdout",
     "output_type": "stream",
     "text": [
      "[MoviePy] Done.\n",
      "[MoviePy] >>>> Video ready: ./clip/6H4VsHbynQc__318__320.mp4 \n",
      "\n",
      "[MoviePy] >>>> Building video ./clip/6H4VsHbynQc__320__322.mp4\n",
      "[MoviePy] Writing audio in 6H4VsHbynQc__320__322TEMP_MPY_wvf_snd.mp4\n"
     ]
    },
    {
     "name": "stderr",
     "output_type": "stream",
     "text": [
      "100%|██████████| 45/45 [00:00<00:00, 174.46it/s]"
     ]
    },
    {
     "name": "stdout",
     "output_type": "stream",
     "text": [
      "[MoviePy] Done.\n",
      "[MoviePy] Writing video ./clip/6H4VsHbynQc__320__322.mp4\n"
     ]
    },
    {
     "name": "stderr",
     "output_type": "stream",
     "text": [
      "\n",
      "100%|██████████| 60/60 [00:00<00:00, 267.42it/s]\n"
     ]
    },
    {
     "name": "stdout",
     "output_type": "stream",
     "text": [
      "[MoviePy] Done.\n",
      "[MoviePy] >>>> Video ready: ./clip/6H4VsHbynQc__320__322.mp4 \n",
      "\n",
      "[MoviePy] >>>> Building video ./clip/6H4VsHbynQc__322__324.mp4\n",
      "[MoviePy] Writing audio in 6H4VsHbynQc__322__324TEMP_MPY_wvf_snd.mp4\n"
     ]
    },
    {
     "name": "stderr",
     "output_type": "stream",
     "text": [
      "100%|██████████| 45/45 [00:00<00:00, 190.84it/s]"
     ]
    },
    {
     "name": "stdout",
     "output_type": "stream",
     "text": [
      "[MoviePy] Done.\n",
      "[MoviePy] Writing video ./clip/6H4VsHbynQc__322__324.mp4\n"
     ]
    },
    {
     "name": "stderr",
     "output_type": "stream",
     "text": [
      "\n",
      "100%|██████████| 60/60 [00:00<00:00, 268.17it/s]\n"
     ]
    },
    {
     "name": "stdout",
     "output_type": "stream",
     "text": [
      "[MoviePy] Done.\n",
      "[MoviePy] >>>> Video ready: ./clip/6H4VsHbynQc__322__324.mp4 \n",
      "\n",
      "[MoviePy] >>>> Building video ./clip/6H4VsHbynQc__324__326.mp4\n",
      "[MoviePy] Writing audio in 6H4VsHbynQc__324__326TEMP_MPY_wvf_snd.mp4\n"
     ]
    },
    {
     "name": "stderr",
     "output_type": "stream",
     "text": [
      "100%|██████████| 45/45 [00:00<00:00, 182.85it/s]"
     ]
    },
    {
     "name": "stdout",
     "output_type": "stream",
     "text": [
      "[MoviePy] Done.\n",
      "[MoviePy] Writing video ./clip/6H4VsHbynQc__324__326.mp4\n"
     ]
    },
    {
     "name": "stderr",
     "output_type": "stream",
     "text": [
      "\n",
      "100%|██████████| 60/60 [00:00<00:00, 258.02it/s]\n"
     ]
    },
    {
     "name": "stdout",
     "output_type": "stream",
     "text": [
      "[MoviePy] Done.\n",
      "[MoviePy] >>>> Video ready: ./clip/6H4VsHbynQc__324__326.mp4 \n",
      "\n",
      "[MoviePy] >>>> Building video ./clip/6H4VsHbynQc__326__328.mp4\n",
      "[MoviePy] Writing audio in 6H4VsHbynQc__326__328TEMP_MPY_wvf_snd.mp4\n"
     ]
    },
    {
     "name": "stderr",
     "output_type": "stream",
     "text": [
      "100%|██████████| 45/45 [00:00<00:00, 193.93it/s]"
     ]
    },
    {
     "name": "stdout",
     "output_type": "stream",
     "text": [
      "[MoviePy] Done.\n",
      "[MoviePy] Writing video ./clip/6H4VsHbynQc__326__328.mp4\n"
     ]
    },
    {
     "name": "stderr",
     "output_type": "stream",
     "text": [
      "\n",
      "100%|██████████| 60/60 [00:00<00:00, 290.82it/s]\n"
     ]
    },
    {
     "name": "stdout",
     "output_type": "stream",
     "text": [
      "[MoviePy] Done.\n",
      "[MoviePy] >>>> Video ready: ./clip/6H4VsHbynQc__326__328.mp4 \n",
      "\n",
      "[MoviePy] >>>> Building video ./clip/6H4VsHbynQc__328__330.mp4\n",
      "[MoviePy] Writing audio in 6H4VsHbynQc__328__330TEMP_MPY_wvf_snd.mp4\n"
     ]
    },
    {
     "name": "stderr",
     "output_type": "stream",
     "text": [
      "100%|██████████| 45/45 [00:00<00:00, 195.77it/s]"
     ]
    },
    {
     "name": "stdout",
     "output_type": "stream",
     "text": [
      "[MoviePy] Done.\n",
      "[MoviePy] Writing video ./clip/6H4VsHbynQc__328__330.mp4\n"
     ]
    },
    {
     "name": "stderr",
     "output_type": "stream",
     "text": [
      "\n",
      "100%|██████████| 60/60 [00:00<00:00, 258.31it/s]\n"
     ]
    },
    {
     "name": "stdout",
     "output_type": "stream",
     "text": [
      "[MoviePy] Done.\n",
      "[MoviePy] >>>> Video ready: ./clip/6H4VsHbynQc__328__330.mp4 \n",
      "\n",
      "[MoviePy] >>>> Building video ./clip/6H4VsHbynQc__330__332.mp4\n",
      "[MoviePy] Writing audio in 6H4VsHbynQc__330__332TEMP_MPY_wvf_snd.mp4\n"
     ]
    },
    {
     "name": "stderr",
     "output_type": "stream",
     "text": [
      "100%|██████████| 45/45 [00:00<00:00, 201.67it/s]"
     ]
    },
    {
     "name": "stdout",
     "output_type": "stream",
     "text": [
      "[MoviePy] Done.\n",
      "[MoviePy] Writing video ./clip/6H4VsHbynQc__330__332.mp4\n"
     ]
    },
    {
     "name": "stderr",
     "output_type": "stream",
     "text": [
      "\n",
      "100%|██████████| 60/60 [00:00<00:00, 286.77it/s]\n"
     ]
    },
    {
     "name": "stdout",
     "output_type": "stream",
     "text": [
      "[MoviePy] Done.\n",
      "[MoviePy] >>>> Video ready: ./clip/6H4VsHbynQc__330__332.mp4 \n",
      "\n",
      "[MoviePy] >>>> Building video ./clip/6H4VsHbynQc__332__334.mp4\n",
      "[MoviePy] Writing audio in 6H4VsHbynQc__332__334TEMP_MPY_wvf_snd.mp4\n"
     ]
    },
    {
     "name": "stderr",
     "output_type": "stream",
     "text": [
      "100%|██████████| 45/45 [00:00<00:00, 200.11it/s]"
     ]
    },
    {
     "name": "stdout",
     "output_type": "stream",
     "text": [
      "[MoviePy] Done.\n",
      "[MoviePy] Writing video ./clip/6H4VsHbynQc__332__334.mp4\n"
     ]
    },
    {
     "name": "stderr",
     "output_type": "stream",
     "text": [
      "\n",
      "100%|██████████| 60/60 [00:00<00:00, 256.72it/s]\n"
     ]
    },
    {
     "name": "stdout",
     "output_type": "stream",
     "text": [
      "[MoviePy] Done.\n",
      "[MoviePy] >>>> Video ready: ./clip/6H4VsHbynQc__332__334.mp4 \n",
      "\n",
      "[MoviePy] >>>> Building video ./clip/6H4VsHbynQc__334__336.mp4\n",
      "[MoviePy] Writing audio in 6H4VsHbynQc__334__336TEMP_MPY_wvf_snd.mp4\n"
     ]
    },
    {
     "name": "stderr",
     "output_type": "stream",
     "text": [
      "100%|██████████| 45/45 [00:00<00:00, 196.66it/s]"
     ]
    },
    {
     "name": "stdout",
     "output_type": "stream",
     "text": [
      "[MoviePy] Done.\n",
      "[MoviePy] Writing video ./clip/6H4VsHbynQc__334__336.mp4\n"
     ]
    },
    {
     "name": "stderr",
     "output_type": "stream",
     "text": [
      "\n",
      "100%|██████████| 60/60 [00:00<00:00, 294.72it/s]\n"
     ]
    },
    {
     "name": "stdout",
     "output_type": "stream",
     "text": [
      "[MoviePy] Done.\n",
      "[MoviePy] >>>> Video ready: ./clip/6H4VsHbynQc__334__336.mp4 \n",
      "\n",
      "[MoviePy] >>>> Building video ./clip/6H4VsHbynQc__336__338.mp4\n",
      "[MoviePy] Writing audio in 6H4VsHbynQc__336__338TEMP_MPY_wvf_snd.mp4\n"
     ]
    },
    {
     "name": "stderr",
     "output_type": "stream",
     "text": [
      "100%|██████████| 45/45 [00:00<00:00, 192.24it/s]"
     ]
    },
    {
     "name": "stdout",
     "output_type": "stream",
     "text": [
      "[MoviePy] Done.\n",
      "[MoviePy] Writing video ./clip/6H4VsHbynQc__336__338.mp4\n"
     ]
    },
    {
     "name": "stderr",
     "output_type": "stream",
     "text": [
      "\n",
      "100%|██████████| 60/60 [00:00<00:00, 267.16it/s]\n"
     ]
    },
    {
     "name": "stdout",
     "output_type": "stream",
     "text": [
      "[MoviePy] Done.\n",
      "[MoviePy] >>>> Video ready: ./clip/6H4VsHbynQc__336__338.mp4 \n",
      "\n",
      "[MoviePy] >>>> Building video ./clip/6H4VsHbynQc__338__340.mp4\n",
      "[MoviePy] Writing audio in 6H4VsHbynQc__338__340TEMP_MPY_wvf_snd.mp4\n"
     ]
    },
    {
     "name": "stderr",
     "output_type": "stream",
     "text": [
      "100%|██████████| 45/45 [00:00<00:00, 202.67it/s]"
     ]
    },
    {
     "name": "stdout",
     "output_type": "stream",
     "text": [
      "[MoviePy] Done.\n",
      "[MoviePy] Writing video ./clip/6H4VsHbynQc__338__340.mp4\n"
     ]
    },
    {
     "name": "stderr",
     "output_type": "stream",
     "text": [
      "\n",
      "100%|██████████| 60/60 [00:00<00:00, 311.35it/s]\n"
     ]
    },
    {
     "name": "stdout",
     "output_type": "stream",
     "text": [
      "[MoviePy] Done.\n",
      "[MoviePy] >>>> Video ready: ./clip/6H4VsHbynQc__338__340.mp4 \n",
      "\n",
      "[MoviePy] >>>> Building video ./clip/6H4VsHbynQc__340__342.mp4\n",
      "[MoviePy] Writing audio in 6H4VsHbynQc__340__342TEMP_MPY_wvf_snd.mp4\n"
     ]
    },
    {
     "name": "stderr",
     "output_type": "stream",
     "text": [
      "100%|██████████| 45/45 [00:00<00:00, 212.08it/s]"
     ]
    },
    {
     "name": "stdout",
     "output_type": "stream",
     "text": [
      "[MoviePy] Done.\n",
      "[MoviePy] Writing video ./clip/6H4VsHbynQc__340__342.mp4\n"
     ]
    },
    {
     "name": "stderr",
     "output_type": "stream",
     "text": [
      "\n",
      "100%|██████████| 60/60 [00:00<00:00, 302.86it/s]\n"
     ]
    },
    {
     "name": "stdout",
     "output_type": "stream",
     "text": [
      "[MoviePy] Done.\n",
      "[MoviePy] >>>> Video ready: ./clip/6H4VsHbynQc__340__342.mp4 \n",
      "\n",
      "[MoviePy] >>>> Building video ./clip/6H4VsHbynQc__342__344.mp4\n",
      "[MoviePy] Writing audio in 6H4VsHbynQc__342__344TEMP_MPY_wvf_snd.mp4\n"
     ]
    },
    {
     "name": "stderr",
     "output_type": "stream",
     "text": [
      "100%|██████████| 45/45 [00:00<00:00, 201.56it/s]"
     ]
    },
    {
     "name": "stdout",
     "output_type": "stream",
     "text": [
      "[MoviePy] Done.\n",
      "[MoviePy] Writing video ./clip/6H4VsHbynQc__342__344.mp4\n"
     ]
    },
    {
     "name": "stderr",
     "output_type": "stream",
     "text": [
      "\n",
      "100%|██████████| 60/60 [00:00<00:00, 301.67it/s]\n"
     ]
    },
    {
     "name": "stdout",
     "output_type": "stream",
     "text": [
      "[MoviePy] Done.\n",
      "[MoviePy] >>>> Video ready: ./clip/6H4VsHbynQc__342__344.mp4 \n",
      "\n",
      "[MoviePy] >>>> Building video ./clip/6H4VsHbynQc__344__346.mp4\n",
      "[MoviePy] Writing audio in 6H4VsHbynQc__344__346TEMP_MPY_wvf_snd.mp4\n"
     ]
    },
    {
     "name": "stderr",
     "output_type": "stream",
     "text": [
      "100%|██████████| 45/45 [00:00<00:00, 208.78it/s]"
     ]
    },
    {
     "name": "stdout",
     "output_type": "stream",
     "text": [
      "[MoviePy] Done.\n",
      "[MoviePy] Writing video ./clip/6H4VsHbynQc__344__346.mp4\n"
     ]
    },
    {
     "name": "stderr",
     "output_type": "stream",
     "text": [
      "\n",
      "100%|██████████| 60/60 [00:00<00:00, 337.78it/s]\n"
     ]
    },
    {
     "name": "stdout",
     "output_type": "stream",
     "text": [
      "[MoviePy] Done.\n",
      "[MoviePy] >>>> Video ready: ./clip/6H4VsHbynQc__344__346.mp4 \n",
      "\n",
      "[MoviePy] >>>> Building video ./clip/6H4VsHbynQc__346__348.mp4\n",
      "[MoviePy] Writing audio in 6H4VsHbynQc__346__348TEMP_MPY_wvf_snd.mp4\n"
     ]
    },
    {
     "name": "stderr",
     "output_type": "stream",
     "text": [
      "100%|██████████| 45/45 [00:00<00:00, 192.83it/s]"
     ]
    },
    {
     "name": "stdout",
     "output_type": "stream",
     "text": [
      "[MoviePy] Done.\n",
      "[MoviePy] Writing video ./clip/6H4VsHbynQc__346__348.mp4\n"
     ]
    },
    {
     "name": "stderr",
     "output_type": "stream",
     "text": [
      "\n",
      "100%|██████████| 60/60 [00:00<00:00, 325.89it/s]\n"
     ]
    },
    {
     "name": "stdout",
     "output_type": "stream",
     "text": [
      "[MoviePy] Done.\n",
      "[MoviePy] >>>> Video ready: ./clip/6H4VsHbynQc__346__348.mp4 \n",
      "\n",
      "[MoviePy] >>>> Building video ./clip/6H4VsHbynQc__348__350.mp4\n",
      "[MoviePy] Writing audio in 6H4VsHbynQc__348__350TEMP_MPY_wvf_snd.mp4\n"
     ]
    },
    {
     "name": "stderr",
     "output_type": "stream",
     "text": [
      "100%|██████████| 45/45 [00:00<00:00, 197.48it/s]"
     ]
    },
    {
     "name": "stdout",
     "output_type": "stream",
     "text": [
      "[MoviePy] Done.\n",
      "[MoviePy] Writing video ./clip/6H4VsHbynQc__348__350.mp4\n"
     ]
    },
    {
     "name": "stderr",
     "output_type": "stream",
     "text": [
      "\n",
      "100%|██████████| 60/60 [00:00<00:00, 318.32it/s]\n"
     ]
    },
    {
     "name": "stdout",
     "output_type": "stream",
     "text": [
      "[MoviePy] Done.\n",
      "[MoviePy] >>>> Video ready: ./clip/6H4VsHbynQc__348__350.mp4 \n",
      "\n",
      "[MoviePy] >>>> Building video ./clip/6H4VsHbynQc__350__352.mp4\n",
      "[MoviePy] Writing audio in 6H4VsHbynQc__350__352TEMP_MPY_wvf_snd.mp4\n"
     ]
    },
    {
     "name": "stderr",
     "output_type": "stream",
     "text": [
      "100%|██████████| 45/45 [00:00<00:00, 213.52it/s]"
     ]
    },
    {
     "name": "stdout",
     "output_type": "stream",
     "text": [
      "[MoviePy] Done.\n",
      "[MoviePy] Writing video ./clip/6H4VsHbynQc__350__352.mp4\n"
     ]
    },
    {
     "name": "stderr",
     "output_type": "stream",
     "text": [
      "\n",
      "100%|██████████| 60/60 [00:00<00:00, 294.85it/s]\n"
     ]
    },
    {
     "name": "stdout",
     "output_type": "stream",
     "text": [
      "[MoviePy] Done.\n",
      "[MoviePy] >>>> Video ready: ./clip/6H4VsHbynQc__350__352.mp4 \n",
      "\n",
      "[MoviePy] >>>> Building video ./clip/6H4VsHbynQc__352__354.mp4\n",
      "[MoviePy] Writing audio in 6H4VsHbynQc__352__354TEMP_MPY_wvf_snd.mp4\n"
     ]
    },
    {
     "name": "stderr",
     "output_type": "stream",
     "text": [
      "100%|██████████| 45/45 [00:00<00:00, 201.20it/s]"
     ]
    },
    {
     "name": "stdout",
     "output_type": "stream",
     "text": [
      "[MoviePy] Done.\n",
      "[MoviePy] Writing video ./clip/6H4VsHbynQc__352__354.mp4\n"
     ]
    },
    {
     "name": "stderr",
     "output_type": "stream",
     "text": [
      "\n",
      "100%|██████████| 60/60 [00:00<00:00, 287.53it/s]\n"
     ]
    },
    {
     "name": "stdout",
     "output_type": "stream",
     "text": [
      "[MoviePy] Done.\n",
      "[MoviePy] >>>> Video ready: ./clip/6H4VsHbynQc__352__354.mp4 \n",
      "\n",
      "[MoviePy] >>>> Building video ./clip/6H4VsHbynQc__354__356.mp4\n",
      "[MoviePy] Writing audio in 6H4VsHbynQc__354__356TEMP_MPY_wvf_snd.mp4\n"
     ]
    },
    {
     "name": "stderr",
     "output_type": "stream",
     "text": [
      "100%|██████████| 45/45 [00:00<00:00, 188.71it/s]"
     ]
    },
    {
     "name": "stdout",
     "output_type": "stream",
     "text": [
      "[MoviePy] Done.\n",
      "[MoviePy] Writing video ./clip/6H4VsHbynQc__354__356.mp4\n"
     ]
    },
    {
     "name": "stderr",
     "output_type": "stream",
     "text": [
      "\n",
      "100%|██████████| 60/60 [00:00<00:00, 297.46it/s]\n"
     ]
    },
    {
     "name": "stdout",
     "output_type": "stream",
     "text": [
      "[MoviePy] Done.\n",
      "[MoviePy] >>>> Video ready: ./clip/6H4VsHbynQc__354__356.mp4 \n",
      "\n",
      "[MoviePy] >>>> Building video ./clip/6H4VsHbynQc__356__358.mp4\n",
      "[MoviePy] Writing audio in 6H4VsHbynQc__356__358TEMP_MPY_wvf_snd.mp4\n"
     ]
    },
    {
     "name": "stderr",
     "output_type": "stream",
     "text": [
      "100%|██████████| 45/45 [00:00<00:00, 209.29it/s]"
     ]
    },
    {
     "name": "stdout",
     "output_type": "stream",
     "text": [
      "[MoviePy] Done.\n",
      "[MoviePy] Writing video ./clip/6H4VsHbynQc__356__358.mp4\n"
     ]
    },
    {
     "name": "stderr",
     "output_type": "stream",
     "text": [
      "\n",
      "100%|██████████| 60/60 [00:00<00:00, 311.70it/s]\n"
     ]
    },
    {
     "name": "stdout",
     "output_type": "stream",
     "text": [
      "[MoviePy] Done.\n",
      "[MoviePy] >>>> Video ready: ./clip/6H4VsHbynQc__356__358.mp4 \n",
      "\n",
      "[MoviePy] >>>> Building video ./clip/6H4VsHbynQc__358__360.mp4\n",
      "[MoviePy] Writing audio in 6H4VsHbynQc__358__360TEMP_MPY_wvf_snd.mp4\n"
     ]
    },
    {
     "name": "stderr",
     "output_type": "stream",
     "text": [
      "100%|██████████| 45/45 [00:00<00:00, 198.44it/s]"
     ]
    },
    {
     "name": "stdout",
     "output_type": "stream",
     "text": [
      "[MoviePy] Done.\n",
      "[MoviePy] Writing video ./clip/6H4VsHbynQc__358__360.mp4\n"
     ]
    },
    {
     "name": "stderr",
     "output_type": "stream",
     "text": [
      "\n",
      "100%|██████████| 60/60 [00:00<00:00, 287.66it/s]\n"
     ]
    },
    {
     "name": "stdout",
     "output_type": "stream",
     "text": [
      "[MoviePy] Done.\n",
      "[MoviePy] >>>> Video ready: ./clip/6H4VsHbynQc__358__360.mp4 \n",
      "\n",
      "[MoviePy] >>>> Building video ./clip/6H4VsHbynQc__360__362.mp4\n",
      "[MoviePy] Writing audio in 6H4VsHbynQc__360__362TEMP_MPY_wvf_snd.mp4\n"
     ]
    },
    {
     "name": "stderr",
     "output_type": "stream",
     "text": [
      "100%|██████████| 45/45 [00:00<00:00, 201.02it/s]"
     ]
    },
    {
     "name": "stdout",
     "output_type": "stream",
     "text": [
      "[MoviePy] Done.\n",
      "[MoviePy] Writing video ./clip/6H4VsHbynQc__360__362.mp4\n"
     ]
    },
    {
     "name": "stderr",
     "output_type": "stream",
     "text": [
      "\n",
      "100%|██████████| 60/60 [00:00<00:00, 314.33it/s]\n"
     ]
    },
    {
     "name": "stdout",
     "output_type": "stream",
     "text": [
      "[MoviePy] Done.\n",
      "[MoviePy] >>>> Video ready: ./clip/6H4VsHbynQc__360__362.mp4 \n",
      "\n",
      "[MoviePy] >>>> Building video ./clip/6H4VsHbynQc__362__364.mp4\n",
      "[MoviePy] Writing audio in 6H4VsHbynQc__362__364TEMP_MPY_wvf_snd.mp4\n"
     ]
    },
    {
     "name": "stderr",
     "output_type": "stream",
     "text": [
      "100%|██████████| 45/45 [00:00<00:00, 174.71it/s]"
     ]
    },
    {
     "name": "stdout",
     "output_type": "stream",
     "text": [
      "[MoviePy] Done.\n",
      "[MoviePy] Writing video ./clip/6H4VsHbynQc__362__364.mp4\n"
     ]
    },
    {
     "name": "stderr",
     "output_type": "stream",
     "text": [
      "\n",
      "100%|██████████| 60/60 [00:00<00:00, 277.21it/s]\n"
     ]
    },
    {
     "name": "stdout",
     "output_type": "stream",
     "text": [
      "[MoviePy] Done.\n",
      "[MoviePy] >>>> Video ready: ./clip/6H4VsHbynQc__362__364.mp4 \n",
      "\n",
      "[MoviePy] >>>> Building video ./clip/6H4VsHbynQc__364__366.mp4\n",
      "[MoviePy] Writing audio in 6H4VsHbynQc__364__366TEMP_MPY_wvf_snd.mp4\n"
     ]
    },
    {
     "name": "stderr",
     "output_type": "stream",
     "text": [
      "100%|██████████| 45/45 [00:00<00:00, 199.99it/s]"
     ]
    },
    {
     "name": "stdout",
     "output_type": "stream",
     "text": [
      "[MoviePy] Done.\n",
      "[MoviePy] Writing video ./clip/6H4VsHbynQc__364__366.mp4\n"
     ]
    },
    {
     "name": "stderr",
     "output_type": "stream",
     "text": [
      "\n",
      "100%|██████████| 60/60 [00:00<00:00, 294.81it/s]\n"
     ]
    },
    {
     "name": "stdout",
     "output_type": "stream",
     "text": [
      "[MoviePy] Done.\n",
      "[MoviePy] >>>> Video ready: ./clip/6H4VsHbynQc__364__366.mp4 \n",
      "\n",
      "[MoviePy] >>>> Building video ./clip/6H4VsHbynQc__366__368.mp4\n",
      "[MoviePy] Writing audio in 6H4VsHbynQc__366__368TEMP_MPY_wvf_snd.mp4\n"
     ]
    },
    {
     "name": "stderr",
     "output_type": "stream",
     "text": [
      "100%|██████████| 45/45 [00:00<00:00, 176.52it/s]"
     ]
    },
    {
     "name": "stdout",
     "output_type": "stream",
     "text": [
      "[MoviePy] Done.\n",
      "[MoviePy] Writing video ./clip/6H4VsHbynQc__366__368.mp4\n"
     ]
    },
    {
     "name": "stderr",
     "output_type": "stream",
     "text": [
      "\n",
      "100%|██████████| 60/60 [00:00<00:00, 286.64it/s]\n"
     ]
    },
    {
     "name": "stdout",
     "output_type": "stream",
     "text": [
      "[MoviePy] Done.\n",
      "[MoviePy] >>>> Video ready: ./clip/6H4VsHbynQc__366__368.mp4 \n",
      "\n",
      "[MoviePy] >>>> Building video ./clip/6H4VsHbynQc__368__370.mp4\n",
      "[MoviePy] Writing audio in 6H4VsHbynQc__368__370TEMP_MPY_wvf_snd.mp4\n"
     ]
    },
    {
     "name": "stderr",
     "output_type": "stream",
     "text": [
      "100%|██████████| 45/45 [00:00<00:00, 173.05it/s]"
     ]
    },
    {
     "name": "stdout",
     "output_type": "stream",
     "text": [
      "[MoviePy] Done.\n",
      "[MoviePy] Writing video ./clip/6H4VsHbynQc__368__370.mp4\n"
     ]
    },
    {
     "name": "stderr",
     "output_type": "stream",
     "text": [
      "\n",
      "100%|██████████| 60/60 [00:00<00:00, 305.42it/s]\n"
     ]
    },
    {
     "name": "stdout",
     "output_type": "stream",
     "text": [
      "[MoviePy] Done.\n",
      "[MoviePy] >>>> Video ready: ./clip/6H4VsHbynQc__368__370.mp4 \n",
      "\n",
      "[MoviePy] >>>> Building video ./clip/6H4VsHbynQc__370__372.mp4\n",
      "[MoviePy] Writing audio in 6H4VsHbynQc__370__372TEMP_MPY_wvf_snd.mp4\n"
     ]
    },
    {
     "name": "stderr",
     "output_type": "stream",
     "text": [
      "100%|██████████| 45/45 [00:00<00:00, 213.61it/s]"
     ]
    },
    {
     "name": "stdout",
     "output_type": "stream",
     "text": [
      "[MoviePy] Done.\n",
      "[MoviePy] Writing video ./clip/6H4VsHbynQc__370__372.mp4\n"
     ]
    },
    {
     "name": "stderr",
     "output_type": "stream",
     "text": [
      "\n",
      "100%|██████████| 60/60 [00:00<00:00, 287.15it/s]\n"
     ]
    },
    {
     "name": "stdout",
     "output_type": "stream",
     "text": [
      "[MoviePy] Done.\n",
      "[MoviePy] >>>> Video ready: ./clip/6H4VsHbynQc__370__372.mp4 \n",
      "\n",
      "[MoviePy] >>>> Building video ./clip/6H4VsHbynQc__372__374.mp4\n",
      "[MoviePy] Writing audio in 6H4VsHbynQc__372__374TEMP_MPY_wvf_snd.mp4\n"
     ]
    },
    {
     "name": "stderr",
     "output_type": "stream",
     "text": [
      "100%|██████████| 45/45 [00:00<00:00, 202.75it/s]"
     ]
    },
    {
     "name": "stdout",
     "output_type": "stream",
     "text": [
      "[MoviePy] Done.\n",
      "[MoviePy] Writing video ./clip/6H4VsHbynQc__372__374.mp4\n"
     ]
    },
    {
     "name": "stderr",
     "output_type": "stream",
     "text": [
      "\n",
      "100%|██████████| 60/60 [00:00<00:00, 272.72it/s]\n"
     ]
    },
    {
     "name": "stdout",
     "output_type": "stream",
     "text": [
      "[MoviePy] Done.\n",
      "[MoviePy] >>>> Video ready: ./clip/6H4VsHbynQc__372__374.mp4 \n",
      "\n",
      "[MoviePy] >>>> Building video ./clip/6H4VsHbynQc__374__376.mp4\n",
      "[MoviePy] Writing audio in 6H4VsHbynQc__374__376TEMP_MPY_wvf_snd.mp4\n"
     ]
    },
    {
     "name": "stderr",
     "output_type": "stream",
     "text": [
      "100%|██████████| 45/45 [00:00<00:00, 178.97it/s]"
     ]
    },
    {
     "name": "stdout",
     "output_type": "stream",
     "text": [
      "[MoviePy] Done.\n",
      "[MoviePy] Writing video ./clip/6H4VsHbynQc__374__376.mp4\n"
     ]
    },
    {
     "name": "stderr",
     "output_type": "stream",
     "text": [
      "\n",
      "100%|██████████| 60/60 [00:00<00:00, 271.82it/s]\n"
     ]
    },
    {
     "name": "stdout",
     "output_type": "stream",
     "text": [
      "[MoviePy] Done.\n",
      "[MoviePy] >>>> Video ready: ./clip/6H4VsHbynQc__374__376.mp4 \n",
      "\n",
      "[MoviePy] >>>> Building video ./clip/6H4VsHbynQc__376__378.mp4\n",
      "[MoviePy] Writing audio in 6H4VsHbynQc__376__378TEMP_MPY_wvf_snd.mp4\n"
     ]
    },
    {
     "name": "stderr",
     "output_type": "stream",
     "text": [
      "100%|██████████| 45/45 [00:00<00:00, 193.05it/s]"
     ]
    },
    {
     "name": "stdout",
     "output_type": "stream",
     "text": [
      "[MoviePy] Done.\n",
      "[MoviePy] Writing video ./clip/6H4VsHbynQc__376__378.mp4\n"
     ]
    },
    {
     "name": "stderr",
     "output_type": "stream",
     "text": [
      "\n",
      "100%|██████████| 60/60 [00:00<00:00, 268.16it/s]\n"
     ]
    },
    {
     "name": "stdout",
     "output_type": "stream",
     "text": [
      "[MoviePy] Done.\n",
      "[MoviePy] >>>> Video ready: ./clip/6H4VsHbynQc__376__378.mp4 \n",
      "\n",
      "[MoviePy] >>>> Building video ./clip/6H4VsHbynQc__378__380.mp4\n",
      "[MoviePy] Writing audio in 6H4VsHbynQc__378__380TEMP_MPY_wvf_snd.mp4\n"
     ]
    },
    {
     "name": "stderr",
     "output_type": "stream",
     "text": [
      "100%|██████████| 45/45 [00:00<00:00, 186.23it/s]"
     ]
    },
    {
     "name": "stdout",
     "output_type": "stream",
     "text": [
      "[MoviePy] Done.\n",
      "[MoviePy] Writing video ./clip/6H4VsHbynQc__378__380.mp4\n"
     ]
    },
    {
     "name": "stderr",
     "output_type": "stream",
     "text": [
      "\n",
      "100%|██████████| 60/60 [00:00<00:00, 283.88it/s]\n"
     ]
    },
    {
     "name": "stdout",
     "output_type": "stream",
     "text": [
      "[MoviePy] Done.\n",
      "[MoviePy] >>>> Video ready: ./clip/6H4VsHbynQc__378__380.mp4 \n",
      "\n",
      "[MoviePy] >>>> Building video ./clip/6H4VsHbynQc__380__382.mp4\n",
      "[MoviePy] Writing audio in 6H4VsHbynQc__380__382TEMP_MPY_wvf_snd.mp4\n"
     ]
    },
    {
     "name": "stderr",
     "output_type": "stream",
     "text": [
      "100%|██████████| 45/45 [00:00<00:00, 202.30it/s]"
     ]
    },
    {
     "name": "stdout",
     "output_type": "stream",
     "text": [
      "[MoviePy] Done.\n",
      "[MoviePy] Writing video ./clip/6H4VsHbynQc__380__382.mp4\n"
     ]
    },
    {
     "name": "stderr",
     "output_type": "stream",
     "text": [
      "\n",
      "100%|██████████| 60/60 [00:00<00:00, 310.22it/s]\n"
     ]
    },
    {
     "name": "stdout",
     "output_type": "stream",
     "text": [
      "[MoviePy] Done.\n",
      "[MoviePy] >>>> Video ready: ./clip/6H4VsHbynQc__380__382.mp4 \n",
      "\n",
      "[MoviePy] >>>> Building video ./clip/6H4VsHbynQc__382__384.mp4\n",
      "[MoviePy] Writing audio in 6H4VsHbynQc__382__384TEMP_MPY_wvf_snd.mp4\n"
     ]
    },
    {
     "name": "stderr",
     "output_type": "stream",
     "text": [
      "100%|██████████| 45/45 [00:00<00:00, 200.58it/s]"
     ]
    },
    {
     "name": "stdout",
     "output_type": "stream",
     "text": [
      "[MoviePy] Done.\n",
      "[MoviePy] Writing video ./clip/6H4VsHbynQc__382__384.mp4\n"
     ]
    },
    {
     "name": "stderr",
     "output_type": "stream",
     "text": [
      "\n",
      "100%|██████████| 60/60 [00:00<00:00, 284.91it/s]\n"
     ]
    },
    {
     "name": "stdout",
     "output_type": "stream",
     "text": [
      "[MoviePy] Done.\n",
      "[MoviePy] >>>> Video ready: ./clip/6H4VsHbynQc__382__384.mp4 \n",
      "\n",
      "[MoviePy] >>>> Building video ./clip/6H4VsHbynQc__384__386.mp4\n",
      "[MoviePy] Writing audio in 6H4VsHbynQc__384__386TEMP_MPY_wvf_snd.mp4\n"
     ]
    },
    {
     "name": "stderr",
     "output_type": "stream",
     "text": [
      "100%|██████████| 45/45 [00:00<00:00, 202.03it/s]"
     ]
    },
    {
     "name": "stdout",
     "output_type": "stream",
     "text": [
      "[MoviePy] Done.\n",
      "[MoviePy] Writing video ./clip/6H4VsHbynQc__384__386.mp4\n"
     ]
    },
    {
     "name": "stderr",
     "output_type": "stream",
     "text": [
      "\n",
      "100%|██████████| 60/60 [00:00<00:00, 312.58it/s]\n"
     ]
    },
    {
     "name": "stdout",
     "output_type": "stream",
     "text": [
      "[MoviePy] Done.\n",
      "[MoviePy] >>>> Video ready: ./clip/6H4VsHbynQc__384__386.mp4 \n",
      "\n",
      "[MoviePy] >>>> Building video ./clip/6H4VsHbynQc__386__388.mp4\n",
      "[MoviePy] Writing audio in 6H4VsHbynQc__386__388TEMP_MPY_wvf_snd.mp4\n"
     ]
    },
    {
     "name": "stderr",
     "output_type": "stream",
     "text": [
      "100%|██████████| 45/45 [00:00<00:00, 210.53it/s]"
     ]
    },
    {
     "name": "stdout",
     "output_type": "stream",
     "text": [
      "[MoviePy] Done.\n",
      "[MoviePy] Writing video ./clip/6H4VsHbynQc__386__388.mp4\n"
     ]
    },
    {
     "name": "stderr",
     "output_type": "stream",
     "text": [
      "\n",
      "100%|██████████| 60/60 [00:00<00:00, 292.56it/s]\n"
     ]
    },
    {
     "name": "stdout",
     "output_type": "stream",
     "text": [
      "[MoviePy] Done.\n",
      "[MoviePy] >>>> Video ready: ./clip/6H4VsHbynQc__386__388.mp4 \n",
      "\n",
      "[MoviePy] >>>> Building video ./clip/6H4VsHbynQc__388__390.mp4\n",
      "[MoviePy] Writing audio in 6H4VsHbynQc__388__390TEMP_MPY_wvf_snd.mp4\n"
     ]
    },
    {
     "name": "stderr",
     "output_type": "stream",
     "text": [
      "100%|██████████| 45/45 [00:00<00:00, 188.63it/s]"
     ]
    },
    {
     "name": "stdout",
     "output_type": "stream",
     "text": [
      "[MoviePy] Done.\n",
      "[MoviePy] Writing video ./clip/6H4VsHbynQc__388__390.mp4\n"
     ]
    },
    {
     "name": "stderr",
     "output_type": "stream",
     "text": [
      "\n",
      "100%|██████████| 60/60 [00:00<00:00, 299.55it/s]\n"
     ]
    },
    {
     "name": "stdout",
     "output_type": "stream",
     "text": [
      "[MoviePy] Done.\n",
      "[MoviePy] >>>> Video ready: ./clip/6H4VsHbynQc__388__390.mp4 \n",
      "\n",
      "[MoviePy] >>>> Building video ./clip/6H4VsHbynQc__390__392.mp4\n",
      "[MoviePy] Writing audio in 6H4VsHbynQc__390__392TEMP_MPY_wvf_snd.mp4\n"
     ]
    },
    {
     "name": "stderr",
     "output_type": "stream",
     "text": [
      "100%|██████████| 45/45 [00:00<00:00, 206.76it/s]"
     ]
    },
    {
     "name": "stdout",
     "output_type": "stream",
     "text": [
      "[MoviePy] Done.\n",
      "[MoviePy] Writing video ./clip/6H4VsHbynQc__390__392.mp4\n"
     ]
    },
    {
     "name": "stderr",
     "output_type": "stream",
     "text": [
      "\n",
      "100%|██████████| 60/60 [00:00<00:00, 299.71it/s]\n"
     ]
    },
    {
     "name": "stdout",
     "output_type": "stream",
     "text": [
      "[MoviePy] Done.\n",
      "[MoviePy] >>>> Video ready: ./clip/6H4VsHbynQc__390__392.mp4 \n",
      "\n",
      "[MoviePy] >>>> Building video ./clip/6H4VsHbynQc__392__394.mp4\n",
      "[MoviePy] Writing audio in 6H4VsHbynQc__392__394TEMP_MPY_wvf_snd.mp4\n"
     ]
    },
    {
     "name": "stderr",
     "output_type": "stream",
     "text": [
      "100%|██████████| 45/45 [00:00<00:00, 195.62it/s]"
     ]
    },
    {
     "name": "stdout",
     "output_type": "stream",
     "text": [
      "[MoviePy] Done.\n",
      "[MoviePy] Writing video ./clip/6H4VsHbynQc__392__394.mp4\n"
     ]
    },
    {
     "name": "stderr",
     "output_type": "stream",
     "text": [
      "\n",
      "100%|██████████| 60/60 [00:00<00:00, 278.87it/s]\n"
     ]
    },
    {
     "name": "stdout",
     "output_type": "stream",
     "text": [
      "[MoviePy] Done.\n",
      "[MoviePy] >>>> Video ready: ./clip/6H4VsHbynQc__392__394.mp4 \n",
      "\n",
      "[MoviePy] >>>> Building video ./clip/6H4VsHbynQc__394__396.mp4\n",
      "[MoviePy] Writing audio in 6H4VsHbynQc__394__396TEMP_MPY_wvf_snd.mp4\n"
     ]
    },
    {
     "name": "stderr",
     "output_type": "stream",
     "text": [
      "100%|██████████| 45/45 [00:00<00:00, 202.16it/s]"
     ]
    },
    {
     "name": "stdout",
     "output_type": "stream",
     "text": [
      "[MoviePy] Done.\n",
      "[MoviePy] Writing video ./clip/6H4VsHbynQc__394__396.mp4\n"
     ]
    },
    {
     "name": "stderr",
     "output_type": "stream",
     "text": [
      "\n",
      "100%|██████████| 60/60 [00:00<00:00, 313.94it/s]\n"
     ]
    },
    {
     "name": "stdout",
     "output_type": "stream",
     "text": [
      "[MoviePy] Done.\n",
      "[MoviePy] >>>> Video ready: ./clip/6H4VsHbynQc__394__396.mp4 \n",
      "\n",
      "[MoviePy] >>>> Building video ./clip/6H4VsHbynQc__396__398.mp4\n",
      "[MoviePy] Writing audio in 6H4VsHbynQc__396__398TEMP_MPY_wvf_snd.mp4\n"
     ]
    },
    {
     "name": "stderr",
     "output_type": "stream",
     "text": [
      "100%|██████████| 45/45 [00:00<00:00, 192.77it/s]"
     ]
    },
    {
     "name": "stdout",
     "output_type": "stream",
     "text": [
      "[MoviePy] Done.\n",
      "[MoviePy] Writing video ./clip/6H4VsHbynQc__396__398.mp4\n"
     ]
    },
    {
     "name": "stderr",
     "output_type": "stream",
     "text": [
      "\n",
      "100%|██████████| 60/60 [00:00<00:00, 298.60it/s]\n"
     ]
    },
    {
     "name": "stdout",
     "output_type": "stream",
     "text": [
      "[MoviePy] Done.\n",
      "[MoviePy] >>>> Video ready: ./clip/6H4VsHbynQc__396__398.mp4 \n",
      "\n",
      "[MoviePy] >>>> Building video ./clip/6H4VsHbynQc__398__400.mp4\n",
      "[MoviePy] Writing audio in 6H4VsHbynQc__398__400TEMP_MPY_wvf_snd.mp4\n"
     ]
    },
    {
     "name": "stderr",
     "output_type": "stream",
     "text": [
      "100%|██████████| 45/45 [00:00<00:00, 199.75it/s]"
     ]
    },
    {
     "name": "stdout",
     "output_type": "stream",
     "text": [
      "[MoviePy] Done.\n",
      "[MoviePy] Writing video ./clip/6H4VsHbynQc__398__400.mp4\n"
     ]
    },
    {
     "name": "stderr",
     "output_type": "stream",
     "text": [
      "\n",
      "100%|██████████| 60/60 [00:00<00:00, 313.91it/s]\n"
     ]
    },
    {
     "name": "stdout",
     "output_type": "stream",
     "text": [
      "[MoviePy] Done.\n",
      "[MoviePy] >>>> Video ready: ./clip/6H4VsHbynQc__398__400.mp4 \n",
      "\n",
      "[MoviePy] >>>> Building video ./clip/6H4VsHbynQc__400__402.mp4\n",
      "[MoviePy] Writing audio in 6H4VsHbynQc__400__402TEMP_MPY_wvf_snd.mp4\n"
     ]
    },
    {
     "name": "stderr",
     "output_type": "stream",
     "text": [
      "100%|██████████| 45/45 [00:00<00:00, 202.76it/s]"
     ]
    },
    {
     "name": "stdout",
     "output_type": "stream",
     "text": [
      "[MoviePy] Done.\n",
      "[MoviePy] Writing video ./clip/6H4VsHbynQc__400__402.mp4\n"
     ]
    },
    {
     "name": "stderr",
     "output_type": "stream",
     "text": [
      "\n",
      "100%|██████████| 60/60 [00:00<00:00, 307.43it/s]\n"
     ]
    },
    {
     "name": "stdout",
     "output_type": "stream",
     "text": [
      "[MoviePy] Done.\n",
      "[MoviePy] >>>> Video ready: ./clip/6H4VsHbynQc__400__402.mp4 \n",
      "\n",
      "[MoviePy] >>>> Building video ./clip/6H4VsHbynQc__402__404.mp4\n",
      "[MoviePy] Writing audio in 6H4VsHbynQc__402__404TEMP_MPY_wvf_snd.mp4\n"
     ]
    },
    {
     "name": "stderr",
     "output_type": "stream",
     "text": [
      "100%|██████████| 45/45 [00:00<00:00, 193.64it/s]"
     ]
    },
    {
     "name": "stdout",
     "output_type": "stream",
     "text": [
      "[MoviePy] Done.\n",
      "[MoviePy] Writing video ./clip/6H4VsHbynQc__402__404.mp4\n"
     ]
    },
    {
     "name": "stderr",
     "output_type": "stream",
     "text": [
      "\n",
      "100%|██████████| 60/60 [00:00<00:00, 310.46it/s]\n"
     ]
    },
    {
     "name": "stdout",
     "output_type": "stream",
     "text": [
      "[MoviePy] Done.\n",
      "[MoviePy] >>>> Video ready: ./clip/6H4VsHbynQc__402__404.mp4 \n",
      "\n",
      "[MoviePy] >>>> Building video ./clip/6H4VsHbynQc__404__406.mp4\n",
      "[MoviePy] Writing audio in 6H4VsHbynQc__404__406TEMP_MPY_wvf_snd.mp4\n"
     ]
    },
    {
     "name": "stderr",
     "output_type": "stream",
     "text": [
      "100%|██████████| 45/45 [00:00<00:00, 207.09it/s]"
     ]
    },
    {
     "name": "stdout",
     "output_type": "stream",
     "text": [
      "[MoviePy] Done.\n",
      "[MoviePy] Writing video ./clip/6H4VsHbynQc__404__406.mp4\n"
     ]
    },
    {
     "name": "stderr",
     "output_type": "stream",
     "text": [
      "\n",
      "100%|██████████| 60/60 [00:00<00:00, 271.26it/s]\n"
     ]
    },
    {
     "name": "stdout",
     "output_type": "stream",
     "text": [
      "[MoviePy] Done.\n",
      "[MoviePy] >>>> Video ready: ./clip/6H4VsHbynQc__404__406.mp4 \n",
      "\n",
      "[MoviePy] >>>> Building video ./clip/6H4VsHbynQc__406__408.mp4\n",
      "[MoviePy] Writing audio in 6H4VsHbynQc__406__408TEMP_MPY_wvf_snd.mp4\n"
     ]
    },
    {
     "name": "stderr",
     "output_type": "stream",
     "text": [
      "100%|██████████| 45/45 [00:00<00:00, 195.55it/s]"
     ]
    },
    {
     "name": "stdout",
     "output_type": "stream",
     "text": [
      "[MoviePy] Done.\n",
      "[MoviePy] Writing video ./clip/6H4VsHbynQc__406__408.mp4\n"
     ]
    },
    {
     "name": "stderr",
     "output_type": "stream",
     "text": [
      "\n",
      "100%|██████████| 60/60 [00:00<00:00, 293.00it/s]\n"
     ]
    },
    {
     "name": "stdout",
     "output_type": "stream",
     "text": [
      "[MoviePy] Done.\n",
      "[MoviePy] >>>> Video ready: ./clip/6H4VsHbynQc__406__408.mp4 \n",
      "\n",
      "[MoviePy] >>>> Building video ./clip/6H4VsHbynQc__408__410.mp4\n",
      "[MoviePy] Writing audio in 6H4VsHbynQc__408__410TEMP_MPY_wvf_snd.mp4\n"
     ]
    },
    {
     "name": "stderr",
     "output_type": "stream",
     "text": [
      "100%|██████████| 45/45 [00:00<00:00, 203.02it/s]"
     ]
    },
    {
     "name": "stdout",
     "output_type": "stream",
     "text": [
      "[MoviePy] Done.\n",
      "[MoviePy] Writing video ./clip/6H4VsHbynQc__408__410.mp4\n"
     ]
    },
    {
     "name": "stderr",
     "output_type": "stream",
     "text": [
      "\n",
      "100%|██████████| 60/60 [00:00<00:00, 311.20it/s]\n"
     ]
    },
    {
     "name": "stdout",
     "output_type": "stream",
     "text": [
      "[MoviePy] Done.\n",
      "[MoviePy] >>>> Video ready: ./clip/6H4VsHbynQc__408__410.mp4 \n",
      "\n",
      "[MoviePy] >>>> Building video ./clip/6H4VsHbynQc__410__412.mp4\n",
      "[MoviePy] Writing audio in 6H4VsHbynQc__410__412TEMP_MPY_wvf_snd.mp4\n"
     ]
    },
    {
     "name": "stderr",
     "output_type": "stream",
     "text": [
      "100%|██████████| 45/45 [00:00<00:00, 213.87it/s]"
     ]
    },
    {
     "name": "stdout",
     "output_type": "stream",
     "text": [
      "[MoviePy] Done.\n",
      "[MoviePy] Writing video ./clip/6H4VsHbynQc__410__412.mp4\n"
     ]
    },
    {
     "name": "stderr",
     "output_type": "stream",
     "text": [
      "\n",
      "100%|██████████| 60/60 [00:00<00:00, 311.66it/s]\n"
     ]
    },
    {
     "name": "stdout",
     "output_type": "stream",
     "text": [
      "[MoviePy] Done.\n",
      "[MoviePy] >>>> Video ready: ./clip/6H4VsHbynQc__410__412.mp4 \n",
      "\n",
      "[MoviePy] >>>> Building video ./clip/6H4VsHbynQc__412__414.mp4\n",
      "[MoviePy] Writing audio in 6H4VsHbynQc__412__414TEMP_MPY_wvf_snd.mp4\n"
     ]
    },
    {
     "name": "stderr",
     "output_type": "stream",
     "text": [
      "100%|██████████| 45/45 [00:00<00:00, 227.20it/s]"
     ]
    },
    {
     "name": "stdout",
     "output_type": "stream",
     "text": [
      "[MoviePy] Done.\n",
      "[MoviePy] Writing video ./clip/6H4VsHbynQc__412__414.mp4\n"
     ]
    },
    {
     "name": "stderr",
     "output_type": "stream",
     "text": [
      "\n",
      "100%|██████████| 60/60 [00:00<00:00, 316.40it/s]\n"
     ]
    },
    {
     "name": "stdout",
     "output_type": "stream",
     "text": [
      "[MoviePy] Done.\n",
      "[MoviePy] >>>> Video ready: ./clip/6H4VsHbynQc__412__414.mp4 \n",
      "\n",
      "[MoviePy] >>>> Building video ./clip/6H4VsHbynQc__414__416.mp4\n",
      "[MoviePy] Writing audio in 6H4VsHbynQc__414__416TEMP_MPY_wvf_snd.mp4\n"
     ]
    },
    {
     "name": "stderr",
     "output_type": "stream",
     "text": [
      "100%|██████████| 45/45 [00:00<00:00, 209.07it/s]"
     ]
    },
    {
     "name": "stdout",
     "output_type": "stream",
     "text": [
      "[MoviePy] Done.\n",
      "[MoviePy] Writing video ./clip/6H4VsHbynQc__414__416.mp4\n"
     ]
    },
    {
     "name": "stderr",
     "output_type": "stream",
     "text": [
      "\n",
      "100%|██████████| 60/60 [00:00<00:00, 334.51it/s]\n"
     ]
    },
    {
     "name": "stdout",
     "output_type": "stream",
     "text": [
      "[MoviePy] Done.\n",
      "[MoviePy] >>>> Video ready: ./clip/6H4VsHbynQc__414__416.mp4 \n",
      "\n",
      "[MoviePy] >>>> Building video ./clip/6H4VsHbynQc__416__418.mp4\n",
      "[MoviePy] Writing audio in 6H4VsHbynQc__416__418TEMP_MPY_wvf_snd.mp4\n"
     ]
    },
    {
     "name": "stderr",
     "output_type": "stream",
     "text": [
      "100%|██████████| 45/45 [00:00<00:00, 210.93it/s]"
     ]
    },
    {
     "name": "stdout",
     "output_type": "stream",
     "text": [
      "[MoviePy] Done.\n",
      "[MoviePy] Writing video ./clip/6H4VsHbynQc__416__418.mp4\n"
     ]
    },
    {
     "name": "stderr",
     "output_type": "stream",
     "text": [
      "\n",
      "100%|██████████| 60/60 [00:00<00:00, 324.52it/s]\n"
     ]
    },
    {
     "name": "stdout",
     "output_type": "stream",
     "text": [
      "[MoviePy] Done.\n",
      "[MoviePy] >>>> Video ready: ./clip/6H4VsHbynQc__416__418.mp4 \n",
      "\n",
      "[MoviePy] >>>> Building video ./clip/6H4VsHbynQc__418__420.mp4\n",
      "[MoviePy] Writing audio in 6H4VsHbynQc__418__420TEMP_MPY_wvf_snd.mp4\n"
     ]
    },
    {
     "name": "stderr",
     "output_type": "stream",
     "text": [
      "100%|██████████| 45/45 [00:00<00:00, 197.37it/s]"
     ]
    },
    {
     "name": "stdout",
     "output_type": "stream",
     "text": [
      "[MoviePy] Done.\n",
      "[MoviePy] Writing video ./clip/6H4VsHbynQc__418__420.mp4\n"
     ]
    },
    {
     "name": "stderr",
     "output_type": "stream",
     "text": [
      "\n",
      "100%|██████████| 60/60 [00:00<00:00, 254.42it/s]\n"
     ]
    },
    {
     "name": "stdout",
     "output_type": "stream",
     "text": [
      "[MoviePy] Done.\n",
      "[MoviePy] >>>> Video ready: ./clip/6H4VsHbynQc__418__420.mp4 \n",
      "\n",
      "[MoviePy] >>>> Building video ./clip/6H4VsHbynQc__420__422.mp4\n",
      "[MoviePy] Writing audio in 6H4VsHbynQc__420__422TEMP_MPY_wvf_snd.mp4\n"
     ]
    },
    {
     "name": "stderr",
     "output_type": "stream",
     "text": [
      "100%|██████████| 45/45 [00:00<00:00, 202.61it/s]"
     ]
    },
    {
     "name": "stdout",
     "output_type": "stream",
     "text": [
      "[MoviePy] Done.\n",
      "[MoviePy] Writing video ./clip/6H4VsHbynQc__420__422.mp4\n"
     ]
    },
    {
     "name": "stderr",
     "output_type": "stream",
     "text": [
      "\n",
      "100%|██████████| 60/60 [00:00<00:00, 295.96it/s]\n"
     ]
    },
    {
     "name": "stdout",
     "output_type": "stream",
     "text": [
      "[MoviePy] Done.\n",
      "[MoviePy] >>>> Video ready: ./clip/6H4VsHbynQc__420__422.mp4 \n",
      "\n",
      "[MoviePy] >>>> Building video ./clip/6H4VsHbynQc__422__424.mp4\n",
      "[MoviePy] Writing audio in 6H4VsHbynQc__422__424TEMP_MPY_wvf_snd.mp4\n"
     ]
    },
    {
     "name": "stderr",
     "output_type": "stream",
     "text": [
      "100%|██████████| 45/45 [00:00<00:00, 201.56it/s]"
     ]
    },
    {
     "name": "stdout",
     "output_type": "stream",
     "text": [
      "[MoviePy] Done.\n",
      "[MoviePy] Writing video ./clip/6H4VsHbynQc__422__424.mp4\n"
     ]
    },
    {
     "name": "stderr",
     "output_type": "stream",
     "text": [
      "\n",
      "100%|██████████| 60/60 [00:00<00:00, 329.08it/s]\n"
     ]
    },
    {
     "name": "stdout",
     "output_type": "stream",
     "text": [
      "[MoviePy] Done.\n",
      "[MoviePy] >>>> Video ready: ./clip/6H4VsHbynQc__422__424.mp4 \n",
      "\n",
      "[MoviePy] >>>> Building video ./clip/6H4VsHbynQc__424__426.mp4\n",
      "[MoviePy] Writing audio in 6H4VsHbynQc__424__426TEMP_MPY_wvf_snd.mp4\n"
     ]
    },
    {
     "name": "stderr",
     "output_type": "stream",
     "text": [
      "100%|██████████| 45/45 [00:00<00:00, 186.57it/s]"
     ]
    },
    {
     "name": "stdout",
     "output_type": "stream",
     "text": [
      "[MoviePy] Done.\n",
      "[MoviePy] Writing video ./clip/6H4VsHbynQc__424__426.mp4\n"
     ]
    },
    {
     "name": "stderr",
     "output_type": "stream",
     "text": [
      "\n",
      "100%|██████████| 60/60 [00:00<00:00, 313.44it/s]\n"
     ]
    },
    {
     "name": "stdout",
     "output_type": "stream",
     "text": [
      "[MoviePy] Done.\n",
      "[MoviePy] >>>> Video ready: ./clip/6H4VsHbynQc__424__426.mp4 \n",
      "\n",
      "[MoviePy] >>>> Building video ./clip/6H4VsHbynQc__426__428.mp4\n",
      "[MoviePy] Writing audio in 6H4VsHbynQc__426__428TEMP_MPY_wvf_snd.mp4\n"
     ]
    },
    {
     "name": "stderr",
     "output_type": "stream",
     "text": [
      "100%|██████████| 45/45 [00:00<00:00, 207.20it/s]"
     ]
    },
    {
     "name": "stdout",
     "output_type": "stream",
     "text": [
      "[MoviePy] Done.\n",
      "[MoviePy] Writing video ./clip/6H4VsHbynQc__426__428.mp4\n"
     ]
    },
    {
     "name": "stderr",
     "output_type": "stream",
     "text": [
      "\n",
      "100%|██████████| 60/60 [00:00<00:00, 301.76it/s]\n"
     ]
    },
    {
     "name": "stdout",
     "output_type": "stream",
     "text": [
      "[MoviePy] Done.\n",
      "[MoviePy] >>>> Video ready: ./clip/6H4VsHbynQc__426__428.mp4 \n",
      "\n",
      "[MoviePy] >>>> Building video ./clip/6H4VsHbynQc__428__430.mp4\n",
      "[MoviePy] Writing audio in 6H4VsHbynQc__428__430TEMP_MPY_wvf_snd.mp4\n"
     ]
    },
    {
     "name": "stderr",
     "output_type": "stream",
     "text": [
      "100%|██████████| 45/45 [00:00<00:00, 182.57it/s]"
     ]
    },
    {
     "name": "stdout",
     "output_type": "stream",
     "text": [
      "[MoviePy] Done.\n",
      "[MoviePy] Writing video ./clip/6H4VsHbynQc__428__430.mp4\n"
     ]
    },
    {
     "name": "stderr",
     "output_type": "stream",
     "text": [
      "\n",
      "100%|██████████| 60/60 [00:00<00:00, 311.24it/s]\n"
     ]
    },
    {
     "name": "stdout",
     "output_type": "stream",
     "text": [
      "[MoviePy] Done.\n",
      "[MoviePy] >>>> Video ready: ./clip/6H4VsHbynQc__428__430.mp4 \n",
      "\n",
      "[MoviePy] >>>> Building video ./clip/6H4VsHbynQc__430__432.mp4\n",
      "[MoviePy] Writing audio in 6H4VsHbynQc__430__432TEMP_MPY_wvf_snd.mp4\n"
     ]
    },
    {
     "name": "stderr",
     "output_type": "stream",
     "text": [
      "100%|██████████| 45/45 [00:00<00:00, 211.37it/s]"
     ]
    },
    {
     "name": "stdout",
     "output_type": "stream",
     "text": [
      "[MoviePy] Done.\n",
      "[MoviePy] Writing video ./clip/6H4VsHbynQc__430__432.mp4\n"
     ]
    },
    {
     "name": "stderr",
     "output_type": "stream",
     "text": [
      "\n",
      "100%|██████████| 60/60 [00:00<00:00, 301.55it/s]\n"
     ]
    },
    {
     "name": "stdout",
     "output_type": "stream",
     "text": [
      "[MoviePy] Done.\n",
      "[MoviePy] >>>> Video ready: ./clip/6H4VsHbynQc__430__432.mp4 \n",
      "\n",
      "[MoviePy] >>>> Building video ./clip/6H4VsHbynQc__432__434.mp4\n",
      "[MoviePy] Writing audio in 6H4VsHbynQc__432__434TEMP_MPY_wvf_snd.mp4\n"
     ]
    },
    {
     "name": "stderr",
     "output_type": "stream",
     "text": [
      "100%|██████████| 45/45 [00:00<00:00, 212.35it/s]"
     ]
    },
    {
     "name": "stdout",
     "output_type": "stream",
     "text": [
      "[MoviePy] Done.\n",
      "[MoviePy] Writing video ./clip/6H4VsHbynQc__432__434.mp4\n"
     ]
    },
    {
     "name": "stderr",
     "output_type": "stream",
     "text": [
      "\n",
      "100%|██████████| 60/60 [00:00<00:00, 293.57it/s]\n"
     ]
    },
    {
     "name": "stdout",
     "output_type": "stream",
     "text": [
      "[MoviePy] Done.\n",
      "[MoviePy] >>>> Video ready: ./clip/6H4VsHbynQc__432__434.mp4 \n",
      "\n",
      "[MoviePy] >>>> Building video ./clip/6H4VsHbynQc__434__436.mp4\n",
      "[MoviePy] Writing audio in 6H4VsHbynQc__434__436TEMP_MPY_wvf_snd.mp4\n"
     ]
    },
    {
     "name": "stderr",
     "output_type": "stream",
     "text": [
      "100%|██████████| 45/45 [00:00<00:00, 200.75it/s]"
     ]
    },
    {
     "name": "stdout",
     "output_type": "stream",
     "text": [
      "[MoviePy] Done.\n",
      "[MoviePy] Writing video ./clip/6H4VsHbynQc__434__436.mp4\n"
     ]
    },
    {
     "name": "stderr",
     "output_type": "stream",
     "text": [
      "\n",
      "100%|██████████| 60/60 [00:00<00:00, 312.24it/s]\n"
     ]
    },
    {
     "name": "stdout",
     "output_type": "stream",
     "text": [
      "[MoviePy] Done.\n",
      "[MoviePy] >>>> Video ready: ./clip/6H4VsHbynQc__434__436.mp4 \n",
      "\n",
      "[MoviePy] >>>> Building video ./clip/6H4VsHbynQc__436__438.mp4\n",
      "[MoviePy] Writing audio in 6H4VsHbynQc__436__438TEMP_MPY_wvf_snd.mp4\n"
     ]
    },
    {
     "name": "stderr",
     "output_type": "stream",
     "text": [
      "100%|██████████| 45/45 [00:00<00:00, 204.12it/s]"
     ]
    },
    {
     "name": "stdout",
     "output_type": "stream",
     "text": [
      "[MoviePy] Done.\n",
      "[MoviePy] Writing video ./clip/6H4VsHbynQc__436__438.mp4\n"
     ]
    },
    {
     "name": "stderr",
     "output_type": "stream",
     "text": [
      "\n",
      "100%|██████████| 60/60 [00:00<00:00, 292.88it/s]\n"
     ]
    },
    {
     "name": "stdout",
     "output_type": "stream",
     "text": [
      "[MoviePy] Done.\n",
      "[MoviePy] >>>> Video ready: ./clip/6H4VsHbynQc__436__438.mp4 \n",
      "\n",
      "[MoviePy] >>>> Building video ./clip/6H4VsHbynQc__438__440.mp4\n",
      "[MoviePy] Writing audio in 6H4VsHbynQc__438__440TEMP_MPY_wvf_snd.mp4\n"
     ]
    },
    {
     "name": "stderr",
     "output_type": "stream",
     "text": [
      "100%|██████████| 45/45 [00:00<00:00, 208.06it/s]"
     ]
    },
    {
     "name": "stdout",
     "output_type": "stream",
     "text": [
      "[MoviePy] Done.\n",
      "[MoviePy] Writing video ./clip/6H4VsHbynQc__438__440.mp4\n"
     ]
    },
    {
     "name": "stderr",
     "output_type": "stream",
     "text": [
      "\n",
      "100%|██████████| 60/60 [00:00<00:00, 302.88it/s]\n"
     ]
    },
    {
     "name": "stdout",
     "output_type": "stream",
     "text": [
      "[MoviePy] Done.\n",
      "[MoviePy] >>>> Video ready: ./clip/6H4VsHbynQc__438__440.mp4 \n",
      "\n",
      "[MoviePy] >>>> Building video ./clip/6H4VsHbynQc__440__442.mp4\n",
      "[MoviePy] Writing audio in 6H4VsHbynQc__440__442TEMP_MPY_wvf_snd.mp4\n"
     ]
    },
    {
     "name": "stderr",
     "output_type": "stream",
     "text": [
      "100%|██████████| 45/45 [00:00<00:00, 208.77it/s]"
     ]
    },
    {
     "name": "stdout",
     "output_type": "stream",
     "text": [
      "[MoviePy] Done.\n",
      "[MoviePy] Writing video ./clip/6H4VsHbynQc__440__442.mp4\n"
     ]
    },
    {
     "name": "stderr",
     "output_type": "stream",
     "text": [
      "\n",
      "100%|██████████| 60/60 [00:00<00:00, 291.01it/s]\n"
     ]
    },
    {
     "name": "stdout",
     "output_type": "stream",
     "text": [
      "[MoviePy] Done.\n",
      "[MoviePy] >>>> Video ready: ./clip/6H4VsHbynQc__440__442.mp4 \n",
      "\n",
      "[MoviePy] >>>> Building video ./clip/6H4VsHbynQc__442__444.mp4\n",
      "[MoviePy] Writing audio in 6H4VsHbynQc__442__444TEMP_MPY_wvf_snd.mp4\n"
     ]
    },
    {
     "name": "stderr",
     "output_type": "stream",
     "text": [
      "100%|██████████| 45/45 [00:00<00:00, 198.84it/s]"
     ]
    },
    {
     "name": "stdout",
     "output_type": "stream",
     "text": [
      "[MoviePy] Done.\n",
      "[MoviePy] Writing video ./clip/6H4VsHbynQc__442__444.mp4\n"
     ]
    },
    {
     "name": "stderr",
     "output_type": "stream",
     "text": [
      "\n",
      "100%|██████████| 60/60 [00:00<00:00, 315.26it/s]\n"
     ]
    },
    {
     "name": "stdout",
     "output_type": "stream",
     "text": [
      "[MoviePy] Done.\n",
      "[MoviePy] >>>> Video ready: ./clip/6H4VsHbynQc__442__444.mp4 \n",
      "\n",
      "[MoviePy] >>>> Building video ./clip/6H4VsHbynQc__444__446.mp4\n",
      "[MoviePy] Writing audio in 6H4VsHbynQc__444__446TEMP_MPY_wvf_snd.mp4\n"
     ]
    },
    {
     "name": "stderr",
     "output_type": "stream",
     "text": [
      "100%|██████████| 45/45 [00:00<00:00, 213.28it/s]"
     ]
    },
    {
     "name": "stdout",
     "output_type": "stream",
     "text": [
      "[MoviePy] Done.\n",
      "[MoviePy] Writing video ./clip/6H4VsHbynQc__444__446.mp4\n"
     ]
    },
    {
     "name": "stderr",
     "output_type": "stream",
     "text": [
      "\n",
      "100%|██████████| 60/60 [00:00<00:00, 314.85it/s]\n"
     ]
    },
    {
     "name": "stdout",
     "output_type": "stream",
     "text": [
      "[MoviePy] Done.\n",
      "[MoviePy] >>>> Video ready: ./clip/6H4VsHbynQc__444__446.mp4 \n",
      "\n",
      "[MoviePy] >>>> Building video ./clip/6H4VsHbynQc__446__448.mp4\n",
      "[MoviePy] Writing audio in 6H4VsHbynQc__446__448TEMP_MPY_wvf_snd.mp4\n"
     ]
    },
    {
     "name": "stderr",
     "output_type": "stream",
     "text": [
      "100%|██████████| 45/45 [00:00<00:00, 211.58it/s]"
     ]
    },
    {
     "name": "stdout",
     "output_type": "stream",
     "text": [
      "[MoviePy] Done.\n",
      "[MoviePy] Writing video ./clip/6H4VsHbynQc__446__448.mp4\n"
     ]
    },
    {
     "name": "stderr",
     "output_type": "stream",
     "text": [
      "\n",
      "100%|██████████| 60/60 [00:00<00:00, 315.21it/s]\n"
     ]
    },
    {
     "name": "stdout",
     "output_type": "stream",
     "text": [
      "[MoviePy] Done.\n",
      "[MoviePy] >>>> Video ready: ./clip/6H4VsHbynQc__446__448.mp4 \n",
      "\n",
      "[MoviePy] >>>> Building video ./clip/6H4VsHbynQc__448__450.mp4\n",
      "[MoviePy] Writing audio in 6H4VsHbynQc__448__450TEMP_MPY_wvf_snd.mp4\n"
     ]
    },
    {
     "name": "stderr",
     "output_type": "stream",
     "text": [
      "100%|██████████| 45/45 [00:00<00:00, 227.90it/s]\n"
     ]
    },
    {
     "name": "stdout",
     "output_type": "stream",
     "text": [
      "[MoviePy] Done.\n",
      "[MoviePy] Writing video ./clip/6H4VsHbynQc__448__450.mp4\n"
     ]
    },
    {
     "name": "stderr",
     "output_type": "stream",
     "text": [
      "100%|██████████| 60/60 [00:00<00:00, 280.79it/s]\n"
     ]
    },
    {
     "name": "stdout",
     "output_type": "stream",
     "text": [
      "[MoviePy] Done.\n",
      "[MoviePy] >>>> Video ready: ./clip/6H4VsHbynQc__448__450.mp4 \n",
      "\n",
      "[MoviePy] >>>> Building video ./clip/6H4VsHbynQc__450__452.mp4\n",
      "[MoviePy] Writing audio in 6H4VsHbynQc__450__452TEMP_MPY_wvf_snd.mp4\n"
     ]
    },
    {
     "name": "stderr",
     "output_type": "stream",
     "text": [
      "100%|██████████| 45/45 [00:00<00:00, 206.04it/s]"
     ]
    },
    {
     "name": "stdout",
     "output_type": "stream",
     "text": [
      "[MoviePy] Done.\n",
      "[MoviePy] Writing video ./clip/6H4VsHbynQc__450__452.mp4\n"
     ]
    },
    {
     "name": "stderr",
     "output_type": "stream",
     "text": [
      "\n",
      "100%|██████████| 60/60 [00:00<00:00, 303.51it/s]\n"
     ]
    },
    {
     "name": "stdout",
     "output_type": "stream",
     "text": [
      "[MoviePy] Done.\n",
      "[MoviePy] >>>> Video ready: ./clip/6H4VsHbynQc__450__452.mp4 \n",
      "\n",
      "[MoviePy] >>>> Building video ./clip/6H4VsHbynQc__452__454.mp4\n",
      "[MoviePy] Writing audio in 6H4VsHbynQc__452__454TEMP_MPY_wvf_snd.mp4\n"
     ]
    },
    {
     "name": "stderr",
     "output_type": "stream",
     "text": [
      "100%|██████████| 45/45 [00:00<00:00, 205.12it/s]"
     ]
    },
    {
     "name": "stdout",
     "output_type": "stream",
     "text": [
      "[MoviePy] Done.\n",
      "[MoviePy] Writing video ./clip/6H4VsHbynQc__452__454.mp4\n"
     ]
    },
    {
     "name": "stderr",
     "output_type": "stream",
     "text": [
      "\n",
      "100%|██████████| 60/60 [00:00<00:00, 292.53it/s]\n"
     ]
    },
    {
     "name": "stdout",
     "output_type": "stream",
     "text": [
      "[MoviePy] Done.\n",
      "[MoviePy] >>>> Video ready: ./clip/6H4VsHbynQc__452__454.mp4 \n",
      "\n",
      "[MoviePy] >>>> Building video ./clip/6H4VsHbynQc__454__456.mp4\n",
      "[MoviePy] Writing audio in 6H4VsHbynQc__454__456TEMP_MPY_wvf_snd.mp4\n"
     ]
    },
    {
     "name": "stderr",
     "output_type": "stream",
     "text": [
      "100%|██████████| 45/45 [00:00<00:00, 210.44it/s]"
     ]
    },
    {
     "name": "stdout",
     "output_type": "stream",
     "text": [
      "[MoviePy] Done.\n",
      "[MoviePy] Writing video ./clip/6H4VsHbynQc__454__456.mp4\n"
     ]
    },
    {
     "name": "stderr",
     "output_type": "stream",
     "text": [
      "\n",
      "100%|██████████| 60/60 [00:00<00:00, 310.61it/s]\n"
     ]
    },
    {
     "name": "stdout",
     "output_type": "stream",
     "text": [
      "[MoviePy] Done.\n",
      "[MoviePy] >>>> Video ready: ./clip/6H4VsHbynQc__454__456.mp4 \n",
      "\n",
      "[MoviePy] >>>> Building video ./clip/6H4VsHbynQc__456__458.mp4\n",
      "[MoviePy] Writing audio in 6H4VsHbynQc__456__458TEMP_MPY_wvf_snd.mp4\n"
     ]
    },
    {
     "name": "stderr",
     "output_type": "stream",
     "text": [
      "100%|██████████| 45/45 [00:00<00:00, 211.53it/s]"
     ]
    },
    {
     "name": "stdout",
     "output_type": "stream",
     "text": [
      "[MoviePy] Done.\n",
      "[MoviePy] Writing video ./clip/6H4VsHbynQc__456__458.mp4\n"
     ]
    },
    {
     "name": "stderr",
     "output_type": "stream",
     "text": [
      "\n",
      "100%|██████████| 60/60 [00:00<00:00, 317.10it/s]\n"
     ]
    },
    {
     "name": "stdout",
     "output_type": "stream",
     "text": [
      "[MoviePy] Done.\n",
      "[MoviePy] >>>> Video ready: ./clip/6H4VsHbynQc__456__458.mp4 \n",
      "\n",
      "[MoviePy] >>>> Building video ./clip/6H4VsHbynQc__458__460.mp4\n",
      "[MoviePy] Writing audio in 6H4VsHbynQc__458__460TEMP_MPY_wvf_snd.mp4\n"
     ]
    },
    {
     "name": "stderr",
     "output_type": "stream",
     "text": [
      "100%|██████████| 45/45 [00:00<00:00, 209.93it/s]"
     ]
    },
    {
     "name": "stdout",
     "output_type": "stream",
     "text": [
      "[MoviePy] Done.\n",
      "[MoviePy] Writing video ./clip/6H4VsHbynQc__458__460.mp4\n"
     ]
    },
    {
     "name": "stderr",
     "output_type": "stream",
     "text": [
      "\n",
      "100%|██████████| 60/60 [00:00<00:00, 299.60it/s]\n"
     ]
    },
    {
     "name": "stdout",
     "output_type": "stream",
     "text": [
      "[MoviePy] Done.\n",
      "[MoviePy] >>>> Video ready: ./clip/6H4VsHbynQc__458__460.mp4 \n",
      "\n",
      "[MoviePy] >>>> Building video ./clip/6H4VsHbynQc__460__462.mp4\n",
      "[MoviePy] Writing audio in 6H4VsHbynQc__460__462TEMP_MPY_wvf_snd.mp4\n"
     ]
    },
    {
     "name": "stderr",
     "output_type": "stream",
     "text": [
      "100%|██████████| 45/45 [00:00<00:00, 195.79it/s]"
     ]
    },
    {
     "name": "stdout",
     "output_type": "stream",
     "text": [
      "[MoviePy] Done.\n",
      "[MoviePy] Writing video ./clip/6H4VsHbynQc__460__462.mp4\n"
     ]
    },
    {
     "name": "stderr",
     "output_type": "stream",
     "text": [
      "\n",
      "100%|██████████| 60/60 [00:00<00:00, 305.55it/s]\n"
     ]
    },
    {
     "name": "stdout",
     "output_type": "stream",
     "text": [
      "[MoviePy] Done.\n",
      "[MoviePy] >>>> Video ready: ./clip/6H4VsHbynQc__460__462.mp4 \n",
      "\n",
      "[MoviePy] >>>> Building video ./clip/6H4VsHbynQc__462__464.mp4\n",
      "[MoviePy] Writing audio in 6H4VsHbynQc__462__464TEMP_MPY_wvf_snd.mp4\n"
     ]
    },
    {
     "name": "stderr",
     "output_type": "stream",
     "text": [
      "100%|██████████| 45/45 [00:00<00:00, 236.31it/s]\n"
     ]
    },
    {
     "name": "stdout",
     "output_type": "stream",
     "text": [
      "[MoviePy] Done.\n",
      "[MoviePy] Writing video ./clip/6H4VsHbynQc__462__464.mp4\n"
     ]
    },
    {
     "name": "stderr",
     "output_type": "stream",
     "text": [
      "100%|██████████| 60/60 [00:00<00:00, 288.15it/s]\n"
     ]
    },
    {
     "name": "stdout",
     "output_type": "stream",
     "text": [
      "[MoviePy] Done.\n",
      "[MoviePy] >>>> Video ready: ./clip/6H4VsHbynQc__462__464.mp4 \n",
      "\n",
      "[MoviePy] >>>> Building video ./clip/6H4VsHbynQc__464__466.mp4\n",
      "[MoviePy] Writing audio in 6H4VsHbynQc__464__466TEMP_MPY_wvf_snd.mp4\n"
     ]
    },
    {
     "name": "stderr",
     "output_type": "stream",
     "text": [
      "100%|██████████| 45/45 [00:00<00:00, 201.58it/s]"
     ]
    },
    {
     "name": "stdout",
     "output_type": "stream",
     "text": [
      "[MoviePy] Done.\n",
      "[MoviePy] Writing video ./clip/6H4VsHbynQc__464__466.mp4\n"
     ]
    },
    {
     "name": "stderr",
     "output_type": "stream",
     "text": [
      "\n",
      "100%|██████████| 60/60 [00:00<00:00, 291.70it/s]\n"
     ]
    },
    {
     "name": "stdout",
     "output_type": "stream",
     "text": [
      "[MoviePy] Done.\n",
      "[MoviePy] >>>> Video ready: ./clip/6H4VsHbynQc__464__466.mp4 \n",
      "\n",
      "[MoviePy] >>>> Building video ./clip/6H4VsHbynQc__466__468.mp4\n",
      "[MoviePy] Writing audio in 6H4VsHbynQc__466__468TEMP_MPY_wvf_snd.mp4\n"
     ]
    },
    {
     "name": "stderr",
     "output_type": "stream",
     "text": [
      "100%|██████████| 45/45 [00:00<00:00, 189.27it/s]"
     ]
    },
    {
     "name": "stdout",
     "output_type": "stream",
     "text": [
      "[MoviePy] Done.\n",
      "[MoviePy] Writing video ./clip/6H4VsHbynQc__466__468.mp4\n"
     ]
    },
    {
     "name": "stderr",
     "output_type": "stream",
     "text": [
      "\n",
      "100%|██████████| 60/60 [00:00<00:00, 303.43it/s]\n"
     ]
    },
    {
     "name": "stdout",
     "output_type": "stream",
     "text": [
      "[MoviePy] Done.\n",
      "[MoviePy] >>>> Video ready: ./clip/6H4VsHbynQc__466__468.mp4 \n",
      "\n",
      "[MoviePy] >>>> Building video ./clip/6H4VsHbynQc__468__470.mp4\n",
      "[MoviePy] Writing audio in 6H4VsHbynQc__468__470TEMP_MPY_wvf_snd.mp4\n"
     ]
    },
    {
     "name": "stderr",
     "output_type": "stream",
     "text": [
      "100%|██████████| 45/45 [00:00<00:00, 193.14it/s]"
     ]
    },
    {
     "name": "stdout",
     "output_type": "stream",
     "text": [
      "[MoviePy] Done.\n",
      "[MoviePy] Writing video ./clip/6H4VsHbynQc__468__470.mp4\n"
     ]
    },
    {
     "name": "stderr",
     "output_type": "stream",
     "text": [
      "\n",
      "100%|██████████| 60/60 [00:00<00:00, 309.45it/s]\n"
     ]
    },
    {
     "name": "stdout",
     "output_type": "stream",
     "text": [
      "[MoviePy] Done.\n",
      "[MoviePy] >>>> Video ready: ./clip/6H4VsHbynQc__468__470.mp4 \n",
      "\n",
      "[MoviePy] >>>> Building video ./clip/6H4VsHbynQc__470__472.mp4\n",
      "[MoviePy] Writing audio in 6H4VsHbynQc__470__472TEMP_MPY_wvf_snd.mp4\n"
     ]
    },
    {
     "name": "stderr",
     "output_type": "stream",
     "text": [
      "100%|██████████| 45/45 [00:00<00:00, 205.20it/s]"
     ]
    },
    {
     "name": "stdout",
     "output_type": "stream",
     "text": [
      "[MoviePy] Done.\n",
      "[MoviePy] Writing video ./clip/6H4VsHbynQc__470__472.mp4\n"
     ]
    },
    {
     "name": "stderr",
     "output_type": "stream",
     "text": [
      "\n",
      "100%|██████████| 60/60 [00:00<00:00, 320.75it/s]\n"
     ]
    },
    {
     "name": "stdout",
     "output_type": "stream",
     "text": [
      "[MoviePy] Done.\n",
      "[MoviePy] >>>> Video ready: ./clip/6H4VsHbynQc__470__472.mp4 \n",
      "\n",
      "[MoviePy] >>>> Building video ./clip/6H4VsHbynQc__472__474.mp4\n",
      "[MoviePy] Writing audio in 6H4VsHbynQc__472__474TEMP_MPY_wvf_snd.mp4\n"
     ]
    },
    {
     "name": "stderr",
     "output_type": "stream",
     "text": [
      "100%|██████████| 45/45 [00:00<00:00, 201.03it/s]"
     ]
    },
    {
     "name": "stdout",
     "output_type": "stream",
     "text": [
      "[MoviePy] Done.\n",
      "[MoviePy] Writing video ./clip/6H4VsHbynQc__472__474.mp4\n"
     ]
    },
    {
     "name": "stderr",
     "output_type": "stream",
     "text": [
      "\n",
      "100%|██████████| 60/60 [00:00<00:00, 328.32it/s]\n"
     ]
    },
    {
     "name": "stdout",
     "output_type": "stream",
     "text": [
      "[MoviePy] Done.\n",
      "[MoviePy] >>>> Video ready: ./clip/6H4VsHbynQc__472__474.mp4 \n",
      "\n",
      "[MoviePy] >>>> Building video ./clip/6H4VsHbynQc__474__476.mp4\n",
      "[MoviePy] Writing audio in 6H4VsHbynQc__474__476TEMP_MPY_wvf_snd.mp4\n"
     ]
    },
    {
     "name": "stderr",
     "output_type": "stream",
     "text": [
      "100%|██████████| 45/45 [00:00<00:00, 205.69it/s]"
     ]
    },
    {
     "name": "stdout",
     "output_type": "stream",
     "text": [
      "[MoviePy] Done.\n",
      "[MoviePy] Writing video ./clip/6H4VsHbynQc__474__476.mp4\n"
     ]
    },
    {
     "name": "stderr",
     "output_type": "stream",
     "text": [
      "\n",
      "100%|██████████| 60/60 [00:00<00:00, 303.20it/s]\n"
     ]
    },
    {
     "name": "stdout",
     "output_type": "stream",
     "text": [
      "[MoviePy] Done.\n",
      "[MoviePy] >>>> Video ready: ./clip/6H4VsHbynQc__474__476.mp4 \n",
      "\n",
      "[MoviePy] >>>> Building video ./clip/6H4VsHbynQc__476__478.mp4\n",
      "[MoviePy] Writing audio in 6H4VsHbynQc__476__478TEMP_MPY_wvf_snd.mp4\n"
     ]
    },
    {
     "name": "stderr",
     "output_type": "stream",
     "text": [
      "100%|██████████| 45/45 [00:00<00:00, 194.31it/s]"
     ]
    },
    {
     "name": "stdout",
     "output_type": "stream",
     "text": [
      "[MoviePy] Done.\n",
      "[MoviePy] Writing video ./clip/6H4VsHbynQc__476__478.mp4\n"
     ]
    },
    {
     "name": "stderr",
     "output_type": "stream",
     "text": [
      "\n",
      "100%|██████████| 60/60 [00:00<00:00, 319.24it/s]\n"
     ]
    },
    {
     "name": "stdout",
     "output_type": "stream",
     "text": [
      "[MoviePy] Done.\n",
      "[MoviePy] >>>> Video ready: ./clip/6H4VsHbynQc__476__478.mp4 \n",
      "\n",
      "[MoviePy] >>>> Building video ./clip/6H4VsHbynQc__478__480.mp4\n",
      "[MoviePy] Writing audio in 6H4VsHbynQc__478__480TEMP_MPY_wvf_snd.mp4\n"
     ]
    },
    {
     "name": "stderr",
     "output_type": "stream",
     "text": [
      "100%|██████████| 45/45 [00:00<00:00, 202.69it/s]"
     ]
    },
    {
     "name": "stdout",
     "output_type": "stream",
     "text": [
      "[MoviePy] Done.\n",
      "[MoviePy] Writing video ./clip/6H4VsHbynQc__478__480.mp4\n"
     ]
    },
    {
     "name": "stderr",
     "output_type": "stream",
     "text": [
      "\n",
      "100%|██████████| 60/60 [00:00<00:00, 314.49it/s]\n"
     ]
    },
    {
     "name": "stdout",
     "output_type": "stream",
     "text": [
      "[MoviePy] Done.\n",
      "[MoviePy] >>>> Video ready: ./clip/6H4VsHbynQc__478__480.mp4 \n",
      "\n",
      "[MoviePy] >>>> Building video ./clip/6H4VsHbynQc__480__482.mp4\n",
      "[MoviePy] Writing audio in 6H4VsHbynQc__480__482TEMP_MPY_wvf_snd.mp4\n"
     ]
    },
    {
     "name": "stderr",
     "output_type": "stream",
     "text": [
      "100%|██████████| 45/45 [00:00<00:00, 188.99it/s]"
     ]
    },
    {
     "name": "stdout",
     "output_type": "stream",
     "text": [
      "[MoviePy] Done.\n",
      "[MoviePy] Writing video ./clip/6H4VsHbynQc__480__482.mp4\n"
     ]
    },
    {
     "name": "stderr",
     "output_type": "stream",
     "text": [
      "\n",
      "100%|██████████| 60/60 [00:00<00:00, 268.94it/s]\n"
     ]
    },
    {
     "name": "stdout",
     "output_type": "stream",
     "text": [
      "[MoviePy] Done.\n",
      "[MoviePy] >>>> Video ready: ./clip/6H4VsHbynQc__480__482.mp4 \n",
      "\n",
      "[MoviePy] >>>> Building video ./clip/6H4VsHbynQc__482__484.mp4\n",
      "[MoviePy] Writing audio in 6H4VsHbynQc__482__484TEMP_MPY_wvf_snd.mp4\n"
     ]
    },
    {
     "name": "stderr",
     "output_type": "stream",
     "text": [
      "100%|██████████| 45/45 [00:00<00:00, 213.01it/s]"
     ]
    },
    {
     "name": "stdout",
     "output_type": "stream",
     "text": [
      "[MoviePy] Done.\n",
      "[MoviePy] Writing video ./clip/6H4VsHbynQc__482__484.mp4\n"
     ]
    },
    {
     "name": "stderr",
     "output_type": "stream",
     "text": [
      "\n",
      "100%|██████████| 60/60 [00:00<00:00, 308.44it/s]\n"
     ]
    },
    {
     "name": "stdout",
     "output_type": "stream",
     "text": [
      "[MoviePy] Done.\n",
      "[MoviePy] >>>> Video ready: ./clip/6H4VsHbynQc__482__484.mp4 \n",
      "\n",
      "[MoviePy] >>>> Building video ./clip/6H4VsHbynQc__484__486.mp4\n",
      "[MoviePy] Writing audio in 6H4VsHbynQc__484__486TEMP_MPY_wvf_snd.mp4\n"
     ]
    },
    {
     "name": "stderr",
     "output_type": "stream",
     "text": [
      "100%|██████████| 45/45 [00:00<00:00, 204.91it/s]"
     ]
    },
    {
     "name": "stdout",
     "output_type": "stream",
     "text": [
      "[MoviePy] Done.\n",
      "[MoviePy] Writing video ./clip/6H4VsHbynQc__484__486.mp4\n"
     ]
    },
    {
     "name": "stderr",
     "output_type": "stream",
     "text": [
      "\n",
      "100%|██████████| 60/60 [00:00<00:00, 310.52it/s]\n"
     ]
    },
    {
     "name": "stdout",
     "output_type": "stream",
     "text": [
      "[MoviePy] Done.\n",
      "[MoviePy] >>>> Video ready: ./clip/6H4VsHbynQc__484__486.mp4 \n",
      "\n",
      "[MoviePy] >>>> Building video ./clip/6H4VsHbynQc__486__488.mp4\n",
      "[MoviePy] Writing audio in 6H4VsHbynQc__486__488TEMP_MPY_wvf_snd.mp4\n"
     ]
    },
    {
     "name": "stderr",
     "output_type": "stream",
     "text": [
      "100%|██████████| 45/45 [00:00<00:00, 216.54it/s]"
     ]
    },
    {
     "name": "stdout",
     "output_type": "stream",
     "text": [
      "[MoviePy] Done.\n",
      "[MoviePy] Writing video ./clip/6H4VsHbynQc__486__488.mp4\n"
     ]
    },
    {
     "name": "stderr",
     "output_type": "stream",
     "text": [
      "\n",
      "100%|██████████| 60/60 [00:00<00:00, 292.03it/s]\n"
     ]
    },
    {
     "name": "stdout",
     "output_type": "stream",
     "text": [
      "[MoviePy] Done.\n",
      "[MoviePy] >>>> Video ready: ./clip/6H4VsHbynQc__486__488.mp4 \n",
      "\n",
      "[MoviePy] >>>> Building video ./clip/6H4VsHbynQc__488__490.mp4\n",
      "[MoviePy] Writing audio in 6H4VsHbynQc__488__490TEMP_MPY_wvf_snd.mp4\n"
     ]
    },
    {
     "name": "stderr",
     "output_type": "stream",
     "text": [
      "100%|██████████| 45/45 [00:00<00:00, 202.22it/s]"
     ]
    },
    {
     "name": "stdout",
     "output_type": "stream",
     "text": [
      "[MoviePy] Done.\n",
      "[MoviePy] Writing video ./clip/6H4VsHbynQc__488__490.mp4\n"
     ]
    },
    {
     "name": "stderr",
     "output_type": "stream",
     "text": [
      "\n",
      "100%|██████████| 60/60 [00:00<00:00, 283.73it/s]\n"
     ]
    },
    {
     "name": "stdout",
     "output_type": "stream",
     "text": [
      "[MoviePy] Done.\n",
      "[MoviePy] >>>> Video ready: ./clip/6H4VsHbynQc__488__490.mp4 \n",
      "\n",
      "[MoviePy] >>>> Building video ./clip/6H4VsHbynQc__490__492.mp4\n",
      "[MoviePy] Writing audio in 6H4VsHbynQc__490__492TEMP_MPY_wvf_snd.mp4\n"
     ]
    },
    {
     "name": "stderr",
     "output_type": "stream",
     "text": [
      "100%|██████████| 45/45 [00:00<00:00, 192.19it/s]"
     ]
    },
    {
     "name": "stdout",
     "output_type": "stream",
     "text": [
      "[MoviePy] Done.\n",
      "[MoviePy] Writing video ./clip/6H4VsHbynQc__490__492.mp4\n"
     ]
    },
    {
     "name": "stderr",
     "output_type": "stream",
     "text": [
      "\n",
      "100%|██████████| 60/60 [00:00<00:00, 285.83it/s]\n"
     ]
    },
    {
     "name": "stdout",
     "output_type": "stream",
     "text": [
      "[MoviePy] Done.\n",
      "[MoviePy] >>>> Video ready: ./clip/6H4VsHbynQc__490__492.mp4 \n",
      "\n",
      "[MoviePy] >>>> Building video ./clip/6H4VsHbynQc__492__494.mp4\n",
      "[MoviePy] Writing audio in 6H4VsHbynQc__492__494TEMP_MPY_wvf_snd.mp4\n"
     ]
    },
    {
     "name": "stderr",
     "output_type": "stream",
     "text": [
      "100%|██████████| 45/45 [00:00<00:00, 206.45it/s]"
     ]
    },
    {
     "name": "stdout",
     "output_type": "stream",
     "text": [
      "[MoviePy] Done.\n",
      "[MoviePy] Writing video ./clip/6H4VsHbynQc__492__494.mp4\n"
     ]
    },
    {
     "name": "stderr",
     "output_type": "stream",
     "text": [
      "\n",
      "100%|██████████| 60/60 [00:00<00:00, 333.81it/s]\n"
     ]
    },
    {
     "name": "stdout",
     "output_type": "stream",
     "text": [
      "[MoviePy] Done.\n",
      "[MoviePy] >>>> Video ready: ./clip/6H4VsHbynQc__492__494.mp4 \n",
      "\n",
      "[MoviePy] >>>> Building video ./clip/6H4VsHbynQc__494__496.mp4\n",
      "[MoviePy] Writing audio in 6H4VsHbynQc__494__496TEMP_MPY_wvf_snd.mp4\n"
     ]
    },
    {
     "name": "stderr",
     "output_type": "stream",
     "text": [
      "100%|██████████| 45/45 [00:00<00:00, 205.93it/s]"
     ]
    },
    {
     "name": "stdout",
     "output_type": "stream",
     "text": [
      "[MoviePy] Done.\n",
      "[MoviePy] Writing video ./clip/6H4VsHbynQc__494__496.mp4\n"
     ]
    },
    {
     "name": "stderr",
     "output_type": "stream",
     "text": [
      "\n",
      "100%|██████████| 60/60 [00:00<00:00, 306.63it/s]\n"
     ]
    },
    {
     "name": "stdout",
     "output_type": "stream",
     "text": [
      "[MoviePy] Done.\n",
      "[MoviePy] >>>> Video ready: ./clip/6H4VsHbynQc__494__496.mp4 \n",
      "\n",
      "[MoviePy] >>>> Building video ./clip/6H4VsHbynQc__496__498.mp4\n",
      "[MoviePy] Writing audio in 6H4VsHbynQc__496__498TEMP_MPY_wvf_snd.mp4\n"
     ]
    },
    {
     "name": "stderr",
     "output_type": "stream",
     "text": [
      "100%|██████████| 45/45 [00:00<00:00, 189.38it/s]"
     ]
    },
    {
     "name": "stdout",
     "output_type": "stream",
     "text": [
      "[MoviePy] Done.\n",
      "[MoviePy] Writing video ./clip/6H4VsHbynQc__496__498.mp4\n"
     ]
    },
    {
     "name": "stderr",
     "output_type": "stream",
     "text": [
      "\n",
      "100%|██████████| 60/60 [00:00<00:00, 322.55it/s]\n"
     ]
    },
    {
     "name": "stdout",
     "output_type": "stream",
     "text": [
      "[MoviePy] Done.\n",
      "[MoviePy] >>>> Video ready: ./clip/6H4VsHbynQc__496__498.mp4 \n",
      "\n",
      "[MoviePy] >>>> Building video ./clip/6H4VsHbynQc__498__500.mp4\n",
      "[MoviePy] Writing audio in 6H4VsHbynQc__498__500TEMP_MPY_wvf_snd.mp4\n"
     ]
    },
    {
     "name": "stderr",
     "output_type": "stream",
     "text": [
      "100%|██████████| 45/45 [00:00<00:00, 198.65it/s]"
     ]
    },
    {
     "name": "stdout",
     "output_type": "stream",
     "text": [
      "[MoviePy] Done.\n",
      "[MoviePy] Writing video ./clip/6H4VsHbynQc__498__500.mp4\n"
     ]
    },
    {
     "name": "stderr",
     "output_type": "stream",
     "text": [
      "\n",
      "100%|██████████| 60/60 [00:00<00:00, 321.00it/s]\n"
     ]
    },
    {
     "name": "stdout",
     "output_type": "stream",
     "text": [
      "[MoviePy] Done.\n",
      "[MoviePy] >>>> Video ready: ./clip/6H4VsHbynQc__498__500.mp4 \n",
      "\n",
      "[MoviePy] >>>> Building video ./clip/6H4VsHbynQc__500__502.mp4\n",
      "[MoviePy] Writing audio in 6H4VsHbynQc__500__502TEMP_MPY_wvf_snd.mp4\n"
     ]
    },
    {
     "name": "stderr",
     "output_type": "stream",
     "text": [
      "100%|██████████| 45/45 [00:00<00:00, 194.69it/s]"
     ]
    },
    {
     "name": "stdout",
     "output_type": "stream",
     "text": [
      "[MoviePy] Done.\n",
      "[MoviePy] Writing video ./clip/6H4VsHbynQc__500__502.mp4\n"
     ]
    },
    {
     "name": "stderr",
     "output_type": "stream",
     "text": [
      "\n",
      "100%|██████████| 60/60 [00:00<00:00, 278.23it/s]\n"
     ]
    },
    {
     "name": "stdout",
     "output_type": "stream",
     "text": [
      "[MoviePy] Done.\n",
      "[MoviePy] >>>> Video ready: ./clip/6H4VsHbynQc__500__502.mp4 \n",
      "\n",
      "[MoviePy] >>>> Building video ./clip/6H4VsHbynQc__502__504.mp4\n",
      "[MoviePy] Writing audio in 6H4VsHbynQc__502__504TEMP_MPY_wvf_snd.mp4\n"
     ]
    },
    {
     "name": "stderr",
     "output_type": "stream",
     "text": [
      "100%|██████████| 45/45 [00:00<00:00, 203.76it/s]"
     ]
    },
    {
     "name": "stdout",
     "output_type": "stream",
     "text": [
      "[MoviePy] Done.\n",
      "[MoviePy] Writing video ./clip/6H4VsHbynQc__502__504.mp4\n"
     ]
    },
    {
     "name": "stderr",
     "output_type": "stream",
     "text": [
      "\n",
      "100%|██████████| 60/60 [00:00<00:00, 300.26it/s]\n"
     ]
    },
    {
     "name": "stdout",
     "output_type": "stream",
     "text": [
      "[MoviePy] Done.\n",
      "[MoviePy] >>>> Video ready: ./clip/6H4VsHbynQc__502__504.mp4 \n",
      "\n",
      "[MoviePy] >>>> Building video ./clip/6H4VsHbynQc__504__506.mp4\n",
      "[MoviePy] Writing audio in 6H4VsHbynQc__504__506TEMP_MPY_wvf_snd.mp4\n"
     ]
    },
    {
     "name": "stderr",
     "output_type": "stream",
     "text": [
      "100%|██████████| 45/45 [00:00<00:00, 196.66it/s]"
     ]
    },
    {
     "name": "stdout",
     "output_type": "stream",
     "text": [
      "[MoviePy] Done.\n",
      "[MoviePy] Writing video ./clip/6H4VsHbynQc__504__506.mp4\n"
     ]
    },
    {
     "name": "stderr",
     "output_type": "stream",
     "text": [
      "\n",
      "100%|██████████| 60/60 [00:00<00:00, 300.67it/s]\n"
     ]
    },
    {
     "name": "stdout",
     "output_type": "stream",
     "text": [
      "[MoviePy] Done.\n",
      "[MoviePy] >>>> Video ready: ./clip/6H4VsHbynQc__504__506.mp4 \n",
      "\n",
      "[MoviePy] >>>> Building video ./clip/6H4VsHbynQc__506__508.mp4\n",
      "[MoviePy] Writing audio in 6H4VsHbynQc__506__508TEMP_MPY_wvf_snd.mp4\n"
     ]
    },
    {
     "name": "stderr",
     "output_type": "stream",
     "text": [
      "100%|██████████| 45/45 [00:00<00:00, 201.89it/s]"
     ]
    },
    {
     "name": "stdout",
     "output_type": "stream",
     "text": [
      "[MoviePy] Done.\n",
      "[MoviePy] Writing video ./clip/6H4VsHbynQc__506__508.mp4\n"
     ]
    },
    {
     "name": "stderr",
     "output_type": "stream",
     "text": [
      "\n",
      "100%|██████████| 60/60 [00:00<00:00, 316.11it/s]\n"
     ]
    },
    {
     "name": "stdout",
     "output_type": "stream",
     "text": [
      "[MoviePy] Done.\n",
      "[MoviePy] >>>> Video ready: ./clip/6H4VsHbynQc__506__508.mp4 \n",
      "\n",
      "[MoviePy] >>>> Building video ./clip/6H4VsHbynQc__508__510.mp4\n",
      "[MoviePy] Writing audio in 6H4VsHbynQc__508__510TEMP_MPY_wvf_snd.mp4\n"
     ]
    },
    {
     "name": "stderr",
     "output_type": "stream",
     "text": [
      "100%|██████████| 45/45 [00:00<00:00, 217.22it/s]"
     ]
    },
    {
     "name": "stdout",
     "output_type": "stream",
     "text": [
      "[MoviePy] Done.\n",
      "[MoviePy] Writing video ./clip/6H4VsHbynQc__508__510.mp4\n"
     ]
    },
    {
     "name": "stderr",
     "output_type": "stream",
     "text": [
      "\n",
      "100%|██████████| 60/60 [00:00<00:00, 311.73it/s]\n"
     ]
    },
    {
     "name": "stdout",
     "output_type": "stream",
     "text": [
      "[MoviePy] Done.\n",
      "[MoviePy] >>>> Video ready: ./clip/6H4VsHbynQc__508__510.mp4 \n",
      "\n",
      "[MoviePy] >>>> Building video ./clip/6H4VsHbynQc__510__512.mp4\n",
      "[MoviePy] Writing audio in 6H4VsHbynQc__510__512TEMP_MPY_wvf_snd.mp4\n"
     ]
    },
    {
     "name": "stderr",
     "output_type": "stream",
     "text": [
      "100%|██████████| 45/45 [00:00<00:00, 195.85it/s]"
     ]
    },
    {
     "name": "stdout",
     "output_type": "stream",
     "text": [
      "[MoviePy] Done.\n",
      "[MoviePy] Writing video ./clip/6H4VsHbynQc__510__512.mp4\n"
     ]
    },
    {
     "name": "stderr",
     "output_type": "stream",
     "text": [
      "\n",
      "100%|██████████| 60/60 [00:00<00:00, 308.25it/s]\n"
     ]
    },
    {
     "name": "stdout",
     "output_type": "stream",
     "text": [
      "[MoviePy] Done.\n",
      "[MoviePy] >>>> Video ready: ./clip/6H4VsHbynQc__510__512.mp4 \n",
      "\n",
      "[MoviePy] >>>> Building video ./clip/6H4VsHbynQc__512__514.mp4\n",
      "[MoviePy] Writing audio in 6H4VsHbynQc__512__514TEMP_MPY_wvf_snd.mp4\n"
     ]
    },
    {
     "name": "stderr",
     "output_type": "stream",
     "text": [
      "100%|██████████| 45/45 [00:00<00:00, 200.32it/s]"
     ]
    },
    {
     "name": "stdout",
     "output_type": "stream",
     "text": [
      "[MoviePy] Done.\n",
      "[MoviePy] Writing video ./clip/6H4VsHbynQc__512__514.mp4\n"
     ]
    },
    {
     "name": "stderr",
     "output_type": "stream",
     "text": [
      "\n",
      "100%|██████████| 60/60 [00:00<00:00, 276.45it/s]\n"
     ]
    },
    {
     "name": "stdout",
     "output_type": "stream",
     "text": [
      "[MoviePy] Done.\n",
      "[MoviePy] >>>> Video ready: ./clip/6H4VsHbynQc__512__514.mp4 \n",
      "\n",
      "[MoviePy] >>>> Building video ./clip/6H4VsHbynQc__514__516.mp4\n",
      "[MoviePy] Writing audio in 6H4VsHbynQc__514__516TEMP_MPY_wvf_snd.mp4\n"
     ]
    },
    {
     "name": "stderr",
     "output_type": "stream",
     "text": [
      "100%|██████████| 45/45 [00:00<00:00, 202.58it/s]"
     ]
    },
    {
     "name": "stdout",
     "output_type": "stream",
     "text": [
      "[MoviePy] Done.\n",
      "[MoviePy] Writing video ./clip/6H4VsHbynQc__514__516.mp4\n"
     ]
    },
    {
     "name": "stderr",
     "output_type": "stream",
     "text": [
      "\n",
      "100%|██████████| 60/60 [00:00<00:00, 283.54it/s]\n"
     ]
    },
    {
     "name": "stdout",
     "output_type": "stream",
     "text": [
      "[MoviePy] Done.\n",
      "[MoviePy] >>>> Video ready: ./clip/6H4VsHbynQc__514__516.mp4 \n",
      "\n",
      "[MoviePy] >>>> Building video ./clip/6H4VsHbynQc__516__518.mp4\n",
      "[MoviePy] Writing audio in 6H4VsHbynQc__516__518TEMP_MPY_wvf_snd.mp4\n"
     ]
    },
    {
     "name": "stderr",
     "output_type": "stream",
     "text": [
      "100%|██████████| 45/45 [00:00<00:00, 205.05it/s]"
     ]
    },
    {
     "name": "stdout",
     "output_type": "stream",
     "text": [
      "[MoviePy] Done.\n",
      "[MoviePy] Writing video ./clip/6H4VsHbynQc__516__518.mp4\n"
     ]
    },
    {
     "name": "stderr",
     "output_type": "stream",
     "text": [
      "\n",
      "100%|██████████| 60/60 [00:00<00:00, 280.75it/s]\n"
     ]
    },
    {
     "name": "stdout",
     "output_type": "stream",
     "text": [
      "[MoviePy] Done.\n",
      "[MoviePy] >>>> Video ready: ./clip/6H4VsHbynQc__516__518.mp4 \n",
      "\n",
      "[MoviePy] >>>> Building video ./clip/6H4VsHbynQc__518__520.mp4\n",
      "[MoviePy] Writing audio in 6H4VsHbynQc__518__520TEMP_MPY_wvf_snd.mp4\n"
     ]
    },
    {
     "name": "stderr",
     "output_type": "stream",
     "text": [
      "100%|██████████| 45/45 [00:00<00:00, 190.75it/s]"
     ]
    },
    {
     "name": "stdout",
     "output_type": "stream",
     "text": [
      "[MoviePy] Done.\n",
      "[MoviePy] Writing video ./clip/6H4VsHbynQc__518__520.mp4\n"
     ]
    },
    {
     "name": "stderr",
     "output_type": "stream",
     "text": [
      "\n",
      "100%|██████████| 60/60 [00:00<00:00, 288.04it/s]\n"
     ]
    },
    {
     "name": "stdout",
     "output_type": "stream",
     "text": [
      "[MoviePy] Done.\n",
      "[MoviePy] >>>> Video ready: ./clip/6H4VsHbynQc__518__520.mp4 \n",
      "\n",
      "[MoviePy] >>>> Building video ./clip/6H4VsHbynQc__520__522.mp4\n",
      "[MoviePy] Writing audio in 6H4VsHbynQc__520__522TEMP_MPY_wvf_snd.mp4\n"
     ]
    },
    {
     "name": "stderr",
     "output_type": "stream",
     "text": [
      "100%|██████████| 45/45 [00:00<00:00, 204.17it/s]"
     ]
    },
    {
     "name": "stdout",
     "output_type": "stream",
     "text": [
      "[MoviePy] Done.\n",
      "[MoviePy] Writing video ./clip/6H4VsHbynQc__520__522.mp4\n"
     ]
    },
    {
     "name": "stderr",
     "output_type": "stream",
     "text": [
      "\n",
      "100%|██████████| 60/60 [00:00<00:00, 308.04it/s]\n"
     ]
    },
    {
     "name": "stdout",
     "output_type": "stream",
     "text": [
      "[MoviePy] Done.\n",
      "[MoviePy] >>>> Video ready: ./clip/6H4VsHbynQc__520__522.mp4 \n",
      "\n",
      "[MoviePy] >>>> Building video ./clip/6H4VsHbynQc__522__524.mp4\n",
      "[MoviePy] Writing audio in 6H4VsHbynQc__522__524TEMP_MPY_wvf_snd.mp4\n"
     ]
    },
    {
     "name": "stderr",
     "output_type": "stream",
     "text": [
      "100%|██████████| 45/45 [00:00<00:00, 211.26it/s]"
     ]
    },
    {
     "name": "stdout",
     "output_type": "stream",
     "text": [
      "[MoviePy] Done.\n",
      "[MoviePy] Writing video ./clip/6H4VsHbynQc__522__524.mp4\n"
     ]
    },
    {
     "name": "stderr",
     "output_type": "stream",
     "text": [
      "\n",
      "100%|██████████| 60/60 [00:00<00:00, 268.30it/s]\n"
     ]
    },
    {
     "name": "stdout",
     "output_type": "stream",
     "text": [
      "[MoviePy] Done.\n",
      "[MoviePy] >>>> Video ready: ./clip/6H4VsHbynQc__522__524.mp4 \n",
      "\n",
      "[MoviePy] >>>> Building video ./clip/6H4VsHbynQc__524__526.mp4\n",
      "[MoviePy] Writing audio in 6H4VsHbynQc__524__526TEMP_MPY_wvf_snd.mp4\n"
     ]
    },
    {
     "name": "stderr",
     "output_type": "stream",
     "text": [
      "100%|██████████| 45/45 [00:00<00:00, 181.61it/s]"
     ]
    },
    {
     "name": "stdout",
     "output_type": "stream",
     "text": [
      "[MoviePy] Done.\n",
      "[MoviePy] Writing video ./clip/6H4VsHbynQc__524__526.mp4\n"
     ]
    },
    {
     "name": "stderr",
     "output_type": "stream",
     "text": [
      "\n",
      "100%|██████████| 60/60 [00:00<00:00, 318.30it/s]\n"
     ]
    },
    {
     "name": "stdout",
     "output_type": "stream",
     "text": [
      "[MoviePy] Done.\n",
      "[MoviePy] >>>> Video ready: ./clip/6H4VsHbynQc__524__526.mp4 \n",
      "\n",
      "[MoviePy] >>>> Building video ./clip/6H4VsHbynQc__526__528.mp4\n",
      "[MoviePy] Writing audio in 6H4VsHbynQc__526__528TEMP_MPY_wvf_snd.mp4\n"
     ]
    },
    {
     "name": "stderr",
     "output_type": "stream",
     "text": [
      "100%|██████████| 45/45 [00:00<00:00, 209.74it/s]"
     ]
    },
    {
     "name": "stdout",
     "output_type": "stream",
     "text": [
      "[MoviePy] Done.\n",
      "[MoviePy] Writing video ./clip/6H4VsHbynQc__526__528.mp4\n"
     ]
    },
    {
     "name": "stderr",
     "output_type": "stream",
     "text": [
      "\n",
      "100%|██████████| 60/60 [00:00<00:00, 311.46it/s]\n"
     ]
    },
    {
     "name": "stdout",
     "output_type": "stream",
     "text": [
      "[MoviePy] Done.\n",
      "[MoviePy] >>>> Video ready: ./clip/6H4VsHbynQc__526__528.mp4 \n",
      "\n",
      "[MoviePy] >>>> Building video ./clip/6H4VsHbynQc__528__530.mp4\n",
      "[MoviePy] Writing audio in 6H4VsHbynQc__528__530TEMP_MPY_wvf_snd.mp4\n"
     ]
    },
    {
     "name": "stderr",
     "output_type": "stream",
     "text": [
      "100%|██████████| 45/45 [00:00<00:00, 208.16it/s]"
     ]
    },
    {
     "name": "stdout",
     "output_type": "stream",
     "text": [
      "[MoviePy] Done.\n",
      "[MoviePy] Writing video ./clip/6H4VsHbynQc__528__530.mp4\n"
     ]
    },
    {
     "name": "stderr",
     "output_type": "stream",
     "text": [
      "\n",
      "100%|██████████| 60/60 [00:00<00:00, 290.80it/s]\n"
     ]
    },
    {
     "name": "stdout",
     "output_type": "stream",
     "text": [
      "[MoviePy] Done.\n",
      "[MoviePy] >>>> Video ready: ./clip/6H4VsHbynQc__528__530.mp4 \n",
      "\n",
      "[MoviePy] >>>> Building video ./clip/6H4VsHbynQc__530__532.mp4\n",
      "[MoviePy] Writing audio in 6H4VsHbynQc__530__532TEMP_MPY_wvf_snd.mp4\n"
     ]
    },
    {
     "name": "stderr",
     "output_type": "stream",
     "text": [
      "100%|██████████| 45/45 [00:00<00:00, 208.71it/s]"
     ]
    },
    {
     "name": "stdout",
     "output_type": "stream",
     "text": [
      "[MoviePy] Done.\n",
      "[MoviePy] Writing video ./clip/6H4VsHbynQc__530__532.mp4\n"
     ]
    },
    {
     "name": "stderr",
     "output_type": "stream",
     "text": [
      "\n",
      "100%|██████████| 60/60 [00:00<00:00, 304.16it/s]\n"
     ]
    },
    {
     "name": "stdout",
     "output_type": "stream",
     "text": [
      "[MoviePy] Done.\n",
      "[MoviePy] >>>> Video ready: ./clip/6H4VsHbynQc__530__532.mp4 \n",
      "\n",
      "[MoviePy] >>>> Building video ./clip/6H4VsHbynQc__532__534.mp4\n",
      "[MoviePy] Writing audio in 6H4VsHbynQc__532__534TEMP_MPY_wvf_snd.mp4\n"
     ]
    },
    {
     "name": "stderr",
     "output_type": "stream",
     "text": [
      "100%|██████████| 45/45 [00:00<00:00, 204.13it/s]"
     ]
    },
    {
     "name": "stdout",
     "output_type": "stream",
     "text": [
      "[MoviePy] Done.\n",
      "[MoviePy] Writing video ./clip/6H4VsHbynQc__532__534.mp4\n"
     ]
    },
    {
     "name": "stderr",
     "output_type": "stream",
     "text": [
      "\n",
      "100%|██████████| 60/60 [00:00<00:00, 288.08it/s]\n"
     ]
    },
    {
     "name": "stdout",
     "output_type": "stream",
     "text": [
      "[MoviePy] Done.\n",
      "[MoviePy] >>>> Video ready: ./clip/6H4VsHbynQc__532__534.mp4 \n",
      "\n",
      "[MoviePy] >>>> Building video ./clip/6H4VsHbynQc__534__536.mp4\n",
      "[MoviePy] Writing audio in 6H4VsHbynQc__534__536TEMP_MPY_wvf_snd.mp4\n"
     ]
    },
    {
     "name": "stderr",
     "output_type": "stream",
     "text": [
      "100%|██████████| 45/45 [00:00<00:00, 218.16it/s]"
     ]
    },
    {
     "name": "stdout",
     "output_type": "stream",
     "text": [
      "[MoviePy] Done.\n",
      "[MoviePy] Writing video ./clip/6H4VsHbynQc__534__536.mp4\n"
     ]
    },
    {
     "name": "stderr",
     "output_type": "stream",
     "text": [
      "\n",
      "100%|██████████| 60/60 [00:00<00:00, 265.24it/s]\n"
     ]
    },
    {
     "name": "stdout",
     "output_type": "stream",
     "text": [
      "[MoviePy] Done.\n",
      "[MoviePy] >>>> Video ready: ./clip/6H4VsHbynQc__534__536.mp4 \n",
      "\n",
      "[MoviePy] >>>> Building video ./clip/6H4VsHbynQc__536__538.mp4\n",
      "[MoviePy] Writing audio in 6H4VsHbynQc__536__538TEMP_MPY_wvf_snd.mp4\n"
     ]
    },
    {
     "name": "stderr",
     "output_type": "stream",
     "text": [
      "100%|██████████| 45/45 [00:00<00:00, 190.75it/s]"
     ]
    },
    {
     "name": "stdout",
     "output_type": "stream",
     "text": [
      "[MoviePy] Done.\n",
      "[MoviePy] Writing video ./clip/6H4VsHbynQc__536__538.mp4\n"
     ]
    },
    {
     "name": "stderr",
     "output_type": "stream",
     "text": [
      "\n",
      "100%|██████████| 60/60 [00:00<00:00, 283.14it/s]\n"
     ]
    },
    {
     "name": "stdout",
     "output_type": "stream",
     "text": [
      "[MoviePy] Done.\n",
      "[MoviePy] >>>> Video ready: ./clip/6H4VsHbynQc__536__538.mp4 \n",
      "\n",
      "[MoviePy] >>>> Building video ./clip/6H4VsHbynQc__538__540.mp4\n",
      "[MoviePy] Writing audio in 6H4VsHbynQc__538__540TEMP_MPY_wvf_snd.mp4\n"
     ]
    },
    {
     "name": "stderr",
     "output_type": "stream",
     "text": [
      "100%|██████████| 45/45 [00:00<00:00, 182.08it/s]"
     ]
    },
    {
     "name": "stdout",
     "output_type": "stream",
     "text": [
      "[MoviePy] Done.\n",
      "[MoviePy] Writing video ./clip/6H4VsHbynQc__538__540.mp4\n"
     ]
    },
    {
     "name": "stderr",
     "output_type": "stream",
     "text": [
      "\n",
      "100%|██████████| 60/60 [00:00<00:00, 263.01it/s]\n"
     ]
    },
    {
     "name": "stdout",
     "output_type": "stream",
     "text": [
      "[MoviePy] Done.\n",
      "[MoviePy] >>>> Video ready: ./clip/6H4VsHbynQc__538__540.mp4 \n",
      "\n",
      "[MoviePy] >>>> Building video ./clip/6H4VsHbynQc__540__542.mp4\n",
      "[MoviePy] Writing audio in 6H4VsHbynQc__540__542TEMP_MPY_wvf_snd.mp4\n"
     ]
    },
    {
     "name": "stderr",
     "output_type": "stream",
     "text": [
      "100%|██████████| 45/45 [00:00<00:00, 214.90it/s]"
     ]
    },
    {
     "name": "stdout",
     "output_type": "stream",
     "text": [
      "[MoviePy] Done.\n",
      "[MoviePy] Writing video ./clip/6H4VsHbynQc__540__542.mp4\n"
     ]
    },
    {
     "name": "stderr",
     "output_type": "stream",
     "text": [
      "\n",
      "100%|██████████| 60/60 [00:00<00:00, 310.00it/s]\n"
     ]
    },
    {
     "name": "stdout",
     "output_type": "stream",
     "text": [
      "[MoviePy] Done.\n",
      "[MoviePy] >>>> Video ready: ./clip/6H4VsHbynQc__540__542.mp4 \n",
      "\n",
      "[MoviePy] >>>> Building video ./clip/6H4VsHbynQc__542__544.mp4\n",
      "[MoviePy] Writing audio in 6H4VsHbynQc__542__544TEMP_MPY_wvf_snd.mp4\n"
     ]
    },
    {
     "name": "stderr",
     "output_type": "stream",
     "text": [
      "100%|██████████| 45/45 [00:00<00:00, 199.81it/s]"
     ]
    },
    {
     "name": "stdout",
     "output_type": "stream",
     "text": [
      "[MoviePy] Done.\n",
      "[MoviePy] Writing video ./clip/6H4VsHbynQc__542__544.mp4\n"
     ]
    },
    {
     "name": "stderr",
     "output_type": "stream",
     "text": [
      "\n",
      "100%|██████████| 60/60 [00:00<00:00, 324.93it/s]\n"
     ]
    },
    {
     "name": "stdout",
     "output_type": "stream",
     "text": [
      "[MoviePy] Done.\n",
      "[MoviePy] >>>> Video ready: ./clip/6H4VsHbynQc__542__544.mp4 \n",
      "\n",
      "[MoviePy] >>>> Building video ./clip/6H4VsHbynQc__544__546.mp4\n",
      "[MoviePy] Writing audio in 6H4VsHbynQc__544__546TEMP_MPY_wvf_snd.mp4\n"
     ]
    },
    {
     "name": "stderr",
     "output_type": "stream",
     "text": [
      "100%|██████████| 45/45 [00:00<00:00, 188.04it/s]"
     ]
    },
    {
     "name": "stdout",
     "output_type": "stream",
     "text": [
      "[MoviePy] Done.\n",
      "[MoviePy] Writing video ./clip/6H4VsHbynQc__544__546.mp4\n"
     ]
    },
    {
     "name": "stderr",
     "output_type": "stream",
     "text": [
      "\n",
      "100%|██████████| 60/60 [00:00<00:00, 313.33it/s]\n"
     ]
    },
    {
     "name": "stdout",
     "output_type": "stream",
     "text": [
      "[MoviePy] Done.\n",
      "[MoviePy] >>>> Video ready: ./clip/6H4VsHbynQc__544__546.mp4 \n",
      "\n",
      "[MoviePy] >>>> Building video ./clip/6H4VsHbynQc__546__548.mp4\n",
      "[MoviePy] Writing audio in 6H4VsHbynQc__546__548TEMP_MPY_wvf_snd.mp4\n"
     ]
    },
    {
     "name": "stderr",
     "output_type": "stream",
     "text": [
      "100%|██████████| 45/45 [00:00<00:00, 212.36it/s]"
     ]
    },
    {
     "name": "stdout",
     "output_type": "stream",
     "text": [
      "[MoviePy] Done.\n",
      "[MoviePy] Writing video ./clip/6H4VsHbynQc__546__548.mp4\n"
     ]
    },
    {
     "name": "stderr",
     "output_type": "stream",
     "text": [
      "\n",
      "100%|██████████| 60/60 [00:00<00:00, 290.07it/s]\n"
     ]
    },
    {
     "name": "stdout",
     "output_type": "stream",
     "text": [
      "[MoviePy] Done.\n",
      "[MoviePy] >>>> Video ready: ./clip/6H4VsHbynQc__546__548.mp4 \n",
      "\n",
      "[MoviePy] >>>> Building video ./clip/6H4VsHbynQc__548__550.mp4\n",
      "[MoviePy] Writing audio in 6H4VsHbynQc__548__550TEMP_MPY_wvf_snd.mp4\n"
     ]
    },
    {
     "name": "stderr",
     "output_type": "stream",
     "text": [
      "100%|██████████| 45/45 [00:00<00:00, 190.67it/s]"
     ]
    },
    {
     "name": "stdout",
     "output_type": "stream",
     "text": [
      "[MoviePy] Done.\n",
      "[MoviePy] Writing video ./clip/6H4VsHbynQc__548__550.mp4\n"
     ]
    },
    {
     "name": "stderr",
     "output_type": "stream",
     "text": [
      "\n",
      "100%|██████████| 60/60 [00:00<00:00, 307.17it/s]\n"
     ]
    },
    {
     "name": "stdout",
     "output_type": "stream",
     "text": [
      "[MoviePy] Done.\n",
      "[MoviePy] >>>> Video ready: ./clip/6H4VsHbynQc__548__550.mp4 \n",
      "\n",
      "[MoviePy] >>>> Building video ./clip/6H4VsHbynQc__550__552.mp4\n",
      "[MoviePy] Writing audio in 6H4VsHbynQc__550__552TEMP_MPY_wvf_snd.mp4\n"
     ]
    },
    {
     "name": "stderr",
     "output_type": "stream",
     "text": [
      "100%|██████████| 45/45 [00:00<00:00, 196.45it/s]"
     ]
    },
    {
     "name": "stdout",
     "output_type": "stream",
     "text": [
      "[MoviePy] Done.\n",
      "[MoviePy] Writing video ./clip/6H4VsHbynQc__550__552.mp4\n"
     ]
    },
    {
     "name": "stderr",
     "output_type": "stream",
     "text": [
      "\n",
      "100%|██████████| 60/60 [00:00<00:00, 316.60it/s]\n"
     ]
    },
    {
     "name": "stdout",
     "output_type": "stream",
     "text": [
      "[MoviePy] Done.\n",
      "[MoviePy] >>>> Video ready: ./clip/6H4VsHbynQc__550__552.mp4 \n",
      "\n",
      "[MoviePy] >>>> Building video ./clip/6H4VsHbynQc__552__554.mp4\n",
      "[MoviePy] Writing audio in 6H4VsHbynQc__552__554TEMP_MPY_wvf_snd.mp4\n"
     ]
    },
    {
     "name": "stderr",
     "output_type": "stream",
     "text": [
      "100%|██████████| 45/45 [00:00<00:00, 210.79it/s]"
     ]
    },
    {
     "name": "stdout",
     "output_type": "stream",
     "text": [
      "[MoviePy] Done.\n",
      "[MoviePy] Writing video ./clip/6H4VsHbynQc__552__554.mp4\n"
     ]
    },
    {
     "name": "stderr",
     "output_type": "stream",
     "text": [
      "\n",
      "100%|██████████| 60/60 [00:00<00:00, 326.62it/s]\n"
     ]
    },
    {
     "name": "stdout",
     "output_type": "stream",
     "text": [
      "[MoviePy] Done.\n",
      "[MoviePy] >>>> Video ready: ./clip/6H4VsHbynQc__552__554.mp4 \n",
      "\n",
      "[MoviePy] >>>> Building video ./clip/6H4VsHbynQc__554__556.mp4\n",
      "[MoviePy] Writing audio in 6H4VsHbynQc__554__556TEMP_MPY_wvf_snd.mp4\n"
     ]
    },
    {
     "name": "stderr",
     "output_type": "stream",
     "text": [
      "100%|██████████| 45/45 [00:00<00:00, 219.07it/s]"
     ]
    },
    {
     "name": "stdout",
     "output_type": "stream",
     "text": [
      "[MoviePy] Done.\n",
      "[MoviePy] Writing video ./clip/6H4VsHbynQc__554__556.mp4\n"
     ]
    },
    {
     "name": "stderr",
     "output_type": "stream",
     "text": [
      "\n",
      "100%|██████████| 60/60 [00:00<00:00, 282.04it/s]\n"
     ]
    },
    {
     "name": "stdout",
     "output_type": "stream",
     "text": [
      "[MoviePy] Done.\n",
      "[MoviePy] >>>> Video ready: ./clip/6H4VsHbynQc__554__556.mp4 \n",
      "\n",
      "[MoviePy] >>>> Building video ./clip/6H4VsHbynQc__556__558.mp4\n",
      "[MoviePy] Writing audio in 6H4VsHbynQc__556__558TEMP_MPY_wvf_snd.mp4\n"
     ]
    },
    {
     "name": "stderr",
     "output_type": "stream",
     "text": [
      "100%|██████████| 45/45 [00:00<00:00, 176.86it/s]"
     ]
    },
    {
     "name": "stdout",
     "output_type": "stream",
     "text": [
      "[MoviePy] Done.\n",
      "[MoviePy] Writing video ./clip/6H4VsHbynQc__556__558.mp4\n"
     ]
    },
    {
     "name": "stderr",
     "output_type": "stream",
     "text": [
      "\n",
      "100%|██████████| 60/60 [00:00<00:00, 269.70it/s]\n"
     ]
    },
    {
     "name": "stdout",
     "output_type": "stream",
     "text": [
      "[MoviePy] Done.\n",
      "[MoviePy] >>>> Video ready: ./clip/6H4VsHbynQc__556__558.mp4 \n",
      "\n",
      "[MoviePy] >>>> Building video ./clip/6H4VsHbynQc__558__560.mp4\n",
      "[MoviePy] Writing audio in 6H4VsHbynQc__558__560TEMP_MPY_wvf_snd.mp4\n"
     ]
    },
    {
     "name": "stderr",
     "output_type": "stream",
     "text": [
      "100%|██████████| 45/45 [00:00<00:00, 186.73it/s]"
     ]
    },
    {
     "name": "stdout",
     "output_type": "stream",
     "text": [
      "[MoviePy] Done.\n",
      "[MoviePy] Writing video ./clip/6H4VsHbynQc__558__560.mp4\n"
     ]
    },
    {
     "name": "stderr",
     "output_type": "stream",
     "text": [
      "\n",
      "100%|██████████| 60/60 [00:00<00:00, 264.28it/s]\n"
     ]
    },
    {
     "name": "stdout",
     "output_type": "stream",
     "text": [
      "[MoviePy] Done.\n",
      "[MoviePy] >>>> Video ready: ./clip/6H4VsHbynQc__558__560.mp4 \n",
      "\n",
      "[MoviePy] >>>> Building video ./clip/6H4VsHbynQc__560__562.mp4\n",
      "[MoviePy] Writing audio in 6H4VsHbynQc__560__562TEMP_MPY_wvf_snd.mp4\n"
     ]
    },
    {
     "name": "stderr",
     "output_type": "stream",
     "text": [
      "100%|██████████| 45/45 [00:00<00:00, 190.53it/s]"
     ]
    },
    {
     "name": "stdout",
     "output_type": "stream",
     "text": [
      "[MoviePy] Done.\n",
      "[MoviePy] Writing video ./clip/6H4VsHbynQc__560__562.mp4\n"
     ]
    },
    {
     "name": "stderr",
     "output_type": "stream",
     "text": [
      "\n",
      "100%|██████████| 60/60 [00:00<00:00, 306.19it/s]\n"
     ]
    },
    {
     "name": "stdout",
     "output_type": "stream",
     "text": [
      "[MoviePy] Done.\n",
      "[MoviePy] >>>> Video ready: ./clip/6H4VsHbynQc__560__562.mp4 \n",
      "\n",
      "[MoviePy] >>>> Building video ./clip/6H4VsHbynQc__562__564.mp4\n",
      "[MoviePy] Writing audio in 6H4VsHbynQc__562__564TEMP_MPY_wvf_snd.mp4\n"
     ]
    },
    {
     "name": "stderr",
     "output_type": "stream",
     "text": [
      "100%|██████████| 45/45 [00:00<00:00, 206.76it/s]"
     ]
    },
    {
     "name": "stdout",
     "output_type": "stream",
     "text": [
      "[MoviePy] Done.\n",
      "[MoviePy] Writing video ./clip/6H4VsHbynQc__562__564.mp4\n"
     ]
    },
    {
     "name": "stderr",
     "output_type": "stream",
     "text": [
      "\n",
      "100%|██████████| 60/60 [00:00<00:00, 292.45it/s]\n"
     ]
    },
    {
     "name": "stdout",
     "output_type": "stream",
     "text": [
      "[MoviePy] Done.\n",
      "[MoviePy] >>>> Video ready: ./clip/6H4VsHbynQc__562__564.mp4 \n",
      "\n",
      "[MoviePy] >>>> Building video ./clip/6H4VsHbynQc__564__566.mp4\n",
      "[MoviePy] Writing audio in 6H4VsHbynQc__564__566TEMP_MPY_wvf_snd.mp4\n"
     ]
    },
    {
     "name": "stderr",
     "output_type": "stream",
     "text": [
      "100%|██████████| 45/45 [00:00<00:00, 223.90it/s]"
     ]
    },
    {
     "name": "stdout",
     "output_type": "stream",
     "text": [
      "[MoviePy] Done.\n",
      "[MoviePy] Writing video ./clip/6H4VsHbynQc__564__566.mp4\n"
     ]
    },
    {
     "name": "stderr",
     "output_type": "stream",
     "text": [
      "\n",
      "100%|██████████| 60/60 [00:00<00:00, 298.96it/s]\n"
     ]
    },
    {
     "name": "stdout",
     "output_type": "stream",
     "text": [
      "[MoviePy] Done.\n",
      "[MoviePy] >>>> Video ready: ./clip/6H4VsHbynQc__564__566.mp4 \n",
      "\n",
      "[MoviePy] >>>> Building video ./clip/6H4VsHbynQc__566__568.mp4\n",
      "[MoviePy] Writing audio in 6H4VsHbynQc__566__568TEMP_MPY_wvf_snd.mp4\n"
     ]
    },
    {
     "name": "stderr",
     "output_type": "stream",
     "text": [
      "100%|██████████| 45/45 [00:00<00:00, 203.72it/s]"
     ]
    },
    {
     "name": "stdout",
     "output_type": "stream",
     "text": [
      "[MoviePy] Done.\n",
      "[MoviePy] Writing video ./clip/6H4VsHbynQc__566__568.mp4\n"
     ]
    },
    {
     "name": "stderr",
     "output_type": "stream",
     "text": [
      "\n",
      "100%|██████████| 60/60 [00:00<00:00, 318.87it/s]\n"
     ]
    },
    {
     "name": "stdout",
     "output_type": "stream",
     "text": [
      "[MoviePy] Done.\n",
      "[MoviePy] >>>> Video ready: ./clip/6H4VsHbynQc__566__568.mp4 \n",
      "\n",
      "[MoviePy] >>>> Building video ./clip/6H4VsHbynQc__568__570.mp4\n",
      "[MoviePy] Writing audio in 6H4VsHbynQc__568__570TEMP_MPY_wvf_snd.mp4\n"
     ]
    },
    {
     "name": "stderr",
     "output_type": "stream",
     "text": [
      "100%|██████████| 45/45 [00:00<00:00, 207.24it/s]"
     ]
    },
    {
     "name": "stdout",
     "output_type": "stream",
     "text": [
      "[MoviePy] Done.\n",
      "[MoviePy] Writing video ./clip/6H4VsHbynQc__568__570.mp4\n"
     ]
    },
    {
     "name": "stderr",
     "output_type": "stream",
     "text": [
      "\n",
      "100%|██████████| 60/60 [00:00<00:00, 304.53it/s]\n"
     ]
    },
    {
     "name": "stdout",
     "output_type": "stream",
     "text": [
      "[MoviePy] Done.\n",
      "[MoviePy] >>>> Video ready: ./clip/6H4VsHbynQc__568__570.mp4 \n",
      "\n",
      "[MoviePy] >>>> Building video ./clip/6H4VsHbynQc__570__572.mp4\n",
      "[MoviePy] Writing audio in 6H4VsHbynQc__570__572TEMP_MPY_wvf_snd.mp4\n"
     ]
    },
    {
     "name": "stderr",
     "output_type": "stream",
     "text": [
      "100%|██████████| 45/45 [00:00<00:00, 200.91it/s]"
     ]
    },
    {
     "name": "stdout",
     "output_type": "stream",
     "text": [
      "[MoviePy] Done.\n",
      "[MoviePy] Writing video ./clip/6H4VsHbynQc__570__572.mp4\n"
     ]
    },
    {
     "name": "stderr",
     "output_type": "stream",
     "text": [
      "\n",
      "100%|██████████| 60/60 [00:00<00:00, 300.34it/s]\n"
     ]
    },
    {
     "name": "stdout",
     "output_type": "stream",
     "text": [
      "[MoviePy] Done.\n",
      "[MoviePy] >>>> Video ready: ./clip/6H4VsHbynQc__570__572.mp4 \n",
      "\n",
      "[MoviePy] >>>> Building video ./clip/6H4VsHbynQc__572__574.mp4\n",
      "[MoviePy] Writing audio in 6H4VsHbynQc__572__574TEMP_MPY_wvf_snd.mp4\n"
     ]
    },
    {
     "name": "stderr",
     "output_type": "stream",
     "text": [
      "100%|██████████| 45/45 [00:00<00:00, 179.65it/s]"
     ]
    },
    {
     "name": "stdout",
     "output_type": "stream",
     "text": [
      "[MoviePy] Done.\n",
      "[MoviePy] Writing video ./clip/6H4VsHbynQc__572__574.mp4\n"
     ]
    },
    {
     "name": "stderr",
     "output_type": "stream",
     "text": [
      "\n",
      "100%|██████████| 60/60 [00:00<00:00, 313.15it/s]\n"
     ]
    },
    {
     "name": "stdout",
     "output_type": "stream",
     "text": [
      "[MoviePy] Done.\n",
      "[MoviePy] >>>> Video ready: ./clip/6H4VsHbynQc__572__574.mp4 \n",
      "\n",
      "[MoviePy] >>>> Building video ./clip/6H4VsHbynQc__574__576.mp4\n",
      "[MoviePy] Writing audio in 6H4VsHbynQc__574__576TEMP_MPY_wvf_snd.mp4\n"
     ]
    },
    {
     "name": "stderr",
     "output_type": "stream",
     "text": [
      "100%|██████████| 45/45 [00:00<00:00, 195.87it/s]"
     ]
    },
    {
     "name": "stdout",
     "output_type": "stream",
     "text": [
      "[MoviePy] Done.\n",
      "[MoviePy] Writing video ./clip/6H4VsHbynQc__574__576.mp4\n"
     ]
    },
    {
     "name": "stderr",
     "output_type": "stream",
     "text": [
      "\n",
      "100%|██████████| 60/60 [00:00<00:00, 323.96it/s]\n"
     ]
    },
    {
     "name": "stdout",
     "output_type": "stream",
     "text": [
      "[MoviePy] Done.\n",
      "[MoviePy] >>>> Video ready: ./clip/6H4VsHbynQc__574__576.mp4 \n",
      "\n",
      "[MoviePy] >>>> Building video ./clip/6H4VsHbynQc__576__578.mp4\n",
      "[MoviePy] Writing audio in 6H4VsHbynQc__576__578TEMP_MPY_wvf_snd.mp4\n"
     ]
    },
    {
     "name": "stderr",
     "output_type": "stream",
     "text": [
      "100%|██████████| 45/45 [00:00<00:00, 207.76it/s]"
     ]
    },
    {
     "name": "stdout",
     "output_type": "stream",
     "text": [
      "[MoviePy] Done.\n",
      "[MoviePy] Writing video ./clip/6H4VsHbynQc__576__578.mp4\n"
     ]
    },
    {
     "name": "stderr",
     "output_type": "stream",
     "text": [
      "\n",
      "100%|██████████| 60/60 [00:00<00:00, 307.61it/s]\n"
     ]
    },
    {
     "name": "stdout",
     "output_type": "stream",
     "text": [
      "[MoviePy] Done.\n",
      "[MoviePy] >>>> Video ready: ./clip/6H4VsHbynQc__576__578.mp4 \n",
      "\n",
      "[MoviePy] >>>> Building video ./clip/6H4VsHbynQc__578__580.mp4\n",
      "[MoviePy] Writing audio in 6H4VsHbynQc__578__580TEMP_MPY_wvf_snd.mp4\n"
     ]
    },
    {
     "name": "stderr",
     "output_type": "stream",
     "text": [
      "100%|██████████| 45/45 [00:00<00:00, 202.54it/s]"
     ]
    },
    {
     "name": "stdout",
     "output_type": "stream",
     "text": [
      "[MoviePy] Done.\n",
      "[MoviePy] Writing video ./clip/6H4VsHbynQc__578__580.mp4\n"
     ]
    },
    {
     "name": "stderr",
     "output_type": "stream",
     "text": [
      "\n",
      "100%|██████████| 60/60 [00:00<00:00, 297.75it/s]\n"
     ]
    },
    {
     "name": "stdout",
     "output_type": "stream",
     "text": [
      "[MoviePy] Done.\n",
      "[MoviePy] >>>> Video ready: ./clip/6H4VsHbynQc__578__580.mp4 \n",
      "\n",
      "[MoviePy] >>>> Building video ./clip/6H4VsHbynQc__580__582.mp4\n",
      "[MoviePy] Writing audio in 6H4VsHbynQc__580__582TEMP_MPY_wvf_snd.mp4\n"
     ]
    },
    {
     "name": "stderr",
     "output_type": "stream",
     "text": [
      "100%|██████████| 45/45 [00:00<00:00, 196.59it/s]"
     ]
    },
    {
     "name": "stdout",
     "output_type": "stream",
     "text": [
      "[MoviePy] Done.\n",
      "[MoviePy] Writing video ./clip/6H4VsHbynQc__580__582.mp4\n"
     ]
    },
    {
     "name": "stderr",
     "output_type": "stream",
     "text": [
      "\n",
      "100%|██████████| 60/60 [00:00<00:00, 277.09it/s]\n"
     ]
    },
    {
     "name": "stdout",
     "output_type": "stream",
     "text": [
      "[MoviePy] Done.\n",
      "[MoviePy] >>>> Video ready: ./clip/6H4VsHbynQc__580__582.mp4 \n",
      "\n",
      "[MoviePy] >>>> Building video ./clip/6H4VsHbynQc__582__584.mp4\n",
      "[MoviePy] Writing audio in 6H4VsHbynQc__582__584TEMP_MPY_wvf_snd.mp4\n"
     ]
    },
    {
     "name": "stderr",
     "output_type": "stream",
     "text": [
      "100%|██████████| 45/45 [00:00<00:00, 191.37it/s]"
     ]
    },
    {
     "name": "stdout",
     "output_type": "stream",
     "text": [
      "[MoviePy] Done.\n",
      "[MoviePy] Writing video ./clip/6H4VsHbynQc__582__584.mp4\n"
     ]
    },
    {
     "name": "stderr",
     "output_type": "stream",
     "text": [
      "\n",
      "100%|██████████| 60/60 [00:00<00:00, 295.55it/s]\n"
     ]
    },
    {
     "name": "stdout",
     "output_type": "stream",
     "text": [
      "[MoviePy] Done.\n",
      "[MoviePy] >>>> Video ready: ./clip/6H4VsHbynQc__582__584.mp4 \n",
      "\n",
      "[MoviePy] >>>> Building video ./clip/6H4VsHbynQc__584__586.mp4\n",
      "[MoviePy] Writing audio in 6H4VsHbynQc__584__586TEMP_MPY_wvf_snd.mp4\n"
     ]
    },
    {
     "name": "stderr",
     "output_type": "stream",
     "text": [
      "100%|██████████| 45/45 [00:00<00:00, 186.19it/s]"
     ]
    },
    {
     "name": "stdout",
     "output_type": "stream",
     "text": [
      "[MoviePy] Done.\n",
      "[MoviePy] Writing video ./clip/6H4VsHbynQc__584__586.mp4\n"
     ]
    },
    {
     "name": "stderr",
     "output_type": "stream",
     "text": [
      "\n",
      "100%|██████████| 60/60 [00:00<00:00, 298.47it/s]\n"
     ]
    },
    {
     "name": "stdout",
     "output_type": "stream",
     "text": [
      "[MoviePy] Done.\n",
      "[MoviePy] >>>> Video ready: ./clip/6H4VsHbynQc__584__586.mp4 \n",
      "\n",
      "[MoviePy] >>>> Building video ./clip/6H4VsHbynQc__586__588.mp4\n",
      "[MoviePy] Writing audio in 6H4VsHbynQc__586__588TEMP_MPY_wvf_snd.mp4\n"
     ]
    },
    {
     "name": "stderr",
     "output_type": "stream",
     "text": [
      "100%|██████████| 45/45 [00:00<00:00, 208.75it/s]"
     ]
    },
    {
     "name": "stdout",
     "output_type": "stream",
     "text": [
      "[MoviePy] Done.\n",
      "[MoviePy] Writing video ./clip/6H4VsHbynQc__586__588.mp4\n"
     ]
    },
    {
     "name": "stderr",
     "output_type": "stream",
     "text": [
      "\n",
      "100%|██████████| 60/60 [00:00<00:00, 310.14it/s]\n"
     ]
    },
    {
     "name": "stdout",
     "output_type": "stream",
     "text": [
      "[MoviePy] Done.\n",
      "[MoviePy] >>>> Video ready: ./clip/6H4VsHbynQc__586__588.mp4 \n",
      "\n",
      "[MoviePy] >>>> Building video ./clip/6H4VsHbynQc__588__590.mp4\n",
      "[MoviePy] Writing audio in 6H4VsHbynQc__588__590TEMP_MPY_wvf_snd.mp4\n"
     ]
    },
    {
     "name": "stderr",
     "output_type": "stream",
     "text": [
      "100%|██████████| 45/45 [00:00<00:00, 190.64it/s]"
     ]
    },
    {
     "name": "stdout",
     "output_type": "stream",
     "text": [
      "[MoviePy] Done.\n",
      "[MoviePy] Writing video ./clip/6H4VsHbynQc__588__590.mp4\n"
     ]
    },
    {
     "name": "stderr",
     "output_type": "stream",
     "text": [
      "\n",
      "100%|██████████| 60/60 [00:00<00:00, 285.02it/s]\n"
     ]
    },
    {
     "name": "stdout",
     "output_type": "stream",
     "text": [
      "[MoviePy] Done.\n",
      "[MoviePy] >>>> Video ready: ./clip/6H4VsHbynQc__588__590.mp4 \n",
      "\n",
      "[MoviePy] >>>> Building video ./clip/6H4VsHbynQc__590__592.mp4\n",
      "[MoviePy] Writing audio in 6H4VsHbynQc__590__592TEMP_MPY_wvf_snd.mp4\n"
     ]
    },
    {
     "name": "stderr",
     "output_type": "stream",
     "text": [
      "100%|██████████| 45/45 [00:00<00:00, 186.00it/s]"
     ]
    },
    {
     "name": "stdout",
     "output_type": "stream",
     "text": [
      "[MoviePy] Done.\n",
      "[MoviePy] Writing video ./clip/6H4VsHbynQc__590__592.mp4\n"
     ]
    },
    {
     "name": "stderr",
     "output_type": "stream",
     "text": [
      "\n",
      "100%|██████████| 60/60 [00:00<00:00, 304.81it/s]\n"
     ]
    },
    {
     "name": "stdout",
     "output_type": "stream",
     "text": [
      "[MoviePy] Done.\n",
      "[MoviePy] >>>> Video ready: ./clip/6H4VsHbynQc__590__592.mp4 \n",
      "\n",
      "[MoviePy] >>>> Building video ./clip/6H4VsHbynQc__592__594.mp4\n",
      "[MoviePy] Writing audio in 6H4VsHbynQc__592__594TEMP_MPY_wvf_snd.mp4\n"
     ]
    },
    {
     "name": "stderr",
     "output_type": "stream",
     "text": [
      "100%|██████████| 45/45 [00:00<00:00, 197.88it/s]"
     ]
    },
    {
     "name": "stdout",
     "output_type": "stream",
     "text": [
      "[MoviePy] Done.\n",
      "[MoviePy] Writing video ./clip/6H4VsHbynQc__592__594.mp4\n"
     ]
    },
    {
     "name": "stderr",
     "output_type": "stream",
     "text": [
      "\n",
      "100%|██████████| 60/60 [00:00<00:00, 285.14it/s]\n"
     ]
    },
    {
     "name": "stdout",
     "output_type": "stream",
     "text": [
      "[MoviePy] Done.\n",
      "[MoviePy] >>>> Video ready: ./clip/6H4VsHbynQc__592__594.mp4 \n",
      "\n",
      "[MoviePy] >>>> Building video ./clip/6H4VsHbynQc__594__596.mp4\n",
      "[MoviePy] Writing audio in 6H4VsHbynQc__594__596TEMP_MPY_wvf_snd.mp4\n"
     ]
    },
    {
     "name": "stderr",
     "output_type": "stream",
     "text": [
      "100%|██████████| 45/45 [00:00<00:00, 211.05it/s]"
     ]
    },
    {
     "name": "stdout",
     "output_type": "stream",
     "text": [
      "[MoviePy] Done.\n",
      "[MoviePy] Writing video ./clip/6H4VsHbynQc__594__596.mp4\n"
     ]
    },
    {
     "name": "stderr",
     "output_type": "stream",
     "text": [
      "\n",
      "100%|██████████| 60/60 [00:00<00:00, 301.86it/s]\n"
     ]
    },
    {
     "name": "stdout",
     "output_type": "stream",
     "text": [
      "[MoviePy] Done.\n",
      "[MoviePy] >>>> Video ready: ./clip/6H4VsHbynQc__594__596.mp4 \n",
      "\n",
      "[MoviePy] >>>> Building video ./clip/6H4VsHbynQc__596__598.mp4\n",
      "[MoviePy] Writing audio in 6H4VsHbynQc__596__598TEMP_MPY_wvf_snd.mp4\n"
     ]
    },
    {
     "name": "stderr",
     "output_type": "stream",
     "text": [
      "100%|██████████| 45/45 [00:00<00:00, 202.63it/s]"
     ]
    },
    {
     "name": "stdout",
     "output_type": "stream",
     "text": [
      "[MoviePy] Done.\n",
      "[MoviePy] Writing video ./clip/6H4VsHbynQc__596__598.mp4\n"
     ]
    },
    {
     "name": "stderr",
     "output_type": "stream",
     "text": [
      "\n",
      "100%|██████████| 60/60 [00:00<00:00, 255.08it/s]\n"
     ]
    },
    {
     "name": "stdout",
     "output_type": "stream",
     "text": [
      "[MoviePy] Done.\n",
      "[MoviePy] >>>> Video ready: ./clip/6H4VsHbynQc__596__598.mp4 \n",
      "\n",
      "[MoviePy] >>>> Building video ./clip/6H4VsHbynQc__598__600.mp4\n",
      "[MoviePy] Writing audio in 6H4VsHbynQc__598__600TEMP_MPY_wvf_snd.mp4\n"
     ]
    },
    {
     "name": "stderr",
     "output_type": "stream",
     "text": [
      "100%|██████████| 45/45 [00:00<00:00, 211.90it/s]"
     ]
    },
    {
     "name": "stdout",
     "output_type": "stream",
     "text": [
      "[MoviePy] Done.\n",
      "[MoviePy] Writing video ./clip/6H4VsHbynQc__598__600.mp4\n"
     ]
    },
    {
     "name": "stderr",
     "output_type": "stream",
     "text": [
      "\n",
      "100%|██████████| 60/60 [00:00<00:00, 293.60it/s]\n"
     ]
    },
    {
     "name": "stdout",
     "output_type": "stream",
     "text": [
      "[MoviePy] Done.\n",
      "[MoviePy] >>>> Video ready: ./clip/6H4VsHbynQc__598__600.mp4 \n",
      "\n",
      "[MoviePy] >>>> Building video ./clip/6H4VsHbynQc__600__602.mp4\n",
      "[MoviePy] Writing audio in 6H4VsHbynQc__600__602TEMP_MPY_wvf_snd.mp4\n"
     ]
    },
    {
     "name": "stderr",
     "output_type": "stream",
     "text": [
      "100%|██████████| 45/45 [00:00<00:00, 195.07it/s]"
     ]
    },
    {
     "name": "stdout",
     "output_type": "stream",
     "text": [
      "[MoviePy] Done.\n",
      "[MoviePy] Writing video ./clip/6H4VsHbynQc__600__602.mp4\n"
     ]
    },
    {
     "name": "stderr",
     "output_type": "stream",
     "text": [
      "\n",
      "100%|██████████| 60/60 [00:00<00:00, 282.47it/s]\n"
     ]
    },
    {
     "name": "stdout",
     "output_type": "stream",
     "text": [
      "[MoviePy] Done.\n",
      "[MoviePy] >>>> Video ready: ./clip/6H4VsHbynQc__600__602.mp4 \n",
      "\n",
      "[MoviePy] >>>> Building video ./clip/6H4VsHbynQc__602__604.mp4\n",
      "[MoviePy] Writing audio in 6H4VsHbynQc__602__604TEMP_MPY_wvf_snd.mp4\n"
     ]
    },
    {
     "name": "stderr",
     "output_type": "stream",
     "text": [
      "100%|██████████| 45/45 [00:00<00:00, 253.84it/s]"
     ]
    },
    {
     "name": "stdout",
     "output_type": "stream",
     "text": [
      "[MoviePy] Done.\n",
      "[MoviePy] Writing video ./clip/6H4VsHbynQc__602__604.mp4\n"
     ]
    },
    {
     "name": "stderr",
     "output_type": "stream",
     "text": [
      "\n",
      "100%|██████████| 60/60 [00:00<00:00, 299.58it/s]\n"
     ]
    },
    {
     "name": "stdout",
     "output_type": "stream",
     "text": [
      "[MoviePy] Done.\n",
      "[MoviePy] >>>> Video ready: ./clip/6H4VsHbynQc__602__604.mp4 \n",
      "\n",
      "[MoviePy] >>>> Building video ./clip/6H4VsHbynQc__604__606.mp4\n",
      "[MoviePy] Writing audio in 6H4VsHbynQc__604__606TEMP_MPY_wvf_snd.mp4\n"
     ]
    },
    {
     "name": "stderr",
     "output_type": "stream",
     "text": [
      "100%|██████████| 45/45 [00:00<00:00, 202.70it/s]"
     ]
    },
    {
     "name": "stdout",
     "output_type": "stream",
     "text": [
      "[MoviePy] Done.\n",
      "[MoviePy] Writing video ./clip/6H4VsHbynQc__604__606.mp4\n"
     ]
    },
    {
     "name": "stderr",
     "output_type": "stream",
     "text": [
      "\n",
      "100%|██████████| 60/60 [00:00<00:00, 268.90it/s]\n"
     ]
    },
    {
     "name": "stdout",
     "output_type": "stream",
     "text": [
      "[MoviePy] Done.\n",
      "[MoviePy] >>>> Video ready: ./clip/6H4VsHbynQc__604__606.mp4 \n",
      "\n",
      "[MoviePy] >>>> Building video ./clip/6H4VsHbynQc__606__608.mp4\n",
      "[MoviePy] Writing audio in 6H4VsHbynQc__606__608TEMP_MPY_wvf_snd.mp4\n"
     ]
    },
    {
     "name": "stderr",
     "output_type": "stream",
     "text": [
      "100%|██████████| 45/45 [00:00<00:00, 202.30it/s]"
     ]
    },
    {
     "name": "stdout",
     "output_type": "stream",
     "text": [
      "[MoviePy] Done.\n",
      "[MoviePy] Writing video ./clip/6H4VsHbynQc__606__608.mp4\n"
     ]
    },
    {
     "name": "stderr",
     "output_type": "stream",
     "text": [
      "\n",
      "100%|██████████| 60/60 [00:00<00:00, 299.04it/s]\n"
     ]
    },
    {
     "name": "stdout",
     "output_type": "stream",
     "text": [
      "[MoviePy] Done.\n",
      "[MoviePy] >>>> Video ready: ./clip/6H4VsHbynQc__606__608.mp4 \n",
      "\n",
      "[MoviePy] >>>> Building video ./clip/6H4VsHbynQc__608__610.mp4\n",
      "[MoviePy] Writing audio in 6H4VsHbynQc__608__610TEMP_MPY_wvf_snd.mp4\n"
     ]
    },
    {
     "name": "stderr",
     "output_type": "stream",
     "text": [
      "100%|██████████| 45/45 [00:00<00:00, 184.78it/s]"
     ]
    },
    {
     "name": "stdout",
     "output_type": "stream",
     "text": [
      "[MoviePy] Done.\n",
      "[MoviePy] Writing video ./clip/6H4VsHbynQc__608__610.mp4\n"
     ]
    },
    {
     "name": "stderr",
     "output_type": "stream",
     "text": [
      "\n",
      "100%|██████████| 60/60 [00:00<00:00, 303.04it/s]\n"
     ]
    },
    {
     "name": "stdout",
     "output_type": "stream",
     "text": [
      "[MoviePy] Done.\n",
      "[MoviePy] >>>> Video ready: ./clip/6H4VsHbynQc__608__610.mp4 \n",
      "\n",
      "[MoviePy] >>>> Building video ./clip/6H4VsHbynQc__610__612.mp4\n",
      "[MoviePy] Writing audio in 6H4VsHbynQc__610__612TEMP_MPY_wvf_snd.mp4\n"
     ]
    },
    {
     "name": "stderr",
     "output_type": "stream",
     "text": [
      "100%|██████████| 45/45 [00:00<00:00, 188.23it/s]"
     ]
    },
    {
     "name": "stdout",
     "output_type": "stream",
     "text": [
      "[MoviePy] Done.\n",
      "[MoviePy] Writing video ./clip/6H4VsHbynQc__610__612.mp4\n"
     ]
    },
    {
     "name": "stderr",
     "output_type": "stream",
     "text": [
      "\n",
      "100%|██████████| 60/60 [00:00<00:00, 308.08it/s]\n"
     ]
    },
    {
     "name": "stdout",
     "output_type": "stream",
     "text": [
      "[MoviePy] Done.\n",
      "[MoviePy] >>>> Video ready: ./clip/6H4VsHbynQc__610__612.mp4 \n",
      "\n",
      "[MoviePy] >>>> Building video ./clip/6H4VsHbynQc__612__614.mp4\n",
      "[MoviePy] Writing audio in 6H4VsHbynQc__612__614TEMP_MPY_wvf_snd.mp4\n"
     ]
    },
    {
     "name": "stderr",
     "output_type": "stream",
     "text": [
      "100%|██████████| 45/45 [00:00<00:00, 200.45it/s]"
     ]
    },
    {
     "name": "stdout",
     "output_type": "stream",
     "text": [
      "[MoviePy] Done.\n",
      "[MoviePy] Writing video ./clip/6H4VsHbynQc__612__614.mp4\n"
     ]
    },
    {
     "name": "stderr",
     "output_type": "stream",
     "text": [
      "\n",
      "100%|██████████| 60/60 [00:00<00:00, 287.19it/s]\n"
     ]
    },
    {
     "name": "stdout",
     "output_type": "stream",
     "text": [
      "[MoviePy] Done.\n",
      "[MoviePy] >>>> Video ready: ./clip/6H4VsHbynQc__612__614.mp4 \n",
      "\n",
      "[MoviePy] >>>> Building video ./clip/6H4VsHbynQc__614__616.mp4\n",
      "[MoviePy] Writing audio in 6H4VsHbynQc__614__616TEMP_MPY_wvf_snd.mp4\n"
     ]
    },
    {
     "name": "stderr",
     "output_type": "stream",
     "text": [
      "100%|██████████| 45/45 [00:00<00:00, 205.75it/s]"
     ]
    },
    {
     "name": "stdout",
     "output_type": "stream",
     "text": [
      "[MoviePy] Done.\n",
      "[MoviePy] Writing video ./clip/6H4VsHbynQc__614__616.mp4\n"
     ]
    },
    {
     "name": "stderr",
     "output_type": "stream",
     "text": [
      "\n",
      "100%|██████████| 60/60 [00:00<00:00, 267.44it/s]\n"
     ]
    },
    {
     "name": "stdout",
     "output_type": "stream",
     "text": [
      "[MoviePy] Done.\n",
      "[MoviePy] >>>> Video ready: ./clip/6H4VsHbynQc__614__616.mp4 \n",
      "\n",
      "[MoviePy] >>>> Building video ./clip/6H4VsHbynQc__616__618.mp4\n",
      "[MoviePy] Writing audio in 6H4VsHbynQc__616__618TEMP_MPY_wvf_snd.mp4\n"
     ]
    },
    {
     "name": "stderr",
     "output_type": "stream",
     "text": [
      "100%|██████████| 45/45 [00:00<00:00, 187.03it/s]"
     ]
    },
    {
     "name": "stdout",
     "output_type": "stream",
     "text": [
      "[MoviePy] Done.\n",
      "[MoviePy] Writing video ./clip/6H4VsHbynQc__616__618.mp4\n"
     ]
    },
    {
     "name": "stderr",
     "output_type": "stream",
     "text": [
      "\n",
      "100%|██████████| 60/60 [00:00<00:00, 289.77it/s]\n"
     ]
    },
    {
     "name": "stdout",
     "output_type": "stream",
     "text": [
      "[MoviePy] Done.\n",
      "[MoviePy] >>>> Video ready: ./clip/6H4VsHbynQc__616__618.mp4 \n",
      "\n",
      "[MoviePy] >>>> Building video ./clip/6H4VsHbynQc__618__620.mp4\n",
      "[MoviePy] Writing audio in 6H4VsHbynQc__618__620TEMP_MPY_wvf_snd.mp4\n"
     ]
    },
    {
     "name": "stderr",
     "output_type": "stream",
     "text": [
      "100%|██████████| 45/45 [00:00<00:00, 183.36it/s]"
     ]
    },
    {
     "name": "stdout",
     "output_type": "stream",
     "text": [
      "[MoviePy] Done.\n",
      "[MoviePy] Writing video ./clip/6H4VsHbynQc__618__620.mp4\n"
     ]
    },
    {
     "name": "stderr",
     "output_type": "stream",
     "text": [
      "\n",
      "100%|██████████| 60/60 [00:00<00:00, 276.07it/s]\n"
     ]
    },
    {
     "name": "stdout",
     "output_type": "stream",
     "text": [
      "[MoviePy] Done.\n",
      "[MoviePy] >>>> Video ready: ./clip/6H4VsHbynQc__618__620.mp4 \n",
      "\n",
      "[MoviePy] >>>> Building video ./clip/6H4VsHbynQc__620__622.mp4\n",
      "[MoviePy] Writing audio in 6H4VsHbynQc__620__622TEMP_MPY_wvf_snd.mp4\n"
     ]
    },
    {
     "name": "stderr",
     "output_type": "stream",
     "text": [
      "100%|██████████| 45/45 [00:00<00:00, 202.11it/s]"
     ]
    },
    {
     "name": "stdout",
     "output_type": "stream",
     "text": [
      "[MoviePy] Done.\n",
      "[MoviePy] Writing video ./clip/6H4VsHbynQc__620__622.mp4\n"
     ]
    },
    {
     "name": "stderr",
     "output_type": "stream",
     "text": [
      "\n",
      "100%|██████████| 60/60 [00:00<00:00, 275.69it/s]\n"
     ]
    },
    {
     "name": "stdout",
     "output_type": "stream",
     "text": [
      "[MoviePy] Done.\n",
      "[MoviePy] >>>> Video ready: ./clip/6H4VsHbynQc__620__622.mp4 \n",
      "\n",
      "[MoviePy] >>>> Building video ./clip/6H4VsHbynQc__622__624.mp4\n",
      "[MoviePy] Writing audio in 6H4VsHbynQc__622__624TEMP_MPY_wvf_snd.mp4\n"
     ]
    },
    {
     "name": "stderr",
     "output_type": "stream",
     "text": [
      "100%|██████████| 45/45 [00:00<00:00, 210.32it/s]"
     ]
    },
    {
     "name": "stdout",
     "output_type": "stream",
     "text": [
      "[MoviePy] Done.\n",
      "[MoviePy] Writing video ./clip/6H4VsHbynQc__622__624.mp4\n"
     ]
    },
    {
     "name": "stderr",
     "output_type": "stream",
     "text": [
      "\n",
      "100%|██████████| 60/60 [00:00<00:00, 298.29it/s]\n"
     ]
    },
    {
     "name": "stdout",
     "output_type": "stream",
     "text": [
      "[MoviePy] Done.\n",
      "[MoviePy] >>>> Video ready: ./clip/6H4VsHbynQc__622__624.mp4 \n",
      "\n",
      "[MoviePy] >>>> Building video ./clip/6H4VsHbynQc__624__626.mp4\n",
      "[MoviePy] Writing audio in 6H4VsHbynQc__624__626TEMP_MPY_wvf_snd.mp4\n"
     ]
    },
    {
     "name": "stderr",
     "output_type": "stream",
     "text": [
      "100%|██████████| 45/45 [00:00<00:00, 201.54it/s]"
     ]
    },
    {
     "name": "stdout",
     "output_type": "stream",
     "text": [
      "[MoviePy] Done.\n",
      "[MoviePy] Writing video ./clip/6H4VsHbynQc__624__626.mp4\n"
     ]
    },
    {
     "name": "stderr",
     "output_type": "stream",
     "text": [
      "\n",
      "100%|██████████| 60/60 [00:00<00:00, 297.97it/s]\n"
     ]
    },
    {
     "name": "stdout",
     "output_type": "stream",
     "text": [
      "[MoviePy] Done.\n",
      "[MoviePy] >>>> Video ready: ./clip/6H4VsHbynQc__624__626.mp4 \n",
      "\n",
      "[MoviePy] >>>> Building video ./clip/6H4VsHbynQc__626__628.mp4\n",
      "[MoviePy] Writing audio in 6H4VsHbynQc__626__628TEMP_MPY_wvf_snd.mp4\n"
     ]
    },
    {
     "name": "stderr",
     "output_type": "stream",
     "text": [
      "100%|██████████| 45/45 [00:00<00:00, 218.03it/s]"
     ]
    },
    {
     "name": "stdout",
     "output_type": "stream",
     "text": [
      "[MoviePy] Done.\n",
      "[MoviePy] Writing video ./clip/6H4VsHbynQc__626__628.mp4\n"
     ]
    },
    {
     "name": "stderr",
     "output_type": "stream",
     "text": [
      "\n",
      "100%|██████████| 60/60 [00:00<00:00, 299.23it/s]\n"
     ]
    },
    {
     "name": "stdout",
     "output_type": "stream",
     "text": [
      "[MoviePy] Done.\n",
      "[MoviePy] >>>> Video ready: ./clip/6H4VsHbynQc__626__628.mp4 \n",
      "\n",
      "[MoviePy] >>>> Building video ./clip/6H4VsHbynQc__628__630.mp4\n",
      "[MoviePy] Writing audio in 6H4VsHbynQc__628__630TEMP_MPY_wvf_snd.mp4\n"
     ]
    },
    {
     "name": "stderr",
     "output_type": "stream",
     "text": [
      "100%|██████████| 45/45 [00:00<00:00, 189.88it/s]"
     ]
    },
    {
     "name": "stdout",
     "output_type": "stream",
     "text": [
      "[MoviePy] Done.\n",
      "[MoviePy] Writing video ./clip/6H4VsHbynQc__628__630.mp4\n"
     ]
    },
    {
     "name": "stderr",
     "output_type": "stream",
     "text": [
      "\n",
      "100%|██████████| 60/60 [00:00<00:00, 306.62it/s]\n"
     ]
    },
    {
     "name": "stdout",
     "output_type": "stream",
     "text": [
      "[MoviePy] Done.\n",
      "[MoviePy] >>>> Video ready: ./clip/6H4VsHbynQc__628__630.mp4 \n",
      "\n",
      "[MoviePy] >>>> Building video ./clip/6H4VsHbynQc__630__632.mp4\n",
      "[MoviePy] Writing audio in 6H4VsHbynQc__630__632TEMP_MPY_wvf_snd.mp4\n"
     ]
    },
    {
     "name": "stderr",
     "output_type": "stream",
     "text": [
      "100%|██████████| 45/45 [00:00<00:00, 214.61it/s]"
     ]
    },
    {
     "name": "stdout",
     "output_type": "stream",
     "text": [
      "[MoviePy] Done.\n",
      "[MoviePy] Writing video ./clip/6H4VsHbynQc__630__632.mp4\n"
     ]
    },
    {
     "name": "stderr",
     "output_type": "stream",
     "text": [
      "\n",
      "100%|██████████| 60/60 [00:00<00:00, 281.87it/s]\n"
     ]
    },
    {
     "name": "stdout",
     "output_type": "stream",
     "text": [
      "[MoviePy] Done.\n",
      "[MoviePy] >>>> Video ready: ./clip/6H4VsHbynQc__630__632.mp4 \n",
      "\n",
      "[MoviePy] >>>> Building video ./clip/6H4VsHbynQc__632__634.mp4\n",
      "[MoviePy] Writing audio in 6H4VsHbynQc__632__634TEMP_MPY_wvf_snd.mp4\n"
     ]
    },
    {
     "name": "stderr",
     "output_type": "stream",
     "text": [
      "100%|██████████| 45/45 [00:00<00:00, 198.00it/s]"
     ]
    },
    {
     "name": "stdout",
     "output_type": "stream",
     "text": [
      "[MoviePy] Done.\n",
      "[MoviePy] Writing video ./clip/6H4VsHbynQc__632__634.mp4\n"
     ]
    },
    {
     "name": "stderr",
     "output_type": "stream",
     "text": [
      "\n",
      "100%|██████████| 60/60 [00:00<00:00, 308.75it/s]\n"
     ]
    },
    {
     "name": "stdout",
     "output_type": "stream",
     "text": [
      "[MoviePy] Done.\n",
      "[MoviePy] >>>> Video ready: ./clip/6H4VsHbynQc__632__634.mp4 \n",
      "\n",
      "[MoviePy] >>>> Building video ./clip/6H4VsHbynQc__634__636.mp4\n",
      "[MoviePy] Writing audio in 6H4VsHbynQc__634__636TEMP_MPY_wvf_snd.mp4\n"
     ]
    },
    {
     "name": "stderr",
     "output_type": "stream",
     "text": [
      "100%|██████████| 45/45 [00:00<00:00, 181.51it/s]"
     ]
    },
    {
     "name": "stdout",
     "output_type": "stream",
     "text": [
      "[MoviePy] Done.\n",
      "[MoviePy] Writing video ./clip/6H4VsHbynQc__634__636.mp4\n"
     ]
    },
    {
     "name": "stderr",
     "output_type": "stream",
     "text": [
      "\n",
      "100%|██████████| 60/60 [00:00<00:00, 246.94it/s]\n"
     ]
    },
    {
     "name": "stdout",
     "output_type": "stream",
     "text": [
      "[MoviePy] Done.\n",
      "[MoviePy] >>>> Video ready: ./clip/6H4VsHbynQc__634__636.mp4 \n",
      "\n",
      "[MoviePy] >>>> Building video ./clip/6H4VsHbynQc__636__638.mp4\n",
      "[MoviePy] Writing audio in 6H4VsHbynQc__636__638TEMP_MPY_wvf_snd.mp4\n"
     ]
    },
    {
     "name": "stderr",
     "output_type": "stream",
     "text": [
      "100%|██████████| 45/45 [00:00<00:00, 190.01it/s]"
     ]
    },
    {
     "name": "stdout",
     "output_type": "stream",
     "text": [
      "[MoviePy] Done.\n",
      "[MoviePy] Writing video ./clip/6H4VsHbynQc__636__638.mp4\n"
     ]
    },
    {
     "name": "stderr",
     "output_type": "stream",
     "text": [
      "\n",
      "100%|██████████| 60/60 [00:00<00:00, 287.96it/s]\n"
     ]
    },
    {
     "name": "stdout",
     "output_type": "stream",
     "text": [
      "[MoviePy] Done.\n",
      "[MoviePy] >>>> Video ready: ./clip/6H4VsHbynQc__636__638.mp4 \n",
      "\n",
      "[MoviePy] >>>> Building video ./clip/6H4VsHbynQc__638__640.mp4\n",
      "[MoviePy] Writing audio in 6H4VsHbynQc__638__640TEMP_MPY_wvf_snd.mp4\n"
     ]
    },
    {
     "name": "stderr",
     "output_type": "stream",
     "text": [
      "100%|██████████| 45/45 [00:00<00:00, 187.74it/s]"
     ]
    },
    {
     "name": "stdout",
     "output_type": "stream",
     "text": [
      "[MoviePy] Done.\n",
      "[MoviePy] Writing video ./clip/6H4VsHbynQc__638__640.mp4\n"
     ]
    },
    {
     "name": "stderr",
     "output_type": "stream",
     "text": [
      "\n",
      "100%|██████████| 60/60 [00:00<00:00, 305.96it/s]\n"
     ]
    },
    {
     "name": "stdout",
     "output_type": "stream",
     "text": [
      "[MoviePy] Done.\n",
      "[MoviePy] >>>> Video ready: ./clip/6H4VsHbynQc__638__640.mp4 \n",
      "\n",
      "[MoviePy] >>>> Building video ./clip/6H4VsHbynQc__640__642.mp4\n",
      "[MoviePy] Writing audio in 6H4VsHbynQc__640__642TEMP_MPY_wvf_snd.mp4\n"
     ]
    },
    {
     "name": "stderr",
     "output_type": "stream",
     "text": [
      "100%|██████████| 45/45 [00:00<00:00, 204.41it/s]"
     ]
    },
    {
     "name": "stdout",
     "output_type": "stream",
     "text": [
      "[MoviePy] Done.\n",
      "[MoviePy] Writing video ./clip/6H4VsHbynQc__640__642.mp4\n"
     ]
    },
    {
     "name": "stderr",
     "output_type": "stream",
     "text": [
      "\n",
      "100%|██████████| 60/60 [00:00<00:00, 276.72it/s]\n"
     ]
    },
    {
     "name": "stdout",
     "output_type": "stream",
     "text": [
      "[MoviePy] Done.\n",
      "[MoviePy] >>>> Video ready: ./clip/6H4VsHbynQc__640__642.mp4 \n",
      "\n",
      "[MoviePy] >>>> Building video ./clip/6H4VsHbynQc__642__644.mp4\n",
      "[MoviePy] Writing audio in 6H4VsHbynQc__642__644TEMP_MPY_wvf_snd.mp4\n"
     ]
    },
    {
     "name": "stderr",
     "output_type": "stream",
     "text": [
      "100%|██████████| 45/45 [00:00<00:00, 176.01it/s]"
     ]
    },
    {
     "name": "stdout",
     "output_type": "stream",
     "text": [
      "[MoviePy] Done.\n",
      "[MoviePy] Writing video ./clip/6H4VsHbynQc__642__644.mp4\n"
     ]
    },
    {
     "name": "stderr",
     "output_type": "stream",
     "text": [
      "\n",
      "100%|██████████| 60/60 [00:00<00:00, 263.01it/s]\n"
     ]
    },
    {
     "name": "stdout",
     "output_type": "stream",
     "text": [
      "[MoviePy] Done.\n",
      "[MoviePy] >>>> Video ready: ./clip/6H4VsHbynQc__642__644.mp4 \n",
      "\n",
      "[MoviePy] >>>> Building video ./clip/6H4VsHbynQc__644__646.mp4\n",
      "[MoviePy] Writing audio in 6H4VsHbynQc__644__646TEMP_MPY_wvf_snd.mp4\n"
     ]
    },
    {
     "name": "stderr",
     "output_type": "stream",
     "text": [
      "100%|██████████| 45/45 [00:00<00:00, 207.08it/s]"
     ]
    },
    {
     "name": "stdout",
     "output_type": "stream",
     "text": [
      "[MoviePy] Done.\n",
      "[MoviePy] Writing video ./clip/6H4VsHbynQc__644__646.mp4\n"
     ]
    },
    {
     "name": "stderr",
     "output_type": "stream",
     "text": [
      "\n",
      "100%|██████████| 60/60 [00:00<00:00, 282.45it/s]\n"
     ]
    },
    {
     "name": "stdout",
     "output_type": "stream",
     "text": [
      "[MoviePy] Done.\n",
      "[MoviePy] >>>> Video ready: ./clip/6H4VsHbynQc__644__646.mp4 \n",
      "\n",
      "[MoviePy] >>>> Building video ./clip/6H4VsHbynQc__646__648.mp4\n",
      "[MoviePy] Writing audio in 6H4VsHbynQc__646__648TEMP_MPY_wvf_snd.mp4\n"
     ]
    },
    {
     "name": "stderr",
     "output_type": "stream",
     "text": [
      "100%|██████████| 45/45 [00:00<00:00, 206.67it/s]"
     ]
    },
    {
     "name": "stdout",
     "output_type": "stream",
     "text": [
      "[MoviePy] Done.\n",
      "[MoviePy] Writing video ./clip/6H4VsHbynQc__646__648.mp4\n"
     ]
    },
    {
     "name": "stderr",
     "output_type": "stream",
     "text": [
      "\n",
      "100%|██████████| 60/60 [00:00<00:00, 287.47it/s]\n"
     ]
    },
    {
     "name": "stdout",
     "output_type": "stream",
     "text": [
      "[MoviePy] Done.\n",
      "[MoviePy] >>>> Video ready: ./clip/6H4VsHbynQc__646__648.mp4 \n",
      "\n",
      "[MoviePy] >>>> Building video ./clip/6H4VsHbynQc__648__650.mp4\n",
      "[MoviePy] Writing audio in 6H4VsHbynQc__648__650TEMP_MPY_wvf_snd.mp4\n"
     ]
    },
    {
     "name": "stderr",
     "output_type": "stream",
     "text": [
      "100%|██████████| 45/45 [00:00<00:00, 206.09it/s]"
     ]
    },
    {
     "name": "stdout",
     "output_type": "stream",
     "text": [
      "[MoviePy] Done.\n",
      "[MoviePy] Writing video ./clip/6H4VsHbynQc__648__650.mp4\n"
     ]
    },
    {
     "name": "stderr",
     "output_type": "stream",
     "text": [
      "\n",
      "100%|██████████| 60/60 [00:00<00:00, 301.80it/s]\n"
     ]
    },
    {
     "name": "stdout",
     "output_type": "stream",
     "text": [
      "[MoviePy] Done.\n",
      "[MoviePy] >>>> Video ready: ./clip/6H4VsHbynQc__648__650.mp4 \n",
      "\n",
      "[MoviePy] >>>> Building video ./clip/6H4VsHbynQc__650__652.mp4\n",
      "[MoviePy] Writing audio in 6H4VsHbynQc__650__652TEMP_MPY_wvf_snd.mp4\n"
     ]
    },
    {
     "name": "stderr",
     "output_type": "stream",
     "text": [
      "100%|██████████| 45/45 [00:00<00:00, 205.74it/s]"
     ]
    },
    {
     "name": "stdout",
     "output_type": "stream",
     "text": [
      "[MoviePy] Done.\n",
      "[MoviePy] Writing video ./clip/6H4VsHbynQc__650__652.mp4\n"
     ]
    },
    {
     "name": "stderr",
     "output_type": "stream",
     "text": [
      "\n",
      "100%|██████████| 60/60 [00:00<00:00, 297.70it/s]\n"
     ]
    },
    {
     "name": "stdout",
     "output_type": "stream",
     "text": [
      "[MoviePy] Done.\n",
      "[MoviePy] >>>> Video ready: ./clip/6H4VsHbynQc__650__652.mp4 \n",
      "\n",
      "[MoviePy] >>>> Building video ./clip/6H4VsHbynQc__652__654.mp4\n",
      "[MoviePy] Writing audio in 6H4VsHbynQc__652__654TEMP_MPY_wvf_snd.mp4\n"
     ]
    },
    {
     "name": "stderr",
     "output_type": "stream",
     "text": [
      "100%|██████████| 45/45 [00:00<00:00, 203.84it/s]"
     ]
    },
    {
     "name": "stdout",
     "output_type": "stream",
     "text": [
      "[MoviePy] Done.\n",
      "[MoviePy] Writing video ./clip/6H4VsHbynQc__652__654.mp4\n"
     ]
    },
    {
     "name": "stderr",
     "output_type": "stream",
     "text": [
      "\n",
      "100%|██████████| 60/60 [00:00<00:00, 306.62it/s]\n"
     ]
    },
    {
     "name": "stdout",
     "output_type": "stream",
     "text": [
      "[MoviePy] Done.\n",
      "[MoviePy] >>>> Video ready: ./clip/6H4VsHbynQc__652__654.mp4 \n",
      "\n",
      "[MoviePy] >>>> Building video ./clip/6H4VsHbynQc__654__656.mp4\n",
      "[MoviePy] Writing audio in 6H4VsHbynQc__654__656TEMP_MPY_wvf_snd.mp4\n"
     ]
    },
    {
     "name": "stderr",
     "output_type": "stream",
     "text": [
      "100%|██████████| 45/45 [00:00<00:00, 207.64it/s]"
     ]
    },
    {
     "name": "stdout",
     "output_type": "stream",
     "text": [
      "[MoviePy] Done.\n",
      "[MoviePy] Writing video ./clip/6H4VsHbynQc__654__656.mp4\n"
     ]
    },
    {
     "name": "stderr",
     "output_type": "stream",
     "text": [
      "\n",
      "100%|██████████| 60/60 [00:00<00:00, 313.00it/s]\n"
     ]
    },
    {
     "name": "stdout",
     "output_type": "stream",
     "text": [
      "[MoviePy] Done.\n",
      "[MoviePy] >>>> Video ready: ./clip/6H4VsHbynQc__654__656.mp4 \n",
      "\n",
      "[MoviePy] >>>> Building video ./clip/6H4VsHbynQc__656__658.mp4\n",
      "[MoviePy] Writing audio in 6H4VsHbynQc__656__658TEMP_MPY_wvf_snd.mp4\n"
     ]
    },
    {
     "name": "stderr",
     "output_type": "stream",
     "text": [
      "100%|██████████| 45/45 [00:00<00:00, 209.63it/s]"
     ]
    },
    {
     "name": "stdout",
     "output_type": "stream",
     "text": [
      "[MoviePy] Done.\n",
      "[MoviePy] Writing video ./clip/6H4VsHbynQc__656__658.mp4\n"
     ]
    },
    {
     "name": "stderr",
     "output_type": "stream",
     "text": [
      "\n",
      "100%|██████████| 60/60 [00:00<00:00, 314.92it/s]\n"
     ]
    },
    {
     "name": "stdout",
     "output_type": "stream",
     "text": [
      "[MoviePy] Done.\n",
      "[MoviePy] >>>> Video ready: ./clip/6H4VsHbynQc__656__658.mp4 \n",
      "\n",
      "[MoviePy] >>>> Building video ./clip/6H4VsHbynQc__658__660.mp4\n",
      "[MoviePy] Writing audio in 6H4VsHbynQc__658__660TEMP_MPY_wvf_snd.mp4\n"
     ]
    },
    {
     "name": "stderr",
     "output_type": "stream",
     "text": [
      "100%|██████████| 45/45 [00:00<00:00, 209.69it/s]"
     ]
    },
    {
     "name": "stdout",
     "output_type": "stream",
     "text": [
      "[MoviePy] Done.\n",
      "[MoviePy] Writing video ./clip/6H4VsHbynQc__658__660.mp4\n"
     ]
    },
    {
     "name": "stderr",
     "output_type": "stream",
     "text": [
      "\n",
      "100%|██████████| 60/60 [00:00<00:00, 313.12it/s]\n"
     ]
    },
    {
     "name": "stdout",
     "output_type": "stream",
     "text": [
      "[MoviePy] Done.\n",
      "[MoviePy] >>>> Video ready: ./clip/6H4VsHbynQc__658__660.mp4 \n",
      "\n",
      "[MoviePy] >>>> Building video ./clip/6H4VsHbynQc__660__662.mp4\n",
      "[MoviePy] Writing audio in 6H4VsHbynQc__660__662TEMP_MPY_wvf_snd.mp4\n"
     ]
    },
    {
     "name": "stderr",
     "output_type": "stream",
     "text": [
      "100%|██████████| 45/45 [00:00<00:00, 208.37it/s]"
     ]
    },
    {
     "name": "stdout",
     "output_type": "stream",
     "text": [
      "[MoviePy] Done.\n",
      "[MoviePy] Writing video ./clip/6H4VsHbynQc__660__662.mp4\n"
     ]
    },
    {
     "name": "stderr",
     "output_type": "stream",
     "text": [
      "\n",
      "100%|██████████| 60/60 [00:00<00:00, 309.55it/s]\n"
     ]
    },
    {
     "name": "stdout",
     "output_type": "stream",
     "text": [
      "[MoviePy] Done.\n",
      "[MoviePy] >>>> Video ready: ./clip/6H4VsHbynQc__660__662.mp4 \n",
      "\n",
      "[MoviePy] >>>> Building video ./clip/6H4VsHbynQc__662__664.mp4\n",
      "[MoviePy] Writing audio in 6H4VsHbynQc__662__664TEMP_MPY_wvf_snd.mp4\n"
     ]
    },
    {
     "name": "stderr",
     "output_type": "stream",
     "text": [
      "100%|██████████| 45/45 [00:00<00:00, 203.98it/s]"
     ]
    },
    {
     "name": "stdout",
     "output_type": "stream",
     "text": [
      "[MoviePy] Done.\n",
      "[MoviePy] Writing video ./clip/6H4VsHbynQc__662__664.mp4\n"
     ]
    },
    {
     "name": "stderr",
     "output_type": "stream",
     "text": [
      "\n",
      "100%|██████████| 60/60 [00:00<00:00, 321.70it/s]\n"
     ]
    },
    {
     "name": "stdout",
     "output_type": "stream",
     "text": [
      "[MoviePy] Done.\n",
      "[MoviePy] >>>> Video ready: ./clip/6H4VsHbynQc__662__664.mp4 \n",
      "\n",
      "[MoviePy] >>>> Building video ./clip/6H4VsHbynQc__664__666.mp4\n",
      "[MoviePy] Writing audio in 6H4VsHbynQc__664__666TEMP_MPY_wvf_snd.mp4\n"
     ]
    },
    {
     "name": "stderr",
     "output_type": "stream",
     "text": [
      "100%|██████████| 45/45 [00:00<00:00, 192.56it/s]"
     ]
    },
    {
     "name": "stdout",
     "output_type": "stream",
     "text": [
      "[MoviePy] Done.\n",
      "[MoviePy] Writing video ./clip/6H4VsHbynQc__664__666.mp4\n"
     ]
    },
    {
     "name": "stderr",
     "output_type": "stream",
     "text": [
      "\n",
      "100%|██████████| 60/60 [00:00<00:00, 297.48it/s]\n"
     ]
    },
    {
     "name": "stdout",
     "output_type": "stream",
     "text": [
      "[MoviePy] Done.\n",
      "[MoviePy] >>>> Video ready: ./clip/6H4VsHbynQc__664__666.mp4 \n",
      "\n",
      "[MoviePy] >>>> Building video ./clip/6H4VsHbynQc__666__668.mp4\n",
      "[MoviePy] Writing audio in 6H4VsHbynQc__666__668TEMP_MPY_wvf_snd.mp4\n"
     ]
    },
    {
     "name": "stderr",
     "output_type": "stream",
     "text": [
      "100%|██████████| 45/45 [00:00<00:00, 210.26it/s]"
     ]
    },
    {
     "name": "stdout",
     "output_type": "stream",
     "text": [
      "[MoviePy] Done.\n",
      "[MoviePy] Writing video ./clip/6H4VsHbynQc__666__668.mp4\n"
     ]
    },
    {
     "name": "stderr",
     "output_type": "stream",
     "text": [
      "\n",
      "100%|██████████| 60/60 [00:00<00:00, 283.15it/s]\n"
     ]
    },
    {
     "name": "stdout",
     "output_type": "stream",
     "text": [
      "[MoviePy] Done.\n",
      "[MoviePy] >>>> Video ready: ./clip/6H4VsHbynQc__666__668.mp4 \n",
      "\n",
      "[MoviePy] >>>> Building video ./clip/6H4VsHbynQc__668__670.mp4\n",
      "[MoviePy] Writing audio in 6H4VsHbynQc__668__670TEMP_MPY_wvf_snd.mp4\n"
     ]
    },
    {
     "name": "stderr",
     "output_type": "stream",
     "text": [
      "100%|██████████| 45/45 [00:00<00:00, 192.60it/s]"
     ]
    },
    {
     "name": "stdout",
     "output_type": "stream",
     "text": [
      "[MoviePy] Done.\n",
      "[MoviePy] Writing video ./clip/6H4VsHbynQc__668__670.mp4\n"
     ]
    },
    {
     "name": "stderr",
     "output_type": "stream",
     "text": [
      "\n",
      "100%|██████████| 60/60 [00:00<00:00, 320.00it/s]\n"
     ]
    },
    {
     "name": "stdout",
     "output_type": "stream",
     "text": [
      "[MoviePy] Done.\n",
      "[MoviePy] >>>> Video ready: ./clip/6H4VsHbynQc__668__670.mp4 \n",
      "\n",
      "[MoviePy] >>>> Building video ./clip/6H4VsHbynQc__670__672.mp4\n",
      "[MoviePy] Writing audio in 6H4VsHbynQc__670__672TEMP_MPY_wvf_snd.mp4\n"
     ]
    },
    {
     "name": "stderr",
     "output_type": "stream",
     "text": [
      "100%|██████████| 45/45 [00:00<00:00, 206.40it/s]"
     ]
    },
    {
     "name": "stdout",
     "output_type": "stream",
     "text": [
      "[MoviePy] Done.\n",
      "[MoviePy] Writing video ./clip/6H4VsHbynQc__670__672.mp4\n"
     ]
    },
    {
     "name": "stderr",
     "output_type": "stream",
     "text": [
      "\n",
      "100%|██████████| 60/60 [00:00<00:00, 322.15it/s]\n"
     ]
    },
    {
     "name": "stdout",
     "output_type": "stream",
     "text": [
      "[MoviePy] Done.\n",
      "[MoviePy] >>>> Video ready: ./clip/6H4VsHbynQc__670__672.mp4 \n",
      "\n",
      "[MoviePy] >>>> Building video ./clip/6H4VsHbynQc__672__674.mp4\n",
      "[MoviePy] Writing audio in 6H4VsHbynQc__672__674TEMP_MPY_wvf_snd.mp4\n"
     ]
    },
    {
     "name": "stderr",
     "output_type": "stream",
     "text": [
      "100%|██████████| 45/45 [00:00<00:00, 207.85it/s]"
     ]
    },
    {
     "name": "stdout",
     "output_type": "stream",
     "text": [
      "[MoviePy] Done.\n",
      "[MoviePy] Writing video ./clip/6H4VsHbynQc__672__674.mp4\n"
     ]
    },
    {
     "name": "stderr",
     "output_type": "stream",
     "text": [
      "\n",
      "100%|██████████| 60/60 [00:00<00:00, 304.40it/s]\n"
     ]
    },
    {
     "name": "stdout",
     "output_type": "stream",
     "text": [
      "[MoviePy] Done.\n",
      "[MoviePy] >>>> Video ready: ./clip/6H4VsHbynQc__672__674.mp4 \n",
      "\n",
      "[MoviePy] >>>> Building video ./clip/6H4VsHbynQc__674__676.mp4\n",
      "[MoviePy] Writing audio in 6H4VsHbynQc__674__676TEMP_MPY_wvf_snd.mp4\n"
     ]
    },
    {
     "name": "stderr",
     "output_type": "stream",
     "text": [
      "100%|██████████| 45/45 [00:00<00:00, 196.92it/s]"
     ]
    },
    {
     "name": "stdout",
     "output_type": "stream",
     "text": [
      "[MoviePy] Done.\n",
      "[MoviePy] Writing video ./clip/6H4VsHbynQc__674__676.mp4\n"
     ]
    },
    {
     "name": "stderr",
     "output_type": "stream",
     "text": [
      "\n",
      "100%|██████████| 60/60 [00:00<00:00, 276.71it/s]\n"
     ]
    },
    {
     "name": "stdout",
     "output_type": "stream",
     "text": [
      "[MoviePy] Done.\n",
      "[MoviePy] >>>> Video ready: ./clip/6H4VsHbynQc__674__676.mp4 \n",
      "\n",
      "[MoviePy] >>>> Building video ./clip/6H4VsHbynQc__676__678.mp4\n",
      "[MoviePy] Writing audio in 6H4VsHbynQc__676__678TEMP_MPY_wvf_snd.mp4\n"
     ]
    },
    {
     "name": "stderr",
     "output_type": "stream",
     "text": [
      "100%|██████████| 45/45 [00:00<00:00, 202.95it/s]"
     ]
    },
    {
     "name": "stdout",
     "output_type": "stream",
     "text": [
      "[MoviePy] Done.\n",
      "[MoviePy] Writing video ./clip/6H4VsHbynQc__676__678.mp4\n"
     ]
    },
    {
     "name": "stderr",
     "output_type": "stream",
     "text": [
      "\n",
      "100%|██████████| 60/60 [00:00<00:00, 277.13it/s]\n"
     ]
    },
    {
     "name": "stdout",
     "output_type": "stream",
     "text": [
      "[MoviePy] Done.\n",
      "[MoviePy] >>>> Video ready: ./clip/6H4VsHbynQc__676__678.mp4 \n",
      "\n",
      "[MoviePy] >>>> Building video ./clip/6H4VsHbynQc__678__680.mp4\n",
      "[MoviePy] Writing audio in 6H4VsHbynQc__678__680TEMP_MPY_wvf_snd.mp4\n"
     ]
    },
    {
     "name": "stderr",
     "output_type": "stream",
     "text": [
      "100%|██████████| 45/45 [00:00<00:00, 199.84it/s]"
     ]
    },
    {
     "name": "stdout",
     "output_type": "stream",
     "text": [
      "[MoviePy] Done.\n",
      "[MoviePy] Writing video ./clip/6H4VsHbynQc__678__680.mp4\n"
     ]
    },
    {
     "name": "stderr",
     "output_type": "stream",
     "text": [
      "\n",
      "100%|██████████| 60/60 [00:00<00:00, 281.67it/s]\n"
     ]
    },
    {
     "name": "stdout",
     "output_type": "stream",
     "text": [
      "[MoviePy] Done.\n",
      "[MoviePy] >>>> Video ready: ./clip/6H4VsHbynQc__678__680.mp4 \n",
      "\n",
      "[MoviePy] >>>> Building video ./clip/6H4VsHbynQc__680__682.mp4\n",
      "[MoviePy] Writing audio in 6H4VsHbynQc__680__682TEMP_MPY_wvf_snd.mp4\n"
     ]
    },
    {
     "name": "stderr",
     "output_type": "stream",
     "text": [
      "100%|██████████| 45/45 [00:00<00:00, 209.77it/s]"
     ]
    },
    {
     "name": "stdout",
     "output_type": "stream",
     "text": [
      "[MoviePy] Done.\n",
      "[MoviePy] Writing video ./clip/6H4VsHbynQc__680__682.mp4\n"
     ]
    },
    {
     "name": "stderr",
     "output_type": "stream",
     "text": [
      "\n",
      "100%|██████████| 60/60 [00:00<00:00, 310.66it/s]\n"
     ]
    },
    {
     "name": "stdout",
     "output_type": "stream",
     "text": [
      "[MoviePy] Done.\n",
      "[MoviePy] >>>> Video ready: ./clip/6H4VsHbynQc__680__682.mp4 \n",
      "\n",
      "[MoviePy] >>>> Building video ./clip/6H4VsHbynQc__682__684.mp4\n",
      "[MoviePy] Writing audio in 6H4VsHbynQc__682__684TEMP_MPY_wvf_snd.mp4\n"
     ]
    },
    {
     "name": "stderr",
     "output_type": "stream",
     "text": [
      "100%|██████████| 45/45 [00:00<00:00, 191.82it/s]"
     ]
    },
    {
     "name": "stdout",
     "output_type": "stream",
     "text": [
      "[MoviePy] Done.\n",
      "[MoviePy] Writing video ./clip/6H4VsHbynQc__682__684.mp4\n"
     ]
    },
    {
     "name": "stderr",
     "output_type": "stream",
     "text": [
      "\n",
      "100%|██████████| 60/60 [00:00<00:00, 305.20it/s]\n"
     ]
    },
    {
     "name": "stdout",
     "output_type": "stream",
     "text": [
      "[MoviePy] Done.\n",
      "[MoviePy] >>>> Video ready: ./clip/6H4VsHbynQc__682__684.mp4 \n",
      "\n",
      "[MoviePy] >>>> Building video ./clip/6H4VsHbynQc__684__686.mp4\n",
      "[MoviePy] Writing audio in 6H4VsHbynQc__684__686TEMP_MPY_wvf_snd.mp4\n"
     ]
    },
    {
     "name": "stderr",
     "output_type": "stream",
     "text": [
      "100%|██████████| 45/45 [00:00<00:00, 192.03it/s]"
     ]
    },
    {
     "name": "stdout",
     "output_type": "stream",
     "text": [
      "[MoviePy] Done.\n",
      "[MoviePy] Writing video ./clip/6H4VsHbynQc__684__686.mp4\n"
     ]
    },
    {
     "name": "stderr",
     "output_type": "stream",
     "text": [
      "\n",
      "100%|██████████| 60/60 [00:00<00:00, 298.48it/s]\n"
     ]
    },
    {
     "name": "stdout",
     "output_type": "stream",
     "text": [
      "[MoviePy] Done.\n",
      "[MoviePy] >>>> Video ready: ./clip/6H4VsHbynQc__684__686.mp4 \n",
      "\n",
      "[MoviePy] >>>> Building video ./clip/6H4VsHbynQc__686__688.mp4\n",
      "[MoviePy] Writing audio in 6H4VsHbynQc__686__688TEMP_MPY_wvf_snd.mp4\n"
     ]
    },
    {
     "name": "stderr",
     "output_type": "stream",
     "text": [
      "100%|██████████| 45/45 [00:00<00:00, 210.67it/s]"
     ]
    },
    {
     "name": "stdout",
     "output_type": "stream",
     "text": [
      "[MoviePy] Done.\n",
      "[MoviePy] Writing video ./clip/6H4VsHbynQc__686__688.mp4\n"
     ]
    },
    {
     "name": "stderr",
     "output_type": "stream",
     "text": [
      "\n",
      "100%|██████████| 60/60 [00:00<00:00, 315.65it/s]\n"
     ]
    },
    {
     "name": "stdout",
     "output_type": "stream",
     "text": [
      "[MoviePy] Done.\n",
      "[MoviePy] >>>> Video ready: ./clip/6H4VsHbynQc__686__688.mp4 \n",
      "\n",
      "[MoviePy] >>>> Building video ./clip/6H4VsHbynQc__688__690.mp4\n",
      "[MoviePy] Writing audio in 6H4VsHbynQc__688__690TEMP_MPY_wvf_snd.mp4\n"
     ]
    },
    {
     "name": "stderr",
     "output_type": "stream",
     "text": [
      "100%|██████████| 45/45 [00:00<00:00, 203.37it/s]"
     ]
    },
    {
     "name": "stdout",
     "output_type": "stream",
     "text": [
      "[MoviePy] Done.\n",
      "[MoviePy] Writing video ./clip/6H4VsHbynQc__688__690.mp4\n"
     ]
    },
    {
     "name": "stderr",
     "output_type": "stream",
     "text": [
      "\n",
      "100%|██████████| 60/60 [00:00<00:00, 299.16it/s]\n"
     ]
    },
    {
     "name": "stdout",
     "output_type": "stream",
     "text": [
      "[MoviePy] Done.\n",
      "[MoviePy] >>>> Video ready: ./clip/6H4VsHbynQc__688__690.mp4 \n",
      "\n",
      "[MoviePy] >>>> Building video ./clip/6H4VsHbynQc__690__692.mp4\n",
      "[MoviePy] Writing audio in 6H4VsHbynQc__690__692TEMP_MPY_wvf_snd.mp4\n"
     ]
    },
    {
     "name": "stderr",
     "output_type": "stream",
     "text": [
      "100%|██████████| 45/45 [00:00<00:00, 187.04it/s]"
     ]
    },
    {
     "name": "stdout",
     "output_type": "stream",
     "text": [
      "[MoviePy] Done.\n",
      "[MoviePy] Writing video ./clip/6H4VsHbynQc__690__692.mp4\n"
     ]
    },
    {
     "name": "stderr",
     "output_type": "stream",
     "text": [
      "\n",
      "100%|██████████| 60/60 [00:00<00:00, 290.19it/s]\n"
     ]
    },
    {
     "name": "stdout",
     "output_type": "stream",
     "text": [
      "[MoviePy] Done.\n",
      "[MoviePy] >>>> Video ready: ./clip/6H4VsHbynQc__690__692.mp4 \n",
      "\n",
      "[MoviePy] >>>> Building video ./clip/6H4VsHbynQc__692__694.mp4\n",
      "[MoviePy] Writing audio in 6H4VsHbynQc__692__694TEMP_MPY_wvf_snd.mp4\n"
     ]
    },
    {
     "name": "stderr",
     "output_type": "stream",
     "text": [
      "100%|██████████| 45/45 [00:00<00:00, 202.07it/s]"
     ]
    },
    {
     "name": "stdout",
     "output_type": "stream",
     "text": [
      "[MoviePy] Done.\n",
      "[MoviePy] Writing video ./clip/6H4VsHbynQc__692__694.mp4\n"
     ]
    },
    {
     "name": "stderr",
     "output_type": "stream",
     "text": [
      "\n",
      "100%|██████████| 60/60 [00:00<00:00, 308.60it/s]\n"
     ]
    },
    {
     "name": "stdout",
     "output_type": "stream",
     "text": [
      "[MoviePy] Done.\n",
      "[MoviePy] >>>> Video ready: ./clip/6H4VsHbynQc__692__694.mp4 \n",
      "\n",
      "[MoviePy] >>>> Building video ./clip/6H4VsHbynQc__694__696.mp4\n",
      "[MoviePy] Writing audio in 6H4VsHbynQc__694__696TEMP_MPY_wvf_snd.mp4\n"
     ]
    },
    {
     "name": "stderr",
     "output_type": "stream",
     "text": [
      "100%|██████████| 45/45 [00:00<00:00, 200.23it/s]"
     ]
    },
    {
     "name": "stdout",
     "output_type": "stream",
     "text": [
      "[MoviePy] Done.\n",
      "[MoviePy] Writing video ./clip/6H4VsHbynQc__694__696.mp4\n"
     ]
    },
    {
     "name": "stderr",
     "output_type": "stream",
     "text": [
      "\n",
      "100%|██████████| 60/60 [00:00<00:00, 304.51it/s]\n"
     ]
    },
    {
     "name": "stdout",
     "output_type": "stream",
     "text": [
      "[MoviePy] Done.\n",
      "[MoviePy] >>>> Video ready: ./clip/6H4VsHbynQc__694__696.mp4 \n",
      "\n",
      "[MoviePy] >>>> Building video ./clip/6H4VsHbynQc__696__698.mp4\n",
      "[MoviePy] Writing audio in 6H4VsHbynQc__696__698TEMP_MPY_wvf_snd.mp4\n"
     ]
    },
    {
     "name": "stderr",
     "output_type": "stream",
     "text": [
      "100%|██████████| 45/45 [00:00<00:00, 185.26it/s]"
     ]
    },
    {
     "name": "stdout",
     "output_type": "stream",
     "text": [
      "[MoviePy] Done.\n",
      "[MoviePy] Writing video ./clip/6H4VsHbynQc__696__698.mp4\n"
     ]
    },
    {
     "name": "stderr",
     "output_type": "stream",
     "text": [
      "\n",
      "100%|██████████| 60/60 [00:00<00:00, 322.92it/s]\n"
     ]
    },
    {
     "name": "stdout",
     "output_type": "stream",
     "text": [
      "[MoviePy] Done.\n",
      "[MoviePy] >>>> Video ready: ./clip/6H4VsHbynQc__696__698.mp4 \n",
      "\n",
      "[MoviePy] >>>> Building video ./clip/6H4VsHbynQc__698__700.mp4\n",
      "[MoviePy] Writing audio in 6H4VsHbynQc__698__700TEMP_MPY_wvf_snd.mp4\n"
     ]
    },
    {
     "name": "stderr",
     "output_type": "stream",
     "text": [
      "100%|██████████| 45/45 [00:00<00:00, 197.83it/s]"
     ]
    },
    {
     "name": "stdout",
     "output_type": "stream",
     "text": [
      "[MoviePy] Done.\n",
      "[MoviePy] Writing video ./clip/6H4VsHbynQc__698__700.mp4\n"
     ]
    },
    {
     "name": "stderr",
     "output_type": "stream",
     "text": [
      "\n",
      "100%|██████████| 60/60 [00:00<00:00, 323.94it/s]\n"
     ]
    },
    {
     "name": "stdout",
     "output_type": "stream",
     "text": [
      "[MoviePy] Done.\n",
      "[MoviePy] >>>> Video ready: ./clip/6H4VsHbynQc__698__700.mp4 \n",
      "\n",
      "[MoviePy] >>>> Building video ./clip/6H4VsHbynQc__700__702.mp4\n",
      "[MoviePy] Writing audio in 6H4VsHbynQc__700__702TEMP_MPY_wvf_snd.mp4\n"
     ]
    },
    {
     "name": "stderr",
     "output_type": "stream",
     "text": [
      "100%|██████████| 45/45 [00:00<00:00, 201.16it/s]"
     ]
    },
    {
     "name": "stdout",
     "output_type": "stream",
     "text": [
      "[MoviePy] Done.\n",
      "[MoviePy] Writing video ./clip/6H4VsHbynQc__700__702.mp4\n"
     ]
    },
    {
     "name": "stderr",
     "output_type": "stream",
     "text": [
      "\n",
      "100%|██████████| 60/60 [00:00<00:00, 289.01it/s]\n"
     ]
    },
    {
     "name": "stdout",
     "output_type": "stream",
     "text": [
      "[MoviePy] Done.\n",
      "[MoviePy] >>>> Video ready: ./clip/6H4VsHbynQc__700__702.mp4 \n",
      "\n",
      "[MoviePy] >>>> Building video ./clip/6H4VsHbynQc__702__704.mp4\n",
      "[MoviePy] Writing audio in 6H4VsHbynQc__702__704TEMP_MPY_wvf_snd.mp4\n"
     ]
    },
    {
     "name": "stderr",
     "output_type": "stream",
     "text": [
      "100%|██████████| 45/45 [00:00<00:00, 185.45it/s]"
     ]
    },
    {
     "name": "stdout",
     "output_type": "stream",
     "text": [
      "[MoviePy] Done.\n",
      "[MoviePy] Writing video ./clip/6H4VsHbynQc__702__704.mp4\n"
     ]
    },
    {
     "name": "stderr",
     "output_type": "stream",
     "text": [
      "\n",
      "100%|██████████| 60/60 [00:00<00:00, 256.11it/s]\n"
     ]
    },
    {
     "name": "stdout",
     "output_type": "stream",
     "text": [
      "[MoviePy] Done.\n",
      "[MoviePy] >>>> Video ready: ./clip/6H4VsHbynQc__702__704.mp4 \n",
      "\n",
      "[MoviePy] >>>> Building video ./clip/6H4VsHbynQc__704__706.mp4\n",
      "[MoviePy] Writing audio in 6H4VsHbynQc__704__706TEMP_MPY_wvf_snd.mp4\n"
     ]
    },
    {
     "name": "stderr",
     "output_type": "stream",
     "text": [
      "100%|██████████| 45/45 [00:00<00:00, 206.39it/s]"
     ]
    },
    {
     "name": "stdout",
     "output_type": "stream",
     "text": [
      "[MoviePy] Done.\n",
      "[MoviePy] Writing video ./clip/6H4VsHbynQc__704__706.mp4\n"
     ]
    },
    {
     "name": "stderr",
     "output_type": "stream",
     "text": [
      "\n",
      "100%|██████████| 60/60 [00:00<00:00, 290.80it/s]\n"
     ]
    },
    {
     "name": "stdout",
     "output_type": "stream",
     "text": [
      "[MoviePy] Done.\n",
      "[MoviePy] >>>> Video ready: ./clip/6H4VsHbynQc__704__706.mp4 \n",
      "\n",
      "[MoviePy] >>>> Building video ./clip/6H4VsHbynQc__706__708.mp4\n",
      "[MoviePy] Writing audio in 6H4VsHbynQc__706__708TEMP_MPY_wvf_snd.mp4\n"
     ]
    },
    {
     "name": "stderr",
     "output_type": "stream",
     "text": [
      "100%|██████████| 45/45 [00:00<00:00, 194.06it/s]"
     ]
    },
    {
     "name": "stdout",
     "output_type": "stream",
     "text": [
      "[MoviePy] Done.\n",
      "[MoviePy] Writing video ./clip/6H4VsHbynQc__706__708.mp4\n"
     ]
    },
    {
     "name": "stderr",
     "output_type": "stream",
     "text": [
      "\n",
      "100%|██████████| 60/60 [00:00<00:00, 273.70it/s]\n"
     ]
    },
    {
     "name": "stdout",
     "output_type": "stream",
     "text": [
      "[MoviePy] Done.\n",
      "[MoviePy] >>>> Video ready: ./clip/6H4VsHbynQc__706__708.mp4 \n",
      "\n",
      "[MoviePy] >>>> Building video ./clip/6H4VsHbynQc__708__710.mp4\n",
      "[MoviePy] Writing audio in 6H4VsHbynQc__708__710TEMP_MPY_wvf_snd.mp4\n"
     ]
    },
    {
     "name": "stderr",
     "output_type": "stream",
     "text": [
      "100%|██████████| 45/45 [00:00<00:00, 181.69it/s]"
     ]
    },
    {
     "name": "stdout",
     "output_type": "stream",
     "text": [
      "[MoviePy] Done.\n",
      "[MoviePy] Writing video ./clip/6H4VsHbynQc__708__710.mp4\n"
     ]
    },
    {
     "name": "stderr",
     "output_type": "stream",
     "text": [
      "\n",
      "100%|██████████| 60/60 [00:00<00:00, 297.79it/s]\n"
     ]
    },
    {
     "name": "stdout",
     "output_type": "stream",
     "text": [
      "[MoviePy] Done.\n",
      "[MoviePy] >>>> Video ready: ./clip/6H4VsHbynQc__708__710.mp4 \n",
      "\n",
      "[MoviePy] >>>> Building video ./clip/6H4VsHbynQc__710__712.mp4\n",
      "[MoviePy] Writing audio in 6H4VsHbynQc__710__712TEMP_MPY_wvf_snd.mp4\n"
     ]
    },
    {
     "name": "stderr",
     "output_type": "stream",
     "text": [
      "100%|██████████| 45/45 [00:00<00:00, 194.67it/s]"
     ]
    },
    {
     "name": "stdout",
     "output_type": "stream",
     "text": [
      "[MoviePy] Done.\n",
      "[MoviePy] Writing video ./clip/6H4VsHbynQc__710__712.mp4\n"
     ]
    },
    {
     "name": "stderr",
     "output_type": "stream",
     "text": [
      "\n",
      "100%|██████████| 60/60 [00:00<00:00, 287.37it/s]\n"
     ]
    },
    {
     "name": "stdout",
     "output_type": "stream",
     "text": [
      "[MoviePy] Done.\n",
      "[MoviePy] >>>> Video ready: ./clip/6H4VsHbynQc__710__712.mp4 \n",
      "\n",
      "[MoviePy] >>>> Building video ./clip/6H4VsHbynQc__712__714.mp4\n",
      "[MoviePy] Writing audio in 6H4VsHbynQc__712__714TEMP_MPY_wvf_snd.mp4\n"
     ]
    },
    {
     "name": "stderr",
     "output_type": "stream",
     "text": [
      "100%|██████████| 45/45 [00:00<00:00, 170.96it/s]"
     ]
    },
    {
     "name": "stdout",
     "output_type": "stream",
     "text": [
      "[MoviePy] Done.\n",
      "[MoviePy] Writing video ./clip/6H4VsHbynQc__712__714.mp4\n"
     ]
    },
    {
     "name": "stderr",
     "output_type": "stream",
     "text": [
      "\n",
      "100%|██████████| 60/60 [00:00<00:00, 277.16it/s]\n"
     ]
    },
    {
     "name": "stdout",
     "output_type": "stream",
     "text": [
      "[MoviePy] Done.\n",
      "[MoviePy] >>>> Video ready: ./clip/6H4VsHbynQc__712__714.mp4 \n",
      "\n",
      "[MoviePy] >>>> Building video ./clip/6H4VsHbynQc__714__716.mp4\n",
      "[MoviePy] Writing audio in 6H4VsHbynQc__714__716TEMP_MPY_wvf_snd.mp4\n"
     ]
    },
    {
     "name": "stderr",
     "output_type": "stream",
     "text": [
      "100%|██████████| 45/45 [00:00<00:00, 198.94it/s]"
     ]
    },
    {
     "name": "stdout",
     "output_type": "stream",
     "text": [
      "[MoviePy] Done.\n",
      "[MoviePy] Writing video ./clip/6H4VsHbynQc__714__716.mp4\n"
     ]
    },
    {
     "name": "stderr",
     "output_type": "stream",
     "text": [
      "\n",
      "100%|██████████| 60/60 [00:00<00:00, 264.36it/s]\n"
     ]
    },
    {
     "name": "stdout",
     "output_type": "stream",
     "text": [
      "[MoviePy] Done.\n",
      "[MoviePy] >>>> Video ready: ./clip/6H4VsHbynQc__714__716.mp4 \n",
      "\n",
      "[MoviePy] >>>> Building video ./clip/6H4VsHbynQc__716__718.mp4\n",
      "[MoviePy] Writing audio in 6H4VsHbynQc__716__718TEMP_MPY_wvf_snd.mp4\n"
     ]
    },
    {
     "name": "stderr",
     "output_type": "stream",
     "text": [
      "100%|██████████| 45/45 [00:00<00:00, 195.09it/s]"
     ]
    },
    {
     "name": "stdout",
     "output_type": "stream",
     "text": [
      "[MoviePy] Done.\n",
      "[MoviePy] Writing video ./clip/6H4VsHbynQc__716__718.mp4\n"
     ]
    },
    {
     "name": "stderr",
     "output_type": "stream",
     "text": [
      "\n",
      "100%|██████████| 60/60 [00:00<00:00, 294.79it/s]\n"
     ]
    },
    {
     "name": "stdout",
     "output_type": "stream",
     "text": [
      "[MoviePy] Done.\n",
      "[MoviePy] >>>> Video ready: ./clip/6H4VsHbynQc__716__718.mp4 \n",
      "\n",
      "[MoviePy] >>>> Building video ./clip/6H4VsHbynQc__718__720.mp4\n",
      "[MoviePy] Writing audio in 6H4VsHbynQc__718__720TEMP_MPY_wvf_snd.mp4\n"
     ]
    },
    {
     "name": "stderr",
     "output_type": "stream",
     "text": [
      "100%|██████████| 45/45 [00:00<00:00, 207.59it/s]"
     ]
    },
    {
     "name": "stdout",
     "output_type": "stream",
     "text": [
      "[MoviePy] Done.\n",
      "[MoviePy] Writing video ./clip/6H4VsHbynQc__718__720.mp4\n"
     ]
    },
    {
     "name": "stderr",
     "output_type": "stream",
     "text": [
      "\n",
      "100%|██████████| 60/60 [00:00<00:00, 247.54it/s]\n"
     ]
    },
    {
     "name": "stdout",
     "output_type": "stream",
     "text": [
      "[MoviePy] Done.\n",
      "[MoviePy] >>>> Video ready: ./clip/6H4VsHbynQc__718__720.mp4 \n",
      "\n",
      "[MoviePy] >>>> Building video ./clip/6H4VsHbynQc__720__722.mp4\n",
      "[MoviePy] Writing audio in 6H4VsHbynQc__720__722TEMP_MPY_wvf_snd.mp4\n"
     ]
    },
    {
     "name": "stderr",
     "output_type": "stream",
     "text": [
      "100%|██████████| 45/45 [00:00<00:00, 195.77it/s]"
     ]
    },
    {
     "name": "stdout",
     "output_type": "stream",
     "text": [
      "[MoviePy] Done.\n",
      "[MoviePy] Writing video ./clip/6H4VsHbynQc__720__722.mp4\n"
     ]
    },
    {
     "name": "stderr",
     "output_type": "stream",
     "text": [
      "\n",
      "100%|██████████| 60/60 [00:00<00:00, 263.55it/s]\n"
     ]
    },
    {
     "name": "stdout",
     "output_type": "stream",
     "text": [
      "[MoviePy] Done.\n",
      "[MoviePy] >>>> Video ready: ./clip/6H4VsHbynQc__720__722.mp4 \n",
      "\n",
      "[MoviePy] >>>> Building video ./clip/6H4VsHbynQc__722__724.mp4\n",
      "[MoviePy] Writing audio in 6H4VsHbynQc__722__724TEMP_MPY_wvf_snd.mp4\n"
     ]
    },
    {
     "name": "stderr",
     "output_type": "stream",
     "text": [
      "100%|██████████| 45/45 [00:00<00:00, 195.61it/s]"
     ]
    },
    {
     "name": "stdout",
     "output_type": "stream",
     "text": [
      "[MoviePy] Done.\n",
      "[MoviePy] Writing video ./clip/6H4VsHbynQc__722__724.mp4\n"
     ]
    },
    {
     "name": "stderr",
     "output_type": "stream",
     "text": [
      "\n",
      "100%|██████████| 60/60 [00:00<00:00, 280.54it/s]\n"
     ]
    },
    {
     "name": "stdout",
     "output_type": "stream",
     "text": [
      "[MoviePy] Done.\n",
      "[MoviePy] >>>> Video ready: ./clip/6H4VsHbynQc__722__724.mp4 \n",
      "\n",
      "[MoviePy] >>>> Building video ./clip/6H4VsHbynQc__724__726.mp4\n",
      "[MoviePy] Writing audio in 6H4VsHbynQc__724__726TEMP_MPY_wvf_snd.mp4\n"
     ]
    },
    {
     "name": "stderr",
     "output_type": "stream",
     "text": [
      "100%|██████████| 45/45 [00:00<00:00, 193.35it/s]"
     ]
    },
    {
     "name": "stdout",
     "output_type": "stream",
     "text": [
      "[MoviePy] Done.\n",
      "[MoviePy] Writing video ./clip/6H4VsHbynQc__724__726.mp4\n"
     ]
    },
    {
     "name": "stderr",
     "output_type": "stream",
     "text": [
      "\n",
      "100%|██████████| 60/60 [00:00<00:00, 300.36it/s]\n"
     ]
    },
    {
     "name": "stdout",
     "output_type": "stream",
     "text": [
      "[MoviePy] Done.\n",
      "[MoviePy] >>>> Video ready: ./clip/6H4VsHbynQc__724__726.mp4 \n",
      "\n",
      "[MoviePy] >>>> Building video ./clip/6H4VsHbynQc__726__728.mp4\n",
      "[MoviePy] Writing audio in 6H4VsHbynQc__726__728TEMP_MPY_wvf_snd.mp4\n"
     ]
    },
    {
     "name": "stderr",
     "output_type": "stream",
     "text": [
      "100%|██████████| 45/45 [00:00<00:00, 200.01it/s]"
     ]
    },
    {
     "name": "stdout",
     "output_type": "stream",
     "text": [
      "[MoviePy] Done.\n",
      "[MoviePy] Writing video ./clip/6H4VsHbynQc__726__728.mp4\n"
     ]
    },
    {
     "name": "stderr",
     "output_type": "stream",
     "text": [
      "\n",
      "100%|██████████| 60/60 [00:00<00:00, 302.23it/s]\n"
     ]
    },
    {
     "name": "stdout",
     "output_type": "stream",
     "text": [
      "[MoviePy] Done.\n",
      "[MoviePy] >>>> Video ready: ./clip/6H4VsHbynQc__726__728.mp4 \n",
      "\n",
      "[MoviePy] >>>> Building video ./clip/6H4VsHbynQc__728__730.mp4\n",
      "[MoviePy] Writing audio in 6H4VsHbynQc__728__730TEMP_MPY_wvf_snd.mp4\n"
     ]
    },
    {
     "name": "stderr",
     "output_type": "stream",
     "text": [
      "100%|██████████| 45/45 [00:00<00:00, 201.71it/s]"
     ]
    },
    {
     "name": "stdout",
     "output_type": "stream",
     "text": [
      "[MoviePy] Done.\n",
      "[MoviePy] Writing video ./clip/6H4VsHbynQc__728__730.mp4\n"
     ]
    },
    {
     "name": "stderr",
     "output_type": "stream",
     "text": [
      "\n",
      "100%|██████████| 60/60 [00:00<00:00, 301.72it/s]\n"
     ]
    },
    {
     "name": "stdout",
     "output_type": "stream",
     "text": [
      "[MoviePy] Done.\n",
      "[MoviePy] >>>> Video ready: ./clip/6H4VsHbynQc__728__730.mp4 \n",
      "\n",
      "[MoviePy] >>>> Building video ./clip/6H4VsHbynQc__730__732.mp4\n",
      "[MoviePy] Writing audio in 6H4VsHbynQc__730__732TEMP_MPY_wvf_snd.mp4\n"
     ]
    },
    {
     "name": "stderr",
     "output_type": "stream",
     "text": [
      "100%|██████████| 45/45 [00:00<00:00, 181.97it/s]"
     ]
    },
    {
     "name": "stdout",
     "output_type": "stream",
     "text": [
      "[MoviePy] Done.\n",
      "[MoviePy] Writing video ./clip/6H4VsHbynQc__730__732.mp4\n"
     ]
    },
    {
     "name": "stderr",
     "output_type": "stream",
     "text": [
      "\n",
      "100%|██████████| 60/60 [00:00<00:00, 281.99it/s]\n"
     ]
    },
    {
     "name": "stdout",
     "output_type": "stream",
     "text": [
      "[MoviePy] Done.\n",
      "[MoviePy] >>>> Video ready: ./clip/6H4VsHbynQc__730__732.mp4 \n",
      "\n",
      "[MoviePy] >>>> Building video ./clip/6H4VsHbynQc__732__734.mp4\n",
      "[MoviePy] Writing audio in 6H4VsHbynQc__732__734TEMP_MPY_wvf_snd.mp4\n"
     ]
    },
    {
     "name": "stderr",
     "output_type": "stream",
     "text": [
      "100%|██████████| 45/45 [00:00<00:00, 193.38it/s]"
     ]
    },
    {
     "name": "stdout",
     "output_type": "stream",
     "text": [
      "[MoviePy] Done.\n",
      "[MoviePy] Writing video ./clip/6H4VsHbynQc__732__734.mp4\n"
     ]
    },
    {
     "name": "stderr",
     "output_type": "stream",
     "text": [
      "\n",
      "100%|██████████| 60/60 [00:00<00:00, 265.86it/s]\n"
     ]
    },
    {
     "name": "stdout",
     "output_type": "stream",
     "text": [
      "[MoviePy] Done.\n",
      "[MoviePy] >>>> Video ready: ./clip/6H4VsHbynQc__732__734.mp4 \n",
      "\n",
      "[MoviePy] >>>> Building video ./clip/6H4VsHbynQc__734__736.mp4\n",
      "[MoviePy] Writing audio in 6H4VsHbynQc__734__736TEMP_MPY_wvf_snd.mp4\n"
     ]
    },
    {
     "name": "stderr",
     "output_type": "stream",
     "text": [
      "100%|██████████| 45/45 [00:00<00:00, 203.83it/s]"
     ]
    },
    {
     "name": "stdout",
     "output_type": "stream",
     "text": [
      "[MoviePy] Done.\n",
      "[MoviePy] Writing video ./clip/6H4VsHbynQc__734__736.mp4\n"
     ]
    },
    {
     "name": "stderr",
     "output_type": "stream",
     "text": [
      "\n",
      "100%|██████████| 60/60 [00:00<00:00, 307.65it/s]\n"
     ]
    },
    {
     "name": "stdout",
     "output_type": "stream",
     "text": [
      "[MoviePy] Done.\n",
      "[MoviePy] >>>> Video ready: ./clip/6H4VsHbynQc__734__736.mp4 \n",
      "\n",
      "[MoviePy] >>>> Building video ./clip/6H4VsHbynQc__736__738.mp4\n",
      "[MoviePy] Writing audio in 6H4VsHbynQc__736__738TEMP_MPY_wvf_snd.mp4\n"
     ]
    },
    {
     "name": "stderr",
     "output_type": "stream",
     "text": [
      "100%|██████████| 45/45 [00:00<00:00, 209.24it/s]"
     ]
    },
    {
     "name": "stdout",
     "output_type": "stream",
     "text": [
      "[MoviePy] Done.\n",
      "[MoviePy] Writing video ./clip/6H4VsHbynQc__736__738.mp4\n"
     ]
    },
    {
     "name": "stderr",
     "output_type": "stream",
     "text": [
      "\n",
      "100%|██████████| 60/60 [00:00<00:00, 308.43it/s]\n"
     ]
    },
    {
     "name": "stdout",
     "output_type": "stream",
     "text": [
      "[MoviePy] Done.\n",
      "[MoviePy] >>>> Video ready: ./clip/6H4VsHbynQc__736__738.mp4 \n",
      "\n",
      "[MoviePy] >>>> Building video ./clip/6H4VsHbynQc__738__740.mp4\n",
      "[MoviePy] Writing audio in 6H4VsHbynQc__738__740TEMP_MPY_wvf_snd.mp4\n"
     ]
    },
    {
     "name": "stderr",
     "output_type": "stream",
     "text": [
      "100%|██████████| 45/45 [00:00<00:00, 211.50it/s]"
     ]
    },
    {
     "name": "stdout",
     "output_type": "stream",
     "text": [
      "[MoviePy] Done.\n",
      "[MoviePy] Writing video ./clip/6H4VsHbynQc__738__740.mp4\n"
     ]
    },
    {
     "name": "stderr",
     "output_type": "stream",
     "text": [
      "\n",
      "100%|██████████| 60/60 [00:00<00:00, 305.09it/s]\n"
     ]
    },
    {
     "name": "stdout",
     "output_type": "stream",
     "text": [
      "[MoviePy] Done.\n",
      "[MoviePy] >>>> Video ready: ./clip/6H4VsHbynQc__738__740.mp4 \n",
      "\n",
      "[MoviePy] >>>> Building video ./clip/6H4VsHbynQc__740__742.mp4\n",
      "[MoviePy] Writing audio in 6H4VsHbynQc__740__742TEMP_MPY_wvf_snd.mp4\n"
     ]
    },
    {
     "name": "stderr",
     "output_type": "stream",
     "text": [
      "100%|██████████| 45/45 [00:00<00:00, 186.80it/s]"
     ]
    },
    {
     "name": "stdout",
     "output_type": "stream",
     "text": [
      "[MoviePy] Done.\n",
      "[MoviePy] Writing video ./clip/6H4VsHbynQc__740__742.mp4\n"
     ]
    },
    {
     "name": "stderr",
     "output_type": "stream",
     "text": [
      "\n",
      "100%|██████████| 60/60 [00:00<00:00, 300.07it/s]\n"
     ]
    },
    {
     "name": "stdout",
     "output_type": "stream",
     "text": [
      "[MoviePy] Done.\n",
      "[MoviePy] >>>> Video ready: ./clip/6H4VsHbynQc__740__742.mp4 \n",
      "\n",
      "[MoviePy] >>>> Building video ./clip/6H4VsHbynQc__742__744.mp4\n",
      "[MoviePy] Writing audio in 6H4VsHbynQc__742__744TEMP_MPY_wvf_snd.mp4\n"
     ]
    },
    {
     "name": "stderr",
     "output_type": "stream",
     "text": [
      "100%|██████████| 45/45 [00:00<00:00, 211.49it/s]"
     ]
    },
    {
     "name": "stdout",
     "output_type": "stream",
     "text": [
      "[MoviePy] Done.\n",
      "[MoviePy] Writing video ./clip/6H4VsHbynQc__742__744.mp4\n"
     ]
    },
    {
     "name": "stderr",
     "output_type": "stream",
     "text": [
      "\n",
      "100%|██████████| 60/60 [00:00<00:00, 275.16it/s]\n"
     ]
    },
    {
     "name": "stdout",
     "output_type": "stream",
     "text": [
      "[MoviePy] Done.\n",
      "[MoviePy] >>>> Video ready: ./clip/6H4VsHbynQc__742__744.mp4 \n",
      "\n",
      "[MoviePy] >>>> Building video ./clip/6H4VsHbynQc__744__746.mp4\n",
      "[MoviePy] Writing audio in 6H4VsHbynQc__744__746TEMP_MPY_wvf_snd.mp4\n"
     ]
    },
    {
     "name": "stderr",
     "output_type": "stream",
     "text": [
      "100%|██████████| 45/45 [00:00<00:00, 204.60it/s]"
     ]
    },
    {
     "name": "stdout",
     "output_type": "stream",
     "text": [
      "[MoviePy] Done.\n",
      "[MoviePy] Writing video ./clip/6H4VsHbynQc__744__746.mp4\n"
     ]
    },
    {
     "name": "stderr",
     "output_type": "stream",
     "text": [
      "\n",
      "100%|██████████| 60/60 [00:00<00:00, 291.36it/s]\n"
     ]
    },
    {
     "name": "stdout",
     "output_type": "stream",
     "text": [
      "[MoviePy] Done.\n",
      "[MoviePy] >>>> Video ready: ./clip/6H4VsHbynQc__744__746.mp4 \n",
      "\n",
      "[MoviePy] >>>> Building video ./clip/6H4VsHbynQc__746__748.mp4\n",
      "[MoviePy] Writing audio in 6H4VsHbynQc__746__748TEMP_MPY_wvf_snd.mp4\n"
     ]
    },
    {
     "name": "stderr",
     "output_type": "stream",
     "text": [
      "100%|██████████| 45/45 [00:00<00:00, 192.69it/s]"
     ]
    },
    {
     "name": "stdout",
     "output_type": "stream",
     "text": [
      "[MoviePy] Done.\n",
      "[MoviePy] Writing video ./clip/6H4VsHbynQc__746__748.mp4\n"
     ]
    },
    {
     "name": "stderr",
     "output_type": "stream",
     "text": [
      "\n",
      "100%|██████████| 60/60 [00:00<00:00, 288.58it/s]\n"
     ]
    },
    {
     "name": "stdout",
     "output_type": "stream",
     "text": [
      "[MoviePy] Done.\n",
      "[MoviePy] >>>> Video ready: ./clip/6H4VsHbynQc__746__748.mp4 \n",
      "\n",
      "[MoviePy] >>>> Building video ./clip/6H4VsHbynQc__748__750.mp4\n",
      "[MoviePy] Writing audio in 6H4VsHbynQc__748__750TEMP_MPY_wvf_snd.mp4\n"
     ]
    },
    {
     "name": "stderr",
     "output_type": "stream",
     "text": [
      "100%|██████████| 45/45 [00:00<00:00, 200.61it/s]"
     ]
    },
    {
     "name": "stdout",
     "output_type": "stream",
     "text": [
      "[MoviePy] Done.\n",
      "[MoviePy] Writing video ./clip/6H4VsHbynQc__748__750.mp4\n"
     ]
    },
    {
     "name": "stderr",
     "output_type": "stream",
     "text": [
      "\n",
      "100%|██████████| 60/60 [00:00<00:00, 285.03it/s]\n"
     ]
    },
    {
     "name": "stdout",
     "output_type": "stream",
     "text": [
      "[MoviePy] Done.\n",
      "[MoviePy] >>>> Video ready: ./clip/6H4VsHbynQc__748__750.mp4 \n",
      "\n",
      "[MoviePy] >>>> Building video ./clip/6H4VsHbynQc__750__752.mp4\n",
      "[MoviePy] Writing audio in 6H4VsHbynQc__750__752TEMP_MPY_wvf_snd.mp4\n"
     ]
    },
    {
     "name": "stderr",
     "output_type": "stream",
     "text": [
      "100%|██████████| 45/45 [00:00<00:00, 188.20it/s]"
     ]
    },
    {
     "name": "stdout",
     "output_type": "stream",
     "text": [
      "[MoviePy] Done.\n",
      "[MoviePy] Writing video ./clip/6H4VsHbynQc__750__752.mp4\n"
     ]
    },
    {
     "name": "stderr",
     "output_type": "stream",
     "text": [
      "\n",
      "100%|██████████| 60/60 [00:00<00:00, 280.99it/s]\n"
     ]
    },
    {
     "name": "stdout",
     "output_type": "stream",
     "text": [
      "[MoviePy] Done.\n",
      "[MoviePy] >>>> Video ready: ./clip/6H4VsHbynQc__750__752.mp4 \n",
      "\n",
      "[MoviePy] >>>> Building video ./clip/6H4VsHbynQc__752__754.mp4\n",
      "[MoviePy] Writing audio in 6H4VsHbynQc__752__754TEMP_MPY_wvf_snd.mp4\n"
     ]
    },
    {
     "name": "stderr",
     "output_type": "stream",
     "text": [
      "100%|██████████| 45/45 [00:00<00:00, 186.42it/s]"
     ]
    },
    {
     "name": "stdout",
     "output_type": "stream",
     "text": [
      "[MoviePy] Done.\n",
      "[MoviePy] Writing video ./clip/6H4VsHbynQc__752__754.mp4\n"
     ]
    },
    {
     "name": "stderr",
     "output_type": "stream",
     "text": [
      "\n",
      "100%|██████████| 60/60 [00:00<00:00, 290.21it/s]\n"
     ]
    },
    {
     "name": "stdout",
     "output_type": "stream",
     "text": [
      "[MoviePy] Done.\n",
      "[MoviePy] >>>> Video ready: ./clip/6H4VsHbynQc__752__754.mp4 \n",
      "\n",
      "[MoviePy] >>>> Building video ./clip/6H4VsHbynQc__754__756.mp4\n",
      "[MoviePy] Writing audio in 6H4VsHbynQc__754__756TEMP_MPY_wvf_snd.mp4\n"
     ]
    },
    {
     "name": "stderr",
     "output_type": "stream",
     "text": [
      "100%|██████████| 45/45 [00:00<00:00, 203.42it/s]"
     ]
    },
    {
     "name": "stdout",
     "output_type": "stream",
     "text": [
      "[MoviePy] Done.\n",
      "[MoviePy] Writing video ./clip/6H4VsHbynQc__754__756.mp4\n"
     ]
    },
    {
     "name": "stderr",
     "output_type": "stream",
     "text": [
      "\n",
      "100%|██████████| 60/60 [00:00<00:00, 304.39it/s]\n"
     ]
    },
    {
     "name": "stdout",
     "output_type": "stream",
     "text": [
      "[MoviePy] Done.\n",
      "[MoviePy] >>>> Video ready: ./clip/6H4VsHbynQc__754__756.mp4 \n",
      "\n",
      "[MoviePy] >>>> Building video ./clip/6H4VsHbynQc__756__758.mp4\n",
      "[MoviePy] Writing audio in 6H4VsHbynQc__756__758TEMP_MPY_wvf_snd.mp4\n"
     ]
    },
    {
     "name": "stderr",
     "output_type": "stream",
     "text": [
      "100%|██████████| 45/45 [00:00<00:00, 196.88it/s]"
     ]
    },
    {
     "name": "stdout",
     "output_type": "stream",
     "text": [
      "[MoviePy] Done.\n",
      "[MoviePy] Writing video ./clip/6H4VsHbynQc__756__758.mp4\n"
     ]
    },
    {
     "name": "stderr",
     "output_type": "stream",
     "text": [
      "\n",
      "100%|██████████| 60/60 [00:00<00:00, 307.95it/s]\n"
     ]
    },
    {
     "name": "stdout",
     "output_type": "stream",
     "text": [
      "[MoviePy] Done.\n",
      "[MoviePy] >>>> Video ready: ./clip/6H4VsHbynQc__756__758.mp4 \n",
      "\n",
      "[MoviePy] >>>> Building video ./clip/6H4VsHbynQc__758__760.mp4\n",
      "[MoviePy] Writing audio in 6H4VsHbynQc__758__760TEMP_MPY_wvf_snd.mp4\n"
     ]
    },
    {
     "name": "stderr",
     "output_type": "stream",
     "text": [
      "100%|██████████| 45/45 [00:00<00:00, 210.71it/s]"
     ]
    },
    {
     "name": "stdout",
     "output_type": "stream",
     "text": [
      "[MoviePy] Done.\n",
      "[MoviePy] Writing video ./clip/6H4VsHbynQc__758__760.mp4\n"
     ]
    },
    {
     "name": "stderr",
     "output_type": "stream",
     "text": [
      "\n",
      "100%|██████████| 60/60 [00:00<00:00, 313.59it/s]\n"
     ]
    },
    {
     "name": "stdout",
     "output_type": "stream",
     "text": [
      "[MoviePy] Done.\n",
      "[MoviePy] >>>> Video ready: ./clip/6H4VsHbynQc__758__760.mp4 \n",
      "\n",
      "[MoviePy] >>>> Building video ./clip/6H4VsHbynQc__760__762.mp4\n",
      "[MoviePy] Writing audio in 6H4VsHbynQc__760__762TEMP_MPY_wvf_snd.mp4\n"
     ]
    },
    {
     "name": "stderr",
     "output_type": "stream",
     "text": [
      "100%|██████████| 45/45 [00:00<00:00, 188.85it/s]"
     ]
    },
    {
     "name": "stdout",
     "output_type": "stream",
     "text": [
      "[MoviePy] Done.\n",
      "[MoviePy] Writing video ./clip/6H4VsHbynQc__760__762.mp4\n"
     ]
    },
    {
     "name": "stderr",
     "output_type": "stream",
     "text": [
      "\n",
      "100%|██████████| 60/60 [00:00<00:00, 304.72it/s]\n"
     ]
    },
    {
     "name": "stdout",
     "output_type": "stream",
     "text": [
      "[MoviePy] Done.\n",
      "[MoviePy] >>>> Video ready: ./clip/6H4VsHbynQc__760__762.mp4 \n",
      "\n",
      "[MoviePy] >>>> Building video ./clip/6H4VsHbynQc__762__764.mp4\n",
      "[MoviePy] Writing audio in 6H4VsHbynQc__762__764TEMP_MPY_wvf_snd.mp4\n"
     ]
    },
    {
     "name": "stderr",
     "output_type": "stream",
     "text": [
      "100%|██████████| 45/45 [00:00<00:00, 211.33it/s]"
     ]
    },
    {
     "name": "stdout",
     "output_type": "stream",
     "text": [
      "[MoviePy] Done.\n",
      "[MoviePy] Writing video ./clip/6H4VsHbynQc__762__764.mp4\n"
     ]
    },
    {
     "name": "stderr",
     "output_type": "stream",
     "text": [
      "\n",
      "100%|██████████| 60/60 [00:00<00:00, 302.24it/s]\n"
     ]
    },
    {
     "name": "stdout",
     "output_type": "stream",
     "text": [
      "[MoviePy] Done.\n",
      "[MoviePy] >>>> Video ready: ./clip/6H4VsHbynQc__762__764.mp4 \n",
      "\n",
      "[MoviePy] >>>> Building video ./clip/6H4VsHbynQc__764__766.mp4\n",
      "[MoviePy] Writing audio in 6H4VsHbynQc__764__766TEMP_MPY_wvf_snd.mp4\n"
     ]
    },
    {
     "name": "stderr",
     "output_type": "stream",
     "text": [
      "100%|██████████| 45/45 [00:00<00:00, 184.05it/s]"
     ]
    },
    {
     "name": "stdout",
     "output_type": "stream",
     "text": [
      "[MoviePy] Done.\n",
      "[MoviePy] Writing video ./clip/6H4VsHbynQc__764__766.mp4\n"
     ]
    },
    {
     "name": "stderr",
     "output_type": "stream",
     "text": [
      "\n",
      "100%|██████████| 60/60 [00:00<00:00, 288.24it/s]\n"
     ]
    },
    {
     "name": "stdout",
     "output_type": "stream",
     "text": [
      "[MoviePy] Done.\n",
      "[MoviePy] >>>> Video ready: ./clip/6H4VsHbynQc__764__766.mp4 \n",
      "\n",
      "[MoviePy] >>>> Building video ./clip/6H4VsHbynQc__766__768.mp4\n",
      "[MoviePy] Writing audio in 6H4VsHbynQc__766__768TEMP_MPY_wvf_snd.mp4\n"
     ]
    },
    {
     "name": "stderr",
     "output_type": "stream",
     "text": [
      "100%|██████████| 45/45 [00:00<00:00, 205.25it/s]"
     ]
    },
    {
     "name": "stdout",
     "output_type": "stream",
     "text": [
      "[MoviePy] Done.\n",
      "[MoviePy] Writing video ./clip/6H4VsHbynQc__766__768.mp4\n"
     ]
    },
    {
     "name": "stderr",
     "output_type": "stream",
     "text": [
      "\n",
      "100%|██████████| 60/60 [00:00<00:00, 278.33it/s]\n"
     ]
    },
    {
     "name": "stdout",
     "output_type": "stream",
     "text": [
      "[MoviePy] Done.\n",
      "[MoviePy] >>>> Video ready: ./clip/6H4VsHbynQc__766__768.mp4 \n",
      "\n",
      "[MoviePy] >>>> Building video ./clip/6H4VsHbynQc__768__770.mp4\n",
      "[MoviePy] Writing audio in 6H4VsHbynQc__768__770TEMP_MPY_wvf_snd.mp4\n"
     ]
    },
    {
     "name": "stderr",
     "output_type": "stream",
     "text": [
      "100%|██████████| 45/45 [00:00<00:00, 205.31it/s]"
     ]
    },
    {
     "name": "stdout",
     "output_type": "stream",
     "text": [
      "[MoviePy] Done.\n",
      "[MoviePy] Writing video ./clip/6H4VsHbynQc__768__770.mp4\n"
     ]
    },
    {
     "name": "stderr",
     "output_type": "stream",
     "text": [
      "\n",
      "100%|██████████| 60/60 [00:00<00:00, 287.81it/s]\n"
     ]
    },
    {
     "name": "stdout",
     "output_type": "stream",
     "text": [
      "[MoviePy] Done.\n",
      "[MoviePy] >>>> Video ready: ./clip/6H4VsHbynQc__768__770.mp4 \n",
      "\n",
      "[MoviePy] >>>> Building video ./clip/6H4VsHbynQc__770__772.mp4\n",
      "[MoviePy] Writing audio in 6H4VsHbynQc__770__772TEMP_MPY_wvf_snd.mp4\n"
     ]
    },
    {
     "name": "stderr",
     "output_type": "stream",
     "text": [
      "100%|██████████| 45/45 [00:00<00:00, 204.74it/s]"
     ]
    },
    {
     "name": "stdout",
     "output_type": "stream",
     "text": [
      "[MoviePy] Done.\n",
      "[MoviePy] Writing video ./clip/6H4VsHbynQc__770__772.mp4\n"
     ]
    },
    {
     "name": "stderr",
     "output_type": "stream",
     "text": [
      "\n",
      "100%|██████████| 60/60 [00:00<00:00, 315.50it/s]\n"
     ]
    },
    {
     "name": "stdout",
     "output_type": "stream",
     "text": [
      "[MoviePy] Done.\n",
      "[MoviePy] >>>> Video ready: ./clip/6H4VsHbynQc__770__772.mp4 \n",
      "\n",
      "[MoviePy] >>>> Building video ./clip/6H4VsHbynQc__772__774.mp4\n",
      "[MoviePy] Writing audio in 6H4VsHbynQc__772__774TEMP_MPY_wvf_snd.mp4\n"
     ]
    },
    {
     "name": "stderr",
     "output_type": "stream",
     "text": [
      "100%|██████████| 45/45 [00:00<00:00, 201.13it/s]"
     ]
    },
    {
     "name": "stdout",
     "output_type": "stream",
     "text": [
      "[MoviePy] Done.\n",
      "[MoviePy] Writing video ./clip/6H4VsHbynQc__772__774.mp4\n"
     ]
    },
    {
     "name": "stderr",
     "output_type": "stream",
     "text": [
      "\n",
      "100%|██████████| 60/60 [00:00<00:00, 305.35it/s]\n"
     ]
    },
    {
     "name": "stdout",
     "output_type": "stream",
     "text": [
      "[MoviePy] Done.\n",
      "[MoviePy] >>>> Video ready: ./clip/6H4VsHbynQc__772__774.mp4 \n",
      "\n",
      "[MoviePy] >>>> Building video ./clip/6H4VsHbynQc__774__776.mp4\n",
      "[MoviePy] Writing audio in 6H4VsHbynQc__774__776TEMP_MPY_wvf_snd.mp4\n"
     ]
    },
    {
     "name": "stderr",
     "output_type": "stream",
     "text": [
      "100%|██████████| 45/45 [00:00<00:00, 212.58it/s]"
     ]
    },
    {
     "name": "stdout",
     "output_type": "stream",
     "text": [
      "[MoviePy] Done.\n",
      "[MoviePy] Writing video ./clip/6H4VsHbynQc__774__776.mp4\n"
     ]
    },
    {
     "name": "stderr",
     "output_type": "stream",
     "text": [
      "\n",
      "100%|██████████| 60/60 [00:00<00:00, 278.89it/s]\n"
     ]
    },
    {
     "name": "stdout",
     "output_type": "stream",
     "text": [
      "[MoviePy] Done.\n",
      "[MoviePy] >>>> Video ready: ./clip/6H4VsHbynQc__774__776.mp4 \n",
      "\n",
      "[MoviePy] >>>> Building video ./clip/6H4VsHbynQc__776__778.mp4\n",
      "[MoviePy] Writing audio in 6H4VsHbynQc__776__778TEMP_MPY_wvf_snd.mp4\n"
     ]
    },
    {
     "name": "stderr",
     "output_type": "stream",
     "text": [
      "100%|██████████| 45/45 [00:00<00:00, 191.23it/s]"
     ]
    },
    {
     "name": "stdout",
     "output_type": "stream",
     "text": [
      "[MoviePy] Done.\n",
      "[MoviePy] Writing video ./clip/6H4VsHbynQc__776__778.mp4\n"
     ]
    },
    {
     "name": "stderr",
     "output_type": "stream",
     "text": [
      "\n",
      "100%|██████████| 60/60 [00:00<00:00, 303.69it/s]\n"
     ]
    },
    {
     "name": "stdout",
     "output_type": "stream",
     "text": [
      "[MoviePy] Done.\n",
      "[MoviePy] >>>> Video ready: ./clip/6H4VsHbynQc__776__778.mp4 \n",
      "\n",
      "[MoviePy] >>>> Building video ./clip/6H4VsHbynQc__778__780.mp4\n",
      "[MoviePy] Writing audio in 6H4VsHbynQc__778__780TEMP_MPY_wvf_snd.mp4\n"
     ]
    },
    {
     "name": "stderr",
     "output_type": "stream",
     "text": [
      "100%|██████████| 45/45 [00:00<00:00, 209.16it/s]"
     ]
    },
    {
     "name": "stdout",
     "output_type": "stream",
     "text": [
      "[MoviePy] Done.\n",
      "[MoviePy] Writing video ./clip/6H4VsHbynQc__778__780.mp4\n"
     ]
    },
    {
     "name": "stderr",
     "output_type": "stream",
     "text": [
      "\n",
      "100%|██████████| 60/60 [00:00<00:00, 304.66it/s]\n"
     ]
    },
    {
     "name": "stdout",
     "output_type": "stream",
     "text": [
      "[MoviePy] Done.\n",
      "[MoviePy] >>>> Video ready: ./clip/6H4VsHbynQc__778__780.mp4 \n",
      "\n",
      "[MoviePy] >>>> Building video ./clip/6H4VsHbynQc__780__782.mp4\n",
      "[MoviePy] Writing audio in 6H4VsHbynQc__780__782TEMP_MPY_wvf_snd.mp4\n"
     ]
    },
    {
     "name": "stderr",
     "output_type": "stream",
     "text": [
      "100%|██████████| 45/45 [00:00<00:00, 186.19it/s]"
     ]
    },
    {
     "name": "stdout",
     "output_type": "stream",
     "text": [
      "[MoviePy] Done.\n",
      "[MoviePy] Writing video ./clip/6H4VsHbynQc__780__782.mp4\n"
     ]
    },
    {
     "name": "stderr",
     "output_type": "stream",
     "text": [
      "\n",
      "100%|██████████| 60/60 [00:00<00:00, 287.01it/s]\n"
     ]
    },
    {
     "name": "stdout",
     "output_type": "stream",
     "text": [
      "[MoviePy] Done.\n",
      "[MoviePy] >>>> Video ready: ./clip/6H4VsHbynQc__780__782.mp4 \n",
      "\n",
      "[MoviePy] >>>> Building video ./clip/6H4VsHbynQc__782__784.mp4\n",
      "[MoviePy] Writing audio in 6H4VsHbynQc__782__784TEMP_MPY_wvf_snd.mp4\n"
     ]
    },
    {
     "name": "stderr",
     "output_type": "stream",
     "text": [
      "100%|██████████| 45/45 [00:00<00:00, 196.40it/s]"
     ]
    },
    {
     "name": "stdout",
     "output_type": "stream",
     "text": [
      "[MoviePy] Done.\n",
      "[MoviePy] Writing video ./clip/6H4VsHbynQc__782__784.mp4\n"
     ]
    },
    {
     "name": "stderr",
     "output_type": "stream",
     "text": [
      "\n",
      "100%|██████████| 60/60 [00:00<00:00, 283.08it/s]\n"
     ]
    },
    {
     "name": "stdout",
     "output_type": "stream",
     "text": [
      "[MoviePy] Done.\n",
      "[MoviePy] >>>> Video ready: ./clip/6H4VsHbynQc__782__784.mp4 \n",
      "\n",
      "[MoviePy] >>>> Building video ./clip/6H4VsHbynQc__784__786.mp4\n",
      "[MoviePy] Writing audio in 6H4VsHbynQc__784__786TEMP_MPY_wvf_snd.mp4\n"
     ]
    },
    {
     "name": "stderr",
     "output_type": "stream",
     "text": [
      "100%|██████████| 45/45 [00:00<00:00, 185.52it/s]"
     ]
    },
    {
     "name": "stdout",
     "output_type": "stream",
     "text": [
      "[MoviePy] Done.\n",
      "[MoviePy] Writing video ./clip/6H4VsHbynQc__784__786.mp4\n"
     ]
    },
    {
     "name": "stderr",
     "output_type": "stream",
     "text": [
      "\n",
      "100%|██████████| 60/60 [00:00<00:00, 301.24it/s]\n"
     ]
    },
    {
     "name": "stdout",
     "output_type": "stream",
     "text": [
      "[MoviePy] Done.\n",
      "[MoviePy] >>>> Video ready: ./clip/6H4VsHbynQc__784__786.mp4 \n",
      "\n",
      "[MoviePy] >>>> Building video ./clip/6H4VsHbynQc__786__788.mp4\n",
      "[MoviePy] Writing audio in 6H4VsHbynQc__786__788TEMP_MPY_wvf_snd.mp4\n"
     ]
    },
    {
     "name": "stderr",
     "output_type": "stream",
     "text": [
      "100%|██████████| 45/45 [00:00<00:00, 200.53it/s]"
     ]
    },
    {
     "name": "stdout",
     "output_type": "stream",
     "text": [
      "[MoviePy] Done.\n",
      "[MoviePy] Writing video ./clip/6H4VsHbynQc__786__788.mp4\n"
     ]
    },
    {
     "name": "stderr",
     "output_type": "stream",
     "text": [
      "\n",
      "100%|██████████| 60/60 [00:00<00:00, 268.07it/s]\n"
     ]
    },
    {
     "name": "stdout",
     "output_type": "stream",
     "text": [
      "[MoviePy] Done.\n",
      "[MoviePy] >>>> Video ready: ./clip/6H4VsHbynQc__786__788.mp4 \n",
      "\n",
      "[MoviePy] >>>> Building video ./clip/6H4VsHbynQc__788__790.mp4\n",
      "[MoviePy] Writing audio in 6H4VsHbynQc__788__790TEMP_MPY_wvf_snd.mp4\n"
     ]
    },
    {
     "name": "stderr",
     "output_type": "stream",
     "text": [
      "100%|██████████| 45/45 [00:00<00:00, 186.81it/s]"
     ]
    },
    {
     "name": "stdout",
     "output_type": "stream",
     "text": [
      "[MoviePy] Done.\n",
      "[MoviePy] Writing video ./clip/6H4VsHbynQc__788__790.mp4\n"
     ]
    },
    {
     "name": "stderr",
     "output_type": "stream",
     "text": [
      "\n",
      "100%|██████████| 60/60 [00:00<00:00, 266.23it/s]\n"
     ]
    },
    {
     "name": "stdout",
     "output_type": "stream",
     "text": [
      "[MoviePy] Done.\n",
      "[MoviePy] >>>> Video ready: ./clip/6H4VsHbynQc__788__790.mp4 \n",
      "\n",
      "[MoviePy] >>>> Building video ./clip/6H4VsHbynQc__790__792.mp4\n",
      "[MoviePy] Writing audio in 6H4VsHbynQc__790__792TEMP_MPY_wvf_snd.mp4\n"
     ]
    },
    {
     "name": "stderr",
     "output_type": "stream",
     "text": [
      "100%|██████████| 45/45 [00:00<00:00, 193.24it/s]"
     ]
    },
    {
     "name": "stdout",
     "output_type": "stream",
     "text": [
      "[MoviePy] Done.\n",
      "[MoviePy] Writing video ./clip/6H4VsHbynQc__790__792.mp4\n"
     ]
    },
    {
     "name": "stderr",
     "output_type": "stream",
     "text": [
      "\n",
      "100%|██████████| 60/60 [00:00<00:00, 287.27it/s]\n"
     ]
    },
    {
     "name": "stdout",
     "output_type": "stream",
     "text": [
      "[MoviePy] Done.\n",
      "[MoviePy] >>>> Video ready: ./clip/6H4VsHbynQc__790__792.mp4 \n",
      "\n",
      "[MoviePy] >>>> Building video ./clip/6H4VsHbynQc__792__794.mp4\n",
      "[MoviePy] Writing audio in 6H4VsHbynQc__792__794TEMP_MPY_wvf_snd.mp4\n"
     ]
    },
    {
     "name": "stderr",
     "output_type": "stream",
     "text": [
      "100%|██████████| 45/45 [00:00<00:00, 188.22it/s]"
     ]
    },
    {
     "name": "stdout",
     "output_type": "stream",
     "text": [
      "[MoviePy] Done.\n",
      "[MoviePy] Writing video ./clip/6H4VsHbynQc__792__794.mp4\n"
     ]
    },
    {
     "name": "stderr",
     "output_type": "stream",
     "text": [
      "\n",
      "100%|██████████| 60/60 [00:00<00:00, 308.90it/s]\n"
     ]
    },
    {
     "name": "stdout",
     "output_type": "stream",
     "text": [
      "[MoviePy] Done.\n",
      "[MoviePy] >>>> Video ready: ./clip/6H4VsHbynQc__792__794.mp4 \n",
      "\n",
      "[MoviePy] >>>> Building video ./clip/6H4VsHbynQc__794__796.mp4\n",
      "[MoviePy] Writing audio in 6H4VsHbynQc__794__796TEMP_MPY_wvf_snd.mp4\n"
     ]
    },
    {
     "name": "stderr",
     "output_type": "stream",
     "text": [
      "100%|██████████| 45/45 [00:00<00:00, 200.80it/s]"
     ]
    },
    {
     "name": "stdout",
     "output_type": "stream",
     "text": [
      "[MoviePy] Done.\n",
      "[MoviePy] Writing video ./clip/6H4VsHbynQc__794__796.mp4\n"
     ]
    },
    {
     "name": "stderr",
     "output_type": "stream",
     "text": [
      "\n",
      "100%|██████████| 60/60 [00:00<00:00, 302.42it/s]\n"
     ]
    },
    {
     "name": "stdout",
     "output_type": "stream",
     "text": [
      "[MoviePy] Done.\n",
      "[MoviePy] >>>> Video ready: ./clip/6H4VsHbynQc__794__796.mp4 \n",
      "\n",
      "[MoviePy] >>>> Building video ./clip/6H4VsHbynQc__796__798.mp4\n",
      "[MoviePy] Writing audio in 6H4VsHbynQc__796__798TEMP_MPY_wvf_snd.mp4\n"
     ]
    },
    {
     "name": "stderr",
     "output_type": "stream",
     "text": [
      "100%|██████████| 45/45 [00:00<00:00, 184.99it/s]"
     ]
    },
    {
     "name": "stdout",
     "output_type": "stream",
     "text": [
      "[MoviePy] Done.\n",
      "[MoviePy] Writing video ./clip/6H4VsHbynQc__796__798.mp4\n"
     ]
    },
    {
     "name": "stderr",
     "output_type": "stream",
     "text": [
      "\n",
      "100%|██████████| 60/60 [00:00<00:00, 308.24it/s]\n"
     ]
    },
    {
     "name": "stdout",
     "output_type": "stream",
     "text": [
      "[MoviePy] Done.\n",
      "[MoviePy] >>>> Video ready: ./clip/6H4VsHbynQc__796__798.mp4 \n",
      "\n",
      "[MoviePy] >>>> Building video ./clip/6H4VsHbynQc__798__800.mp4\n",
      "[MoviePy] Writing audio in 6H4VsHbynQc__798__800TEMP_MPY_wvf_snd.mp4\n"
     ]
    },
    {
     "name": "stderr",
     "output_type": "stream",
     "text": [
      "100%|██████████| 45/45 [00:00<00:00, 194.56it/s]"
     ]
    },
    {
     "name": "stdout",
     "output_type": "stream",
     "text": [
      "[MoviePy] Done.\n",
      "[MoviePy] Writing video ./clip/6H4VsHbynQc__798__800.mp4\n"
     ]
    },
    {
     "name": "stderr",
     "output_type": "stream",
     "text": [
      "\n",
      "100%|██████████| 60/60 [00:00<00:00, 301.38it/s]\n"
     ]
    },
    {
     "name": "stdout",
     "output_type": "stream",
     "text": [
      "[MoviePy] Done.\n",
      "[MoviePy] >>>> Video ready: ./clip/6H4VsHbynQc__798__800.mp4 \n",
      "\n",
      "[MoviePy] >>>> Building video ./clip/6H4VsHbynQc__800__802.mp4\n",
      "[MoviePy] Writing audio in 6H4VsHbynQc__800__802TEMP_MPY_wvf_snd.mp4\n"
     ]
    },
    {
     "name": "stderr",
     "output_type": "stream",
     "text": [
      "100%|██████████| 45/45 [00:00<00:00, 176.98it/s]"
     ]
    },
    {
     "name": "stdout",
     "output_type": "stream",
     "text": [
      "[MoviePy] Done.\n",
      "[MoviePy] Writing video ./clip/6H4VsHbynQc__800__802.mp4\n"
     ]
    },
    {
     "name": "stderr",
     "output_type": "stream",
     "text": [
      "\n",
      "100%|██████████| 60/60 [00:00<00:00, 271.84it/s]\n"
     ]
    },
    {
     "name": "stdout",
     "output_type": "stream",
     "text": [
      "[MoviePy] Done.\n",
      "[MoviePy] >>>> Video ready: ./clip/6H4VsHbynQc__800__802.mp4 \n",
      "\n",
      "[MoviePy] >>>> Building video ./clip/6H4VsHbynQc__802__804.mp4\n",
      "[MoviePy] Writing audio in 6H4VsHbynQc__802__804TEMP_MPY_wvf_snd.mp4\n"
     ]
    },
    {
     "name": "stderr",
     "output_type": "stream",
     "text": [
      "100%|██████████| 45/45 [00:00<00:00, 189.46it/s]"
     ]
    },
    {
     "name": "stdout",
     "output_type": "stream",
     "text": [
      "[MoviePy] Done.\n",
      "[MoviePy] Writing video ./clip/6H4VsHbynQc__802__804.mp4\n"
     ]
    },
    {
     "name": "stderr",
     "output_type": "stream",
     "text": [
      "\n",
      "100%|██████████| 60/60 [00:00<00:00, 288.08it/s]\n"
     ]
    },
    {
     "name": "stdout",
     "output_type": "stream",
     "text": [
      "[MoviePy] Done.\n",
      "[MoviePy] >>>> Video ready: ./clip/6H4VsHbynQc__802__804.mp4 \n",
      "\n",
      "[MoviePy] >>>> Building video ./clip/6H4VsHbynQc__804__806.mp4\n",
      "[MoviePy] Writing audio in 6H4VsHbynQc__804__806TEMP_MPY_wvf_snd.mp4\n"
     ]
    },
    {
     "name": "stderr",
     "output_type": "stream",
     "text": [
      "100%|██████████| 45/45 [00:00<00:00, 187.72it/s]"
     ]
    },
    {
     "name": "stdout",
     "output_type": "stream",
     "text": [
      "[MoviePy] Done.\n",
      "[MoviePy] Writing video ./clip/6H4VsHbynQc__804__806.mp4\n"
     ]
    },
    {
     "name": "stderr",
     "output_type": "stream",
     "text": [
      "\n",
      "100%|██████████| 60/60 [00:00<00:00, 284.83it/s]\n"
     ]
    },
    {
     "name": "stdout",
     "output_type": "stream",
     "text": [
      "[MoviePy] Done.\n",
      "[MoviePy] >>>> Video ready: ./clip/6H4VsHbynQc__804__806.mp4 \n",
      "\n",
      "[MoviePy] >>>> Building video ./clip/6H4VsHbynQc__806__808.mp4\n",
      "[MoviePy] Writing audio in 6H4VsHbynQc__806__808TEMP_MPY_wvf_snd.mp4\n"
     ]
    },
    {
     "name": "stderr",
     "output_type": "stream",
     "text": [
      "100%|██████████| 45/45 [00:00<00:00, 201.09it/s]"
     ]
    },
    {
     "name": "stdout",
     "output_type": "stream",
     "text": [
      "[MoviePy] Done.\n",
      "[MoviePy] Writing video ./clip/6H4VsHbynQc__806__808.mp4\n"
     ]
    },
    {
     "name": "stderr",
     "output_type": "stream",
     "text": [
      "\n",
      "100%|██████████| 60/60 [00:00<00:00, 254.58it/s]\n"
     ]
    },
    {
     "name": "stdout",
     "output_type": "stream",
     "text": [
      "[MoviePy] Done.\n",
      "[MoviePy] >>>> Video ready: ./clip/6H4VsHbynQc__806__808.mp4 \n",
      "\n",
      "[MoviePy] >>>> Building video ./clip/6H4VsHbynQc__808__810.mp4\n",
      "[MoviePy] Writing audio in 6H4VsHbynQc__808__810TEMP_MPY_wvf_snd.mp4\n"
     ]
    },
    {
     "name": "stderr",
     "output_type": "stream",
     "text": [
      "100%|██████████| 45/45 [00:00<00:00, 205.47it/s]"
     ]
    },
    {
     "name": "stdout",
     "output_type": "stream",
     "text": [
      "[MoviePy] Done.\n",
      "[MoviePy] Writing video ./clip/6H4VsHbynQc__808__810.mp4\n"
     ]
    },
    {
     "name": "stderr",
     "output_type": "stream",
     "text": [
      "\n",
      "100%|██████████| 60/60 [00:00<00:00, 289.45it/s]\n"
     ]
    },
    {
     "name": "stdout",
     "output_type": "stream",
     "text": [
      "[MoviePy] Done.\n",
      "[MoviePy] >>>> Video ready: ./clip/6H4VsHbynQc__808__810.mp4 \n",
      "\n",
      "[MoviePy] >>>> Building video ./clip/6H4VsHbynQc__810__812.mp4\n",
      "[MoviePy] Writing audio in 6H4VsHbynQc__810__812TEMP_MPY_wvf_snd.mp4\n"
     ]
    },
    {
     "name": "stderr",
     "output_type": "stream",
     "text": [
      "100%|██████████| 45/45 [00:00<00:00, 203.42it/s]"
     ]
    },
    {
     "name": "stdout",
     "output_type": "stream",
     "text": [
      "[MoviePy] Done.\n",
      "[MoviePy] Writing video ./clip/6H4VsHbynQc__810__812.mp4\n"
     ]
    },
    {
     "name": "stderr",
     "output_type": "stream",
     "text": [
      "\n",
      "100%|██████████| 60/60 [00:00<00:00, 321.94it/s]\n"
     ]
    },
    {
     "name": "stdout",
     "output_type": "stream",
     "text": [
      "[MoviePy] Done.\n",
      "[MoviePy] >>>> Video ready: ./clip/6H4VsHbynQc__810__812.mp4 \n",
      "\n",
      "[MoviePy] >>>> Building video ./clip/6H4VsHbynQc__812__814.mp4\n",
      "[MoviePy] Writing audio in 6H4VsHbynQc__812__814TEMP_MPY_wvf_snd.mp4\n"
     ]
    },
    {
     "name": "stderr",
     "output_type": "stream",
     "text": [
      "100%|██████████| 45/45 [00:00<00:00, 197.53it/s]"
     ]
    },
    {
     "name": "stdout",
     "output_type": "stream",
     "text": [
      "[MoviePy] Done.\n",
      "[MoviePy] Writing video ./clip/6H4VsHbynQc__812__814.mp4\n"
     ]
    },
    {
     "name": "stderr",
     "output_type": "stream",
     "text": [
      "\n",
      "100%|██████████| 60/60 [00:00<00:00, 304.74it/s]\n"
     ]
    },
    {
     "name": "stdout",
     "output_type": "stream",
     "text": [
      "[MoviePy] Done.\n",
      "[MoviePy] >>>> Video ready: ./clip/6H4VsHbynQc__812__814.mp4 \n",
      "\n",
      "[MoviePy] >>>> Building video ./clip/6H4VsHbynQc__814__816.mp4\n",
      "[MoviePy] Writing audio in 6H4VsHbynQc__814__816TEMP_MPY_wvf_snd.mp4\n"
     ]
    },
    {
     "name": "stderr",
     "output_type": "stream",
     "text": [
      "100%|██████████| 45/45 [00:00<00:00, 192.82it/s]"
     ]
    },
    {
     "name": "stdout",
     "output_type": "stream",
     "text": [
      "[MoviePy] Done.\n",
      "[MoviePy] Writing video ./clip/6H4VsHbynQc__814__816.mp4\n"
     ]
    },
    {
     "name": "stderr",
     "output_type": "stream",
     "text": [
      "\n",
      "100%|██████████| 60/60 [00:00<00:00, 307.05it/s]\n"
     ]
    },
    {
     "name": "stdout",
     "output_type": "stream",
     "text": [
      "[MoviePy] Done.\n",
      "[MoviePy] >>>> Video ready: ./clip/6H4VsHbynQc__814__816.mp4 \n",
      "\n",
      "[MoviePy] >>>> Building video ./clip/6H4VsHbynQc__816__818.mp4\n",
      "[MoviePy] Writing audio in 6H4VsHbynQc__816__818TEMP_MPY_wvf_snd.mp4\n"
     ]
    },
    {
     "name": "stderr",
     "output_type": "stream",
     "text": [
      "100%|██████████| 45/45 [00:00<00:00, 204.56it/s]"
     ]
    },
    {
     "name": "stdout",
     "output_type": "stream",
     "text": [
      "[MoviePy] Done.\n",
      "[MoviePy] Writing video ./clip/6H4VsHbynQc__816__818.mp4\n"
     ]
    },
    {
     "name": "stderr",
     "output_type": "stream",
     "text": [
      "\n",
      "100%|██████████| 60/60 [00:00<00:00, 297.23it/s]\n"
     ]
    },
    {
     "name": "stdout",
     "output_type": "stream",
     "text": [
      "[MoviePy] Done.\n",
      "[MoviePy] >>>> Video ready: ./clip/6H4VsHbynQc__816__818.mp4 \n",
      "\n",
      "[MoviePy] >>>> Building video ./clip/6H4VsHbynQc__818__820.mp4\n",
      "[MoviePy] Writing audio in 6H4VsHbynQc__818__820TEMP_MPY_wvf_snd.mp4\n"
     ]
    },
    {
     "name": "stderr",
     "output_type": "stream",
     "text": [
      "100%|██████████| 45/45 [00:00<00:00, 200.41it/s]"
     ]
    },
    {
     "name": "stdout",
     "output_type": "stream",
     "text": [
      "[MoviePy] Done.\n",
      "[MoviePy] Writing video ./clip/6H4VsHbynQc__818__820.mp4\n"
     ]
    },
    {
     "name": "stderr",
     "output_type": "stream",
     "text": [
      "\n",
      "100%|██████████| 60/60 [00:00<00:00, 285.10it/s]\n"
     ]
    },
    {
     "name": "stdout",
     "output_type": "stream",
     "text": [
      "[MoviePy] Done.\n",
      "[MoviePy] >>>> Video ready: ./clip/6H4VsHbynQc__818__820.mp4 \n",
      "\n",
      "[MoviePy] >>>> Building video ./clip/6H4VsHbynQc__820__822.mp4\n",
      "[MoviePy] Writing audio in 6H4VsHbynQc__820__822TEMP_MPY_wvf_snd.mp4\n"
     ]
    },
    {
     "name": "stderr",
     "output_type": "stream",
     "text": [
      "100%|██████████| 45/45 [00:00<00:00, 200.64it/s]"
     ]
    },
    {
     "name": "stdout",
     "output_type": "stream",
     "text": [
      "[MoviePy] Done.\n",
      "[MoviePy] Writing video ./clip/6H4VsHbynQc__820__822.mp4\n"
     ]
    },
    {
     "name": "stderr",
     "output_type": "stream",
     "text": [
      "\n",
      "100%|██████████| 60/60 [00:00<00:00, 260.18it/s]\n"
     ]
    },
    {
     "name": "stdout",
     "output_type": "stream",
     "text": [
      "[MoviePy] Done.\n",
      "[MoviePy] >>>> Video ready: ./clip/6H4VsHbynQc__820__822.mp4 \n",
      "\n",
      "[MoviePy] >>>> Building video ./clip/6H4VsHbynQc__822__824.mp4\n",
      "[MoviePy] Writing audio in 6H4VsHbynQc__822__824TEMP_MPY_wvf_snd.mp4\n"
     ]
    },
    {
     "name": "stderr",
     "output_type": "stream",
     "text": [
      "100%|██████████| 45/45 [00:00<00:00, 194.00it/s]"
     ]
    },
    {
     "name": "stdout",
     "output_type": "stream",
     "text": [
      "[MoviePy] Done.\n",
      "[MoviePy] Writing video ./clip/6H4VsHbynQc__822__824.mp4\n"
     ]
    },
    {
     "name": "stderr",
     "output_type": "stream",
     "text": [
      "\n",
      "100%|██████████| 60/60 [00:00<00:00, 294.10it/s]\n"
     ]
    },
    {
     "name": "stdout",
     "output_type": "stream",
     "text": [
      "[MoviePy] Done.\n",
      "[MoviePy] >>>> Video ready: ./clip/6H4VsHbynQc__822__824.mp4 \n",
      "\n",
      "[MoviePy] >>>> Building video ./clip/6H4VsHbynQc__824__826.mp4\n",
      "[MoviePy] Writing audio in 6H4VsHbynQc__824__826TEMP_MPY_wvf_snd.mp4\n"
     ]
    },
    {
     "name": "stderr",
     "output_type": "stream",
     "text": [
      "100%|██████████| 45/45 [00:00<00:00, 192.38it/s]"
     ]
    },
    {
     "name": "stdout",
     "output_type": "stream",
     "text": [
      "[MoviePy] Done.\n",
      "[MoviePy] Writing video ./clip/6H4VsHbynQc__824__826.mp4\n"
     ]
    },
    {
     "name": "stderr",
     "output_type": "stream",
     "text": [
      "\n",
      "100%|██████████| 60/60 [00:00<00:00, 306.42it/s]\n"
     ]
    },
    {
     "name": "stdout",
     "output_type": "stream",
     "text": [
      "[MoviePy] Done.\n",
      "[MoviePy] >>>> Video ready: ./clip/6H4VsHbynQc__824__826.mp4 \n",
      "\n",
      "[MoviePy] >>>> Building video ./clip/6H4VsHbynQc__826__828.mp4\n",
      "[MoviePy] Writing audio in 6H4VsHbynQc__826__828TEMP_MPY_wvf_snd.mp4\n"
     ]
    },
    {
     "name": "stderr",
     "output_type": "stream",
     "text": [
      "100%|██████████| 45/45 [00:00<00:00, 196.60it/s]"
     ]
    },
    {
     "name": "stdout",
     "output_type": "stream",
     "text": [
      "[MoviePy] Done.\n",
      "[MoviePy] Writing video ./clip/6H4VsHbynQc__826__828.mp4\n"
     ]
    },
    {
     "name": "stderr",
     "output_type": "stream",
     "text": [
      "\n",
      "100%|██████████| 60/60 [00:00<00:00, 295.58it/s]\n"
     ]
    },
    {
     "name": "stdout",
     "output_type": "stream",
     "text": [
      "[MoviePy] Done.\n",
      "[MoviePy] >>>> Video ready: ./clip/6H4VsHbynQc__826__828.mp4 \n",
      "\n",
      "[MoviePy] >>>> Building video ./clip/6H4VsHbynQc__828__830.mp4\n",
      "[MoviePy] Writing audio in 6H4VsHbynQc__828__830TEMP_MPY_wvf_snd.mp4\n"
     ]
    },
    {
     "name": "stderr",
     "output_type": "stream",
     "text": [
      "100%|██████████| 45/45 [00:00<00:00, 193.94it/s]"
     ]
    },
    {
     "name": "stdout",
     "output_type": "stream",
     "text": [
      "[MoviePy] Done.\n",
      "[MoviePy] Writing video ./clip/6H4VsHbynQc__828__830.mp4\n"
     ]
    },
    {
     "name": "stderr",
     "output_type": "stream",
     "text": [
      "\n",
      "100%|██████████| 60/60 [00:00<00:00, 302.21it/s]\n"
     ]
    },
    {
     "name": "stdout",
     "output_type": "stream",
     "text": [
      "[MoviePy] Done.\n",
      "[MoviePy] >>>> Video ready: ./clip/6H4VsHbynQc__828__830.mp4 \n",
      "\n",
      "[MoviePy] >>>> Building video ./clip/6H4VsHbynQc__830__832.mp4\n",
      "[MoviePy] Writing audio in 6H4VsHbynQc__830__832TEMP_MPY_wvf_snd.mp4\n"
     ]
    },
    {
     "name": "stderr",
     "output_type": "stream",
     "text": [
      "100%|██████████| 45/45 [00:00<00:00, 198.36it/s]"
     ]
    },
    {
     "name": "stdout",
     "output_type": "stream",
     "text": [
      "[MoviePy] Done.\n",
      "[MoviePy] Writing video ./clip/6H4VsHbynQc__830__832.mp4\n"
     ]
    },
    {
     "name": "stderr",
     "output_type": "stream",
     "text": [
      "\n",
      "100%|██████████| 60/60 [00:00<00:00, 303.90it/s]\n"
     ]
    },
    {
     "name": "stdout",
     "output_type": "stream",
     "text": [
      "[MoviePy] Done.\n",
      "[MoviePy] >>>> Video ready: ./clip/6H4VsHbynQc__830__832.mp4 \n",
      "\n",
      "[MoviePy] >>>> Building video ./clip/6H4VsHbynQc__832__834.mp4\n",
      "[MoviePy] Writing audio in 6H4VsHbynQc__832__834TEMP_MPY_wvf_snd.mp4\n"
     ]
    },
    {
     "name": "stderr",
     "output_type": "stream",
     "text": [
      "100%|██████████| 45/45 [00:00<00:00, 211.66it/s]"
     ]
    },
    {
     "name": "stdout",
     "output_type": "stream",
     "text": [
      "[MoviePy] Done.\n",
      "[MoviePy] Writing video ./clip/6H4VsHbynQc__832__834.mp4\n"
     ]
    },
    {
     "name": "stderr",
     "output_type": "stream",
     "text": [
      "\n",
      "100%|██████████| 60/60 [00:00<00:00, 313.08it/s]\n"
     ]
    },
    {
     "name": "stdout",
     "output_type": "stream",
     "text": [
      "[MoviePy] Done.\n",
      "[MoviePy] >>>> Video ready: ./clip/6H4VsHbynQc__832__834.mp4 \n",
      "\n",
      "[MoviePy] >>>> Building video ./clip/6H4VsHbynQc__834__836.mp4\n",
      "[MoviePy] Writing audio in 6H4VsHbynQc__834__836TEMP_MPY_wvf_snd.mp4\n"
     ]
    },
    {
     "name": "stderr",
     "output_type": "stream",
     "text": [
      "100%|██████████| 45/45 [00:00<00:00, 205.97it/s]"
     ]
    },
    {
     "name": "stdout",
     "output_type": "stream",
     "text": [
      "[MoviePy] Done.\n",
      "[MoviePy] Writing video ./clip/6H4VsHbynQc__834__836.mp4\n"
     ]
    },
    {
     "name": "stderr",
     "output_type": "stream",
     "text": [
      "\n",
      "100%|██████████| 60/60 [00:00<00:00, 302.41it/s]\n"
     ]
    },
    {
     "name": "stdout",
     "output_type": "stream",
     "text": [
      "[MoviePy] Done.\n",
      "[MoviePy] >>>> Video ready: ./clip/6H4VsHbynQc__834__836.mp4 \n",
      "\n",
      "[MoviePy] >>>> Building video ./clip/6H4VsHbynQc__836__838.mp4\n",
      "[MoviePy] Writing audio in 6H4VsHbynQc__836__838TEMP_MPY_wvf_snd.mp4\n"
     ]
    },
    {
     "name": "stderr",
     "output_type": "stream",
     "text": [
      "100%|██████████| 45/45 [00:00<00:00, 195.21it/s]"
     ]
    },
    {
     "name": "stdout",
     "output_type": "stream",
     "text": [
      "[MoviePy] Done.\n",
      "[MoviePy] Writing video ./clip/6H4VsHbynQc__836__838.mp4\n"
     ]
    },
    {
     "name": "stderr",
     "output_type": "stream",
     "text": [
      "\n",
      "100%|██████████| 60/60 [00:00<00:00, 293.15it/s]\n"
     ]
    },
    {
     "name": "stdout",
     "output_type": "stream",
     "text": [
      "[MoviePy] Done.\n",
      "[MoviePy] >>>> Video ready: ./clip/6H4VsHbynQc__836__838.mp4 \n",
      "\n",
      "[MoviePy] >>>> Building video ./clip/6H4VsHbynQc__838__840.mp4\n",
      "[MoviePy] Writing audio in 6H4VsHbynQc__838__840TEMP_MPY_wvf_snd.mp4\n"
     ]
    },
    {
     "name": "stderr",
     "output_type": "stream",
     "text": [
      "100%|██████████| 45/45 [00:00<00:00, 213.83it/s]"
     ]
    },
    {
     "name": "stdout",
     "output_type": "stream",
     "text": [
      "[MoviePy] Done.\n",
      "[MoviePy] Writing video ./clip/6H4VsHbynQc__838__840.mp4\n"
     ]
    },
    {
     "name": "stderr",
     "output_type": "stream",
     "text": [
      "\n",
      "100%|██████████| 60/60 [00:00<00:00, 299.84it/s]\n"
     ]
    },
    {
     "name": "stdout",
     "output_type": "stream",
     "text": [
      "[MoviePy] Done.\n",
      "[MoviePy] >>>> Video ready: ./clip/6H4VsHbynQc__838__840.mp4 \n",
      "\n",
      "[MoviePy] >>>> Building video ./clip/6H4VsHbynQc__840__842.mp4\n",
      "[MoviePy] Writing audio in 6H4VsHbynQc__840__842TEMP_MPY_wvf_snd.mp4\n"
     ]
    },
    {
     "name": "stderr",
     "output_type": "stream",
     "text": [
      "100%|██████████| 45/45 [00:00<00:00, 205.30it/s]"
     ]
    },
    {
     "name": "stdout",
     "output_type": "stream",
     "text": [
      "[MoviePy] Done.\n",
      "[MoviePy] Writing video ./clip/6H4VsHbynQc__840__842.mp4\n"
     ]
    },
    {
     "name": "stderr",
     "output_type": "stream",
     "text": [
      "\n",
      "100%|██████████| 60/60 [00:00<00:00, 292.61it/s]\n"
     ]
    },
    {
     "name": "stdout",
     "output_type": "stream",
     "text": [
      "[MoviePy] Done.\n",
      "[MoviePy] >>>> Video ready: ./clip/6H4VsHbynQc__840__842.mp4 \n",
      "\n",
      "[MoviePy] >>>> Building video ./clip/6H4VsHbynQc__842__844.mp4\n",
      "[MoviePy] Writing audio in 6H4VsHbynQc__842__844TEMP_MPY_wvf_snd.mp4\n"
     ]
    },
    {
     "name": "stderr",
     "output_type": "stream",
     "text": [
      "100%|██████████| 45/45 [00:00<00:00, 193.88it/s]"
     ]
    },
    {
     "name": "stdout",
     "output_type": "stream",
     "text": [
      "[MoviePy] Done.\n",
      "[MoviePy] Writing video ./clip/6H4VsHbynQc__842__844.mp4\n"
     ]
    },
    {
     "name": "stderr",
     "output_type": "stream",
     "text": [
      "\n",
      "100%|██████████| 60/60 [00:00<00:00, 291.56it/s]\n"
     ]
    },
    {
     "name": "stdout",
     "output_type": "stream",
     "text": [
      "[MoviePy] Done.\n",
      "[MoviePy] >>>> Video ready: ./clip/6H4VsHbynQc__842__844.mp4 \n",
      "\n",
      "[MoviePy] >>>> Building video ./clip/6H4VsHbynQc__844__846.mp4\n",
      "[MoviePy] Writing audio in 6H4VsHbynQc__844__846TEMP_MPY_wvf_snd.mp4\n"
     ]
    },
    {
     "name": "stderr",
     "output_type": "stream",
     "text": [
      "100%|██████████| 45/45 [00:00<00:00, 189.48it/s]"
     ]
    },
    {
     "name": "stdout",
     "output_type": "stream",
     "text": [
      "[MoviePy] Done.\n",
      "[MoviePy] Writing video ./clip/6H4VsHbynQc__844__846.mp4\n"
     ]
    },
    {
     "name": "stderr",
     "output_type": "stream",
     "text": [
      "\n",
      "100%|██████████| 60/60 [00:00<00:00, 302.85it/s]\n"
     ]
    },
    {
     "name": "stdout",
     "output_type": "stream",
     "text": [
      "[MoviePy] Done.\n",
      "[MoviePy] >>>> Video ready: ./clip/6H4VsHbynQc__844__846.mp4 \n",
      "\n",
      "[MoviePy] >>>> Building video ./clip/6H4VsHbynQc__846__848.mp4\n",
      "[MoviePy] Writing audio in 6H4VsHbynQc__846__848TEMP_MPY_wvf_snd.mp4\n"
     ]
    },
    {
     "name": "stderr",
     "output_type": "stream",
     "text": [
      "100%|██████████| 45/45 [00:00<00:00, 189.69it/s]"
     ]
    },
    {
     "name": "stdout",
     "output_type": "stream",
     "text": [
      "[MoviePy] Done.\n",
      "[MoviePy] Writing video ./clip/6H4VsHbynQc__846__848.mp4\n"
     ]
    },
    {
     "name": "stderr",
     "output_type": "stream",
     "text": [
      "\n",
      "100%|██████████| 60/60 [00:00<00:00, 304.19it/s]\n"
     ]
    },
    {
     "name": "stdout",
     "output_type": "stream",
     "text": [
      "[MoviePy] Done.\n",
      "[MoviePy] >>>> Video ready: ./clip/6H4VsHbynQc__846__848.mp4 \n",
      "\n",
      "[MoviePy] >>>> Building video ./clip/6H4VsHbynQc__848__850.mp4\n",
      "[MoviePy] Writing audio in 6H4VsHbynQc__848__850TEMP_MPY_wvf_snd.mp4\n"
     ]
    },
    {
     "name": "stderr",
     "output_type": "stream",
     "text": [
      "100%|██████████| 45/45 [00:00<00:00, 192.85it/s]"
     ]
    },
    {
     "name": "stdout",
     "output_type": "stream",
     "text": [
      "[MoviePy] Done.\n",
      "[MoviePy] Writing video ./clip/6H4VsHbynQc__848__850.mp4\n"
     ]
    },
    {
     "name": "stderr",
     "output_type": "stream",
     "text": [
      "\n",
      "100%|██████████| 60/60 [00:00<00:00, 290.42it/s]\n"
     ]
    },
    {
     "name": "stdout",
     "output_type": "stream",
     "text": [
      "[MoviePy] Done.\n",
      "[MoviePy] >>>> Video ready: ./clip/6H4VsHbynQc__848__850.mp4 \n",
      "\n",
      "[MoviePy] >>>> Building video ./clip/6H4VsHbynQc__850__852.mp4\n",
      "[MoviePy] Writing audio in 6H4VsHbynQc__850__852TEMP_MPY_wvf_snd.mp4\n"
     ]
    },
    {
     "name": "stderr",
     "output_type": "stream",
     "text": [
      "100%|██████████| 45/45 [00:00<00:00, 201.40it/s]"
     ]
    },
    {
     "name": "stdout",
     "output_type": "stream",
     "text": [
      "[MoviePy] Done.\n",
      "[MoviePy] Writing video ./clip/6H4VsHbynQc__850__852.mp4\n"
     ]
    },
    {
     "name": "stderr",
     "output_type": "stream",
     "text": [
      "\n",
      "100%|██████████| 60/60 [00:00<00:00, 292.13it/s]\n"
     ]
    },
    {
     "name": "stdout",
     "output_type": "stream",
     "text": [
      "[MoviePy] Done.\n",
      "[MoviePy] >>>> Video ready: ./clip/6H4VsHbynQc__850__852.mp4 \n",
      "\n",
      "[MoviePy] >>>> Building video ./clip/6H4VsHbynQc__852__854.mp4\n",
      "[MoviePy] Writing audio in 6H4VsHbynQc__852__854TEMP_MPY_wvf_snd.mp4\n"
     ]
    },
    {
     "name": "stderr",
     "output_type": "stream",
     "text": [
      "100%|██████████| 45/45 [00:00<00:00, 190.53it/s]"
     ]
    },
    {
     "name": "stdout",
     "output_type": "stream",
     "text": [
      "[MoviePy] Done.\n",
      "[MoviePy] Writing video ./clip/6H4VsHbynQc__852__854.mp4\n"
     ]
    },
    {
     "name": "stderr",
     "output_type": "stream",
     "text": [
      "\n",
      "100%|██████████| 60/60 [00:00<00:00, 304.56it/s]\n"
     ]
    },
    {
     "name": "stdout",
     "output_type": "stream",
     "text": [
      "[MoviePy] Done.\n",
      "[MoviePy] >>>> Video ready: ./clip/6H4VsHbynQc__852__854.mp4 \n",
      "\n",
      "[MoviePy] >>>> Building video ./clip/6H4VsHbynQc__854__856.mp4\n",
      "[MoviePy] Writing audio in 6H4VsHbynQc__854__856TEMP_MPY_wvf_snd.mp4\n"
     ]
    },
    {
     "name": "stderr",
     "output_type": "stream",
     "text": [
      "100%|██████████| 45/45 [00:00<00:00, 205.94it/s]"
     ]
    },
    {
     "name": "stdout",
     "output_type": "stream",
     "text": [
      "[MoviePy] Done.\n",
      "[MoviePy] Writing video ./clip/6H4VsHbynQc__854__856.mp4\n"
     ]
    },
    {
     "name": "stderr",
     "output_type": "stream",
     "text": [
      "\n",
      "100%|██████████| 60/60 [00:00<00:00, 257.65it/s]\n"
     ]
    },
    {
     "name": "stdout",
     "output_type": "stream",
     "text": [
      "[MoviePy] Done.\n",
      "[MoviePy] >>>> Video ready: ./clip/6H4VsHbynQc__854__856.mp4 \n",
      "\n",
      "[MoviePy] >>>> Building video ./clip/6H4VsHbynQc__856__858.mp4\n",
      "[MoviePy] Writing audio in 6H4VsHbynQc__856__858TEMP_MPY_wvf_snd.mp4\n"
     ]
    },
    {
     "name": "stderr",
     "output_type": "stream",
     "text": [
      "100%|██████████| 45/45 [00:00<00:00, 195.14it/s]"
     ]
    },
    {
     "name": "stdout",
     "output_type": "stream",
     "text": [
      "[MoviePy] Done.\n",
      "[MoviePy] Writing video ./clip/6H4VsHbynQc__856__858.mp4\n"
     ]
    },
    {
     "name": "stderr",
     "output_type": "stream",
     "text": [
      "\n",
      "100%|██████████| 60/60 [00:00<00:00, 312.00it/s]\n"
     ]
    },
    {
     "name": "stdout",
     "output_type": "stream",
     "text": [
      "[MoviePy] Done.\n",
      "[MoviePy] >>>> Video ready: ./clip/6H4VsHbynQc__856__858.mp4 \n",
      "\n",
      "[MoviePy] >>>> Building video ./clip/6H4VsHbynQc__858__860.mp4\n",
      "[MoviePy] Writing audio in 6H4VsHbynQc__858__860TEMP_MPY_wvf_snd.mp4\n"
     ]
    },
    {
     "name": "stderr",
     "output_type": "stream",
     "text": [
      "100%|██████████| 45/45 [00:00<00:00, 199.11it/s]"
     ]
    },
    {
     "name": "stdout",
     "output_type": "stream",
     "text": [
      "[MoviePy] Done.\n",
      "[MoviePy] Writing video ./clip/6H4VsHbynQc__858__860.mp4\n"
     ]
    },
    {
     "name": "stderr",
     "output_type": "stream",
     "text": [
      "\n",
      "100%|██████████| 60/60 [00:00<00:00, 299.20it/s]\n"
     ]
    },
    {
     "name": "stdout",
     "output_type": "stream",
     "text": [
      "[MoviePy] Done.\n",
      "[MoviePy] >>>> Video ready: ./clip/6H4VsHbynQc__858__860.mp4 \n",
      "\n",
      "[MoviePy] >>>> Building video ./clip/6H4VsHbynQc__860__862.mp4\n",
      "[MoviePy] Writing audio in 6H4VsHbynQc__860__862TEMP_MPY_wvf_snd.mp4\n"
     ]
    },
    {
     "name": "stderr",
     "output_type": "stream",
     "text": [
      "100%|██████████| 45/45 [00:00<00:00, 211.43it/s]"
     ]
    },
    {
     "name": "stdout",
     "output_type": "stream",
     "text": [
      "[MoviePy] Done.\n",
      "[MoviePy] Writing video ./clip/6H4VsHbynQc__860__862.mp4\n"
     ]
    },
    {
     "name": "stderr",
     "output_type": "stream",
     "text": [
      "\n",
      "100%|██████████| 60/60 [00:00<00:00, 281.87it/s]\n"
     ]
    },
    {
     "name": "stdout",
     "output_type": "stream",
     "text": [
      "[MoviePy] Done.\n",
      "[MoviePy] >>>> Video ready: ./clip/6H4VsHbynQc__860__862.mp4 \n",
      "\n",
      "[MoviePy] >>>> Building video ./clip/6H4VsHbynQc__862__864.mp4\n",
      "[MoviePy] Writing audio in 6H4VsHbynQc__862__864TEMP_MPY_wvf_snd.mp4\n"
     ]
    },
    {
     "name": "stderr",
     "output_type": "stream",
     "text": [
      "100%|██████████| 45/45 [00:00<00:00, 188.08it/s]"
     ]
    },
    {
     "name": "stdout",
     "output_type": "stream",
     "text": [
      "[MoviePy] Done.\n",
      "[MoviePy] Writing video ./clip/6H4VsHbynQc__862__864.mp4\n"
     ]
    },
    {
     "name": "stderr",
     "output_type": "stream",
     "text": [
      "\n",
      "100%|██████████| 60/60 [00:00<00:00, 281.55it/s]\n"
     ]
    },
    {
     "name": "stdout",
     "output_type": "stream",
     "text": [
      "[MoviePy] Done.\n",
      "[MoviePy] >>>> Video ready: ./clip/6H4VsHbynQc__862__864.mp4 \n",
      "\n",
      "[MoviePy] >>>> Building video ./clip/6H4VsHbynQc__864__866.mp4\n",
      "[MoviePy] Writing audio in 6H4VsHbynQc__864__866TEMP_MPY_wvf_snd.mp4\n"
     ]
    },
    {
     "name": "stderr",
     "output_type": "stream",
     "text": [
      "100%|██████████| 45/45 [00:00<00:00, 206.20it/s]"
     ]
    },
    {
     "name": "stdout",
     "output_type": "stream",
     "text": [
      "[MoviePy] Done.\n",
      "[MoviePy] Writing video ./clip/6H4VsHbynQc__864__866.mp4\n"
     ]
    },
    {
     "name": "stderr",
     "output_type": "stream",
     "text": [
      "\n",
      "100%|██████████| 60/60 [00:00<00:00, 297.70it/s]\n"
     ]
    },
    {
     "name": "stdout",
     "output_type": "stream",
     "text": [
      "[MoviePy] Done.\n",
      "[MoviePy] >>>> Video ready: ./clip/6H4VsHbynQc__864__866.mp4 \n",
      "\n",
      "[MoviePy] >>>> Building video ./clip/6H4VsHbynQc__866__868.mp4\n",
      "[MoviePy] Writing audio in 6H4VsHbynQc__866__868TEMP_MPY_wvf_snd.mp4\n"
     ]
    },
    {
     "name": "stderr",
     "output_type": "stream",
     "text": [
      "100%|██████████| 45/45 [00:00<00:00, 203.86it/s]"
     ]
    },
    {
     "name": "stdout",
     "output_type": "stream",
     "text": [
      "[MoviePy] Done.\n",
      "[MoviePy] Writing video ./clip/6H4VsHbynQc__866__868.mp4\n"
     ]
    },
    {
     "name": "stderr",
     "output_type": "stream",
     "text": [
      "\n",
      "100%|██████████| 60/60 [00:00<00:00, 290.44it/s]\n"
     ]
    },
    {
     "name": "stdout",
     "output_type": "stream",
     "text": [
      "[MoviePy] Done.\n",
      "[MoviePy] >>>> Video ready: ./clip/6H4VsHbynQc__866__868.mp4 \n",
      "\n",
      "[MoviePy] >>>> Building video ./clip/6H4VsHbynQc__868__870.mp4\n",
      "[MoviePy] Writing audio in 6H4VsHbynQc__868__870TEMP_MPY_wvf_snd.mp4\n"
     ]
    },
    {
     "name": "stderr",
     "output_type": "stream",
     "text": [
      "100%|██████████| 45/45 [00:00<00:00, 209.68it/s]"
     ]
    },
    {
     "name": "stdout",
     "output_type": "stream",
     "text": [
      "[MoviePy] Done.\n",
      "[MoviePy] Writing video ./clip/6H4VsHbynQc__868__870.mp4\n"
     ]
    },
    {
     "name": "stderr",
     "output_type": "stream",
     "text": [
      "\n",
      "100%|██████████| 60/60 [00:00<00:00, 288.63it/s]\n"
     ]
    },
    {
     "name": "stdout",
     "output_type": "stream",
     "text": [
      "[MoviePy] Done.\n",
      "[MoviePy] >>>> Video ready: ./clip/6H4VsHbynQc__868__870.mp4 \n",
      "\n",
      "[MoviePy] >>>> Building video ./clip/6H4VsHbynQc__870__872.mp4\n",
      "[MoviePy] Writing audio in 6H4VsHbynQc__870__872TEMP_MPY_wvf_snd.mp4\n"
     ]
    },
    {
     "name": "stderr",
     "output_type": "stream",
     "text": [
      "100%|██████████| 45/45 [00:00<00:00, 192.66it/s]"
     ]
    },
    {
     "name": "stdout",
     "output_type": "stream",
     "text": [
      "[MoviePy] Done.\n",
      "[MoviePy] Writing video ./clip/6H4VsHbynQc__870__872.mp4\n"
     ]
    },
    {
     "name": "stderr",
     "output_type": "stream",
     "text": [
      "\n",
      "100%|██████████| 60/60 [00:00<00:00, 322.19it/s]\n"
     ]
    },
    {
     "name": "stdout",
     "output_type": "stream",
     "text": [
      "[MoviePy] Done.\n",
      "[MoviePy] >>>> Video ready: ./clip/6H4VsHbynQc__870__872.mp4 \n",
      "\n",
      "[MoviePy] >>>> Building video ./clip/6H4VsHbynQc__872__874.mp4\n",
      "[MoviePy] Writing audio in 6H4VsHbynQc__872__874TEMP_MPY_wvf_snd.mp4\n"
     ]
    },
    {
     "name": "stderr",
     "output_type": "stream",
     "text": [
      "100%|██████████| 45/45 [00:00<00:00, 192.49it/s]"
     ]
    },
    {
     "name": "stdout",
     "output_type": "stream",
     "text": [
      "[MoviePy] Done.\n",
      "[MoviePy] Writing video ./clip/6H4VsHbynQc__872__874.mp4\n"
     ]
    },
    {
     "name": "stderr",
     "output_type": "stream",
     "text": [
      "\n",
      "100%|██████████| 60/60 [00:00<00:00, 315.03it/s]\n"
     ]
    },
    {
     "name": "stdout",
     "output_type": "stream",
     "text": [
      "[MoviePy] Done.\n",
      "[MoviePy] >>>> Video ready: ./clip/6H4VsHbynQc__872__874.mp4 \n",
      "\n",
      "[MoviePy] >>>> Building video ./clip/6H4VsHbynQc__874__876.mp4\n",
      "[MoviePy] Writing audio in 6H4VsHbynQc__874__876TEMP_MPY_wvf_snd.mp4\n"
     ]
    },
    {
     "name": "stderr",
     "output_type": "stream",
     "text": [
      "100%|██████████| 45/45 [00:00<00:00, 200.88it/s]"
     ]
    },
    {
     "name": "stdout",
     "output_type": "stream",
     "text": [
      "[MoviePy] Done.\n",
      "[MoviePy] Writing video ./clip/6H4VsHbynQc__874__876.mp4\n"
     ]
    },
    {
     "name": "stderr",
     "output_type": "stream",
     "text": [
      "\n",
      "100%|██████████| 60/60 [00:00<00:00, 279.30it/s]\n"
     ]
    },
    {
     "name": "stdout",
     "output_type": "stream",
     "text": [
      "[MoviePy] Done.\n",
      "[MoviePy] >>>> Video ready: ./clip/6H4VsHbynQc__874__876.mp4 \n",
      "\n",
      "[MoviePy] >>>> Building video ./clip/6H4VsHbynQc__876__878.mp4\n",
      "[MoviePy] Writing audio in 6H4VsHbynQc__876__878TEMP_MPY_wvf_snd.mp4\n"
     ]
    },
    {
     "name": "stderr",
     "output_type": "stream",
     "text": [
      "100%|██████████| 45/45 [00:00<00:00, 196.57it/s]"
     ]
    },
    {
     "name": "stdout",
     "output_type": "stream",
     "text": [
      "[MoviePy] Done.\n",
      "[MoviePy] Writing video ./clip/6H4VsHbynQc__876__878.mp4\n"
     ]
    },
    {
     "name": "stderr",
     "output_type": "stream",
     "text": [
      "\n",
      "100%|██████████| 60/60 [00:00<00:00, 306.35it/s]\n"
     ]
    },
    {
     "name": "stdout",
     "output_type": "stream",
     "text": [
      "[MoviePy] Done.\n",
      "[MoviePy] >>>> Video ready: ./clip/6H4VsHbynQc__876__878.mp4 \n",
      "\n",
      "[MoviePy] >>>> Building video ./clip/6H4VsHbynQc__878__880.mp4\n",
      "[MoviePy] Writing audio in 6H4VsHbynQc__878__880TEMP_MPY_wvf_snd.mp4\n"
     ]
    },
    {
     "name": "stderr",
     "output_type": "stream",
     "text": [
      "100%|██████████| 45/45 [00:00<00:00, 202.10it/s]"
     ]
    },
    {
     "name": "stdout",
     "output_type": "stream",
     "text": [
      "[MoviePy] Done.\n",
      "[MoviePy] Writing video ./clip/6H4VsHbynQc__878__880.mp4\n"
     ]
    },
    {
     "name": "stderr",
     "output_type": "stream",
     "text": [
      "\n",
      "100%|██████████| 60/60 [00:00<00:00, 300.27it/s]\n"
     ]
    },
    {
     "name": "stdout",
     "output_type": "stream",
     "text": [
      "[MoviePy] Done.\n",
      "[MoviePy] >>>> Video ready: ./clip/6H4VsHbynQc__878__880.mp4 \n",
      "\n",
      "[MoviePy] >>>> Building video ./clip/6H4VsHbynQc__880__882.mp4\n",
      "[MoviePy] Writing audio in 6H4VsHbynQc__880__882TEMP_MPY_wvf_snd.mp4\n"
     ]
    },
    {
     "name": "stderr",
     "output_type": "stream",
     "text": [
      "100%|██████████| 45/45 [00:00<00:00, 193.06it/s]"
     ]
    },
    {
     "name": "stdout",
     "output_type": "stream",
     "text": [
      "[MoviePy] Done.\n",
      "[MoviePy] Writing video ./clip/6H4VsHbynQc__880__882.mp4\n"
     ]
    },
    {
     "name": "stderr",
     "output_type": "stream",
     "text": [
      "\n",
      "100%|██████████| 60/60 [00:00<00:00, 275.05it/s]\n"
     ]
    },
    {
     "name": "stdout",
     "output_type": "stream",
     "text": [
      "[MoviePy] Done.\n",
      "[MoviePy] >>>> Video ready: ./clip/6H4VsHbynQc__880__882.mp4 \n",
      "\n",
      "[MoviePy] >>>> Building video ./clip/6H4VsHbynQc__882__884.mp4\n",
      "[MoviePy] Writing audio in 6H4VsHbynQc__882__884TEMP_MPY_wvf_snd.mp4\n"
     ]
    },
    {
     "name": "stderr",
     "output_type": "stream",
     "text": [
      "100%|██████████| 45/45 [00:00<00:00, 184.88it/s]"
     ]
    },
    {
     "name": "stdout",
     "output_type": "stream",
     "text": [
      "[MoviePy] Done.\n",
      "[MoviePy] Writing video ./clip/6H4VsHbynQc__882__884.mp4\n"
     ]
    },
    {
     "name": "stderr",
     "output_type": "stream",
     "text": [
      "\n",
      "100%|██████████| 60/60 [00:00<00:00, 299.60it/s]\n"
     ]
    },
    {
     "name": "stdout",
     "output_type": "stream",
     "text": [
      "[MoviePy] Done.\n",
      "[MoviePy] >>>> Video ready: ./clip/6H4VsHbynQc__882__884.mp4 \n",
      "\n",
      "[MoviePy] >>>> Building video ./clip/6H4VsHbynQc__884__886.mp4\n",
      "[MoviePy] Writing audio in 6H4VsHbynQc__884__886TEMP_MPY_wvf_snd.mp4\n"
     ]
    },
    {
     "name": "stderr",
     "output_type": "stream",
     "text": [
      "100%|██████████| 45/45 [00:00<00:00, 208.57it/s]"
     ]
    },
    {
     "name": "stdout",
     "output_type": "stream",
     "text": [
      "[MoviePy] Done.\n",
      "[MoviePy] Writing video ./clip/6H4VsHbynQc__884__886.mp4\n"
     ]
    },
    {
     "name": "stderr",
     "output_type": "stream",
     "text": [
      "\n",
      "100%|██████████| 60/60 [00:00<00:00, 322.90it/s]\n"
     ]
    },
    {
     "name": "stdout",
     "output_type": "stream",
     "text": [
      "[MoviePy] Done.\n",
      "[MoviePy] >>>> Video ready: ./clip/6H4VsHbynQc__884__886.mp4 \n",
      "\n",
      "[MoviePy] >>>> Building video ./clip/6H4VsHbynQc__886__888.mp4\n",
      "[MoviePy] Writing audio in 6H4VsHbynQc__886__888TEMP_MPY_wvf_snd.mp4\n"
     ]
    },
    {
     "name": "stderr",
     "output_type": "stream",
     "text": [
      "100%|██████████| 45/45 [00:00<00:00, 212.47it/s]"
     ]
    },
    {
     "name": "stdout",
     "output_type": "stream",
     "text": [
      "[MoviePy] Done.\n",
      "[MoviePy] Writing video ./clip/6H4VsHbynQc__886__888.mp4\n"
     ]
    },
    {
     "name": "stderr",
     "output_type": "stream",
     "text": [
      "\n",
      "100%|██████████| 60/60 [00:00<00:00, 275.85it/s]\n"
     ]
    },
    {
     "name": "stdout",
     "output_type": "stream",
     "text": [
      "[MoviePy] Done.\n",
      "[MoviePy] >>>> Video ready: ./clip/6H4VsHbynQc__886__888.mp4 \n",
      "\n",
      "[MoviePy] >>>> Building video ./clip/6H4VsHbynQc__888__890.mp4\n",
      "[MoviePy] Writing audio in 6H4VsHbynQc__888__890TEMP_MPY_wvf_snd.mp4\n"
     ]
    },
    {
     "name": "stderr",
     "output_type": "stream",
     "text": [
      "100%|██████████| 45/45 [00:00<00:00, 192.70it/s]"
     ]
    },
    {
     "name": "stdout",
     "output_type": "stream",
     "text": [
      "[MoviePy] Done.\n",
      "[MoviePy] Writing video ./clip/6H4VsHbynQc__888__890.mp4\n"
     ]
    },
    {
     "name": "stderr",
     "output_type": "stream",
     "text": [
      "\n",
      "100%|██████████| 60/60 [00:00<00:00, 264.93it/s]\n"
     ]
    },
    {
     "name": "stdout",
     "output_type": "stream",
     "text": [
      "[MoviePy] Done.\n",
      "[MoviePy] >>>> Video ready: ./clip/6H4VsHbynQc__888__890.mp4 \n",
      "\n",
      "[MoviePy] >>>> Building video ./clip/6H4VsHbynQc__890__892.mp4\n",
      "[MoviePy] Writing audio in 6H4VsHbynQc__890__892TEMP_MPY_wvf_snd.mp4\n"
     ]
    },
    {
     "name": "stderr",
     "output_type": "stream",
     "text": [
      "100%|██████████| 45/45 [00:00<00:00, 199.55it/s]"
     ]
    },
    {
     "name": "stdout",
     "output_type": "stream",
     "text": [
      "[MoviePy] Done.\n",
      "[MoviePy] Writing video ./clip/6H4VsHbynQc__890__892.mp4\n"
     ]
    },
    {
     "name": "stderr",
     "output_type": "stream",
     "text": [
      "\n",
      "100%|██████████| 60/60 [00:00<00:00, 277.01it/s]\n"
     ]
    },
    {
     "name": "stdout",
     "output_type": "stream",
     "text": [
      "[MoviePy] Done.\n",
      "[MoviePy] >>>> Video ready: ./clip/6H4VsHbynQc__890__892.mp4 \n",
      "\n",
      "[MoviePy] >>>> Building video ./clip/6H4VsHbynQc__892__894.mp4\n",
      "[MoviePy] Writing audio in 6H4VsHbynQc__892__894TEMP_MPY_wvf_snd.mp4\n"
     ]
    },
    {
     "name": "stderr",
     "output_type": "stream",
     "text": [
      "100%|██████████| 45/45 [00:00<00:00, 187.98it/s]"
     ]
    },
    {
     "name": "stdout",
     "output_type": "stream",
     "text": [
      "[MoviePy] Done.\n",
      "[MoviePy] Writing video ./clip/6H4VsHbynQc__892__894.mp4\n"
     ]
    },
    {
     "name": "stderr",
     "output_type": "stream",
     "text": [
      "\n",
      "100%|██████████| 60/60 [00:00<00:00, 243.15it/s]\n"
     ]
    },
    {
     "name": "stdout",
     "output_type": "stream",
     "text": [
      "[MoviePy] Done.\n",
      "[MoviePy] >>>> Video ready: ./clip/6H4VsHbynQc__892__894.mp4 \n",
      "\n",
      "[MoviePy] >>>> Building video ./clip/6H4VsHbynQc__894__896.mp4\n",
      "[MoviePy] Writing audio in 6H4VsHbynQc__894__896TEMP_MPY_wvf_snd.mp4\n"
     ]
    },
    {
     "name": "stderr",
     "output_type": "stream",
     "text": [
      "100%|██████████| 45/45 [00:00<00:00, 201.24it/s]"
     ]
    },
    {
     "name": "stdout",
     "output_type": "stream",
     "text": [
      "[MoviePy] Done.\n",
      "[MoviePy] Writing video ./clip/6H4VsHbynQc__894__896.mp4\n"
     ]
    },
    {
     "name": "stderr",
     "output_type": "stream",
     "text": [
      "\n",
      "100%|██████████| 60/60 [00:00<00:00, 272.21it/s]\n"
     ]
    },
    {
     "name": "stdout",
     "output_type": "stream",
     "text": [
      "[MoviePy] Done.\n",
      "[MoviePy] >>>> Video ready: ./clip/6H4VsHbynQc__894__896.mp4 \n",
      "\n",
      "[MoviePy] >>>> Building video ./clip/6H4VsHbynQc__896__898.mp4\n",
      "[MoviePy] Writing audio in 6H4VsHbynQc__896__898TEMP_MPY_wvf_snd.mp4\n"
     ]
    },
    {
     "name": "stderr",
     "output_type": "stream",
     "text": [
      "100%|██████████| 45/45 [00:00<00:00, 201.89it/s]"
     ]
    },
    {
     "name": "stdout",
     "output_type": "stream",
     "text": [
      "[MoviePy] Done.\n",
      "[MoviePy] Writing video ./clip/6H4VsHbynQc__896__898.mp4\n"
     ]
    },
    {
     "name": "stderr",
     "output_type": "stream",
     "text": [
      "\n",
      "100%|██████████| 60/60 [00:00<00:00, 286.86it/s]\n"
     ]
    },
    {
     "name": "stdout",
     "output_type": "stream",
     "text": [
      "[MoviePy] Done.\n",
      "[MoviePy] >>>> Video ready: ./clip/6H4VsHbynQc__896__898.mp4 \n",
      "\n",
      "[MoviePy] >>>> Building video ./clip/6H4VsHbynQc__898__900.mp4\n",
      "[MoviePy] Writing audio in 6H4VsHbynQc__898__900TEMP_MPY_wvf_snd.mp4\n"
     ]
    },
    {
     "name": "stderr",
     "output_type": "stream",
     "text": [
      "100%|██████████| 45/45 [00:00<00:00, 206.45it/s]"
     ]
    },
    {
     "name": "stdout",
     "output_type": "stream",
     "text": [
      "[MoviePy] Done.\n",
      "[MoviePy] Writing video ./clip/6H4VsHbynQc__898__900.mp4\n"
     ]
    },
    {
     "name": "stderr",
     "output_type": "stream",
     "text": [
      "\n",
      "100%|██████████| 60/60 [00:00<00:00, 277.51it/s]\n"
     ]
    },
    {
     "name": "stdout",
     "output_type": "stream",
     "text": [
      "[MoviePy] Done.\n",
      "[MoviePy] >>>> Video ready: ./clip/6H4VsHbynQc__898__900.mp4 \n",
      "\n",
      "[MoviePy] >>>> Building video ./clip/6H4VsHbynQc__900__902.mp4\n",
      "[MoviePy] Writing audio in 6H4VsHbynQc__900__902TEMP_MPY_wvf_snd.mp4\n"
     ]
    },
    {
     "name": "stderr",
     "output_type": "stream",
     "text": [
      "100%|██████████| 45/45 [00:00<00:00, 197.17it/s]"
     ]
    },
    {
     "name": "stdout",
     "output_type": "stream",
     "text": [
      "[MoviePy] Done.\n",
      "[MoviePy] Writing video ./clip/6H4VsHbynQc__900__902.mp4\n"
     ]
    },
    {
     "name": "stderr",
     "output_type": "stream",
     "text": [
      "\n",
      "100%|██████████| 60/60 [00:00<00:00, 260.89it/s]\n"
     ]
    },
    {
     "name": "stdout",
     "output_type": "stream",
     "text": [
      "[MoviePy] Done.\n",
      "[MoviePy] >>>> Video ready: ./clip/6H4VsHbynQc__900__902.mp4 \n",
      "\n",
      "[MoviePy] >>>> Building video ./clip/6H4VsHbynQc__902__904.mp4\n",
      "[MoviePy] Writing audio in 6H4VsHbynQc__902__904TEMP_MPY_wvf_snd.mp4\n"
     ]
    },
    {
     "name": "stderr",
     "output_type": "stream",
     "text": [
      "100%|██████████| 45/45 [00:00<00:00, 200.95it/s]"
     ]
    },
    {
     "name": "stdout",
     "output_type": "stream",
     "text": [
      "[MoviePy] Done.\n",
      "[MoviePy] Writing video ./clip/6H4VsHbynQc__902__904.mp4\n"
     ]
    },
    {
     "name": "stderr",
     "output_type": "stream",
     "text": [
      "\n",
      "100%|██████████| 60/60 [00:00<00:00, 275.52it/s]\n"
     ]
    },
    {
     "name": "stdout",
     "output_type": "stream",
     "text": [
      "[MoviePy] Done.\n",
      "[MoviePy] >>>> Video ready: ./clip/6H4VsHbynQc__902__904.mp4 \n",
      "\n",
      "[MoviePy] >>>> Building video ./clip/6H4VsHbynQc__904__906.mp4\n",
      "[MoviePy] Writing audio in 6H4VsHbynQc__904__906TEMP_MPY_wvf_snd.mp4\n"
     ]
    },
    {
     "name": "stderr",
     "output_type": "stream",
     "text": [
      "100%|██████████| 45/45 [00:00<00:00, 185.66it/s]"
     ]
    },
    {
     "name": "stdout",
     "output_type": "stream",
     "text": [
      "[MoviePy] Done.\n",
      "[MoviePy] Writing video ./clip/6H4VsHbynQc__904__906.mp4\n"
     ]
    },
    {
     "name": "stderr",
     "output_type": "stream",
     "text": [
      "\n",
      "100%|██████████| 60/60 [00:00<00:00, 281.52it/s]\n"
     ]
    },
    {
     "name": "stdout",
     "output_type": "stream",
     "text": [
      "[MoviePy] Done.\n",
      "[MoviePy] >>>> Video ready: ./clip/6H4VsHbynQc__904__906.mp4 \n",
      "\n",
      "[MoviePy] >>>> Building video ./clip/6H4VsHbynQc__906__908.mp4\n",
      "[MoviePy] Writing audio in 6H4VsHbynQc__906__908TEMP_MPY_wvf_snd.mp4\n"
     ]
    },
    {
     "name": "stderr",
     "output_type": "stream",
     "text": [
      "100%|██████████| 45/45 [00:00<00:00, 168.09it/s]"
     ]
    },
    {
     "name": "stdout",
     "output_type": "stream",
     "text": [
      "[MoviePy] Done.\n",
      "[MoviePy] Writing video ./clip/6H4VsHbynQc__906__908.mp4\n"
     ]
    },
    {
     "name": "stderr",
     "output_type": "stream",
     "text": [
      "\n",
      "100%|██████████| 60/60 [00:00<00:00, 287.48it/s]\n"
     ]
    },
    {
     "name": "stdout",
     "output_type": "stream",
     "text": [
      "[MoviePy] Done.\n",
      "[MoviePy] >>>> Video ready: ./clip/6H4VsHbynQc__906__908.mp4 \n",
      "\n",
      "[MoviePy] >>>> Building video ./clip/6H4VsHbynQc__908__910.mp4\n",
      "[MoviePy] Writing audio in 6H4VsHbynQc__908__910TEMP_MPY_wvf_snd.mp4\n"
     ]
    },
    {
     "name": "stderr",
     "output_type": "stream",
     "text": [
      "100%|██████████| 45/45 [00:00<00:00, 205.41it/s]"
     ]
    },
    {
     "name": "stdout",
     "output_type": "stream",
     "text": [
      "[MoviePy] Done.\n",
      "[MoviePy] Writing video ./clip/6H4VsHbynQc__908__910.mp4\n"
     ]
    },
    {
     "name": "stderr",
     "output_type": "stream",
     "text": [
      "\n",
      "100%|██████████| 60/60 [00:00<00:00, 303.40it/s]\n"
     ]
    },
    {
     "name": "stdout",
     "output_type": "stream",
     "text": [
      "[MoviePy] Done.\n",
      "[MoviePy] >>>> Video ready: ./clip/6H4VsHbynQc__908__910.mp4 \n",
      "\n",
      "[MoviePy] >>>> Building video ./clip/6H4VsHbynQc__910__912.mp4\n",
      "[MoviePy] Writing audio in 6H4VsHbynQc__910__912TEMP_MPY_wvf_snd.mp4\n"
     ]
    },
    {
     "name": "stderr",
     "output_type": "stream",
     "text": [
      "100%|██████████| 45/45 [00:00<00:00, 185.96it/s]"
     ]
    },
    {
     "name": "stdout",
     "output_type": "stream",
     "text": [
      "[MoviePy] Done.\n",
      "[MoviePy] Writing video ./clip/6H4VsHbynQc__910__912.mp4\n"
     ]
    },
    {
     "name": "stderr",
     "output_type": "stream",
     "text": [
      "\n",
      "100%|██████████| 60/60 [00:00<00:00, 301.01it/s]\n"
     ]
    },
    {
     "name": "stdout",
     "output_type": "stream",
     "text": [
      "[MoviePy] Done.\n",
      "[MoviePy] >>>> Video ready: ./clip/6H4VsHbynQc__910__912.mp4 \n",
      "\n",
      "[MoviePy] >>>> Building video ./clip/6H4VsHbynQc__912__914.mp4\n",
      "[MoviePy] Writing audio in 6H4VsHbynQc__912__914TEMP_MPY_wvf_snd.mp4\n"
     ]
    },
    {
     "name": "stderr",
     "output_type": "stream",
     "text": [
      "100%|██████████| 45/45 [00:00<00:00, 198.13it/s]"
     ]
    },
    {
     "name": "stdout",
     "output_type": "stream",
     "text": [
      "[MoviePy] Done.\n",
      "[MoviePy] Writing video ./clip/6H4VsHbynQc__912__914.mp4\n"
     ]
    },
    {
     "name": "stderr",
     "output_type": "stream",
     "text": [
      "\n",
      "100%|██████████| 60/60 [00:00<00:00, 308.96it/s]\n"
     ]
    },
    {
     "name": "stdout",
     "output_type": "stream",
     "text": [
      "[MoviePy] Done.\n",
      "[MoviePy] >>>> Video ready: ./clip/6H4VsHbynQc__912__914.mp4 \n",
      "\n",
      "[MoviePy] >>>> Building video ./clip/6H4VsHbynQc__914__916.mp4\n",
      "[MoviePy] Writing audio in 6H4VsHbynQc__914__916TEMP_MPY_wvf_snd.mp4\n"
     ]
    },
    {
     "name": "stderr",
     "output_type": "stream",
     "text": [
      "100%|██████████| 45/45 [00:00<00:00, 194.42it/s]"
     ]
    },
    {
     "name": "stdout",
     "output_type": "stream",
     "text": [
      "[MoviePy] Done.\n",
      "[MoviePy] Writing video ./clip/6H4VsHbynQc__914__916.mp4\n"
     ]
    },
    {
     "name": "stderr",
     "output_type": "stream",
     "text": [
      "\n",
      "100%|██████████| 60/60 [00:00<00:00, 330.93it/s]\n"
     ]
    },
    {
     "name": "stdout",
     "output_type": "stream",
     "text": [
      "[MoviePy] Done.\n",
      "[MoviePy] >>>> Video ready: ./clip/6H4VsHbynQc__914__916.mp4 \n",
      "\n",
      "[MoviePy] >>>> Building video ./clip/6H4VsHbynQc__916__918.mp4\n",
      "[MoviePy] Writing audio in 6H4VsHbynQc__916__918TEMP_MPY_wvf_snd.mp4\n"
     ]
    },
    {
     "name": "stderr",
     "output_type": "stream",
     "text": [
      "100%|██████████| 45/45 [00:00<00:00, 193.88it/s]"
     ]
    },
    {
     "name": "stdout",
     "output_type": "stream",
     "text": [
      "[MoviePy] Done.\n",
      "[MoviePy] Writing video ./clip/6H4VsHbynQc__916__918.mp4\n"
     ]
    },
    {
     "name": "stderr",
     "output_type": "stream",
     "text": [
      "\n",
      "100%|██████████| 60/60 [00:00<00:00, 317.71it/s]\n"
     ]
    },
    {
     "name": "stdout",
     "output_type": "stream",
     "text": [
      "[MoviePy] Done.\n",
      "[MoviePy] >>>> Video ready: ./clip/6H4VsHbynQc__916__918.mp4 \n",
      "\n",
      "[MoviePy] >>>> Building video ./clip/6H4VsHbynQc__918__920.mp4\n",
      "[MoviePy] Writing audio in 6H4VsHbynQc__918__920TEMP_MPY_wvf_snd.mp4\n"
     ]
    },
    {
     "name": "stderr",
     "output_type": "stream",
     "text": [
      "100%|██████████| 45/45 [00:00<00:00, 195.16it/s]"
     ]
    },
    {
     "name": "stdout",
     "output_type": "stream",
     "text": [
      "[MoviePy] Done.\n",
      "[MoviePy] Writing video ./clip/6H4VsHbynQc__918__920.mp4\n"
     ]
    },
    {
     "name": "stderr",
     "output_type": "stream",
     "text": [
      "\n",
      "100%|██████████| 60/60 [00:00<00:00, 306.29it/s]\n"
     ]
    },
    {
     "name": "stdout",
     "output_type": "stream",
     "text": [
      "[MoviePy] Done.\n",
      "[MoviePy] >>>> Video ready: ./clip/6H4VsHbynQc__918__920.mp4 \n",
      "\n",
      "[MoviePy] >>>> Building video ./clip/6H4VsHbynQc__920__922.mp4\n",
      "[MoviePy] Writing audio in 6H4VsHbynQc__920__922TEMP_MPY_wvf_snd.mp4\n"
     ]
    },
    {
     "name": "stderr",
     "output_type": "stream",
     "text": [
      "100%|██████████| 45/45 [00:00<00:00, 207.44it/s]"
     ]
    },
    {
     "name": "stdout",
     "output_type": "stream",
     "text": [
      "[MoviePy] Done.\n",
      "[MoviePy] Writing video ./clip/6H4VsHbynQc__920__922.mp4\n"
     ]
    },
    {
     "name": "stderr",
     "output_type": "stream",
     "text": [
      "\n",
      "100%|██████████| 60/60 [00:00<00:00, 307.96it/s]\n"
     ]
    },
    {
     "name": "stdout",
     "output_type": "stream",
     "text": [
      "[MoviePy] Done.\n",
      "[MoviePy] >>>> Video ready: ./clip/6H4VsHbynQc__920__922.mp4 \n",
      "\n",
      "[MoviePy] >>>> Building video ./clip/6H4VsHbynQc__922__924.mp4\n",
      "[MoviePy] Writing audio in 6H4VsHbynQc__922__924TEMP_MPY_wvf_snd.mp4\n"
     ]
    },
    {
     "name": "stderr",
     "output_type": "stream",
     "text": [
      "100%|██████████| 45/45 [00:00<00:00, 199.94it/s]"
     ]
    },
    {
     "name": "stdout",
     "output_type": "stream",
     "text": [
      "[MoviePy] Done.\n",
      "[MoviePy] Writing video ./clip/6H4VsHbynQc__922__924.mp4\n"
     ]
    },
    {
     "name": "stderr",
     "output_type": "stream",
     "text": [
      "\n",
      "100%|██████████| 60/60 [00:00<00:00, 292.71it/s]\n"
     ]
    },
    {
     "name": "stdout",
     "output_type": "stream",
     "text": [
      "[MoviePy] Done.\n",
      "[MoviePy] >>>> Video ready: ./clip/6H4VsHbynQc__922__924.mp4 \n",
      "\n",
      "[MoviePy] >>>> Building video ./clip/6H4VsHbynQc__924__926.mp4\n",
      "[MoviePy] Writing audio in 6H4VsHbynQc__924__926TEMP_MPY_wvf_snd.mp4\n"
     ]
    },
    {
     "name": "stderr",
     "output_type": "stream",
     "text": [
      "100%|██████████| 45/45 [00:00<00:00, 200.85it/s]"
     ]
    },
    {
     "name": "stdout",
     "output_type": "stream",
     "text": [
      "[MoviePy] Done.\n",
      "[MoviePy] Writing video ./clip/6H4VsHbynQc__924__926.mp4\n"
     ]
    },
    {
     "name": "stderr",
     "output_type": "stream",
     "text": [
      "\n",
      "100%|██████████| 60/60 [00:00<00:00, 301.61it/s]\n"
     ]
    },
    {
     "name": "stdout",
     "output_type": "stream",
     "text": [
      "[MoviePy] Done.\n",
      "[MoviePy] >>>> Video ready: ./clip/6H4VsHbynQc__924__926.mp4 \n",
      "\n",
      "[MoviePy] >>>> Building video ./clip/6H4VsHbynQc__926__928.mp4\n",
      "[MoviePy] Writing audio in 6H4VsHbynQc__926__928TEMP_MPY_wvf_snd.mp4\n"
     ]
    },
    {
     "name": "stderr",
     "output_type": "stream",
     "text": [
      "100%|██████████| 45/45 [00:00<00:00, 197.20it/s]"
     ]
    },
    {
     "name": "stdout",
     "output_type": "stream",
     "text": [
      "[MoviePy] Done.\n",
      "[MoviePy] Writing video ./clip/6H4VsHbynQc__926__928.mp4\n"
     ]
    },
    {
     "name": "stderr",
     "output_type": "stream",
     "text": [
      "\n",
      "100%|██████████| 60/60 [00:00<00:00, 288.79it/s]\n"
     ]
    },
    {
     "name": "stdout",
     "output_type": "stream",
     "text": [
      "[MoviePy] Done.\n",
      "[MoviePy] >>>> Video ready: ./clip/6H4VsHbynQc__926__928.mp4 \n",
      "\n",
      "[MoviePy] >>>> Building video ./clip/6H4VsHbynQc__928__930.mp4\n",
      "[MoviePy] Writing audio in 6H4VsHbynQc__928__930TEMP_MPY_wvf_snd.mp4\n"
     ]
    },
    {
     "name": "stderr",
     "output_type": "stream",
     "text": [
      "100%|██████████| 45/45 [00:00<00:00, 197.71it/s]"
     ]
    },
    {
     "name": "stdout",
     "output_type": "stream",
     "text": [
      "[MoviePy] Done.\n",
      "[MoviePy] Writing video ./clip/6H4VsHbynQc__928__930.mp4\n"
     ]
    },
    {
     "name": "stderr",
     "output_type": "stream",
     "text": [
      "\n",
      "100%|██████████| 60/60 [00:00<00:00, 286.46it/s]\n"
     ]
    },
    {
     "name": "stdout",
     "output_type": "stream",
     "text": [
      "[MoviePy] Done.\n",
      "[MoviePy] >>>> Video ready: ./clip/6H4VsHbynQc__928__930.mp4 \n",
      "\n",
      "[MoviePy] >>>> Building video ./clip/6H4VsHbynQc__930__932.mp4\n",
      "[MoviePy] Writing audio in 6H4VsHbynQc__930__932TEMP_MPY_wvf_snd.mp4\n"
     ]
    },
    {
     "name": "stderr",
     "output_type": "stream",
     "text": [
      "100%|██████████| 45/45 [00:00<00:00, 187.97it/s]"
     ]
    },
    {
     "name": "stdout",
     "output_type": "stream",
     "text": [
      "[MoviePy] Done.\n",
      "[MoviePy] Writing video ./clip/6H4VsHbynQc__930__932.mp4\n"
     ]
    },
    {
     "name": "stderr",
     "output_type": "stream",
     "text": [
      "\n",
      "100%|██████████| 60/60 [00:00<00:00, 292.75it/s]\n"
     ]
    },
    {
     "name": "stdout",
     "output_type": "stream",
     "text": [
      "[MoviePy] Done.\n",
      "[MoviePy] >>>> Video ready: ./clip/6H4VsHbynQc__930__932.mp4 \n",
      "\n",
      "[MoviePy] >>>> Building video ./clip/6H4VsHbynQc__932__934.mp4\n",
      "[MoviePy] Writing audio in 6H4VsHbynQc__932__934TEMP_MPY_wvf_snd.mp4\n"
     ]
    },
    {
     "name": "stderr",
     "output_type": "stream",
     "text": [
      "100%|██████████| 45/45 [00:00<00:00, 212.28it/s]"
     ]
    },
    {
     "name": "stdout",
     "output_type": "stream",
     "text": [
      "[MoviePy] Done.\n",
      "[MoviePy] Writing video ./clip/6H4VsHbynQc__932__934.mp4\n"
     ]
    },
    {
     "name": "stderr",
     "output_type": "stream",
     "text": [
      "\n",
      "100%|██████████| 60/60 [00:00<00:00, 291.97it/s]\n"
     ]
    },
    {
     "name": "stdout",
     "output_type": "stream",
     "text": [
      "[MoviePy] Done.\n",
      "[MoviePy] >>>> Video ready: ./clip/6H4VsHbynQc__932__934.mp4 \n",
      "\n",
      "[MoviePy] >>>> Building video ./clip/6H4VsHbynQc__934__936.mp4\n",
      "[MoviePy] Writing audio in 6H4VsHbynQc__934__936TEMP_MPY_wvf_snd.mp4\n"
     ]
    },
    {
     "name": "stderr",
     "output_type": "stream",
     "text": [
      "100%|██████████| 45/45 [00:00<00:00, 187.07it/s]"
     ]
    },
    {
     "name": "stdout",
     "output_type": "stream",
     "text": [
      "[MoviePy] Done.\n",
      "[MoviePy] Writing video ./clip/6H4VsHbynQc__934__936.mp4\n"
     ]
    },
    {
     "name": "stderr",
     "output_type": "stream",
     "text": [
      "\n",
      "100%|██████████| 60/60 [00:00<00:00, 278.01it/s]\n"
     ]
    },
    {
     "name": "stdout",
     "output_type": "stream",
     "text": [
      "[MoviePy] Done.\n",
      "[MoviePy] >>>> Video ready: ./clip/6H4VsHbynQc__934__936.mp4 \n",
      "\n",
      "[MoviePy] >>>> Building video ./clip/6H4VsHbynQc__936__938.mp4\n",
      "[MoviePy] Writing audio in 6H4VsHbynQc__936__938TEMP_MPY_wvf_snd.mp4\n"
     ]
    },
    {
     "name": "stderr",
     "output_type": "stream",
     "text": [
      "100%|██████████| 45/45 [00:00<00:00, 192.75it/s]"
     ]
    },
    {
     "name": "stdout",
     "output_type": "stream",
     "text": [
      "[MoviePy] Done.\n",
      "[MoviePy] Writing video ./clip/6H4VsHbynQc__936__938.mp4\n"
     ]
    },
    {
     "name": "stderr",
     "output_type": "stream",
     "text": [
      "\n",
      "100%|██████████| 60/60 [00:00<00:00, 280.17it/s]\n"
     ]
    },
    {
     "name": "stdout",
     "output_type": "stream",
     "text": [
      "[MoviePy] Done.\n",
      "[MoviePy] >>>> Video ready: ./clip/6H4VsHbynQc__936__938.mp4 \n",
      "\n",
      "[MoviePy] >>>> Building video ./clip/6H4VsHbynQc__938__940.mp4\n",
      "[MoviePy] Writing audio in 6H4VsHbynQc__938__940TEMP_MPY_wvf_snd.mp4\n"
     ]
    },
    {
     "name": "stderr",
     "output_type": "stream",
     "text": [
      "100%|██████████| 45/45 [00:00<00:00, 185.74it/s]"
     ]
    },
    {
     "name": "stdout",
     "output_type": "stream",
     "text": [
      "[MoviePy] Done.\n",
      "[MoviePy] Writing video ./clip/6H4VsHbynQc__938__940.mp4\n"
     ]
    },
    {
     "name": "stderr",
     "output_type": "stream",
     "text": [
      "\n",
      "100%|██████████| 60/60 [00:00<00:00, 291.73it/s]\n"
     ]
    },
    {
     "name": "stdout",
     "output_type": "stream",
     "text": [
      "[MoviePy] Done.\n",
      "[MoviePy] >>>> Video ready: ./clip/6H4VsHbynQc__938__940.mp4 \n",
      "\n",
      "[MoviePy] >>>> Building video ./clip/6H4VsHbynQc__940__942.mp4\n",
      "[MoviePy] Writing audio in 6H4VsHbynQc__940__942TEMP_MPY_wvf_snd.mp4\n"
     ]
    },
    {
     "name": "stderr",
     "output_type": "stream",
     "text": [
      "100%|██████████| 45/45 [00:00<00:00, 199.78it/s]"
     ]
    },
    {
     "name": "stdout",
     "output_type": "stream",
     "text": [
      "[MoviePy] Done.\n",
      "[MoviePy] Writing video ./clip/6H4VsHbynQc__940__942.mp4\n"
     ]
    },
    {
     "name": "stderr",
     "output_type": "stream",
     "text": [
      "\n",
      "100%|██████████| 60/60 [00:00<00:00, 326.62it/s]\n"
     ]
    },
    {
     "name": "stdout",
     "output_type": "stream",
     "text": [
      "[MoviePy] Done.\n",
      "[MoviePy] >>>> Video ready: ./clip/6H4VsHbynQc__940__942.mp4 \n",
      "\n",
      "[MoviePy] >>>> Building video ./clip/6H4VsHbynQc__942__944.mp4\n",
      "[MoviePy] Writing audio in 6H4VsHbynQc__942__944TEMP_MPY_wvf_snd.mp4\n"
     ]
    },
    {
     "name": "stderr",
     "output_type": "stream",
     "text": [
      "100%|██████████| 45/45 [00:00<00:00, 217.25it/s]"
     ]
    },
    {
     "name": "stdout",
     "output_type": "stream",
     "text": [
      "[MoviePy] Done.\n",
      "[MoviePy] Writing video ./clip/6H4VsHbynQc__942__944.mp4\n"
     ]
    },
    {
     "name": "stderr",
     "output_type": "stream",
     "text": [
      "\n",
      "100%|██████████| 60/60 [00:00<00:00, 303.31it/s]\n"
     ]
    },
    {
     "name": "stdout",
     "output_type": "stream",
     "text": [
      "[MoviePy] Done.\n",
      "[MoviePy] >>>> Video ready: ./clip/6H4VsHbynQc__942__944.mp4 \n",
      "\n",
      "[MoviePy] >>>> Building video ./clip/6H4VsHbynQc__944__946.mp4\n",
      "[MoviePy] Writing audio in 6H4VsHbynQc__944__946TEMP_MPY_wvf_snd.mp4\n"
     ]
    },
    {
     "name": "stderr",
     "output_type": "stream",
     "text": [
      "100%|██████████| 45/45 [00:00<00:00, 201.31it/s]"
     ]
    },
    {
     "name": "stdout",
     "output_type": "stream",
     "text": [
      "[MoviePy] Done.\n",
      "[MoviePy] Writing video ./clip/6H4VsHbynQc__944__946.mp4\n"
     ]
    },
    {
     "name": "stderr",
     "output_type": "stream",
     "text": [
      "\n",
      "100%|██████████| 60/60 [00:00<00:00, 280.03it/s]\n"
     ]
    },
    {
     "name": "stdout",
     "output_type": "stream",
     "text": [
      "[MoviePy] Done.\n",
      "[MoviePy] >>>> Video ready: ./clip/6H4VsHbynQc__944__946.mp4 \n",
      "\n",
      "[MoviePy] >>>> Building video ./clip/6H4VsHbynQc__946__948.mp4\n",
      "[MoviePy] Writing audio in 6H4VsHbynQc__946__948TEMP_MPY_wvf_snd.mp4\n"
     ]
    },
    {
     "name": "stderr",
     "output_type": "stream",
     "text": [
      "100%|██████████| 45/45 [00:00<00:00, 193.09it/s]"
     ]
    },
    {
     "name": "stdout",
     "output_type": "stream",
     "text": [
      "[MoviePy] Done.\n",
      "[MoviePy] Writing video ./clip/6H4VsHbynQc__946__948.mp4\n"
     ]
    },
    {
     "name": "stderr",
     "output_type": "stream",
     "text": [
      "\n",
      "100%|██████████| 60/60 [00:00<00:00, 268.44it/s]\n"
     ]
    },
    {
     "name": "stdout",
     "output_type": "stream",
     "text": [
      "[MoviePy] Done.\n",
      "[MoviePy] >>>> Video ready: ./clip/6H4VsHbynQc__946__948.mp4 \n",
      "\n",
      "[MoviePy] >>>> Building video ./clip/6H4VsHbynQc__948__950.mp4\n",
      "[MoviePy] Writing audio in 6H4VsHbynQc__948__950TEMP_MPY_wvf_snd.mp4\n"
     ]
    },
    {
     "name": "stderr",
     "output_type": "stream",
     "text": [
      "100%|██████████| 45/45 [00:00<00:00, 189.19it/s]"
     ]
    },
    {
     "name": "stdout",
     "output_type": "stream",
     "text": [
      "[MoviePy] Done.\n",
      "[MoviePy] Writing video ./clip/6H4VsHbynQc__948__950.mp4\n"
     ]
    },
    {
     "name": "stderr",
     "output_type": "stream",
     "text": [
      "\n",
      "100%|██████████| 60/60 [00:00<00:00, 280.02it/s]\n"
     ]
    },
    {
     "name": "stdout",
     "output_type": "stream",
     "text": [
      "[MoviePy] Done.\n",
      "[MoviePy] >>>> Video ready: ./clip/6H4VsHbynQc__948__950.mp4 \n",
      "\n",
      "[MoviePy] >>>> Building video ./clip/6H4VsHbynQc__950__952.mp4\n",
      "[MoviePy] Writing audio in 6H4VsHbynQc__950__952TEMP_MPY_wvf_snd.mp4\n"
     ]
    },
    {
     "name": "stderr",
     "output_type": "stream",
     "text": [
      "100%|██████████| 45/45 [00:00<00:00, 198.88it/s]"
     ]
    },
    {
     "name": "stdout",
     "output_type": "stream",
     "text": [
      "[MoviePy] Done.\n",
      "[MoviePy] Writing video ./clip/6H4VsHbynQc__950__952.mp4\n"
     ]
    },
    {
     "name": "stderr",
     "output_type": "stream",
     "text": [
      "\n",
      "100%|██████████| 60/60 [00:00<00:00, 261.31it/s]\n"
     ]
    },
    {
     "name": "stdout",
     "output_type": "stream",
     "text": [
      "[MoviePy] Done.\n",
      "[MoviePy] >>>> Video ready: ./clip/6H4VsHbynQc__950__952.mp4 \n",
      "\n",
      "[MoviePy] >>>> Building video ./clip/6H4VsHbynQc__952__954.mp4\n",
      "[MoviePy] Writing audio in 6H4VsHbynQc__952__954TEMP_MPY_wvf_snd.mp4\n"
     ]
    },
    {
     "name": "stderr",
     "output_type": "stream",
     "text": [
      "100%|██████████| 45/45 [00:00<00:00, 201.47it/s]"
     ]
    },
    {
     "name": "stdout",
     "output_type": "stream",
     "text": [
      "[MoviePy] Done.\n",
      "[MoviePy] Writing video ./clip/6H4VsHbynQc__952__954.mp4\n"
     ]
    },
    {
     "name": "stderr",
     "output_type": "stream",
     "text": [
      "\n",
      "100%|██████████| 60/60 [00:00<00:00, 273.06it/s]\n"
     ]
    },
    {
     "name": "stdout",
     "output_type": "stream",
     "text": [
      "[MoviePy] Done.\n",
      "[MoviePy] >>>> Video ready: ./clip/6H4VsHbynQc__952__954.mp4 \n",
      "\n",
      "[MoviePy] >>>> Building video ./clip/6H4VsHbynQc__954__956.mp4\n",
      "[MoviePy] Writing audio in 6H4VsHbynQc__954__956TEMP_MPY_wvf_snd.mp4\n"
     ]
    },
    {
     "name": "stderr",
     "output_type": "stream",
     "text": [
      "100%|██████████| 45/45 [00:00<00:00, 205.16it/s]"
     ]
    },
    {
     "name": "stdout",
     "output_type": "stream",
     "text": [
      "[MoviePy] Done.\n",
      "[MoviePy] Writing video ./clip/6H4VsHbynQc__954__956.mp4\n"
     ]
    },
    {
     "name": "stderr",
     "output_type": "stream",
     "text": [
      "\n",
      "100%|██████████| 60/60 [00:00<00:00, 303.22it/s]\n"
     ]
    },
    {
     "name": "stdout",
     "output_type": "stream",
     "text": [
      "[MoviePy] Done.\n",
      "[MoviePy] >>>> Video ready: ./clip/6H4VsHbynQc__954__956.mp4 \n",
      "\n",
      "[MoviePy] >>>> Building video ./clip/6H4VsHbynQc__956__958.mp4\n",
      "[MoviePy] Writing audio in 6H4VsHbynQc__956__958TEMP_MPY_wvf_snd.mp4\n"
     ]
    },
    {
     "name": "stderr",
     "output_type": "stream",
     "text": [
      "100%|██████████| 45/45 [00:00<00:00, 196.65it/s]"
     ]
    },
    {
     "name": "stdout",
     "output_type": "stream",
     "text": [
      "[MoviePy] Done.\n",
      "[MoviePy] Writing video ./clip/6H4VsHbynQc__956__958.mp4\n"
     ]
    },
    {
     "name": "stderr",
     "output_type": "stream",
     "text": [
      "\n",
      "100%|██████████| 60/60 [00:00<00:00, 305.36it/s]\n"
     ]
    },
    {
     "name": "stdout",
     "output_type": "stream",
     "text": [
      "[MoviePy] Done.\n",
      "[MoviePy] >>>> Video ready: ./clip/6H4VsHbynQc__956__958.mp4 \n",
      "\n",
      "[MoviePy] >>>> Building video ./clip/6H4VsHbynQc__958__960.mp4\n",
      "[MoviePy] Writing audio in 6H4VsHbynQc__958__960TEMP_MPY_wvf_snd.mp4\n"
     ]
    },
    {
     "name": "stderr",
     "output_type": "stream",
     "text": [
      "100%|██████████| 45/45 [00:00<00:00, 189.82it/s]"
     ]
    },
    {
     "name": "stdout",
     "output_type": "stream",
     "text": [
      "[MoviePy] Done.\n",
      "[MoviePy] Writing video ./clip/6H4VsHbynQc__958__960.mp4\n"
     ]
    },
    {
     "name": "stderr",
     "output_type": "stream",
     "text": [
      "\n",
      "100%|██████████| 60/60 [00:00<00:00, 293.94it/s]\n"
     ]
    },
    {
     "name": "stdout",
     "output_type": "stream",
     "text": [
      "[MoviePy] Done.\n",
      "[MoviePy] >>>> Video ready: ./clip/6H4VsHbynQc__958__960.mp4 \n",
      "\n",
      "[MoviePy] >>>> Building video ./clip/6H4VsHbynQc__960__962.mp4\n",
      "[MoviePy] Writing audio in 6H4VsHbynQc__960__962TEMP_MPY_wvf_snd.mp4\n"
     ]
    },
    {
     "name": "stderr",
     "output_type": "stream",
     "text": [
      "100%|██████████| 45/45 [00:00<00:00, 198.60it/s]"
     ]
    },
    {
     "name": "stdout",
     "output_type": "stream",
     "text": [
      "[MoviePy] Done.\n",
      "[MoviePy] Writing video ./clip/6H4VsHbynQc__960__962.mp4\n"
     ]
    },
    {
     "name": "stderr",
     "output_type": "stream",
     "text": [
      "\n",
      "100%|██████████| 60/60 [00:00<00:00, 283.40it/s]\n"
     ]
    },
    {
     "name": "stdout",
     "output_type": "stream",
     "text": [
      "[MoviePy] Done.\n",
      "[MoviePy] >>>> Video ready: ./clip/6H4VsHbynQc__960__962.mp4 \n",
      "\n",
      "[MoviePy] >>>> Building video ./clip/6H4VsHbynQc__962__964.mp4\n",
      "[MoviePy] Writing audio in 6H4VsHbynQc__962__964TEMP_MPY_wvf_snd.mp4\n"
     ]
    },
    {
     "name": "stderr",
     "output_type": "stream",
     "text": [
      "100%|██████████| 45/45 [00:00<00:00, 203.05it/s]"
     ]
    },
    {
     "name": "stdout",
     "output_type": "stream",
     "text": [
      "[MoviePy] Done.\n",
      "[MoviePy] Writing video ./clip/6H4VsHbynQc__962__964.mp4\n"
     ]
    },
    {
     "name": "stderr",
     "output_type": "stream",
     "text": [
      "\n",
      "100%|██████████| 60/60 [00:00<00:00, 285.47it/s]\n"
     ]
    },
    {
     "name": "stdout",
     "output_type": "stream",
     "text": [
      "[MoviePy] Done.\n",
      "[MoviePy] >>>> Video ready: ./clip/6H4VsHbynQc__962__964.mp4 \n",
      "\n",
      "[MoviePy] >>>> Building video ./clip/6H4VsHbynQc__964__966.mp4\n",
      "[MoviePy] Writing audio in 6H4VsHbynQc__964__966TEMP_MPY_wvf_snd.mp4\n"
     ]
    },
    {
     "name": "stderr",
     "output_type": "stream",
     "text": [
      "100%|██████████| 45/45 [00:00<00:00, 180.23it/s]"
     ]
    },
    {
     "name": "stdout",
     "output_type": "stream",
     "text": [
      "[MoviePy] Done.\n",
      "[MoviePy] Writing video ./clip/6H4VsHbynQc__964__966.mp4\n"
     ]
    },
    {
     "name": "stderr",
     "output_type": "stream",
     "text": [
      "\n",
      "100%|██████████| 60/60 [00:00<00:00, 264.91it/s]\n"
     ]
    },
    {
     "name": "stdout",
     "output_type": "stream",
     "text": [
      "[MoviePy] Done.\n",
      "[MoviePy] >>>> Video ready: ./clip/6H4VsHbynQc__964__966.mp4 \n",
      "\n",
      "[MoviePy] >>>> Building video ./clip/6H4VsHbynQc__966__968.mp4\n",
      "[MoviePy] Writing audio in 6H4VsHbynQc__966__968TEMP_MPY_wvf_snd.mp4\n"
     ]
    },
    {
     "name": "stderr",
     "output_type": "stream",
     "text": [
      "100%|██████████| 45/45 [00:00<00:00, 191.88it/s]"
     ]
    },
    {
     "name": "stdout",
     "output_type": "stream",
     "text": [
      "[MoviePy] Done.\n",
      "[MoviePy] Writing video ./clip/6H4VsHbynQc__966__968.mp4\n"
     ]
    },
    {
     "name": "stderr",
     "output_type": "stream",
     "text": [
      "\n",
      "100%|██████████| 60/60 [00:00<00:00, 277.79it/s]\n"
     ]
    },
    {
     "name": "stdout",
     "output_type": "stream",
     "text": [
      "[MoviePy] Done.\n",
      "[MoviePy] >>>> Video ready: ./clip/6H4VsHbynQc__966__968.mp4 \n",
      "\n",
      "[MoviePy] >>>> Building video ./clip/6H4VsHbynQc__968__970.mp4\n",
      "[MoviePy] Writing audio in 6H4VsHbynQc__968__970TEMP_MPY_wvf_snd.mp4\n"
     ]
    },
    {
     "name": "stderr",
     "output_type": "stream",
     "text": [
      "100%|██████████| 45/45 [00:00<00:00, 196.22it/s]"
     ]
    },
    {
     "name": "stdout",
     "output_type": "stream",
     "text": [
      "[MoviePy] Done.\n",
      "[MoviePy] Writing video ./clip/6H4VsHbynQc__968__970.mp4\n"
     ]
    },
    {
     "name": "stderr",
     "output_type": "stream",
     "text": [
      "\n",
      "100%|██████████| 60/60 [00:00<00:00, 289.56it/s]\n"
     ]
    },
    {
     "name": "stdout",
     "output_type": "stream",
     "text": [
      "[MoviePy] Done.\n",
      "[MoviePy] >>>> Video ready: ./clip/6H4VsHbynQc__968__970.mp4 \n",
      "\n",
      "[MoviePy] >>>> Building video ./clip/6H4VsHbynQc__970__972.mp4\n",
      "[MoviePy] Writing audio in 6H4VsHbynQc__970__972TEMP_MPY_wvf_snd.mp4\n"
     ]
    },
    {
     "name": "stderr",
     "output_type": "stream",
     "text": [
      "100%|██████████| 45/45 [00:00<00:00, 204.05it/s]"
     ]
    },
    {
     "name": "stdout",
     "output_type": "stream",
     "text": [
      "[MoviePy] Done.\n",
      "[MoviePy] Writing video ./clip/6H4VsHbynQc__970__972.mp4\n"
     ]
    },
    {
     "name": "stderr",
     "output_type": "stream",
     "text": [
      "\n",
      "100%|██████████| 60/60 [00:00<00:00, 314.47it/s]\n"
     ]
    },
    {
     "name": "stdout",
     "output_type": "stream",
     "text": [
      "[MoviePy] Done.\n",
      "[MoviePy] >>>> Video ready: ./clip/6H4VsHbynQc__970__972.mp4 \n",
      "\n",
      "[MoviePy] >>>> Building video ./clip/6H4VsHbynQc__972__974.mp4\n",
      "[MoviePy] Writing audio in 6H4VsHbynQc__972__974TEMP_MPY_wvf_snd.mp4\n"
     ]
    },
    {
     "name": "stderr",
     "output_type": "stream",
     "text": [
      "100%|██████████| 45/45 [00:00<00:00, 188.31it/s]"
     ]
    },
    {
     "name": "stdout",
     "output_type": "stream",
     "text": [
      "[MoviePy] Done.\n",
      "[MoviePy] Writing video ./clip/6H4VsHbynQc__972__974.mp4\n"
     ]
    },
    {
     "name": "stderr",
     "output_type": "stream",
     "text": [
      "\n",
      "100%|██████████| 60/60 [00:00<00:00, 305.99it/s]\n"
     ]
    },
    {
     "name": "stdout",
     "output_type": "stream",
     "text": [
      "[MoviePy] Done.\n",
      "[MoviePy] >>>> Video ready: ./clip/6H4VsHbynQc__972__974.mp4 \n",
      "\n",
      "[MoviePy] >>>> Building video ./clip/6H4VsHbynQc__974__976.mp4\n",
      "[MoviePy] Writing audio in 6H4VsHbynQc__974__976TEMP_MPY_wvf_snd.mp4\n"
     ]
    },
    {
     "name": "stderr",
     "output_type": "stream",
     "text": [
      "100%|██████████| 45/45 [00:00<00:00, 190.27it/s]"
     ]
    },
    {
     "name": "stdout",
     "output_type": "stream",
     "text": [
      "[MoviePy] Done.\n",
      "[MoviePy] Writing video ./clip/6H4VsHbynQc__974__976.mp4\n"
     ]
    },
    {
     "name": "stderr",
     "output_type": "stream",
     "text": [
      "\n",
      "100%|██████████| 60/60 [00:00<00:00, 316.76it/s]\n"
     ]
    },
    {
     "name": "stdout",
     "output_type": "stream",
     "text": [
      "[MoviePy] Done.\n",
      "[MoviePy] >>>> Video ready: ./clip/6H4VsHbynQc__974__976.mp4 \n",
      "\n",
      "[MoviePy] >>>> Building video ./clip/6H4VsHbynQc__976__978.mp4\n",
      "[MoviePy] Writing audio in 6H4VsHbynQc__976__978TEMP_MPY_wvf_snd.mp4\n"
     ]
    },
    {
     "name": "stderr",
     "output_type": "stream",
     "text": [
      "100%|██████████| 45/45 [00:00<00:00, 189.01it/s]"
     ]
    },
    {
     "name": "stdout",
     "output_type": "stream",
     "text": [
      "[MoviePy] Done.\n",
      "[MoviePy] Writing video ./clip/6H4VsHbynQc__976__978.mp4\n"
     ]
    },
    {
     "name": "stderr",
     "output_type": "stream",
     "text": [
      "\n",
      "100%|██████████| 60/60 [00:00<00:00, 265.29it/s]\n"
     ]
    },
    {
     "name": "stdout",
     "output_type": "stream",
     "text": [
      "[MoviePy] Done.\n",
      "[MoviePy] >>>> Video ready: ./clip/6H4VsHbynQc__976__978.mp4 \n",
      "\n",
      "[MoviePy] >>>> Building video ./clip/6H4VsHbynQc__978__980.mp4\n",
      "[MoviePy] Writing audio in 6H4VsHbynQc__978__980TEMP_MPY_wvf_snd.mp4\n"
     ]
    },
    {
     "name": "stderr",
     "output_type": "stream",
     "text": [
      "100%|██████████| 45/45 [00:00<00:00, 205.09it/s]"
     ]
    },
    {
     "name": "stdout",
     "output_type": "stream",
     "text": [
      "[MoviePy] Done.\n",
      "[MoviePy] Writing video ./clip/6H4VsHbynQc__978__980.mp4\n"
     ]
    },
    {
     "name": "stderr",
     "output_type": "stream",
     "text": [
      "\n",
      "100%|██████████| 60/60 [00:00<00:00, 301.93it/s]\n"
     ]
    },
    {
     "name": "stdout",
     "output_type": "stream",
     "text": [
      "[MoviePy] Done.\n",
      "[MoviePy] >>>> Video ready: ./clip/6H4VsHbynQc__978__980.mp4 \n",
      "\n",
      "[MoviePy] >>>> Building video ./clip/6H4VsHbynQc__980__982.mp4\n",
      "[MoviePy] Writing audio in 6H4VsHbynQc__980__982TEMP_MPY_wvf_snd.mp4\n"
     ]
    },
    {
     "name": "stderr",
     "output_type": "stream",
     "text": [
      "100%|██████████| 45/45 [00:00<00:00, 205.73it/s]"
     ]
    },
    {
     "name": "stdout",
     "output_type": "stream",
     "text": [
      "[MoviePy] Done.\n",
      "[MoviePy] Writing video ./clip/6H4VsHbynQc__980__982.mp4\n"
     ]
    },
    {
     "name": "stderr",
     "output_type": "stream",
     "text": [
      "\n",
      "100%|██████████| 60/60 [00:00<00:00, 316.65it/s]\n"
     ]
    },
    {
     "name": "stdout",
     "output_type": "stream",
     "text": [
      "[MoviePy] Done.\n",
      "[MoviePy] >>>> Video ready: ./clip/6H4VsHbynQc__980__982.mp4 \n",
      "\n",
      "[MoviePy] >>>> Building video ./clip/6H4VsHbynQc__982__984.mp4\n",
      "[MoviePy] Writing audio in 6H4VsHbynQc__982__984TEMP_MPY_wvf_snd.mp4\n"
     ]
    },
    {
     "name": "stderr",
     "output_type": "stream",
     "text": [
      "100%|██████████| 45/45 [00:00<00:00, 206.55it/s]"
     ]
    },
    {
     "name": "stdout",
     "output_type": "stream",
     "text": [
      "[MoviePy] Done.\n",
      "[MoviePy] Writing video ./clip/6H4VsHbynQc__982__984.mp4\n"
     ]
    },
    {
     "name": "stderr",
     "output_type": "stream",
     "text": [
      "\n",
      "100%|██████████| 60/60 [00:00<00:00, 309.64it/s]\n"
     ]
    },
    {
     "name": "stdout",
     "output_type": "stream",
     "text": [
      "[MoviePy] Done.\n",
      "[MoviePy] >>>> Video ready: ./clip/6H4VsHbynQc__982__984.mp4 \n",
      "\n",
      "[MoviePy] >>>> Building video ./clip/6H4VsHbynQc__984__986.mp4\n",
      "[MoviePy] Writing audio in 6H4VsHbynQc__984__986TEMP_MPY_wvf_snd.mp4\n"
     ]
    },
    {
     "name": "stderr",
     "output_type": "stream",
     "text": [
      "100%|██████████| 45/45 [00:00<00:00, 210.91it/s]"
     ]
    },
    {
     "name": "stdout",
     "output_type": "stream",
     "text": [
      "[MoviePy] Done.\n",
      "[MoviePy] Writing video ./clip/6H4VsHbynQc__984__986.mp4\n"
     ]
    },
    {
     "name": "stderr",
     "output_type": "stream",
     "text": [
      "\n",
      "100%|██████████| 60/60 [00:00<00:00, 279.15it/s]\n"
     ]
    },
    {
     "name": "stdout",
     "output_type": "stream",
     "text": [
      "[MoviePy] Done.\n",
      "[MoviePy] >>>> Video ready: ./clip/6H4VsHbynQc__984__986.mp4 \n",
      "\n",
      "[MoviePy] >>>> Building video ./clip/6H4VsHbynQc__986__988.mp4\n",
      "[MoviePy] Writing audio in 6H4VsHbynQc__986__988TEMP_MPY_wvf_snd.mp4\n"
     ]
    },
    {
     "name": "stderr",
     "output_type": "stream",
     "text": [
      "100%|██████████| 45/45 [00:00<00:00, 195.12it/s]"
     ]
    },
    {
     "name": "stdout",
     "output_type": "stream",
     "text": [
      "[MoviePy] Done.\n",
      "[MoviePy] Writing video ./clip/6H4VsHbynQc__986__988.mp4\n"
     ]
    },
    {
     "name": "stderr",
     "output_type": "stream",
     "text": [
      "\n",
      "100%|██████████| 60/60 [00:00<00:00, 272.51it/s]\n"
     ]
    },
    {
     "name": "stdout",
     "output_type": "stream",
     "text": [
      "[MoviePy] Done.\n",
      "[MoviePy] >>>> Video ready: ./clip/6H4VsHbynQc__986__988.mp4 \n",
      "\n",
      "[MoviePy] >>>> Building video ./clip/6H4VsHbynQc__988__990.mp4\n",
      "[MoviePy] Writing audio in 6H4VsHbynQc__988__990TEMP_MPY_wvf_snd.mp4\n"
     ]
    },
    {
     "name": "stderr",
     "output_type": "stream",
     "text": [
      "100%|██████████| 45/45 [00:00<00:00, 205.46it/s]"
     ]
    },
    {
     "name": "stdout",
     "output_type": "stream",
     "text": [
      "[MoviePy] Done.\n",
      "[MoviePy] Writing video ./clip/6H4VsHbynQc__988__990.mp4\n"
     ]
    },
    {
     "name": "stderr",
     "output_type": "stream",
     "text": [
      "\n",
      "100%|██████████| 60/60 [00:00<00:00, 279.49it/s]\n"
     ]
    },
    {
     "name": "stdout",
     "output_type": "stream",
     "text": [
      "[MoviePy] Done.\n",
      "[MoviePy] >>>> Video ready: ./clip/6H4VsHbynQc__988__990.mp4 \n",
      "\n",
      "[MoviePy] >>>> Building video ./clip/6H4VsHbynQc__990__992.mp4\n",
      "[MoviePy] Writing audio in 6H4VsHbynQc__990__992TEMP_MPY_wvf_snd.mp4\n"
     ]
    },
    {
     "name": "stderr",
     "output_type": "stream",
     "text": [
      "100%|██████████| 45/45 [00:00<00:00, 191.38it/s]"
     ]
    },
    {
     "name": "stdout",
     "output_type": "stream",
     "text": [
      "[MoviePy] Done.\n",
      "[MoviePy] Writing video ./clip/6H4VsHbynQc__990__992.mp4\n"
     ]
    },
    {
     "name": "stderr",
     "output_type": "stream",
     "text": [
      "\n",
      "100%|██████████| 60/60 [00:00<00:00, 294.82it/s]\n"
     ]
    },
    {
     "name": "stdout",
     "output_type": "stream",
     "text": [
      "[MoviePy] Done.\n",
      "[MoviePy] >>>> Video ready: ./clip/6H4VsHbynQc__990__992.mp4 \n",
      "\n",
      "[MoviePy] >>>> Building video ./clip/6H4VsHbynQc__992__994.mp4\n",
      "[MoviePy] Writing audio in 6H4VsHbynQc__992__994TEMP_MPY_wvf_snd.mp4\n"
     ]
    },
    {
     "name": "stderr",
     "output_type": "stream",
     "text": [
      "100%|██████████| 45/45 [00:00<00:00, 184.91it/s]"
     ]
    },
    {
     "name": "stdout",
     "output_type": "stream",
     "text": [
      "[MoviePy] Done.\n",
      "[MoviePy] Writing video ./clip/6H4VsHbynQc__992__994.mp4\n"
     ]
    },
    {
     "name": "stderr",
     "output_type": "stream",
     "text": [
      "\n",
      "100%|██████████| 60/60 [00:00<00:00, 286.09it/s]\n"
     ]
    },
    {
     "name": "stdout",
     "output_type": "stream",
     "text": [
      "[MoviePy] Done.\n",
      "[MoviePy] >>>> Video ready: ./clip/6H4VsHbynQc__992__994.mp4 \n",
      "\n",
      "[MoviePy] >>>> Building video ./clip/6H4VsHbynQc__994__996.mp4\n",
      "[MoviePy] Writing audio in 6H4VsHbynQc__994__996TEMP_MPY_wvf_snd.mp4\n"
     ]
    },
    {
     "name": "stderr",
     "output_type": "stream",
     "text": [
      "100%|██████████| 45/45 [00:00<00:00, 181.24it/s]"
     ]
    },
    {
     "name": "stdout",
     "output_type": "stream",
     "text": [
      "[MoviePy] Done.\n",
      "[MoviePy] Writing video ./clip/6H4VsHbynQc__994__996.mp4\n"
     ]
    },
    {
     "name": "stderr",
     "output_type": "stream",
     "text": [
      "\n",
      "100%|██████████| 60/60 [00:00<00:00, 268.34it/s]\n"
     ]
    },
    {
     "name": "stdout",
     "output_type": "stream",
     "text": [
      "[MoviePy] Done.\n",
      "[MoviePy] >>>> Video ready: ./clip/6H4VsHbynQc__994__996.mp4 \n",
      "\n",
      "[MoviePy] >>>> Building video ./clip/6H4VsHbynQc__996__998.mp4\n",
      "[MoviePy] Writing audio in 6H4VsHbynQc__996__998TEMP_MPY_wvf_snd.mp4\n"
     ]
    },
    {
     "name": "stderr",
     "output_type": "stream",
     "text": [
      "100%|██████████| 45/45 [00:00<00:00, 190.12it/s]"
     ]
    },
    {
     "name": "stdout",
     "output_type": "stream",
     "text": [
      "[MoviePy] Done.\n",
      "[MoviePy] Writing video ./clip/6H4VsHbynQc__996__998.mp4\n"
     ]
    },
    {
     "name": "stderr",
     "output_type": "stream",
     "text": [
      "\n",
      "100%|██████████| 60/60 [00:00<00:00, 273.60it/s]\n"
     ]
    },
    {
     "name": "stdout",
     "output_type": "stream",
     "text": [
      "[MoviePy] Done.\n",
      "[MoviePy] >>>> Video ready: ./clip/6H4VsHbynQc__996__998.mp4 \n",
      "\n",
      "[MoviePy] >>>> Building video ./clip/6H4VsHbynQc__998__1000.mp4\n",
      "[MoviePy] Writing audio in 6H4VsHbynQc__998__1000TEMP_MPY_wvf_snd.mp4\n"
     ]
    },
    {
     "name": "stderr",
     "output_type": "stream",
     "text": [
      "100%|██████████| 45/45 [00:00<00:00, 211.13it/s]"
     ]
    },
    {
     "name": "stdout",
     "output_type": "stream",
     "text": [
      "[MoviePy] Done.\n",
      "[MoviePy] Writing video ./clip/6H4VsHbynQc__998__1000.mp4\n"
     ]
    },
    {
     "name": "stderr",
     "output_type": "stream",
     "text": [
      "\n",
      "100%|██████████| 60/60 [00:00<00:00, 284.21it/s]\n"
     ]
    },
    {
     "name": "stdout",
     "output_type": "stream",
     "text": [
      "[MoviePy] Done.\n",
      "[MoviePy] >>>> Video ready: ./clip/6H4VsHbynQc__998__1000.mp4 \n",
      "\n",
      "[MoviePy] >>>> Building video ./clip/6H4VsHbynQc__1000__1002.mp4\n",
      "[MoviePy] Writing audio in 6H4VsHbynQc__1000__1002TEMP_MPY_wvf_snd.mp4\n"
     ]
    },
    {
     "name": "stderr",
     "output_type": "stream",
     "text": [
      "100%|██████████| 45/45 [00:00<00:00, 178.52it/s]"
     ]
    },
    {
     "name": "stdout",
     "output_type": "stream",
     "text": [
      "[MoviePy] Done.\n",
      "[MoviePy] Writing video ./clip/6H4VsHbynQc__1000__1002.mp4\n"
     ]
    },
    {
     "name": "stderr",
     "output_type": "stream",
     "text": [
      "\n",
      "100%|██████████| 60/60 [00:00<00:00, 246.64it/s]\n"
     ]
    },
    {
     "name": "stdout",
     "output_type": "stream",
     "text": [
      "[MoviePy] Done.\n",
      "[MoviePy] >>>> Video ready: ./clip/6H4VsHbynQc__1000__1002.mp4 \n",
      "\n",
      "[MoviePy] >>>> Building video ./clip/6H4VsHbynQc__1002__1004.mp4\n",
      "[MoviePy] Writing audio in 6H4VsHbynQc__1002__1004TEMP_MPY_wvf_snd.mp4\n"
     ]
    },
    {
     "name": "stderr",
     "output_type": "stream",
     "text": [
      "100%|██████████| 45/45 [00:00<00:00, 197.89it/s]"
     ]
    },
    {
     "name": "stdout",
     "output_type": "stream",
     "text": [
      "[MoviePy] Done.\n",
      "[MoviePy] Writing video ./clip/6H4VsHbynQc__1002__1004.mp4\n"
     ]
    },
    {
     "name": "stderr",
     "output_type": "stream",
     "text": [
      "\n",
      "100%|██████████| 60/60 [00:00<00:00, 314.36it/s]\n"
     ]
    },
    {
     "name": "stdout",
     "output_type": "stream",
     "text": [
      "[MoviePy] Done.\n",
      "[MoviePy] >>>> Video ready: ./clip/6H4VsHbynQc__1002__1004.mp4 \n",
      "\n",
      "[MoviePy] >>>> Building video ./clip/6H4VsHbynQc__1004__1006.mp4\n",
      "[MoviePy] Writing audio in 6H4VsHbynQc__1004__1006TEMP_MPY_wvf_snd.mp4\n"
     ]
    },
    {
     "name": "stderr",
     "output_type": "stream",
     "text": [
      "100%|██████████| 45/45 [00:00<00:00, 190.19it/s]"
     ]
    },
    {
     "name": "stdout",
     "output_type": "stream",
     "text": [
      "[MoviePy] Done.\n",
      "[MoviePy] Writing video ./clip/6H4VsHbynQc__1004__1006.mp4\n"
     ]
    },
    {
     "name": "stderr",
     "output_type": "stream",
     "text": [
      "\n",
      "100%|██████████| 60/60 [00:00<00:00, 292.64it/s]\n"
     ]
    },
    {
     "name": "stdout",
     "output_type": "stream",
     "text": [
      "[MoviePy] Done.\n",
      "[MoviePy] >>>> Video ready: ./clip/6H4VsHbynQc__1004__1006.mp4 \n",
      "\n",
      "[MoviePy] >>>> Building video ./clip/6H4VsHbynQc__1006__1008.mp4\n",
      "[MoviePy] Writing audio in 6H4VsHbynQc__1006__1008TEMP_MPY_wvf_snd.mp4\n"
     ]
    },
    {
     "name": "stderr",
     "output_type": "stream",
     "text": [
      "100%|██████████| 45/45 [00:00<00:00, 192.03it/s]"
     ]
    },
    {
     "name": "stdout",
     "output_type": "stream",
     "text": [
      "[MoviePy] Done.\n",
      "[MoviePy] Writing video ./clip/6H4VsHbynQc__1006__1008.mp4\n"
     ]
    },
    {
     "name": "stderr",
     "output_type": "stream",
     "text": [
      "\n",
      "100%|██████████| 60/60 [00:00<00:00, 316.40it/s]\n"
     ]
    },
    {
     "name": "stdout",
     "output_type": "stream",
     "text": [
      "[MoviePy] Done.\n",
      "[MoviePy] >>>> Video ready: ./clip/6H4VsHbynQc__1006__1008.mp4 \n",
      "\n",
      "[MoviePy] >>>> Building video ./clip/6H4VsHbynQc__1008__1010.mp4\n",
      "[MoviePy] Writing audio in 6H4VsHbynQc__1008__1010TEMP_MPY_wvf_snd.mp4\n"
     ]
    },
    {
     "name": "stderr",
     "output_type": "stream",
     "text": [
      "100%|██████████| 45/45 [00:00<00:00, 201.17it/s]"
     ]
    },
    {
     "name": "stdout",
     "output_type": "stream",
     "text": [
      "[MoviePy] Done.\n",
      "[MoviePy] Writing video ./clip/6H4VsHbynQc__1008__1010.mp4\n"
     ]
    },
    {
     "name": "stderr",
     "output_type": "stream",
     "text": [
      "\n",
      "100%|██████████| 60/60 [00:00<00:00, 288.34it/s]\n"
     ]
    },
    {
     "name": "stdout",
     "output_type": "stream",
     "text": [
      "[MoviePy] Done.\n",
      "[MoviePy] >>>> Video ready: ./clip/6H4VsHbynQc__1008__1010.mp4 \n",
      "\n",
      "[MoviePy] >>>> Building video ./clip/6H4VsHbynQc__1010__1012.mp4\n",
      "[MoviePy] Writing audio in 6H4VsHbynQc__1010__1012TEMP_MPY_wvf_snd.mp4\n"
     ]
    },
    {
     "name": "stderr",
     "output_type": "stream",
     "text": [
      "100%|██████████| 45/45 [00:00<00:00, 197.01it/s]"
     ]
    },
    {
     "name": "stdout",
     "output_type": "stream",
     "text": [
      "[MoviePy] Done.\n",
      "[MoviePy] Writing video ./clip/6H4VsHbynQc__1010__1012.mp4\n"
     ]
    },
    {
     "name": "stderr",
     "output_type": "stream",
     "text": [
      "\n",
      "100%|██████████| 60/60 [00:00<00:00, 264.64it/s]\n"
     ]
    },
    {
     "name": "stdout",
     "output_type": "stream",
     "text": [
      "[MoviePy] Done.\n",
      "[MoviePy] >>>> Video ready: ./clip/6H4VsHbynQc__1010__1012.mp4 \n",
      "\n",
      "[MoviePy] >>>> Building video ./clip/6H4VsHbynQc__1012__1014.mp4\n",
      "[MoviePy] Writing audio in 6H4VsHbynQc__1012__1014TEMP_MPY_wvf_snd.mp4\n"
     ]
    },
    {
     "name": "stderr",
     "output_type": "stream",
     "text": [
      "100%|██████████| 45/45 [00:00<00:00, 203.80it/s]"
     ]
    },
    {
     "name": "stdout",
     "output_type": "stream",
     "text": [
      "[MoviePy] Done.\n",
      "[MoviePy] Writing video ./clip/6H4VsHbynQc__1012__1014.mp4\n"
     ]
    },
    {
     "name": "stderr",
     "output_type": "stream",
     "text": [
      "\n",
      "100%|██████████| 60/60 [00:00<00:00, 297.42it/s]\n"
     ]
    },
    {
     "name": "stdout",
     "output_type": "stream",
     "text": [
      "[MoviePy] Done.\n",
      "[MoviePy] >>>> Video ready: ./clip/6H4VsHbynQc__1012__1014.mp4 \n",
      "\n",
      "[MoviePy] >>>> Building video ./clip/6H4VsHbynQc__1014__1016.mp4\n",
      "[MoviePy] Writing audio in 6H4VsHbynQc__1014__1016TEMP_MPY_wvf_snd.mp4\n"
     ]
    },
    {
     "name": "stderr",
     "output_type": "stream",
     "text": [
      "100%|██████████| 45/45 [00:00<00:00, 186.24it/s]"
     ]
    },
    {
     "name": "stdout",
     "output_type": "stream",
     "text": [
      "[MoviePy] Done.\n",
      "[MoviePy] Writing video ./clip/6H4VsHbynQc__1014__1016.mp4\n"
     ]
    },
    {
     "name": "stderr",
     "output_type": "stream",
     "text": [
      "\n",
      "100%|██████████| 60/60 [00:00<00:00, 291.64it/s]\n"
     ]
    },
    {
     "name": "stdout",
     "output_type": "stream",
     "text": [
      "[MoviePy] Done.\n",
      "[MoviePy] >>>> Video ready: ./clip/6H4VsHbynQc__1014__1016.mp4 \n",
      "\n",
      "[MoviePy] >>>> Building video ./clip/6H4VsHbynQc__1016__1018.mp4\n",
      "[MoviePy] Writing audio in 6H4VsHbynQc__1016__1018TEMP_MPY_wvf_snd.mp4\n"
     ]
    },
    {
     "name": "stderr",
     "output_type": "stream",
     "text": [
      "100%|██████████| 45/45 [00:00<00:00, 207.38it/s]"
     ]
    },
    {
     "name": "stdout",
     "output_type": "stream",
     "text": [
      "[MoviePy] Done.\n",
      "[MoviePy] Writing video ./clip/6H4VsHbynQc__1016__1018.mp4\n"
     ]
    },
    {
     "name": "stderr",
     "output_type": "stream",
     "text": [
      "\n",
      "100%|██████████| 60/60 [00:00<00:00, 290.33it/s]\n"
     ]
    },
    {
     "name": "stdout",
     "output_type": "stream",
     "text": [
      "[MoviePy] Done.\n",
      "[MoviePy] >>>> Video ready: ./clip/6H4VsHbynQc__1016__1018.mp4 \n",
      "\n",
      "[MoviePy] >>>> Building video ./clip/6H4VsHbynQc__1018__1020.mp4\n",
      "[MoviePy] Writing audio in 6H4VsHbynQc__1018__1020TEMP_MPY_wvf_snd.mp4\n"
     ]
    },
    {
     "name": "stderr",
     "output_type": "stream",
     "text": [
      "100%|██████████| 45/45 [00:00<00:00, 205.84it/s]"
     ]
    },
    {
     "name": "stdout",
     "output_type": "stream",
     "text": [
      "[MoviePy] Done.\n",
      "[MoviePy] Writing video ./clip/6H4VsHbynQc__1018__1020.mp4\n"
     ]
    },
    {
     "name": "stderr",
     "output_type": "stream",
     "text": [
      "\n",
      "100%|██████████| 60/60 [00:00<00:00, 304.04it/s]\n"
     ]
    },
    {
     "name": "stdout",
     "output_type": "stream",
     "text": [
      "[MoviePy] Done.\n",
      "[MoviePy] >>>> Video ready: ./clip/6H4VsHbynQc__1018__1020.mp4 \n",
      "\n",
      "[MoviePy] >>>> Building video ./clip/6H4VsHbynQc__1020__1022.mp4\n",
      "[MoviePy] Writing audio in 6H4VsHbynQc__1020__1022TEMP_MPY_wvf_snd.mp4\n"
     ]
    },
    {
     "name": "stderr",
     "output_type": "stream",
     "text": [
      "100%|██████████| 45/45 [00:00<00:00, 184.18it/s]"
     ]
    },
    {
     "name": "stdout",
     "output_type": "stream",
     "text": [
      "[MoviePy] Done.\n",
      "[MoviePy] Writing video ./clip/6H4VsHbynQc__1020__1022.mp4\n"
     ]
    },
    {
     "name": "stderr",
     "output_type": "stream",
     "text": [
      "\n",
      "100%|██████████| 60/60 [00:00<00:00, 313.84it/s]\n"
     ]
    },
    {
     "name": "stdout",
     "output_type": "stream",
     "text": [
      "[MoviePy] Done.\n",
      "[MoviePy] >>>> Video ready: ./clip/6H4VsHbynQc__1020__1022.mp4 \n",
      "\n",
      "[MoviePy] >>>> Building video ./clip/6H4VsHbynQc__1022__1024.mp4\n",
      "[MoviePy] Writing audio in 6H4VsHbynQc__1022__1024TEMP_MPY_wvf_snd.mp4\n"
     ]
    },
    {
     "name": "stderr",
     "output_type": "stream",
     "text": [
      "100%|██████████| 45/45 [00:00<00:00, 200.85it/s]"
     ]
    },
    {
     "name": "stdout",
     "output_type": "stream",
     "text": [
      "[MoviePy] Done.\n",
      "[MoviePy] Writing video ./clip/6H4VsHbynQc__1022__1024.mp4\n"
     ]
    },
    {
     "name": "stderr",
     "output_type": "stream",
     "text": [
      "\n",
      "100%|██████████| 60/60 [00:00<00:00, 307.86it/s]\n"
     ]
    },
    {
     "name": "stdout",
     "output_type": "stream",
     "text": [
      "[MoviePy] Done.\n",
      "[MoviePy] >>>> Video ready: ./clip/6H4VsHbynQc__1022__1024.mp4 \n",
      "\n",
      "[MoviePy] >>>> Building video ./clip/6H4VsHbynQc__1024__1026.mp4\n",
      "[MoviePy] Writing audio in 6H4VsHbynQc__1024__1026TEMP_MPY_wvf_snd.mp4\n"
     ]
    },
    {
     "name": "stderr",
     "output_type": "stream",
     "text": [
      "100%|██████████| 45/45 [00:00<00:00, 203.23it/s]"
     ]
    },
    {
     "name": "stdout",
     "output_type": "stream",
     "text": [
      "[MoviePy] Done.\n",
      "[MoviePy] Writing video ./clip/6H4VsHbynQc__1024__1026.mp4\n"
     ]
    },
    {
     "name": "stderr",
     "output_type": "stream",
     "text": [
      "\n",
      "100%|██████████| 60/60 [00:00<00:00, 291.26it/s]\n"
     ]
    },
    {
     "name": "stdout",
     "output_type": "stream",
     "text": [
      "[MoviePy] Done.\n",
      "[MoviePy] >>>> Video ready: ./clip/6H4VsHbynQc__1024__1026.mp4 \n",
      "\n",
      "[MoviePy] >>>> Building video ./clip/6H4VsHbynQc__1026__1028.mp4\n",
      "[MoviePy] Writing audio in 6H4VsHbynQc__1026__1028TEMP_MPY_wvf_snd.mp4\n"
     ]
    },
    {
     "name": "stderr",
     "output_type": "stream",
     "text": [
      "100%|██████████| 45/45 [00:00<00:00, 185.66it/s]"
     ]
    },
    {
     "name": "stdout",
     "output_type": "stream",
     "text": [
      "[MoviePy] Done.\n",
      "[MoviePy] Writing video ./clip/6H4VsHbynQc__1026__1028.mp4\n"
     ]
    },
    {
     "name": "stderr",
     "output_type": "stream",
     "text": [
      "\n",
      "100%|██████████| 60/60 [00:00<00:00, 278.94it/s]\n"
     ]
    },
    {
     "name": "stdout",
     "output_type": "stream",
     "text": [
      "[MoviePy] Done.\n",
      "[MoviePy] >>>> Video ready: ./clip/6H4VsHbynQc__1026__1028.mp4 \n",
      "\n",
      "[MoviePy] >>>> Building video ./clip/6H4VsHbynQc__1028__1030.mp4\n",
      "[MoviePy] Writing audio in 6H4VsHbynQc__1028__1030TEMP_MPY_wvf_snd.mp4\n"
     ]
    },
    {
     "name": "stderr",
     "output_type": "stream",
     "text": [
      "100%|██████████| 45/45 [00:00<00:00, 192.13it/s]"
     ]
    },
    {
     "name": "stdout",
     "output_type": "stream",
     "text": [
      "[MoviePy] Done.\n",
      "[MoviePy] Writing video ./clip/6H4VsHbynQc__1028__1030.mp4\n"
     ]
    },
    {
     "name": "stderr",
     "output_type": "stream",
     "text": [
      "\n",
      "100%|██████████| 60/60 [00:00<00:00, 301.71it/s]\n"
     ]
    },
    {
     "name": "stdout",
     "output_type": "stream",
     "text": [
      "[MoviePy] Done.\n",
      "[MoviePy] >>>> Video ready: ./clip/6H4VsHbynQc__1028__1030.mp4 \n",
      "\n",
      "[MoviePy] >>>> Building video ./clip/6H4VsHbynQc__1030__1032.mp4\n",
      "[MoviePy] Writing audio in 6H4VsHbynQc__1030__1032TEMP_MPY_wvf_snd.mp4\n"
     ]
    },
    {
     "name": "stderr",
     "output_type": "stream",
     "text": [
      "100%|██████████| 45/45 [00:00<00:00, 209.94it/s]"
     ]
    },
    {
     "name": "stdout",
     "output_type": "stream",
     "text": [
      "[MoviePy] Done.\n",
      "[MoviePy] Writing video ./clip/6H4VsHbynQc__1030__1032.mp4\n"
     ]
    },
    {
     "name": "stderr",
     "output_type": "stream",
     "text": [
      "\n",
      "100%|██████████| 60/60 [00:00<00:00, 317.79it/s]\n"
     ]
    },
    {
     "name": "stdout",
     "output_type": "stream",
     "text": [
      "[MoviePy] Done.\n",
      "[MoviePy] >>>> Video ready: ./clip/6H4VsHbynQc__1030__1032.mp4 \n",
      "\n",
      "[MoviePy] >>>> Building video ./clip/6H4VsHbynQc__1032__1034.mp4\n",
      "[MoviePy] Writing audio in 6H4VsHbynQc__1032__1034TEMP_MPY_wvf_snd.mp4\n"
     ]
    },
    {
     "name": "stderr",
     "output_type": "stream",
     "text": [
      "100%|██████████| 45/45 [00:00<00:00, 208.19it/s]"
     ]
    },
    {
     "name": "stdout",
     "output_type": "stream",
     "text": [
      "[MoviePy] Done.\n",
      "[MoviePy] Writing video ./clip/6H4VsHbynQc__1032__1034.mp4\n"
     ]
    },
    {
     "name": "stderr",
     "output_type": "stream",
     "text": [
      "\n",
      "100%|██████████| 60/60 [00:00<00:00, 302.61it/s]\n"
     ]
    },
    {
     "name": "stdout",
     "output_type": "stream",
     "text": [
      "[MoviePy] Done.\n",
      "[MoviePy] >>>> Video ready: ./clip/6H4VsHbynQc__1032__1034.mp4 \n",
      "\n",
      "[MoviePy] >>>> Building video ./clip/6H4VsHbynQc__1034__1036.mp4\n",
      "[MoviePy] Writing audio in 6H4VsHbynQc__1034__1036TEMP_MPY_wvf_snd.mp4\n"
     ]
    },
    {
     "name": "stderr",
     "output_type": "stream",
     "text": [
      "100%|██████████| 45/45 [00:00<00:00, 207.81it/s]"
     ]
    },
    {
     "name": "stdout",
     "output_type": "stream",
     "text": [
      "[MoviePy] Done.\n",
      "[MoviePy] Writing video ./clip/6H4VsHbynQc__1034__1036.mp4\n"
     ]
    },
    {
     "name": "stderr",
     "output_type": "stream",
     "text": [
      "\n",
      "100%|██████████| 60/60 [00:00<00:00, 311.11it/s]\n"
     ]
    },
    {
     "name": "stdout",
     "output_type": "stream",
     "text": [
      "[MoviePy] Done.\n",
      "[MoviePy] >>>> Video ready: ./clip/6H4VsHbynQc__1034__1036.mp4 \n",
      "\n",
      "[MoviePy] >>>> Building video ./clip/6H4VsHbynQc__1036__1038.mp4\n",
      "[MoviePy] Writing audio in 6H4VsHbynQc__1036__1038TEMP_MPY_wvf_snd.mp4\n"
     ]
    },
    {
     "name": "stderr",
     "output_type": "stream",
     "text": [
      "100%|██████████| 45/45 [00:00<00:00, 212.06it/s]"
     ]
    },
    {
     "name": "stdout",
     "output_type": "stream",
     "text": [
      "[MoviePy] Done.\n",
      "[MoviePy] Writing video ./clip/6H4VsHbynQc__1036__1038.mp4\n"
     ]
    },
    {
     "name": "stderr",
     "output_type": "stream",
     "text": [
      "\n",
      "100%|██████████| 60/60 [00:00<00:00, 326.57it/s]\n"
     ]
    },
    {
     "name": "stdout",
     "output_type": "stream",
     "text": [
      "[MoviePy] Done.\n",
      "[MoviePy] >>>> Video ready: ./clip/6H4VsHbynQc__1036__1038.mp4 \n",
      "\n",
      "[MoviePy] >>>> Building video ./clip/6H4VsHbynQc__1038__1040.mp4\n",
      "[MoviePy] Writing audio in 6H4VsHbynQc__1038__1040TEMP_MPY_wvf_snd.mp4\n"
     ]
    },
    {
     "name": "stderr",
     "output_type": "stream",
     "text": [
      "100%|██████████| 45/45 [00:00<00:00, 188.12it/s]"
     ]
    },
    {
     "name": "stdout",
     "output_type": "stream",
     "text": [
      "[MoviePy] Done.\n",
      "[MoviePy] Writing video ./clip/6H4VsHbynQc__1038__1040.mp4\n"
     ]
    },
    {
     "name": "stderr",
     "output_type": "stream",
     "text": [
      "\n",
      "100%|██████████| 60/60 [00:00<00:00, 303.40it/s]\n"
     ]
    },
    {
     "name": "stdout",
     "output_type": "stream",
     "text": [
      "[MoviePy] Done.\n",
      "[MoviePy] >>>> Video ready: ./clip/6H4VsHbynQc__1038__1040.mp4 \n",
      "\n",
      "[MoviePy] >>>> Building video ./clip/6H4VsHbynQc__1040__1042.mp4\n",
      "[MoviePy] Writing audio in 6H4VsHbynQc__1040__1042TEMP_MPY_wvf_snd.mp4\n"
     ]
    },
    {
     "name": "stderr",
     "output_type": "stream",
     "text": [
      "100%|██████████| 45/45 [00:00<00:00, 194.99it/s]"
     ]
    },
    {
     "name": "stdout",
     "output_type": "stream",
     "text": [
      "[MoviePy] Done.\n",
      "[MoviePy] Writing video ./clip/6H4VsHbynQc__1040__1042.mp4\n"
     ]
    },
    {
     "name": "stderr",
     "output_type": "stream",
     "text": [
      "\n",
      "100%|██████████| 60/60 [00:00<00:00, 300.19it/s]\n"
     ]
    },
    {
     "name": "stdout",
     "output_type": "stream",
     "text": [
      "[MoviePy] Done.\n",
      "[MoviePy] >>>> Video ready: ./clip/6H4VsHbynQc__1040__1042.mp4 \n",
      "\n",
      "[MoviePy] >>>> Building video ./clip/6H4VsHbynQc__1042__1044.mp4\n",
      "[MoviePy] Writing audio in 6H4VsHbynQc__1042__1044TEMP_MPY_wvf_snd.mp4\n"
     ]
    },
    {
     "name": "stderr",
     "output_type": "stream",
     "text": [
      "100%|██████████| 45/45 [00:00<00:00, 200.61it/s]"
     ]
    },
    {
     "name": "stdout",
     "output_type": "stream",
     "text": [
      "[MoviePy] Done.\n",
      "[MoviePy] Writing video ./clip/6H4VsHbynQc__1042__1044.mp4\n"
     ]
    },
    {
     "name": "stderr",
     "output_type": "stream",
     "text": [
      "\n",
      "100%|██████████| 60/60 [00:00<00:00, 314.32it/s]\n"
     ]
    },
    {
     "name": "stdout",
     "output_type": "stream",
     "text": [
      "[MoviePy] Done.\n",
      "[MoviePy] >>>> Video ready: ./clip/6H4VsHbynQc__1042__1044.mp4 \n",
      "\n",
      "[MoviePy] >>>> Building video ./clip/6H4VsHbynQc__1044__1046.mp4\n",
      "[MoviePy] Writing audio in 6H4VsHbynQc__1044__1046TEMP_MPY_wvf_snd.mp4\n"
     ]
    },
    {
     "name": "stderr",
     "output_type": "stream",
     "text": [
      "100%|██████████| 45/45 [00:00<00:00, 203.92it/s]"
     ]
    },
    {
     "name": "stdout",
     "output_type": "stream",
     "text": [
      "[MoviePy] Done.\n",
      "[MoviePy] Writing video ./clip/6H4VsHbynQc__1044__1046.mp4\n"
     ]
    },
    {
     "name": "stderr",
     "output_type": "stream",
     "text": [
      "\n",
      "100%|██████████| 60/60 [00:00<00:00, 323.20it/s]\n"
     ]
    },
    {
     "name": "stdout",
     "output_type": "stream",
     "text": [
      "[MoviePy] Done.\n",
      "[MoviePy] >>>> Video ready: ./clip/6H4VsHbynQc__1044__1046.mp4 \n",
      "\n",
      "[MoviePy] >>>> Building video ./clip/6H4VsHbynQc__1046__1048.mp4\n",
      "[MoviePy] Writing audio in 6H4VsHbynQc__1046__1048TEMP_MPY_wvf_snd.mp4\n"
     ]
    },
    {
     "name": "stderr",
     "output_type": "stream",
     "text": [
      "100%|██████████| 45/45 [00:00<00:00, 188.09it/s]"
     ]
    },
    {
     "name": "stdout",
     "output_type": "stream",
     "text": [
      "[MoviePy] Done.\n",
      "[MoviePy] Writing video ./clip/6H4VsHbynQc__1046__1048.mp4\n"
     ]
    },
    {
     "name": "stderr",
     "output_type": "stream",
     "text": [
      "\n",
      "100%|██████████| 60/60 [00:00<00:00, 322.94it/s]\n"
     ]
    },
    {
     "name": "stdout",
     "output_type": "stream",
     "text": [
      "[MoviePy] Done.\n",
      "[MoviePy] >>>> Video ready: ./clip/6H4VsHbynQc__1046__1048.mp4 \n",
      "\n",
      "[MoviePy] >>>> Building video ./clip/6H4VsHbynQc__1048__1050.mp4\n",
      "[MoviePy] Writing audio in 6H4VsHbynQc__1048__1050TEMP_MPY_wvf_snd.mp4\n"
     ]
    },
    {
     "name": "stderr",
     "output_type": "stream",
     "text": [
      "100%|██████████| 45/45 [00:00<00:00, 197.16it/s]"
     ]
    },
    {
     "name": "stdout",
     "output_type": "stream",
     "text": [
      "[MoviePy] Done.\n",
      "[MoviePy] Writing video ./clip/6H4VsHbynQc__1048__1050.mp4\n"
     ]
    },
    {
     "name": "stderr",
     "output_type": "stream",
     "text": [
      "\n",
      "100%|██████████| 60/60 [00:00<00:00, 276.48it/s]\n"
     ]
    },
    {
     "name": "stdout",
     "output_type": "stream",
     "text": [
      "[MoviePy] Done.\n",
      "[MoviePy] >>>> Video ready: ./clip/6H4VsHbynQc__1048__1050.mp4 \n",
      "\n",
      "[MoviePy] >>>> Building video ./clip/6H4VsHbynQc__1050__1052.mp4\n",
      "[MoviePy] Writing audio in 6H4VsHbynQc__1050__1052TEMP_MPY_wvf_snd.mp4\n"
     ]
    },
    {
     "name": "stderr",
     "output_type": "stream",
     "text": [
      "100%|██████████| 45/45 [00:00<00:00, 209.35it/s]"
     ]
    },
    {
     "name": "stdout",
     "output_type": "stream",
     "text": [
      "[MoviePy] Done.\n",
      "[MoviePy] Writing video ./clip/6H4VsHbynQc__1050__1052.mp4\n"
     ]
    },
    {
     "name": "stderr",
     "output_type": "stream",
     "text": [
      "\n",
      "100%|██████████| 60/60 [00:00<00:00, 283.02it/s]\n"
     ]
    },
    {
     "name": "stdout",
     "output_type": "stream",
     "text": [
      "[MoviePy] Done.\n",
      "[MoviePy] >>>> Video ready: ./clip/6H4VsHbynQc__1050__1052.mp4 \n",
      "\n",
      "[MoviePy] >>>> Building video ./clip/6H4VsHbynQc__1052__1054.mp4\n",
      "[MoviePy] Writing audio in 6H4VsHbynQc__1052__1054TEMP_MPY_wvf_snd.mp4\n"
     ]
    },
    {
     "name": "stderr",
     "output_type": "stream",
     "text": [
      "100%|██████████| 45/45 [00:00<00:00, 206.27it/s]"
     ]
    },
    {
     "name": "stdout",
     "output_type": "stream",
     "text": [
      "[MoviePy] Done.\n",
      "[MoviePy] Writing video ./clip/6H4VsHbynQc__1052__1054.mp4\n"
     ]
    },
    {
     "name": "stderr",
     "output_type": "stream",
     "text": [
      "\n",
      "100%|██████████| 60/60 [00:00<00:00, 306.12it/s]\n"
     ]
    },
    {
     "name": "stdout",
     "output_type": "stream",
     "text": [
      "[MoviePy] Done.\n",
      "[MoviePy] >>>> Video ready: ./clip/6H4VsHbynQc__1052__1054.mp4 \n",
      "\n",
      "[MoviePy] >>>> Building video ./clip/6H4VsHbynQc__1054__1056.mp4\n",
      "[MoviePy] Writing audio in 6H4VsHbynQc__1054__1056TEMP_MPY_wvf_snd.mp4\n"
     ]
    },
    {
     "name": "stderr",
     "output_type": "stream",
     "text": [
      "100%|██████████| 45/45 [00:00<00:00, 179.14it/s]"
     ]
    },
    {
     "name": "stdout",
     "output_type": "stream",
     "text": [
      "[MoviePy] Done.\n",
      "[MoviePy] Writing video ./clip/6H4VsHbynQc__1054__1056.mp4\n"
     ]
    },
    {
     "name": "stderr",
     "output_type": "stream",
     "text": [
      "\n",
      "100%|██████████| 60/60 [00:00<00:00, 286.39it/s]\n"
     ]
    },
    {
     "name": "stdout",
     "output_type": "stream",
     "text": [
      "[MoviePy] Done.\n",
      "[MoviePy] >>>> Video ready: ./clip/6H4VsHbynQc__1054__1056.mp4 \n",
      "\n",
      "[MoviePy] >>>> Building video ./clip/6H4VsHbynQc__1056__1058.mp4\n",
      "[MoviePy] Writing audio in 6H4VsHbynQc__1056__1058TEMP_MPY_wvf_snd.mp4\n"
     ]
    },
    {
     "name": "stderr",
     "output_type": "stream",
     "text": [
      "100%|██████████| 45/45 [00:00<00:00, 195.14it/s]"
     ]
    },
    {
     "name": "stdout",
     "output_type": "stream",
     "text": [
      "[MoviePy] Done.\n",
      "[MoviePy] Writing video ./clip/6H4VsHbynQc__1056__1058.mp4\n"
     ]
    },
    {
     "name": "stderr",
     "output_type": "stream",
     "text": [
      "\n",
      "100%|██████████| 60/60 [00:00<00:00, 299.97it/s]\n"
     ]
    },
    {
     "name": "stdout",
     "output_type": "stream",
     "text": [
      "[MoviePy] Done.\n",
      "[MoviePy] >>>> Video ready: ./clip/6H4VsHbynQc__1056__1058.mp4 \n",
      "\n",
      "[MoviePy] >>>> Building video ./clip/6H4VsHbynQc__1058__1060.mp4\n",
      "[MoviePy] Writing audio in 6H4VsHbynQc__1058__1060TEMP_MPY_wvf_snd.mp4\n"
     ]
    },
    {
     "name": "stderr",
     "output_type": "stream",
     "text": [
      "100%|██████████| 45/45 [00:00<00:00, 185.46it/s]"
     ]
    },
    {
     "name": "stdout",
     "output_type": "stream",
     "text": [
      "[MoviePy] Done.\n",
      "[MoviePy] Writing video ./clip/6H4VsHbynQc__1058__1060.mp4\n"
     ]
    },
    {
     "name": "stderr",
     "output_type": "stream",
     "text": [
      "\n",
      "100%|██████████| 60/60 [00:00<00:00, 300.55it/s]\n"
     ]
    },
    {
     "name": "stdout",
     "output_type": "stream",
     "text": [
      "[MoviePy] Done.\n",
      "[MoviePy] >>>> Video ready: ./clip/6H4VsHbynQc__1058__1060.mp4 \n",
      "\n",
      "[MoviePy] >>>> Building video ./clip/6H4VsHbynQc__1060__1062.mp4\n",
      "[MoviePy] Writing audio in 6H4VsHbynQc__1060__1062TEMP_MPY_wvf_snd.mp4\n"
     ]
    },
    {
     "name": "stderr",
     "output_type": "stream",
     "text": [
      "100%|██████████| 45/45 [00:00<00:00, 175.91it/s]"
     ]
    },
    {
     "name": "stdout",
     "output_type": "stream",
     "text": [
      "[MoviePy] Done.\n",
      "[MoviePy] Writing video ./clip/6H4VsHbynQc__1060__1062.mp4\n"
     ]
    },
    {
     "name": "stderr",
     "output_type": "stream",
     "text": [
      "\n",
      "100%|██████████| 60/60 [00:00<00:00, 290.62it/s]\n"
     ]
    },
    {
     "name": "stdout",
     "output_type": "stream",
     "text": [
      "[MoviePy] Done.\n",
      "[MoviePy] >>>> Video ready: ./clip/6H4VsHbynQc__1060__1062.mp4 \n",
      "\n",
      "[MoviePy] >>>> Building video ./clip/6H4VsHbynQc__1062__1064.mp4\n",
      "[MoviePy] Writing audio in 6H4VsHbynQc__1062__1064TEMP_MPY_wvf_snd.mp4\n"
     ]
    },
    {
     "name": "stderr",
     "output_type": "stream",
     "text": [
      "100%|██████████| 45/45 [00:00<00:00, 198.82it/s]"
     ]
    },
    {
     "name": "stdout",
     "output_type": "stream",
     "text": [
      "[MoviePy] Done.\n",
      "[MoviePy] Writing video ./clip/6H4VsHbynQc__1062__1064.mp4\n"
     ]
    },
    {
     "name": "stderr",
     "output_type": "stream",
     "text": [
      "\n",
      "100%|██████████| 60/60 [00:00<00:00, 301.77it/s]\n"
     ]
    },
    {
     "name": "stdout",
     "output_type": "stream",
     "text": [
      "[MoviePy] Done.\n",
      "[MoviePy] >>>> Video ready: ./clip/6H4VsHbynQc__1062__1064.mp4 \n",
      "\n",
      "[MoviePy] >>>> Building video ./clip/6H4VsHbynQc__1064__1066.mp4\n",
      "[MoviePy] Writing audio in 6H4VsHbynQc__1064__1066TEMP_MPY_wvf_snd.mp4\n"
     ]
    },
    {
     "name": "stderr",
     "output_type": "stream",
     "text": [
      "100%|██████████| 45/45 [00:00<00:00, 221.98it/s]"
     ]
    },
    {
     "name": "stdout",
     "output_type": "stream",
     "text": [
      "[MoviePy] Done.\n",
      "[MoviePy] Writing video ./clip/6H4VsHbynQc__1064__1066.mp4\n"
     ]
    },
    {
     "name": "stderr",
     "output_type": "stream",
     "text": [
      "\n",
      "100%|██████████| 60/60 [00:00<00:00, 274.11it/s]\n"
     ]
    },
    {
     "name": "stdout",
     "output_type": "stream",
     "text": [
      "[MoviePy] Done.\n",
      "[MoviePy] >>>> Video ready: ./clip/6H4VsHbynQc__1064__1066.mp4 \n",
      "\n",
      "[MoviePy] >>>> Building video ./clip/6H4VsHbynQc__1066__1068.mp4\n",
      "[MoviePy] Writing audio in 6H4VsHbynQc__1066__1068TEMP_MPY_wvf_snd.mp4\n"
     ]
    },
    {
     "name": "stderr",
     "output_type": "stream",
     "text": [
      "100%|██████████| 45/45 [00:00<00:00, 180.11it/s]"
     ]
    },
    {
     "name": "stdout",
     "output_type": "stream",
     "text": [
      "[MoviePy] Done.\n",
      "[MoviePy] Writing video ./clip/6H4VsHbynQc__1066__1068.mp4\n"
     ]
    },
    {
     "name": "stderr",
     "output_type": "stream",
     "text": [
      "\n",
      "100%|██████████| 60/60 [00:00<00:00, 288.35it/s]\n"
     ]
    },
    {
     "name": "stdout",
     "output_type": "stream",
     "text": [
      "[MoviePy] Done.\n",
      "[MoviePy] >>>> Video ready: ./clip/6H4VsHbynQc__1066__1068.mp4 \n",
      "\n",
      "[MoviePy] >>>> Building video ./clip/6H4VsHbynQc__1068__1070.mp4\n",
      "[MoviePy] Writing audio in 6H4VsHbynQc__1068__1070TEMP_MPY_wvf_snd.mp4\n"
     ]
    },
    {
     "name": "stderr",
     "output_type": "stream",
     "text": [
      "100%|██████████| 45/45 [00:00<00:00, 196.77it/s]"
     ]
    },
    {
     "name": "stdout",
     "output_type": "stream",
     "text": [
      "[MoviePy] Done.\n",
      "[MoviePy] Writing video ./clip/6H4VsHbynQc__1068__1070.mp4\n"
     ]
    },
    {
     "name": "stderr",
     "output_type": "stream",
     "text": [
      "\n",
      "100%|██████████| 60/60 [00:00<00:00, 314.33it/s]\n"
     ]
    },
    {
     "name": "stdout",
     "output_type": "stream",
     "text": [
      "[MoviePy] Done.\n",
      "[MoviePy] >>>> Video ready: ./clip/6H4VsHbynQc__1068__1070.mp4 \n",
      "\n",
      "[MoviePy] >>>> Building video ./clip/6H4VsHbynQc__1070__1072.mp4\n",
      "[MoviePy] Writing audio in 6H4VsHbynQc__1070__1072TEMP_MPY_wvf_snd.mp4\n"
     ]
    },
    {
     "name": "stderr",
     "output_type": "stream",
     "text": [
      "100%|██████████| 45/45 [00:00<00:00, 213.60it/s]"
     ]
    },
    {
     "name": "stdout",
     "output_type": "stream",
     "text": [
      "[MoviePy] Done.\n",
      "[MoviePy] Writing video ./clip/6H4VsHbynQc__1070__1072.mp4\n"
     ]
    },
    {
     "name": "stderr",
     "output_type": "stream",
     "text": [
      "\n",
      "100%|██████████| 60/60 [00:00<00:00, 307.87it/s]\n"
     ]
    },
    {
     "name": "stdout",
     "output_type": "stream",
     "text": [
      "[MoviePy] Done.\n",
      "[MoviePy] >>>> Video ready: ./clip/6H4VsHbynQc__1070__1072.mp4 \n",
      "\n",
      "[MoviePy] >>>> Building video ./clip/6H4VsHbynQc__1072__1074.mp4\n",
      "[MoviePy] Writing audio in 6H4VsHbynQc__1072__1074TEMP_MPY_wvf_snd.mp4\n"
     ]
    },
    {
     "name": "stderr",
     "output_type": "stream",
     "text": [
      "100%|██████████| 45/45 [00:00<00:00, 182.47it/s]"
     ]
    },
    {
     "name": "stdout",
     "output_type": "stream",
     "text": [
      "[MoviePy] Done.\n",
      "[MoviePy] Writing video ./clip/6H4VsHbynQc__1072__1074.mp4\n"
     ]
    },
    {
     "name": "stderr",
     "output_type": "stream",
     "text": [
      "\n",
      "100%|██████████| 60/60 [00:00<00:00, 313.62it/s]\n"
     ]
    },
    {
     "name": "stdout",
     "output_type": "stream",
     "text": [
      "[MoviePy] Done.\n",
      "[MoviePy] >>>> Video ready: ./clip/6H4VsHbynQc__1072__1074.mp4 \n",
      "\n",
      "[MoviePy] >>>> Building video ./clip/6H4VsHbynQc__1074__1076.mp4\n",
      "[MoviePy] Writing audio in 6H4VsHbynQc__1074__1076TEMP_MPY_wvf_snd.mp4\n"
     ]
    },
    {
     "name": "stderr",
     "output_type": "stream",
     "text": [
      "100%|██████████| 45/45 [00:00<00:00, 182.34it/s]"
     ]
    },
    {
     "name": "stdout",
     "output_type": "stream",
     "text": [
      "[MoviePy] Done.\n",
      "[MoviePy] Writing video ./clip/6H4VsHbynQc__1074__1076.mp4\n"
     ]
    },
    {
     "name": "stderr",
     "output_type": "stream",
     "text": [
      "\n",
      "100%|██████████| 60/60 [00:00<00:00, 317.86it/s]\n"
     ]
    },
    {
     "name": "stdout",
     "output_type": "stream",
     "text": [
      "[MoviePy] Done.\n",
      "[MoviePy] >>>> Video ready: ./clip/6H4VsHbynQc__1074__1076.mp4 \n",
      "\n",
      "[MoviePy] >>>> Building video ./clip/6H4VsHbynQc__1076__1078.mp4\n",
      "[MoviePy] Writing audio in 6H4VsHbynQc__1076__1078TEMP_MPY_wvf_snd.mp4\n"
     ]
    },
    {
     "name": "stderr",
     "output_type": "stream",
     "text": [
      "100%|██████████| 45/45 [00:00<00:00, 198.83it/s]"
     ]
    },
    {
     "name": "stdout",
     "output_type": "stream",
     "text": [
      "[MoviePy] Done.\n",
      "[MoviePy] Writing video ./clip/6H4VsHbynQc__1076__1078.mp4\n"
     ]
    },
    {
     "name": "stderr",
     "output_type": "stream",
     "text": [
      "\n",
      "100%|██████████| 60/60 [00:00<00:00, 333.88it/s]\n"
     ]
    },
    {
     "name": "stdout",
     "output_type": "stream",
     "text": [
      "[MoviePy] Done.\n",
      "[MoviePy] >>>> Video ready: ./clip/6H4VsHbynQc__1076__1078.mp4 \n",
      "\n",
      "[MoviePy] >>>> Building video ./clip/6H4VsHbynQc__1078__1080.mp4\n",
      "[MoviePy] Writing audio in 6H4VsHbynQc__1078__1080TEMP_MPY_wvf_snd.mp4\n"
     ]
    },
    {
     "name": "stderr",
     "output_type": "stream",
     "text": [
      "100%|██████████| 45/45 [00:00<00:00, 215.41it/s]"
     ]
    },
    {
     "name": "stdout",
     "output_type": "stream",
     "text": [
      "[MoviePy] Done.\n",
      "[MoviePy] Writing video ./clip/6H4VsHbynQc__1078__1080.mp4\n"
     ]
    },
    {
     "name": "stderr",
     "output_type": "stream",
     "text": [
      "\n",
      "100%|██████████| 60/60 [00:00<00:00, 302.66it/s]\n"
     ]
    },
    {
     "name": "stdout",
     "output_type": "stream",
     "text": [
      "[MoviePy] Done.\n",
      "[MoviePy] >>>> Video ready: ./clip/6H4VsHbynQc__1078__1080.mp4 \n",
      "\n",
      "[MoviePy] >>>> Building video ./clip/6H4VsHbynQc__1080__1082.mp4\n",
      "[MoviePy] Writing audio in 6H4VsHbynQc__1080__1082TEMP_MPY_wvf_snd.mp4\n"
     ]
    },
    {
     "name": "stderr",
     "output_type": "stream",
     "text": [
      "100%|██████████| 45/45 [00:00<00:00, 196.07it/s]"
     ]
    },
    {
     "name": "stdout",
     "output_type": "stream",
     "text": [
      "[MoviePy] Done.\n",
      "[MoviePy] Writing video ./clip/6H4VsHbynQc__1080__1082.mp4\n"
     ]
    },
    {
     "name": "stderr",
     "output_type": "stream",
     "text": [
      "\n",
      "100%|██████████| 60/60 [00:00<00:00, 305.73it/s]\n"
     ]
    },
    {
     "name": "stdout",
     "output_type": "stream",
     "text": [
      "[MoviePy] Done.\n",
      "[MoviePy] >>>> Video ready: ./clip/6H4VsHbynQc__1080__1082.mp4 \n",
      "\n",
      "[MoviePy] >>>> Building video ./clip/6H4VsHbynQc__1082__1084.mp4\n",
      "[MoviePy] Writing audio in 6H4VsHbynQc__1082__1084TEMP_MPY_wvf_snd.mp4\n"
     ]
    },
    {
     "name": "stderr",
     "output_type": "stream",
     "text": [
      "100%|██████████| 45/45 [00:00<00:00, 194.11it/s]"
     ]
    },
    {
     "name": "stdout",
     "output_type": "stream",
     "text": [
      "[MoviePy] Done.\n",
      "[MoviePy] Writing video ./clip/6H4VsHbynQc__1082__1084.mp4\n"
     ]
    },
    {
     "name": "stderr",
     "output_type": "stream",
     "text": [
      "\n",
      "100%|██████████| 60/60 [00:00<00:00, 297.62it/s]\n"
     ]
    },
    {
     "name": "stdout",
     "output_type": "stream",
     "text": [
      "[MoviePy] Done.\n",
      "[MoviePy] >>>> Video ready: ./clip/6H4VsHbynQc__1082__1084.mp4 \n",
      "\n",
      "[MoviePy] >>>> Building video ./clip/6H4VsHbynQc__1084__1086.mp4\n",
      "[MoviePy] Writing audio in 6H4VsHbynQc__1084__1086TEMP_MPY_wvf_snd.mp4\n"
     ]
    },
    {
     "name": "stderr",
     "output_type": "stream",
     "text": [
      "100%|██████████| 45/45 [00:00<00:00, 195.89it/s]"
     ]
    },
    {
     "name": "stdout",
     "output_type": "stream",
     "text": [
      "[MoviePy] Done.\n",
      "[MoviePy] Writing video ./clip/6H4VsHbynQc__1084__1086.mp4\n"
     ]
    },
    {
     "name": "stderr",
     "output_type": "stream",
     "text": [
      "\n",
      "100%|██████████| 60/60 [00:00<00:00, 307.96it/s]\n"
     ]
    },
    {
     "name": "stdout",
     "output_type": "stream",
     "text": [
      "[MoviePy] Done.\n",
      "[MoviePy] >>>> Video ready: ./clip/6H4VsHbynQc__1084__1086.mp4 \n",
      "\n",
      "[MoviePy] >>>> Building video ./clip/6H4VsHbynQc__1086__1088.mp4\n",
      "[MoviePy] Writing audio in 6H4VsHbynQc__1086__1088TEMP_MPY_wvf_snd.mp4\n"
     ]
    },
    {
     "name": "stderr",
     "output_type": "stream",
     "text": [
      "100%|██████████| 45/45 [00:00<00:00, 189.41it/s]"
     ]
    },
    {
     "name": "stdout",
     "output_type": "stream",
     "text": [
      "[MoviePy] Done.\n",
      "[MoviePy] Writing video ./clip/6H4VsHbynQc__1086__1088.mp4\n"
     ]
    },
    {
     "name": "stderr",
     "output_type": "stream",
     "text": [
      "\n",
      "100%|██████████| 60/60 [00:00<00:00, 318.39it/s]\n"
     ]
    },
    {
     "name": "stdout",
     "output_type": "stream",
     "text": [
      "[MoviePy] Done.\n",
      "[MoviePy] >>>> Video ready: ./clip/6H4VsHbynQc__1086__1088.mp4 \n",
      "\n",
      "[MoviePy] >>>> Building video ./clip/6H4VsHbynQc__1088__1090.mp4\n",
      "[MoviePy] Writing audio in 6H4VsHbynQc__1088__1090TEMP_MPY_wvf_snd.mp4\n"
     ]
    },
    {
     "name": "stderr",
     "output_type": "stream",
     "text": [
      "100%|██████████| 45/45 [00:00<00:00, 207.55it/s]"
     ]
    },
    {
     "name": "stdout",
     "output_type": "stream",
     "text": [
      "[MoviePy] Done.\n",
      "[MoviePy] Writing video ./clip/6H4VsHbynQc__1088__1090.mp4\n"
     ]
    },
    {
     "name": "stderr",
     "output_type": "stream",
     "text": [
      "\n",
      "100%|██████████| 60/60 [00:00<00:00, 315.50it/s]\n"
     ]
    },
    {
     "name": "stdout",
     "output_type": "stream",
     "text": [
      "[MoviePy] Done.\n",
      "[MoviePy] >>>> Video ready: ./clip/6H4VsHbynQc__1088__1090.mp4 \n",
      "\n",
      "[MoviePy] >>>> Building video ./clip/6H4VsHbynQc__1090__1092.mp4\n",
      "[MoviePy] Writing audio in 6H4VsHbynQc__1090__1092TEMP_MPY_wvf_snd.mp4\n"
     ]
    },
    {
     "name": "stderr",
     "output_type": "stream",
     "text": [
      "100%|██████████| 45/45 [00:00<00:00, 200.59it/s]"
     ]
    },
    {
     "name": "stdout",
     "output_type": "stream",
     "text": [
      "[MoviePy] Done.\n",
      "[MoviePy] Writing video ./clip/6H4VsHbynQc__1090__1092.mp4\n"
     ]
    },
    {
     "name": "stderr",
     "output_type": "stream",
     "text": [
      "\n",
      "100%|██████████| 60/60 [00:00<00:00, 293.40it/s]\n"
     ]
    },
    {
     "name": "stdout",
     "output_type": "stream",
     "text": [
      "[MoviePy] Done.\n",
      "[MoviePy] >>>> Video ready: ./clip/6H4VsHbynQc__1090__1092.mp4 \n",
      "\n",
      "[MoviePy] >>>> Building video ./clip/6H4VsHbynQc__1092__1094.mp4\n",
      "[MoviePy] Writing audio in 6H4VsHbynQc__1092__1094TEMP_MPY_wvf_snd.mp4\n"
     ]
    },
    {
     "name": "stderr",
     "output_type": "stream",
     "text": [
      "100%|██████████| 45/45 [00:00<00:00, 203.86it/s]"
     ]
    },
    {
     "name": "stdout",
     "output_type": "stream",
     "text": [
      "[MoviePy] Done.\n",
      "[MoviePy] Writing video ./clip/6H4VsHbynQc__1092__1094.mp4\n"
     ]
    },
    {
     "name": "stderr",
     "output_type": "stream",
     "text": [
      "\n",
      "100%|██████████| 60/60 [00:00<00:00, 284.80it/s]\n"
     ]
    },
    {
     "name": "stdout",
     "output_type": "stream",
     "text": [
      "[MoviePy] Done.\n",
      "[MoviePy] >>>> Video ready: ./clip/6H4VsHbynQc__1092__1094.mp4 \n",
      "\n",
      "[MoviePy] >>>> Building video ./clip/6H4VsHbynQc__1094__1096.mp4\n",
      "[MoviePy] Writing audio in 6H4VsHbynQc__1094__1096TEMP_MPY_wvf_snd.mp4\n"
     ]
    },
    {
     "name": "stderr",
     "output_type": "stream",
     "text": [
      "100%|██████████| 45/45 [00:00<00:00, 181.40it/s]"
     ]
    },
    {
     "name": "stdout",
     "output_type": "stream",
     "text": [
      "[MoviePy] Done.\n",
      "[MoviePy] Writing video ./clip/6H4VsHbynQc__1094__1096.mp4\n"
     ]
    },
    {
     "name": "stderr",
     "output_type": "stream",
     "text": [
      "\n",
      "100%|██████████| 60/60 [00:00<00:00, 300.44it/s]\n"
     ]
    },
    {
     "name": "stdout",
     "output_type": "stream",
     "text": [
      "[MoviePy] Done.\n",
      "[MoviePy] >>>> Video ready: ./clip/6H4VsHbynQc__1094__1096.mp4 \n",
      "\n",
      "[MoviePy] >>>> Building video ./clip/6H4VsHbynQc__1096__1098.mp4\n",
      "[MoviePy] Writing audio in 6H4VsHbynQc__1096__1098TEMP_MPY_wvf_snd.mp4\n"
     ]
    },
    {
     "name": "stderr",
     "output_type": "stream",
     "text": [
      "100%|██████████| 45/45 [00:00<00:00, 184.68it/s]"
     ]
    },
    {
     "name": "stdout",
     "output_type": "stream",
     "text": [
      "[MoviePy] Done.\n",
      "[MoviePy] Writing video ./clip/6H4VsHbynQc__1096__1098.mp4\n"
     ]
    },
    {
     "name": "stderr",
     "output_type": "stream",
     "text": [
      "\n",
      "100%|██████████| 60/60 [00:00<00:00, 307.72it/s]\n"
     ]
    },
    {
     "name": "stdout",
     "output_type": "stream",
     "text": [
      "[MoviePy] Done.\n",
      "[MoviePy] >>>> Video ready: ./clip/6H4VsHbynQc__1096__1098.mp4 \n",
      "\n",
      "[MoviePy] >>>> Building video ./clip/6H4VsHbynQc__1098__1100.mp4\n",
      "[MoviePy] Writing audio in 6H4VsHbynQc__1098__1100TEMP_MPY_wvf_snd.mp4\n"
     ]
    },
    {
     "name": "stderr",
     "output_type": "stream",
     "text": [
      "100%|██████████| 45/45 [00:00<00:00, 187.01it/s]"
     ]
    },
    {
     "name": "stdout",
     "output_type": "stream",
     "text": [
      "[MoviePy] Done.\n",
      "[MoviePy] Writing video ./clip/6H4VsHbynQc__1098__1100.mp4\n"
     ]
    },
    {
     "name": "stderr",
     "output_type": "stream",
     "text": [
      "\n",
      "100%|██████████| 60/60 [00:00<00:00, 313.08it/s]\n"
     ]
    },
    {
     "name": "stdout",
     "output_type": "stream",
     "text": [
      "[MoviePy] Done.\n",
      "[MoviePy] >>>> Video ready: ./clip/6H4VsHbynQc__1098__1100.mp4 \n",
      "\n",
      "[MoviePy] >>>> Building video ./clip/6H4VsHbynQc__1100__1102.mp4\n",
      "[MoviePy] Writing audio in 6H4VsHbynQc__1100__1102TEMP_MPY_wvf_snd.mp4\n"
     ]
    },
    {
     "name": "stderr",
     "output_type": "stream",
     "text": [
      "100%|██████████| 45/45 [00:00<00:00, 173.92it/s]"
     ]
    },
    {
     "name": "stdout",
     "output_type": "stream",
     "text": [
      "[MoviePy] Done.\n",
      "[MoviePy] Writing video ./clip/6H4VsHbynQc__1100__1102.mp4\n"
     ]
    },
    {
     "name": "stderr",
     "output_type": "stream",
     "text": [
      "\n",
      "100%|██████████| 60/60 [00:00<00:00, 277.67it/s]\n"
     ]
    },
    {
     "name": "stdout",
     "output_type": "stream",
     "text": [
      "[MoviePy] Done.\n",
      "[MoviePy] >>>> Video ready: ./clip/6H4VsHbynQc__1100__1102.mp4 \n",
      "\n",
      "[MoviePy] >>>> Building video ./clip/6H4VsHbynQc__1102__1104.mp4\n",
      "[MoviePy] Writing audio in 6H4VsHbynQc__1102__1104TEMP_MPY_wvf_snd.mp4\n"
     ]
    },
    {
     "name": "stderr",
     "output_type": "stream",
     "text": [
      "100%|██████████| 45/45 [00:00<00:00, 190.18it/s]"
     ]
    },
    {
     "name": "stdout",
     "output_type": "stream",
     "text": [
      "[MoviePy] Done.\n",
      "[MoviePy] Writing video ./clip/6H4VsHbynQc__1102__1104.mp4\n"
     ]
    },
    {
     "name": "stderr",
     "output_type": "stream",
     "text": [
      "\n",
      "100%|██████████| 60/60 [00:00<00:00, 280.89it/s]\n"
     ]
    },
    {
     "name": "stdout",
     "output_type": "stream",
     "text": [
      "[MoviePy] Done.\n",
      "[MoviePy] >>>> Video ready: ./clip/6H4VsHbynQc__1102__1104.mp4 \n",
      "\n",
      "[MoviePy] >>>> Building video ./clip/6H4VsHbynQc__1104__1106.mp4\n",
      "[MoviePy] Writing audio in 6H4VsHbynQc__1104__1106TEMP_MPY_wvf_snd.mp4\n"
     ]
    },
    {
     "name": "stderr",
     "output_type": "stream",
     "text": [
      "100%|██████████| 45/45 [00:00<00:00, 184.96it/s]"
     ]
    },
    {
     "name": "stdout",
     "output_type": "stream",
     "text": [
      "[MoviePy] Done.\n",
      "[MoviePy] Writing video ./clip/6H4VsHbynQc__1104__1106.mp4\n"
     ]
    },
    {
     "name": "stderr",
     "output_type": "stream",
     "text": [
      "\n",
      "100%|██████████| 60/60 [00:00<00:00, 302.49it/s]\n"
     ]
    },
    {
     "name": "stdout",
     "output_type": "stream",
     "text": [
      "[MoviePy] Done.\n",
      "[MoviePy] >>>> Video ready: ./clip/6H4VsHbynQc__1104__1106.mp4 \n",
      "\n",
      "[MoviePy] >>>> Building video ./clip/6H4VsHbynQc__1106__1108.mp4\n",
      "[MoviePy] Writing audio in 6H4VsHbynQc__1106__1108TEMP_MPY_wvf_snd.mp4\n"
     ]
    },
    {
     "name": "stderr",
     "output_type": "stream",
     "text": [
      "100%|██████████| 45/45 [00:00<00:00, 199.95it/s]"
     ]
    },
    {
     "name": "stdout",
     "output_type": "stream",
     "text": [
      "[MoviePy] Done.\n",
      "[MoviePy] Writing video ./clip/6H4VsHbynQc__1106__1108.mp4\n"
     ]
    },
    {
     "name": "stderr",
     "output_type": "stream",
     "text": [
      "\n",
      "100%|██████████| 60/60 [00:00<00:00, 283.95it/s]\n"
     ]
    },
    {
     "name": "stdout",
     "output_type": "stream",
     "text": [
      "[MoviePy] Done.\n",
      "[MoviePy] >>>> Video ready: ./clip/6H4VsHbynQc__1106__1108.mp4 \n",
      "\n",
      "[MoviePy] >>>> Building video ./clip/6H4VsHbynQc__1108__1110.mp4\n",
      "[MoviePy] Writing audio in 6H4VsHbynQc__1108__1110TEMP_MPY_wvf_snd.mp4\n"
     ]
    },
    {
     "name": "stderr",
     "output_type": "stream",
     "text": [
      "100%|██████████| 45/45 [00:00<00:00, 185.77it/s]"
     ]
    },
    {
     "name": "stdout",
     "output_type": "stream",
     "text": [
      "[MoviePy] Done.\n",
      "[MoviePy] Writing video ./clip/6H4VsHbynQc__1108__1110.mp4\n"
     ]
    },
    {
     "name": "stderr",
     "output_type": "stream",
     "text": [
      "\n",
      "100%|██████████| 60/60 [00:00<00:00, 279.19it/s]\n"
     ]
    },
    {
     "name": "stdout",
     "output_type": "stream",
     "text": [
      "[MoviePy] Done.\n",
      "[MoviePy] >>>> Video ready: ./clip/6H4VsHbynQc__1108__1110.mp4 \n",
      "\n",
      "[MoviePy] >>>> Building video ./clip/6H4VsHbynQc__1110__1112.mp4\n",
      "[MoviePy] Writing audio in 6H4VsHbynQc__1110__1112TEMP_MPY_wvf_snd.mp4\n"
     ]
    },
    {
     "name": "stderr",
     "output_type": "stream",
     "text": [
      "100%|██████████| 45/45 [00:00<00:00, 187.63it/s]"
     ]
    },
    {
     "name": "stdout",
     "output_type": "stream",
     "text": [
      "[MoviePy] Done.\n",
      "[MoviePy] Writing video ./clip/6H4VsHbynQc__1110__1112.mp4\n"
     ]
    },
    {
     "name": "stderr",
     "output_type": "stream",
     "text": [
      "\n",
      "100%|██████████| 60/60 [00:00<00:00, 243.17it/s]\n"
     ]
    },
    {
     "name": "stdout",
     "output_type": "stream",
     "text": [
      "[MoviePy] Done.\n",
      "[MoviePy] >>>> Video ready: ./clip/6H4VsHbynQc__1110__1112.mp4 \n",
      "\n",
      "[MoviePy] >>>> Building video ./clip/6H4VsHbynQc__1112__1114.mp4\n",
      "[MoviePy] Writing audio in 6H4VsHbynQc__1112__1114TEMP_MPY_wvf_snd.mp4\n"
     ]
    },
    {
     "name": "stderr",
     "output_type": "stream",
     "text": [
      "100%|██████████| 45/45 [00:00<00:00, 202.41it/s]"
     ]
    },
    {
     "name": "stdout",
     "output_type": "stream",
     "text": [
      "[MoviePy] Done.\n",
      "[MoviePy] Writing video ./clip/6H4VsHbynQc__1112__1114.mp4\n"
     ]
    },
    {
     "name": "stderr",
     "output_type": "stream",
     "text": [
      "\n",
      "100%|██████████| 60/60 [00:00<00:00, 241.64it/s]\n"
     ]
    },
    {
     "name": "stdout",
     "output_type": "stream",
     "text": [
      "[MoviePy] Done.\n",
      "[MoviePy] >>>> Video ready: ./clip/6H4VsHbynQc__1112__1114.mp4 \n",
      "\n",
      "[MoviePy] >>>> Building video ./clip/6H4VsHbynQc__1114__1116.mp4\n",
      "[MoviePy] Writing audio in 6H4VsHbynQc__1114__1116TEMP_MPY_wvf_snd.mp4\n"
     ]
    },
    {
     "name": "stderr",
     "output_type": "stream",
     "text": [
      "100%|██████████| 45/45 [00:00<00:00, 185.27it/s]"
     ]
    },
    {
     "name": "stdout",
     "output_type": "stream",
     "text": [
      "[MoviePy] Done.\n",
      "[MoviePy] Writing video ./clip/6H4VsHbynQc__1114__1116.mp4\n"
     ]
    },
    {
     "name": "stderr",
     "output_type": "stream",
     "text": [
      "\n",
      "100%|██████████| 60/60 [00:00<00:00, 271.99it/s]\n"
     ]
    },
    {
     "name": "stdout",
     "output_type": "stream",
     "text": [
      "[MoviePy] Done.\n",
      "[MoviePy] >>>> Video ready: ./clip/6H4VsHbynQc__1114__1116.mp4 \n",
      "\n",
      "[MoviePy] >>>> Building video ./clip/6H4VsHbynQc__1116__1118.mp4\n",
      "[MoviePy] Writing audio in 6H4VsHbynQc__1116__1118TEMP_MPY_wvf_snd.mp4\n"
     ]
    },
    {
     "name": "stderr",
     "output_type": "stream",
     "text": [
      "100%|██████████| 45/45 [00:00<00:00, 186.89it/s]"
     ]
    },
    {
     "name": "stdout",
     "output_type": "stream",
     "text": [
      "[MoviePy] Done.\n",
      "[MoviePy] Writing video ./clip/6H4VsHbynQc__1116__1118.mp4\n"
     ]
    },
    {
     "name": "stderr",
     "output_type": "stream",
     "text": [
      "\n",
      "100%|██████████| 60/60 [00:00<00:00, 292.05it/s]\n"
     ]
    },
    {
     "name": "stdout",
     "output_type": "stream",
     "text": [
      "[MoviePy] Done.\n",
      "[MoviePy] >>>> Video ready: ./clip/6H4VsHbynQc__1116__1118.mp4 \n",
      "\n",
      "[MoviePy] >>>> Building video ./clip/6H4VsHbynQc__1118__1120.mp4\n",
      "[MoviePy] Writing audio in 6H4VsHbynQc__1118__1120TEMP_MPY_wvf_snd.mp4\n"
     ]
    },
    {
     "name": "stderr",
     "output_type": "stream",
     "text": [
      "100%|██████████| 45/45 [00:00<00:00, 235.97it/s]\n"
     ]
    },
    {
     "name": "stdout",
     "output_type": "stream",
     "text": [
      "[MoviePy] Done.\n",
      "[MoviePy] Writing video ./clip/6H4VsHbynQc__1118__1120.mp4\n"
     ]
    },
    {
     "name": "stderr",
     "output_type": "stream",
     "text": [
      "100%|██████████| 60/60 [00:00<00:00, 273.11it/s]\n"
     ]
    },
    {
     "name": "stdout",
     "output_type": "stream",
     "text": [
      "[MoviePy] Done.\n",
      "[MoviePy] >>>> Video ready: ./clip/6H4VsHbynQc__1118__1120.mp4 \n",
      "\n",
      "[MoviePy] >>>> Building video ./clip/6H4VsHbynQc__1120__1122.mp4\n",
      "[MoviePy] Writing audio in 6H4VsHbynQc__1120__1122TEMP_MPY_wvf_snd.mp4\n"
     ]
    },
    {
     "name": "stderr",
     "output_type": "stream",
     "text": [
      "100%|██████████| 45/45 [00:00<00:00, 183.94it/s]"
     ]
    },
    {
     "name": "stdout",
     "output_type": "stream",
     "text": [
      "[MoviePy] Done.\n",
      "[MoviePy] Writing video ./clip/6H4VsHbynQc__1120__1122.mp4\n"
     ]
    },
    {
     "name": "stderr",
     "output_type": "stream",
     "text": [
      "\n",
      "100%|██████████| 60/60 [00:00<00:00, 265.34it/s]\n"
     ]
    },
    {
     "name": "stdout",
     "output_type": "stream",
     "text": [
      "[MoviePy] Done.\n",
      "[MoviePy] >>>> Video ready: ./clip/6H4VsHbynQc__1120__1122.mp4 \n",
      "\n",
      "[MoviePy] >>>> Building video ./clip/6H4VsHbynQc__1122__1124.mp4\n",
      "[MoviePy] Writing audio in 6H4VsHbynQc__1122__1124TEMP_MPY_wvf_snd.mp4\n"
     ]
    },
    {
     "name": "stderr",
     "output_type": "stream",
     "text": [
      "100%|██████████| 45/45 [00:00<00:00, 182.95it/s]"
     ]
    },
    {
     "name": "stdout",
     "output_type": "stream",
     "text": [
      "[MoviePy] Done.\n",
      "[MoviePy] Writing video ./clip/6H4VsHbynQc__1122__1124.mp4\n"
     ]
    },
    {
     "name": "stderr",
     "output_type": "stream",
     "text": [
      "\n",
      "100%|██████████| 60/60 [00:00<00:00, 284.68it/s]\n"
     ]
    },
    {
     "name": "stdout",
     "output_type": "stream",
     "text": [
      "[MoviePy] Done.\n",
      "[MoviePy] >>>> Video ready: ./clip/6H4VsHbynQc__1122__1124.mp4 \n",
      "\n",
      "[MoviePy] >>>> Building video ./clip/6H4VsHbynQc__1124__1126.mp4\n",
      "[MoviePy] Writing audio in 6H4VsHbynQc__1124__1126TEMP_MPY_wvf_snd.mp4\n"
     ]
    },
    {
     "name": "stderr",
     "output_type": "stream",
     "text": [
      "100%|██████████| 45/45 [00:00<00:00, 165.07it/s]"
     ]
    },
    {
     "name": "stdout",
     "output_type": "stream",
     "text": [
      "[MoviePy] Done.\n",
      "[MoviePy] Writing video ./clip/6H4VsHbynQc__1124__1126.mp4\n"
     ]
    },
    {
     "name": "stderr",
     "output_type": "stream",
     "text": [
      "\n",
      "100%|██████████| 60/60 [00:00<00:00, 262.28it/s]\n"
     ]
    },
    {
     "name": "stdout",
     "output_type": "stream",
     "text": [
      "[MoviePy] Done.\n",
      "[MoviePy] >>>> Video ready: ./clip/6H4VsHbynQc__1124__1126.mp4 \n",
      "\n",
      "[MoviePy] >>>> Building video ./clip/6H4VsHbynQc__1126__1128.mp4\n",
      "[MoviePy] Writing audio in 6H4VsHbynQc__1126__1128TEMP_MPY_wvf_snd.mp4\n"
     ]
    },
    {
     "name": "stderr",
     "output_type": "stream",
     "text": [
      "100%|██████████| 45/45 [00:00<00:00, 182.95it/s]"
     ]
    },
    {
     "name": "stdout",
     "output_type": "stream",
     "text": [
      "[MoviePy] Done.\n",
      "[MoviePy] Writing video ./clip/6H4VsHbynQc__1126__1128.mp4\n"
     ]
    },
    {
     "name": "stderr",
     "output_type": "stream",
     "text": [
      "\n",
      "100%|██████████| 60/60 [00:00<00:00, 282.12it/s]\n"
     ]
    },
    {
     "name": "stdout",
     "output_type": "stream",
     "text": [
      "[MoviePy] Done.\n",
      "[MoviePy] >>>> Video ready: ./clip/6H4VsHbynQc__1126__1128.mp4 \n",
      "\n",
      "[MoviePy] >>>> Building video ./clip/6H4VsHbynQc__1128__1130.mp4\n",
      "[MoviePy] Writing audio in 6H4VsHbynQc__1128__1130TEMP_MPY_wvf_snd.mp4\n"
     ]
    },
    {
     "name": "stderr",
     "output_type": "stream",
     "text": [
      "100%|██████████| 45/45 [00:00<00:00, 178.98it/s]"
     ]
    },
    {
     "name": "stdout",
     "output_type": "stream",
     "text": [
      "[MoviePy] Done.\n",
      "[MoviePy] Writing video ./clip/6H4VsHbynQc__1128__1130.mp4\n"
     ]
    },
    {
     "name": "stderr",
     "output_type": "stream",
     "text": [
      "\n",
      "100%|██████████| 60/60 [00:00<00:00, 300.82it/s]\n"
     ]
    },
    {
     "name": "stdout",
     "output_type": "stream",
     "text": [
      "[MoviePy] Done.\n",
      "[MoviePy] >>>> Video ready: ./clip/6H4VsHbynQc__1128__1130.mp4 \n",
      "\n",
      "[MoviePy] >>>> Building video ./clip/6H4VsHbynQc__1130__1132.mp4\n",
      "[MoviePy] Writing audio in 6H4VsHbynQc__1130__1132TEMP_MPY_wvf_snd.mp4\n"
     ]
    },
    {
     "name": "stderr",
     "output_type": "stream",
     "text": [
      "100%|██████████| 45/45 [00:00<00:00, 197.35it/s]"
     ]
    },
    {
     "name": "stdout",
     "output_type": "stream",
     "text": [
      "[MoviePy] Done.\n",
      "[MoviePy] Writing video ./clip/6H4VsHbynQc__1130__1132.mp4\n"
     ]
    },
    {
     "name": "stderr",
     "output_type": "stream",
     "text": [
      "\n",
      "100%|██████████| 60/60 [00:00<00:00, 274.03it/s]\n"
     ]
    },
    {
     "name": "stdout",
     "output_type": "stream",
     "text": [
      "[MoviePy] Done.\n",
      "[MoviePy] >>>> Video ready: ./clip/6H4VsHbynQc__1130__1132.mp4 \n",
      "\n",
      "[MoviePy] >>>> Building video ./clip/6H4VsHbynQc__1132__1134.mp4\n",
      "[MoviePy] Writing audio in 6H4VsHbynQc__1132__1134TEMP_MPY_wvf_snd.mp4\n"
     ]
    },
    {
     "name": "stderr",
     "output_type": "stream",
     "text": [
      "100%|██████████| 45/45 [00:00<00:00, 193.32it/s]"
     ]
    },
    {
     "name": "stdout",
     "output_type": "stream",
     "text": [
      "[MoviePy] Done.\n",
      "[MoviePy] Writing video ./clip/6H4VsHbynQc__1132__1134.mp4\n"
     ]
    },
    {
     "name": "stderr",
     "output_type": "stream",
     "text": [
      "\n",
      "100%|██████████| 60/60 [00:00<00:00, 280.65it/s]\n"
     ]
    },
    {
     "name": "stdout",
     "output_type": "stream",
     "text": [
      "[MoviePy] Done.\n",
      "[MoviePy] >>>> Video ready: ./clip/6H4VsHbynQc__1132__1134.mp4 \n",
      "\n",
      "[MoviePy] >>>> Building video ./clip/6H4VsHbynQc__1134__1136.mp4\n",
      "[MoviePy] Writing audio in 6H4VsHbynQc__1134__1136TEMP_MPY_wvf_snd.mp4\n"
     ]
    },
    {
     "name": "stderr",
     "output_type": "stream",
     "text": [
      "100%|██████████| 45/45 [00:00<00:00, 191.06it/s]"
     ]
    },
    {
     "name": "stdout",
     "output_type": "stream",
     "text": [
      "[MoviePy] Done.\n",
      "[MoviePy] Writing video ./clip/6H4VsHbynQc__1134__1136.mp4\n"
     ]
    },
    {
     "name": "stderr",
     "output_type": "stream",
     "text": [
      "\n",
      "100%|██████████| 60/60 [00:00<00:00, 266.03it/s]\n"
     ]
    },
    {
     "name": "stdout",
     "output_type": "stream",
     "text": [
      "[MoviePy] Done.\n",
      "[MoviePy] >>>> Video ready: ./clip/6H4VsHbynQc__1134__1136.mp4 \n",
      "\n",
      "[MoviePy] >>>> Building video ./clip/6H4VsHbynQc__1136__1138.mp4\n",
      "[MoviePy] Writing audio in 6H4VsHbynQc__1136__1138TEMP_MPY_wvf_snd.mp4\n"
     ]
    },
    {
     "name": "stderr",
     "output_type": "stream",
     "text": [
      "100%|██████████| 45/45 [00:00<00:00, 175.72it/s]"
     ]
    },
    {
     "name": "stdout",
     "output_type": "stream",
     "text": [
      "[MoviePy] Done.\n",
      "[MoviePy] Writing video ./clip/6H4VsHbynQc__1136__1138.mp4\n"
     ]
    },
    {
     "name": "stderr",
     "output_type": "stream",
     "text": [
      "\n",
      "100%|██████████| 60/60 [00:00<00:00, 258.79it/s]\n"
     ]
    },
    {
     "name": "stdout",
     "output_type": "stream",
     "text": [
      "[MoviePy] Done.\n",
      "[MoviePy] >>>> Video ready: ./clip/6H4VsHbynQc__1136__1138.mp4 \n",
      "\n",
      "[MoviePy] >>>> Building video ./clip/6H4VsHbynQc__1138__1140.mp4\n",
      "[MoviePy] Writing audio in 6H4VsHbynQc__1138__1140TEMP_MPY_wvf_snd.mp4\n"
     ]
    },
    {
     "name": "stderr",
     "output_type": "stream",
     "text": [
      "100%|██████████| 45/45 [00:00<00:00, 182.87it/s]"
     ]
    },
    {
     "name": "stdout",
     "output_type": "stream",
     "text": [
      "[MoviePy] Done.\n",
      "[MoviePy] Writing video ./clip/6H4VsHbynQc__1138__1140.mp4\n"
     ]
    },
    {
     "name": "stderr",
     "output_type": "stream",
     "text": [
      "\n",
      "100%|██████████| 60/60 [00:00<00:00, 282.74it/s]\n"
     ]
    },
    {
     "name": "stdout",
     "output_type": "stream",
     "text": [
      "[MoviePy] Done.\n",
      "[MoviePy] >>>> Video ready: ./clip/6H4VsHbynQc__1138__1140.mp4 \n",
      "\n",
      "[MoviePy] >>>> Building video ./clip/6H4VsHbynQc__1140__1142.mp4\n",
      "[MoviePy] Writing audio in 6H4VsHbynQc__1140__1142TEMP_MPY_wvf_snd.mp4\n"
     ]
    },
    {
     "name": "stderr",
     "output_type": "stream",
     "text": [
      "100%|██████████| 45/45 [00:00<00:00, 179.45it/s]"
     ]
    },
    {
     "name": "stdout",
     "output_type": "stream",
     "text": [
      "[MoviePy] Done.\n",
      "[MoviePy] Writing video ./clip/6H4VsHbynQc__1140__1142.mp4\n"
     ]
    },
    {
     "name": "stderr",
     "output_type": "stream",
     "text": [
      "\n",
      "100%|██████████| 60/60 [00:00<00:00, 282.37it/s]\n"
     ]
    },
    {
     "name": "stdout",
     "output_type": "stream",
     "text": [
      "[MoviePy] Done.\n",
      "[MoviePy] >>>> Video ready: ./clip/6H4VsHbynQc__1140__1142.mp4 \n",
      "\n",
      "[MoviePy] >>>> Building video ./clip/6H4VsHbynQc__1142__1144.mp4\n",
      "[MoviePy] Writing audio in 6H4VsHbynQc__1142__1144TEMP_MPY_wvf_snd.mp4\n"
     ]
    },
    {
     "name": "stderr",
     "output_type": "stream",
     "text": [
      "100%|██████████| 45/45 [00:00<00:00, 192.14it/s]"
     ]
    },
    {
     "name": "stdout",
     "output_type": "stream",
     "text": [
      "[MoviePy] Done.\n",
      "[MoviePy] Writing video ./clip/6H4VsHbynQc__1142__1144.mp4\n"
     ]
    },
    {
     "name": "stderr",
     "output_type": "stream",
     "text": [
      "\n",
      "100%|██████████| 60/60 [00:00<00:00, 298.94it/s]\n"
     ]
    },
    {
     "name": "stdout",
     "output_type": "stream",
     "text": [
      "[MoviePy] Done.\n",
      "[MoviePy] >>>> Video ready: ./clip/6H4VsHbynQc__1142__1144.mp4 \n",
      "\n",
      "[MoviePy] >>>> Building video ./clip/6H4VsHbynQc__1144__1146.mp4\n",
      "[MoviePy] Writing audio in 6H4VsHbynQc__1144__1146TEMP_MPY_wvf_snd.mp4\n"
     ]
    },
    {
     "name": "stderr",
     "output_type": "stream",
     "text": [
      "100%|██████████| 45/45 [00:00<00:00, 204.99it/s]"
     ]
    },
    {
     "name": "stdout",
     "output_type": "stream",
     "text": [
      "[MoviePy] Done.\n",
      "[MoviePy] Writing video ./clip/6H4VsHbynQc__1144__1146.mp4\n"
     ]
    },
    {
     "name": "stderr",
     "output_type": "stream",
     "text": [
      "\n",
      "100%|██████████| 60/60 [00:00<00:00, 290.22it/s]\n"
     ]
    },
    {
     "name": "stdout",
     "output_type": "stream",
     "text": [
      "[MoviePy] Done.\n",
      "[MoviePy] >>>> Video ready: ./clip/6H4VsHbynQc__1144__1146.mp4 \n",
      "\n",
      "[MoviePy] >>>> Building video ./clip/6H4VsHbynQc__1146__1148.mp4\n",
      "[MoviePy] Writing audio in 6H4VsHbynQc__1146__1148TEMP_MPY_wvf_snd.mp4\n"
     ]
    },
    {
     "name": "stderr",
     "output_type": "stream",
     "text": [
      "100%|██████████| 45/45 [00:00<00:00, 182.83it/s]"
     ]
    },
    {
     "name": "stdout",
     "output_type": "stream",
     "text": [
      "[MoviePy] Done.\n",
      "[MoviePy] Writing video ./clip/6H4VsHbynQc__1146__1148.mp4\n"
     ]
    },
    {
     "name": "stderr",
     "output_type": "stream",
     "text": [
      "\n",
      "100%|██████████| 60/60 [00:00<00:00, 301.09it/s]\n"
     ]
    },
    {
     "name": "stdout",
     "output_type": "stream",
     "text": [
      "[MoviePy] Done.\n",
      "[MoviePy] >>>> Video ready: ./clip/6H4VsHbynQc__1146__1148.mp4 \n",
      "\n",
      "[MoviePy] >>>> Building video ./clip/6H4VsHbynQc__1148__1150.mp4\n",
      "[MoviePy] Writing audio in 6H4VsHbynQc__1148__1150TEMP_MPY_wvf_snd.mp4\n"
     ]
    },
    {
     "name": "stderr",
     "output_type": "stream",
     "text": [
      "100%|██████████| 45/45 [00:00<00:00, 192.65it/s]"
     ]
    },
    {
     "name": "stdout",
     "output_type": "stream",
     "text": [
      "[MoviePy] Done.\n",
      "[MoviePy] Writing video ./clip/6H4VsHbynQc__1148__1150.mp4\n"
     ]
    },
    {
     "name": "stderr",
     "output_type": "stream",
     "text": [
      "\n",
      "100%|██████████| 60/60 [00:00<00:00, 293.10it/s]\n"
     ]
    },
    {
     "name": "stdout",
     "output_type": "stream",
     "text": [
      "[MoviePy] Done.\n",
      "[MoviePy] >>>> Video ready: ./clip/6H4VsHbynQc__1148__1150.mp4 \n",
      "\n",
      "[MoviePy] >>>> Building video ./clip/6H4VsHbynQc__1150__1152.mp4\n",
      "[MoviePy] Writing audio in 6H4VsHbynQc__1150__1152TEMP_MPY_wvf_snd.mp4\n"
     ]
    },
    {
     "name": "stderr",
     "output_type": "stream",
     "text": [
      "100%|██████████| 45/45 [00:00<00:00, 193.45it/s]"
     ]
    },
    {
     "name": "stdout",
     "output_type": "stream",
     "text": [
      "[MoviePy] Done.\n",
      "[MoviePy] Writing video ./clip/6H4VsHbynQc__1150__1152.mp4\n"
     ]
    },
    {
     "name": "stderr",
     "output_type": "stream",
     "text": [
      "\n",
      "100%|██████████| 60/60 [00:00<00:00, 261.10it/s]\n"
     ]
    },
    {
     "name": "stdout",
     "output_type": "stream",
     "text": [
      "[MoviePy] Done.\n",
      "[MoviePy] >>>> Video ready: ./clip/6H4VsHbynQc__1150__1152.mp4 \n",
      "\n",
      "[MoviePy] >>>> Building video ./clip/6H4VsHbynQc__1152__1154.mp4\n",
      "[MoviePy] Writing audio in 6H4VsHbynQc__1152__1154TEMP_MPY_wvf_snd.mp4\n"
     ]
    },
    {
     "name": "stderr",
     "output_type": "stream",
     "text": [
      "100%|██████████| 45/45 [00:00<00:00, 186.14it/s]"
     ]
    },
    {
     "name": "stdout",
     "output_type": "stream",
     "text": [
      "[MoviePy] Done.\n",
      "[MoviePy] Writing video ./clip/6H4VsHbynQc__1152__1154.mp4\n"
     ]
    },
    {
     "name": "stderr",
     "output_type": "stream",
     "text": [
      "\n",
      "100%|██████████| 60/60 [00:00<00:00, 284.64it/s]\n"
     ]
    },
    {
     "name": "stdout",
     "output_type": "stream",
     "text": [
      "[MoviePy] Done.\n",
      "[MoviePy] >>>> Video ready: ./clip/6H4VsHbynQc__1152__1154.mp4 \n",
      "\n",
      "[MoviePy] >>>> Building video ./clip/6H4VsHbynQc__1154__1156.mp4\n",
      "[MoviePy] Writing audio in 6H4VsHbynQc__1154__1156TEMP_MPY_wvf_snd.mp4\n"
     ]
    },
    {
     "name": "stderr",
     "output_type": "stream",
     "text": [
      "100%|██████████| 45/45 [00:00<00:00, 191.78it/s]"
     ]
    },
    {
     "name": "stdout",
     "output_type": "stream",
     "text": [
      "[MoviePy] Done.\n",
      "[MoviePy] Writing video ./clip/6H4VsHbynQc__1154__1156.mp4\n"
     ]
    },
    {
     "name": "stderr",
     "output_type": "stream",
     "text": [
      "\n",
      "100%|██████████| 60/60 [00:00<00:00, 283.22it/s]\n"
     ]
    },
    {
     "name": "stdout",
     "output_type": "stream",
     "text": [
      "[MoviePy] Done.\n",
      "[MoviePy] >>>> Video ready: ./clip/6H4VsHbynQc__1154__1156.mp4 \n",
      "\n",
      "[MoviePy] >>>> Building video ./clip/6H4VsHbynQc__1156__1158.mp4\n",
      "[MoviePy] Writing audio in 6H4VsHbynQc__1156__1158TEMP_MPY_wvf_snd.mp4\n"
     ]
    },
    {
     "name": "stderr",
     "output_type": "stream",
     "text": [
      "100%|██████████| 45/45 [00:00<00:00, 191.12it/s]"
     ]
    },
    {
     "name": "stdout",
     "output_type": "stream",
     "text": [
      "[MoviePy] Done.\n",
      "[MoviePy] Writing video ./clip/6H4VsHbynQc__1156__1158.mp4\n"
     ]
    },
    {
     "name": "stderr",
     "output_type": "stream",
     "text": [
      "\n",
      "100%|██████████| 60/60 [00:00<00:00, 294.83it/s]\n"
     ]
    },
    {
     "name": "stdout",
     "output_type": "stream",
     "text": [
      "[MoviePy] Done.\n",
      "[MoviePy] >>>> Video ready: ./clip/6H4VsHbynQc__1156__1158.mp4 \n",
      "\n",
      "[MoviePy] >>>> Building video ./clip/6H4VsHbynQc__1158__1160.mp4\n",
      "[MoviePy] Writing audio in 6H4VsHbynQc__1158__1160TEMP_MPY_wvf_snd.mp4\n"
     ]
    },
    {
     "name": "stderr",
     "output_type": "stream",
     "text": [
      "100%|██████████| 45/45 [00:00<00:00, 181.08it/s]"
     ]
    },
    {
     "name": "stdout",
     "output_type": "stream",
     "text": [
      "[MoviePy] Done.\n",
      "[MoviePy] Writing video ./clip/6H4VsHbynQc__1158__1160.mp4\n"
     ]
    },
    {
     "name": "stderr",
     "output_type": "stream",
     "text": [
      "\n",
      "100%|██████████| 60/60 [00:00<00:00, 290.02it/s]\n"
     ]
    },
    {
     "name": "stdout",
     "output_type": "stream",
     "text": [
      "[MoviePy] Done.\n",
      "[MoviePy] >>>> Video ready: ./clip/6H4VsHbynQc__1158__1160.mp4 \n",
      "\n",
      "[MoviePy] >>>> Building video ./clip/6H4VsHbynQc__1160__1162.mp4\n",
      "[MoviePy] Writing audio in 6H4VsHbynQc__1160__1162TEMP_MPY_wvf_snd.mp4\n"
     ]
    },
    {
     "name": "stderr",
     "output_type": "stream",
     "text": [
      "100%|██████████| 45/45 [00:00<00:00, 196.76it/s]"
     ]
    },
    {
     "name": "stdout",
     "output_type": "stream",
     "text": [
      "[MoviePy] Done.\n",
      "[MoviePy] Writing video ./clip/6H4VsHbynQc__1160__1162.mp4\n"
     ]
    },
    {
     "name": "stderr",
     "output_type": "stream",
     "text": [
      "\n",
      "100%|██████████| 60/60 [00:00<00:00, 282.39it/s]\n"
     ]
    },
    {
     "name": "stdout",
     "output_type": "stream",
     "text": [
      "[MoviePy] Done.\n",
      "[MoviePy] >>>> Video ready: ./clip/6H4VsHbynQc__1160__1162.mp4 \n",
      "\n",
      "[MoviePy] >>>> Building video ./clip/6H4VsHbynQc__1162__1164.mp4\n",
      "[MoviePy] Writing audio in 6H4VsHbynQc__1162__1164TEMP_MPY_wvf_snd.mp4\n"
     ]
    },
    {
     "name": "stderr",
     "output_type": "stream",
     "text": [
      "100%|██████████| 45/45 [00:00<00:00, 187.07it/s]"
     ]
    },
    {
     "name": "stdout",
     "output_type": "stream",
     "text": [
      "[MoviePy] Done.\n",
      "[MoviePy] Writing video ./clip/6H4VsHbynQc__1162__1164.mp4\n"
     ]
    },
    {
     "name": "stderr",
     "output_type": "stream",
     "text": [
      "\n",
      "100%|██████████| 60/60 [00:00<00:00, 266.82it/s]\n"
     ]
    },
    {
     "name": "stdout",
     "output_type": "stream",
     "text": [
      "[MoviePy] Done.\n",
      "[MoviePy] >>>> Video ready: ./clip/6H4VsHbynQc__1162__1164.mp4 \n",
      "\n",
      "[MoviePy] >>>> Building video ./clip/6H4VsHbynQc__1164__1166.mp4\n",
      "[MoviePy] Writing audio in 6H4VsHbynQc__1164__1166TEMP_MPY_wvf_snd.mp4\n"
     ]
    },
    {
     "name": "stderr",
     "output_type": "stream",
     "text": [
      "100%|██████████| 45/45 [00:00<00:00, 179.77it/s]"
     ]
    },
    {
     "name": "stdout",
     "output_type": "stream",
     "text": [
      "[MoviePy] Done.\n",
      "[MoviePy] Writing video ./clip/6H4VsHbynQc__1164__1166.mp4\n"
     ]
    },
    {
     "name": "stderr",
     "output_type": "stream",
     "text": [
      "\n",
      "100%|██████████| 60/60 [00:00<00:00, 293.88it/s]\n"
     ]
    },
    {
     "name": "stdout",
     "output_type": "stream",
     "text": [
      "[MoviePy] Done.\n",
      "[MoviePy] >>>> Video ready: ./clip/6H4VsHbynQc__1164__1166.mp4 \n",
      "\n",
      "[MoviePy] >>>> Building video ./clip/6H4VsHbynQc__1166__1168.mp4\n",
      "[MoviePy] Writing audio in 6H4VsHbynQc__1166__1168TEMP_MPY_wvf_snd.mp4\n"
     ]
    },
    {
     "name": "stderr",
     "output_type": "stream",
     "text": [
      "100%|██████████| 45/45 [00:00<00:00, 181.80it/s]"
     ]
    },
    {
     "name": "stdout",
     "output_type": "stream",
     "text": [
      "[MoviePy] Done.\n",
      "[MoviePy] Writing video ./clip/6H4VsHbynQc__1166__1168.mp4\n"
     ]
    },
    {
     "name": "stderr",
     "output_type": "stream",
     "text": [
      "\n",
      "100%|██████████| 60/60 [00:00<00:00, 308.42it/s]\n"
     ]
    },
    {
     "name": "stdout",
     "output_type": "stream",
     "text": [
      "[MoviePy] Done.\n",
      "[MoviePy] >>>> Video ready: ./clip/6H4VsHbynQc__1166__1168.mp4 \n",
      "\n",
      "[MoviePy] >>>> Building video ./clip/6H4VsHbynQc__1168__1170.mp4\n",
      "[MoviePy] Writing audio in 6H4VsHbynQc__1168__1170TEMP_MPY_wvf_snd.mp4\n"
     ]
    },
    {
     "name": "stderr",
     "output_type": "stream",
     "text": [
      "100%|██████████| 45/45 [00:00<00:00, 198.92it/s]"
     ]
    },
    {
     "name": "stdout",
     "output_type": "stream",
     "text": [
      "[MoviePy] Done.\n",
      "[MoviePy] Writing video ./clip/6H4VsHbynQc__1168__1170.mp4\n"
     ]
    },
    {
     "name": "stderr",
     "output_type": "stream",
     "text": [
      "\n",
      "100%|██████████| 60/60 [00:00<00:00, 282.84it/s]\n"
     ]
    },
    {
     "name": "stdout",
     "output_type": "stream",
     "text": [
      "[MoviePy] Done.\n",
      "[MoviePy] >>>> Video ready: ./clip/6H4VsHbynQc__1168__1170.mp4 \n",
      "\n",
      "[MoviePy] >>>> Building video ./clip/6H4VsHbynQc__1170__1172.mp4\n",
      "[MoviePy] Writing audio in 6H4VsHbynQc__1170__1172TEMP_MPY_wvf_snd.mp4\n"
     ]
    },
    {
     "name": "stderr",
     "output_type": "stream",
     "text": [
      "100%|██████████| 45/45 [00:00<00:00, 190.86it/s]"
     ]
    },
    {
     "name": "stdout",
     "output_type": "stream",
     "text": [
      "[MoviePy] Done.\n",
      "[MoviePy] Writing video ./clip/6H4VsHbynQc__1170__1172.mp4\n"
     ]
    },
    {
     "name": "stderr",
     "output_type": "stream",
     "text": [
      "\n",
      "100%|██████████| 60/60 [00:00<00:00, 284.26it/s]\n"
     ]
    },
    {
     "name": "stdout",
     "output_type": "stream",
     "text": [
      "[MoviePy] Done.\n",
      "[MoviePy] >>>> Video ready: ./clip/6H4VsHbynQc__1170__1172.mp4 \n",
      "\n",
      "[MoviePy] >>>> Building video ./clip/6H4VsHbynQc__1172__1174.mp4\n",
      "[MoviePy] Writing audio in 6H4VsHbynQc__1172__1174TEMP_MPY_wvf_snd.mp4\n"
     ]
    },
    {
     "name": "stderr",
     "output_type": "stream",
     "text": [
      "100%|██████████| 45/45 [00:00<00:00, 169.96it/s]"
     ]
    },
    {
     "name": "stdout",
     "output_type": "stream",
     "text": [
      "[MoviePy] Done.\n",
      "[MoviePy] Writing video ./clip/6H4VsHbynQc__1172__1174.mp4\n"
     ]
    },
    {
     "name": "stderr",
     "output_type": "stream",
     "text": [
      "\n",
      "100%|██████████| 60/60 [00:00<00:00, 285.64it/s]\n"
     ]
    },
    {
     "name": "stdout",
     "output_type": "stream",
     "text": [
      "[MoviePy] Done.\n",
      "[MoviePy] >>>> Video ready: ./clip/6H4VsHbynQc__1172__1174.mp4 \n",
      "\n",
      "[MoviePy] >>>> Building video ./clip/6H4VsHbynQc__1174__1176.mp4\n",
      "[MoviePy] Writing audio in 6H4VsHbynQc__1174__1176TEMP_MPY_wvf_snd.mp4\n"
     ]
    },
    {
     "name": "stderr",
     "output_type": "stream",
     "text": [
      "100%|██████████| 45/45 [00:00<00:00, 195.71it/s]"
     ]
    },
    {
     "name": "stdout",
     "output_type": "stream",
     "text": [
      "[MoviePy] Done.\n",
      "[MoviePy] Writing video ./clip/6H4VsHbynQc__1174__1176.mp4\n"
     ]
    },
    {
     "name": "stderr",
     "output_type": "stream",
     "text": [
      "\n",
      "100%|██████████| 60/60 [00:00<00:00, 271.57it/s]\n"
     ]
    },
    {
     "name": "stdout",
     "output_type": "stream",
     "text": [
      "[MoviePy] Done.\n",
      "[MoviePy] >>>> Video ready: ./clip/6H4VsHbynQc__1174__1176.mp4 \n",
      "\n",
      "[MoviePy] >>>> Building video ./clip/6H4VsHbynQc__1176__1178.mp4\n",
      "[MoviePy] Writing audio in 6H4VsHbynQc__1176__1178TEMP_MPY_wvf_snd.mp4\n"
     ]
    },
    {
     "name": "stderr",
     "output_type": "stream",
     "text": [
      "100%|██████████| 45/45 [00:00<00:00, 186.89it/s]"
     ]
    },
    {
     "name": "stdout",
     "output_type": "stream",
     "text": [
      "[MoviePy] Done.\n",
      "[MoviePy] Writing video ./clip/6H4VsHbynQc__1176__1178.mp4\n"
     ]
    },
    {
     "name": "stderr",
     "output_type": "stream",
     "text": [
      "\n",
      "100%|██████████| 60/60 [00:00<00:00, 267.38it/s]\n"
     ]
    },
    {
     "name": "stdout",
     "output_type": "stream",
     "text": [
      "[MoviePy] Done.\n",
      "[MoviePy] >>>> Video ready: ./clip/6H4VsHbynQc__1176__1178.mp4 \n",
      "\n",
      "[MoviePy] >>>> Building video ./clip/6H4VsHbynQc__1178__1180.mp4\n",
      "[MoviePy] Writing audio in 6H4VsHbynQc__1178__1180TEMP_MPY_wvf_snd.mp4\n"
     ]
    },
    {
     "name": "stderr",
     "output_type": "stream",
     "text": [
      "100%|██████████| 45/45 [00:00<00:00, 185.48it/s]"
     ]
    },
    {
     "name": "stdout",
     "output_type": "stream",
     "text": [
      "[MoviePy] Done.\n",
      "[MoviePy] Writing video ./clip/6H4VsHbynQc__1178__1180.mp4\n"
     ]
    },
    {
     "name": "stderr",
     "output_type": "stream",
     "text": [
      "\n",
      "100%|██████████| 60/60 [00:00<00:00, 274.02it/s]\n"
     ]
    },
    {
     "name": "stdout",
     "output_type": "stream",
     "text": [
      "[MoviePy] Done.\n",
      "[MoviePy] >>>> Video ready: ./clip/6H4VsHbynQc__1178__1180.mp4 \n",
      "\n",
      "[MoviePy] >>>> Building video ./clip/6H4VsHbynQc__1180__1182.mp4\n",
      "[MoviePy] Writing audio in 6H4VsHbynQc__1180__1182TEMP_MPY_wvf_snd.mp4\n"
     ]
    },
    {
     "name": "stderr",
     "output_type": "stream",
     "text": [
      "100%|██████████| 45/45 [00:00<00:00, 189.71it/s]"
     ]
    },
    {
     "name": "stdout",
     "output_type": "stream",
     "text": [
      "[MoviePy] Done.\n",
      "[MoviePy] Writing video ./clip/6H4VsHbynQc__1180__1182.mp4\n"
     ]
    },
    {
     "name": "stderr",
     "output_type": "stream",
     "text": [
      "\n",
      "100%|██████████| 60/60 [00:00<00:00, 301.38it/s]\n"
     ]
    },
    {
     "name": "stdout",
     "output_type": "stream",
     "text": [
      "[MoviePy] Done.\n",
      "[MoviePy] >>>> Video ready: ./clip/6H4VsHbynQc__1180__1182.mp4 \n",
      "\n",
      "[MoviePy] >>>> Building video ./clip/6H4VsHbynQc__1182__1184.mp4\n",
      "[MoviePy] Writing audio in 6H4VsHbynQc__1182__1184TEMP_MPY_wvf_snd.mp4\n"
     ]
    },
    {
     "name": "stderr",
     "output_type": "stream",
     "text": [
      "100%|██████████| 45/45 [00:00<00:00, 204.14it/s]"
     ]
    },
    {
     "name": "stdout",
     "output_type": "stream",
     "text": [
      "[MoviePy] Done.\n",
      "[MoviePy] Writing video ./clip/6H4VsHbynQc__1182__1184.mp4\n"
     ]
    },
    {
     "name": "stderr",
     "output_type": "stream",
     "text": [
      "\n",
      "100%|██████████| 60/60 [00:00<00:00, 302.27it/s]\n"
     ]
    },
    {
     "name": "stdout",
     "output_type": "stream",
     "text": [
      "[MoviePy] Done.\n",
      "[MoviePy] >>>> Video ready: ./clip/6H4VsHbynQc__1182__1184.mp4 \n",
      "\n",
      "[MoviePy] >>>> Building video ./clip/6H4VsHbynQc__1184__1186.mp4\n",
      "[MoviePy] Writing audio in 6H4VsHbynQc__1184__1186TEMP_MPY_wvf_snd.mp4\n"
     ]
    },
    {
     "name": "stderr",
     "output_type": "stream",
     "text": [
      "100%|██████████| 45/45 [00:00<00:00, 187.55it/s]"
     ]
    },
    {
     "name": "stdout",
     "output_type": "stream",
     "text": [
      "[MoviePy] Done.\n",
      "[MoviePy] Writing video ./clip/6H4VsHbynQc__1184__1186.mp4\n"
     ]
    },
    {
     "name": "stderr",
     "output_type": "stream",
     "text": [
      "\n",
      "100%|██████████| 60/60 [00:00<00:00, 287.86it/s]\n"
     ]
    },
    {
     "name": "stdout",
     "output_type": "stream",
     "text": [
      "[MoviePy] Done.\n",
      "[MoviePy] >>>> Video ready: ./clip/6H4VsHbynQc__1184__1186.mp4 \n",
      "\n",
      "[MoviePy] >>>> Building video ./clip/6H4VsHbynQc__1186__1188.mp4\n",
      "[MoviePy] Writing audio in 6H4VsHbynQc__1186__1188TEMP_MPY_wvf_snd.mp4\n"
     ]
    },
    {
     "name": "stderr",
     "output_type": "stream",
     "text": [
      "100%|██████████| 45/45 [00:00<00:00, 188.53it/s]"
     ]
    },
    {
     "name": "stdout",
     "output_type": "stream",
     "text": [
      "[MoviePy] Done.\n",
      "[MoviePy] Writing video ./clip/6H4VsHbynQc__1186__1188.mp4\n"
     ]
    },
    {
     "name": "stderr",
     "output_type": "stream",
     "text": [
      "\n",
      "100%|██████████| 60/60 [00:00<00:00, 285.55it/s]\n"
     ]
    },
    {
     "name": "stdout",
     "output_type": "stream",
     "text": [
      "[MoviePy] Done.\n",
      "[MoviePy] >>>> Video ready: ./clip/6H4VsHbynQc__1186__1188.mp4 \n",
      "\n",
      "[MoviePy] >>>> Building video ./clip/6H4VsHbynQc__1188__1190.mp4\n",
      "[MoviePy] Writing audio in 6H4VsHbynQc__1188__1190TEMP_MPY_wvf_snd.mp4\n"
     ]
    },
    {
     "name": "stderr",
     "output_type": "stream",
     "text": [
      "100%|██████████| 45/45 [00:00<00:00, 183.89it/s]"
     ]
    },
    {
     "name": "stdout",
     "output_type": "stream",
     "text": [
      "[MoviePy] Done.\n",
      "[MoviePy] Writing video ./clip/6H4VsHbynQc__1188__1190.mp4\n"
     ]
    },
    {
     "name": "stderr",
     "output_type": "stream",
     "text": [
      "\n",
      "100%|██████████| 60/60 [00:00<00:00, 303.89it/s]\n"
     ]
    },
    {
     "name": "stdout",
     "output_type": "stream",
     "text": [
      "[MoviePy] Done.\n",
      "[MoviePy] >>>> Video ready: ./clip/6H4VsHbynQc__1188__1190.mp4 \n",
      "\n",
      "[MoviePy] >>>> Building video ./clip/6H4VsHbynQc__1190__1192.mp4\n",
      "[MoviePy] Writing audio in 6H4VsHbynQc__1190__1192TEMP_MPY_wvf_snd.mp4\n"
     ]
    },
    {
     "name": "stderr",
     "output_type": "stream",
     "text": [
      "100%|██████████| 45/45 [00:00<00:00, 178.34it/s]"
     ]
    },
    {
     "name": "stdout",
     "output_type": "stream",
     "text": [
      "[MoviePy] Done.\n",
      "[MoviePy] Writing video ./clip/6H4VsHbynQc__1190__1192.mp4\n"
     ]
    },
    {
     "name": "stderr",
     "output_type": "stream",
     "text": [
      "\n",
      "100%|██████████| 60/60 [00:00<00:00, 244.02it/s]\n"
     ]
    },
    {
     "name": "stdout",
     "output_type": "stream",
     "text": [
      "[MoviePy] Done.\n",
      "[MoviePy] >>>> Video ready: ./clip/6H4VsHbynQc__1190__1192.mp4 \n",
      "\n",
      "[MoviePy] >>>> Building video ./clip/6H4VsHbynQc__1192__1194.mp4\n",
      "[MoviePy] Writing audio in 6H4VsHbynQc__1192__1194TEMP_MPY_wvf_snd.mp4\n"
     ]
    },
    {
     "name": "stderr",
     "output_type": "stream",
     "text": [
      "100%|██████████| 45/45 [00:00<00:00, 173.83it/s]"
     ]
    },
    {
     "name": "stdout",
     "output_type": "stream",
     "text": [
      "[MoviePy] Done.\n",
      "[MoviePy] Writing video ./clip/6H4VsHbynQc__1192__1194.mp4\n"
     ]
    },
    {
     "name": "stderr",
     "output_type": "stream",
     "text": [
      "\n",
      "100%|██████████| 60/60 [00:00<00:00, 271.45it/s]\n"
     ]
    },
    {
     "name": "stdout",
     "output_type": "stream",
     "text": [
      "[MoviePy] Done.\n",
      "[MoviePy] >>>> Video ready: ./clip/6H4VsHbynQc__1192__1194.mp4 \n",
      "\n",
      "[MoviePy] >>>> Building video ./clip/6H4VsHbynQc__1194__1196.mp4\n",
      "[MoviePy] Writing audio in 6H4VsHbynQc__1194__1196TEMP_MPY_wvf_snd.mp4\n"
     ]
    },
    {
     "name": "stderr",
     "output_type": "stream",
     "text": [
      "100%|██████████| 45/45 [00:00<00:00, 194.40it/s]"
     ]
    },
    {
     "name": "stdout",
     "output_type": "stream",
     "text": [
      "[MoviePy] Done.\n",
      "[MoviePy] Writing video ./clip/6H4VsHbynQc__1194__1196.mp4\n"
     ]
    },
    {
     "name": "stderr",
     "output_type": "stream",
     "text": [
      "\n",
      "100%|██████████| 60/60 [00:00<00:00, 296.96it/s]\n"
     ]
    },
    {
     "name": "stdout",
     "output_type": "stream",
     "text": [
      "[MoviePy] Done.\n",
      "[MoviePy] >>>> Video ready: ./clip/6H4VsHbynQc__1194__1196.mp4 \n",
      "\n",
      "[MoviePy] >>>> Building video ./clip/6H4VsHbynQc__1196__1198.mp4\n",
      "[MoviePy] Writing audio in 6H4VsHbynQc__1196__1198TEMP_MPY_wvf_snd.mp4\n"
     ]
    },
    {
     "name": "stderr",
     "output_type": "stream",
     "text": [
      "100%|██████████| 45/45 [00:00<00:00, 174.97it/s]"
     ]
    },
    {
     "name": "stdout",
     "output_type": "stream",
     "text": [
      "[MoviePy] Done.\n",
      "[MoviePy] Writing video ./clip/6H4VsHbynQc__1196__1198.mp4\n"
     ]
    },
    {
     "name": "stderr",
     "output_type": "stream",
     "text": [
      "\n",
      "100%|██████████| 60/60 [00:00<00:00, 273.44it/s]\n"
     ]
    },
    {
     "name": "stdout",
     "output_type": "stream",
     "text": [
      "[MoviePy] Done.\n",
      "[MoviePy] >>>> Video ready: ./clip/6H4VsHbynQc__1196__1198.mp4 \n",
      "\n",
      "[MoviePy] >>>> Building video ./clip/6H4VsHbynQc__1198__1200.mp4\n",
      "[MoviePy] Writing audio in 6H4VsHbynQc__1198__1200TEMP_MPY_wvf_snd.mp4\n"
     ]
    },
    {
     "name": "stderr",
     "output_type": "stream",
     "text": [
      "100%|██████████| 45/45 [00:00<00:00, 186.42it/s]"
     ]
    },
    {
     "name": "stdout",
     "output_type": "stream",
     "text": [
      "[MoviePy] Done.\n",
      "[MoviePy] Writing video ./clip/6H4VsHbynQc__1198__1200.mp4\n"
     ]
    },
    {
     "name": "stderr",
     "output_type": "stream",
     "text": [
      "\n",
      "100%|██████████| 60/60 [00:00<00:00, 276.44it/s]\n"
     ]
    },
    {
     "name": "stdout",
     "output_type": "stream",
     "text": [
      "[MoviePy] Done.\n",
      "[MoviePy] >>>> Video ready: ./clip/6H4VsHbynQc__1198__1200.mp4 \n",
      "\n",
      "[MoviePy] >>>> Building video ./clip/6H4VsHbynQc__1200__1202.mp4\n",
      "[MoviePy] Writing audio in 6H4VsHbynQc__1200__1202TEMP_MPY_wvf_snd.mp4\n"
     ]
    },
    {
     "name": "stderr",
     "output_type": "stream",
     "text": [
      "100%|██████████| 45/45 [00:00<00:00, 186.69it/s]"
     ]
    },
    {
     "name": "stdout",
     "output_type": "stream",
     "text": [
      "[MoviePy] Done.\n",
      "[MoviePy] Writing video ./clip/6H4VsHbynQc__1200__1202.mp4\n"
     ]
    },
    {
     "name": "stderr",
     "output_type": "stream",
     "text": [
      "\n",
      "100%|██████████| 60/60 [00:00<00:00, 292.11it/s]\n"
     ]
    },
    {
     "name": "stdout",
     "output_type": "stream",
     "text": [
      "[MoviePy] Done.\n",
      "[MoviePy] >>>> Video ready: ./clip/6H4VsHbynQc__1200__1202.mp4 \n",
      "\n",
      "[MoviePy] >>>> Building video ./clip/6H4VsHbynQc__1202__1204.mp4\n",
      "[MoviePy] Writing audio in 6H4VsHbynQc__1202__1204TEMP_MPY_wvf_snd.mp4\n"
     ]
    },
    {
     "name": "stderr",
     "output_type": "stream",
     "text": [
      "100%|██████████| 45/45 [00:00<00:00, 186.64it/s]"
     ]
    },
    {
     "name": "stdout",
     "output_type": "stream",
     "text": [
      "[MoviePy] Done.\n",
      "[MoviePy] Writing video ./clip/6H4VsHbynQc__1202__1204.mp4\n"
     ]
    },
    {
     "name": "stderr",
     "output_type": "stream",
     "text": [
      "\n",
      "100%|██████████| 60/60 [00:00<00:00, 264.80it/s]\n"
     ]
    },
    {
     "name": "stdout",
     "output_type": "stream",
     "text": [
      "[MoviePy] Done.\n",
      "[MoviePy] >>>> Video ready: ./clip/6H4VsHbynQc__1202__1204.mp4 \n",
      "\n",
      "[MoviePy] >>>> Building video ./clip/6H4VsHbynQc__1204__1206.mp4\n",
      "[MoviePy] Writing audio in 6H4VsHbynQc__1204__1206TEMP_MPY_wvf_snd.mp4\n"
     ]
    },
    {
     "name": "stderr",
     "output_type": "stream",
     "text": [
      "100%|██████████| 45/45 [00:00<00:00, 180.31it/s]"
     ]
    },
    {
     "name": "stdout",
     "output_type": "stream",
     "text": [
      "[MoviePy] Done.\n",
      "[MoviePy] Writing video ./clip/6H4VsHbynQc__1204__1206.mp4\n"
     ]
    },
    {
     "name": "stderr",
     "output_type": "stream",
     "text": [
      "\n",
      "100%|██████████| 60/60 [00:00<00:00, 311.88it/s]\n"
     ]
    },
    {
     "name": "stdout",
     "output_type": "stream",
     "text": [
      "[MoviePy] Done.\n",
      "[MoviePy] >>>> Video ready: ./clip/6H4VsHbynQc__1204__1206.mp4 \n",
      "\n",
      "[MoviePy] >>>> Building video ./clip/6H4VsHbynQc__1206__1208.mp4\n",
      "[MoviePy] Writing audio in 6H4VsHbynQc__1206__1208TEMP_MPY_wvf_snd.mp4\n"
     ]
    },
    {
     "name": "stderr",
     "output_type": "stream",
     "text": [
      "100%|██████████| 45/45 [00:00<00:00, 180.73it/s]"
     ]
    },
    {
     "name": "stdout",
     "output_type": "stream",
     "text": [
      "[MoviePy] Done.\n",
      "[MoviePy] Writing video ./clip/6H4VsHbynQc__1206__1208.mp4\n"
     ]
    },
    {
     "name": "stderr",
     "output_type": "stream",
     "text": [
      "\n",
      "100%|██████████| 60/60 [00:00<00:00, 292.23it/s]\n"
     ]
    },
    {
     "name": "stdout",
     "output_type": "stream",
     "text": [
      "[MoviePy] Done.\n",
      "[MoviePy] >>>> Video ready: ./clip/6H4VsHbynQc__1206__1208.mp4 \n",
      "\n",
      "[MoviePy] >>>> Building video ./clip/6H4VsHbynQc__1208__1210.mp4\n",
      "[MoviePy] Writing audio in 6H4VsHbynQc__1208__1210TEMP_MPY_wvf_snd.mp4\n"
     ]
    },
    {
     "name": "stderr",
     "output_type": "stream",
     "text": [
      "100%|██████████| 45/45 [00:00<00:00, 185.11it/s]"
     ]
    },
    {
     "name": "stdout",
     "output_type": "stream",
     "text": [
      "[MoviePy] Done.\n",
      "[MoviePy] Writing video ./clip/6H4VsHbynQc__1208__1210.mp4\n"
     ]
    },
    {
     "name": "stderr",
     "output_type": "stream",
     "text": [
      "\n",
      "100%|██████████| 60/60 [00:00<00:00, 288.23it/s]\n"
     ]
    },
    {
     "name": "stdout",
     "output_type": "stream",
     "text": [
      "[MoviePy] Done.\n",
      "[MoviePy] >>>> Video ready: ./clip/6H4VsHbynQc__1208__1210.mp4 \n",
      "\n",
      "[MoviePy] >>>> Building video ./clip/6H4VsHbynQc__1210__1212.mp4\n",
      "[MoviePy] Writing audio in 6H4VsHbynQc__1210__1212TEMP_MPY_wvf_snd.mp4\n"
     ]
    },
    {
     "name": "stderr",
     "output_type": "stream",
     "text": [
      "100%|██████████| 45/45 [00:00<00:00, 183.06it/s]"
     ]
    },
    {
     "name": "stdout",
     "output_type": "stream",
     "text": [
      "[MoviePy] Done.\n",
      "[MoviePy] Writing video ./clip/6H4VsHbynQc__1210__1212.mp4\n"
     ]
    },
    {
     "name": "stderr",
     "output_type": "stream",
     "text": [
      "\n",
      "100%|██████████| 60/60 [00:00<00:00, 268.56it/s]\n"
     ]
    },
    {
     "name": "stdout",
     "output_type": "stream",
     "text": [
      "[MoviePy] Done.\n",
      "[MoviePy] >>>> Video ready: ./clip/6H4VsHbynQc__1210__1212.mp4 \n",
      "\n",
      "[MoviePy] >>>> Building video ./clip/6H4VsHbynQc__1212__1214.mp4\n",
      "[MoviePy] Writing audio in 6H4VsHbynQc__1212__1214TEMP_MPY_wvf_snd.mp4\n"
     ]
    },
    {
     "name": "stderr",
     "output_type": "stream",
     "text": [
      "100%|██████████| 45/45 [00:00<00:00, 200.05it/s]"
     ]
    },
    {
     "name": "stdout",
     "output_type": "stream",
     "text": [
      "[MoviePy] Done.\n",
      "[MoviePy] Writing video ./clip/6H4VsHbynQc__1212__1214.mp4\n"
     ]
    },
    {
     "name": "stderr",
     "output_type": "stream",
     "text": [
      "\n",
      "100%|██████████| 60/60 [00:00<00:00, 256.22it/s]\n"
     ]
    },
    {
     "name": "stdout",
     "output_type": "stream",
     "text": [
      "[MoviePy] Done.\n",
      "[MoviePy] >>>> Video ready: ./clip/6H4VsHbynQc__1212__1214.mp4 \n",
      "\n",
      "[MoviePy] >>>> Building video ./clip/6H4VsHbynQc__1214__1216.mp4\n",
      "[MoviePy] Writing audio in 6H4VsHbynQc__1214__1216TEMP_MPY_wvf_snd.mp4\n"
     ]
    },
    {
     "name": "stderr",
     "output_type": "stream",
     "text": [
      "100%|██████████| 45/45 [00:00<00:00, 193.20it/s]"
     ]
    },
    {
     "name": "stdout",
     "output_type": "stream",
     "text": [
      "[MoviePy] Done.\n",
      "[MoviePy] Writing video ./clip/6H4VsHbynQc__1214__1216.mp4\n"
     ]
    },
    {
     "name": "stderr",
     "output_type": "stream",
     "text": [
      "\n",
      "100%|██████████| 60/60 [00:00<00:00, 272.31it/s]\n"
     ]
    },
    {
     "name": "stdout",
     "output_type": "stream",
     "text": [
      "[MoviePy] Done.\n",
      "[MoviePy] >>>> Video ready: ./clip/6H4VsHbynQc__1214__1216.mp4 \n",
      "\n",
      "[MoviePy] >>>> Building video ./clip/6H4VsHbynQc__1216__1218.mp4\n",
      "[MoviePy] Writing audio in 6H4VsHbynQc__1216__1218TEMP_MPY_wvf_snd.mp4\n"
     ]
    },
    {
     "name": "stderr",
     "output_type": "stream",
     "text": [
      "100%|██████████| 45/45 [00:00<00:00, 177.51it/s]"
     ]
    },
    {
     "name": "stdout",
     "output_type": "stream",
     "text": [
      "[MoviePy] Done.\n",
      "[MoviePy] Writing video ./clip/6H4VsHbynQc__1216__1218.mp4\n"
     ]
    },
    {
     "name": "stderr",
     "output_type": "stream",
     "text": [
      "\n",
      "100%|██████████| 60/60 [00:00<00:00, 301.75it/s]\n"
     ]
    },
    {
     "name": "stdout",
     "output_type": "stream",
     "text": [
      "[MoviePy] Done.\n",
      "[MoviePy] >>>> Video ready: ./clip/6H4VsHbynQc__1216__1218.mp4 \n",
      "\n",
      "[MoviePy] >>>> Building video ./clip/6H4VsHbynQc__1218__1220.mp4\n",
      "[MoviePy] Writing audio in 6H4VsHbynQc__1218__1220TEMP_MPY_wvf_snd.mp4\n"
     ]
    },
    {
     "name": "stderr",
     "output_type": "stream",
     "text": [
      "100%|██████████| 45/45 [00:00<00:00, 184.56it/s]"
     ]
    },
    {
     "name": "stdout",
     "output_type": "stream",
     "text": [
      "[MoviePy] Done.\n",
      "[MoviePy] Writing video ./clip/6H4VsHbynQc__1218__1220.mp4\n"
     ]
    },
    {
     "name": "stderr",
     "output_type": "stream",
     "text": [
      "\n",
      "100%|██████████| 60/60 [00:00<00:00, 290.58it/s]\n"
     ]
    },
    {
     "name": "stdout",
     "output_type": "stream",
     "text": [
      "[MoviePy] Done.\n",
      "[MoviePy] >>>> Video ready: ./clip/6H4VsHbynQc__1218__1220.mp4 \n",
      "\n",
      "[MoviePy] >>>> Building video ./clip/6H4VsHbynQc__1220__1222.mp4\n",
      "[MoviePy] Writing audio in 6H4VsHbynQc__1220__1222TEMP_MPY_wvf_snd.mp4\n"
     ]
    },
    {
     "name": "stderr",
     "output_type": "stream",
     "text": [
      "100%|██████████| 45/45 [00:00<00:00, 189.42it/s]"
     ]
    },
    {
     "name": "stdout",
     "output_type": "stream",
     "text": [
      "[MoviePy] Done.\n",
      "[MoviePy] Writing video ./clip/6H4VsHbynQc__1220__1222.mp4\n"
     ]
    },
    {
     "name": "stderr",
     "output_type": "stream",
     "text": [
      "\n",
      "100%|██████████| 60/60 [00:00<00:00, 273.38it/s]\n"
     ]
    },
    {
     "name": "stdout",
     "output_type": "stream",
     "text": [
      "[MoviePy] Done.\n",
      "[MoviePy] >>>> Video ready: ./clip/6H4VsHbynQc__1220__1222.mp4 \n",
      "\n",
      "[MoviePy] >>>> Building video ./clip/6H4VsHbynQc__1222__1224.mp4\n",
      "[MoviePy] Writing audio in 6H4VsHbynQc__1222__1224TEMP_MPY_wvf_snd.mp4\n"
     ]
    },
    {
     "name": "stderr",
     "output_type": "stream",
     "text": [
      "100%|██████████| 45/45 [00:00<00:00, 177.61it/s]"
     ]
    },
    {
     "name": "stdout",
     "output_type": "stream",
     "text": [
      "[MoviePy] Done.\n",
      "[MoviePy] Writing video ./clip/6H4VsHbynQc__1222__1224.mp4\n"
     ]
    },
    {
     "name": "stderr",
     "output_type": "stream",
     "text": [
      "\n",
      "100%|██████████| 60/60 [00:00<00:00, 261.90it/s]\n"
     ]
    },
    {
     "name": "stdout",
     "output_type": "stream",
     "text": [
      "[MoviePy] Done.\n",
      "[MoviePy] >>>> Video ready: ./clip/6H4VsHbynQc__1222__1224.mp4 \n",
      "\n",
      "[MoviePy] >>>> Building video ./clip/6H4VsHbynQc__1224__1226.mp4\n",
      "[MoviePy] Writing audio in 6H4VsHbynQc__1224__1226TEMP_MPY_wvf_snd.mp4\n"
     ]
    },
    {
     "name": "stderr",
     "output_type": "stream",
     "text": [
      "100%|██████████| 45/45 [00:00<00:00, 190.08it/s]"
     ]
    },
    {
     "name": "stdout",
     "output_type": "stream",
     "text": [
      "[MoviePy] Done.\n",
      "[MoviePy] Writing video ./clip/6H4VsHbynQc__1224__1226.mp4\n"
     ]
    },
    {
     "name": "stderr",
     "output_type": "stream",
     "text": [
      "\n",
      "100%|██████████| 60/60 [00:00<00:00, 297.52it/s]\n"
     ]
    },
    {
     "name": "stdout",
     "output_type": "stream",
     "text": [
      "[MoviePy] Done.\n",
      "[MoviePy] >>>> Video ready: ./clip/6H4VsHbynQc__1224__1226.mp4 \n",
      "\n",
      "[MoviePy] >>>> Building video ./clip/6H4VsHbynQc__1226__1228.mp4\n",
      "[MoviePy] Writing audio in 6H4VsHbynQc__1226__1228TEMP_MPY_wvf_snd.mp4\n"
     ]
    },
    {
     "name": "stderr",
     "output_type": "stream",
     "text": [
      "100%|██████████| 45/45 [00:00<00:00, 190.04it/s]"
     ]
    },
    {
     "name": "stdout",
     "output_type": "stream",
     "text": [
      "[MoviePy] Done.\n",
      "[MoviePy] Writing video ./clip/6H4VsHbynQc__1226__1228.mp4\n"
     ]
    },
    {
     "name": "stderr",
     "output_type": "stream",
     "text": [
      "\n",
      "100%|██████████| 60/60 [00:00<00:00, 301.03it/s]\n"
     ]
    },
    {
     "name": "stdout",
     "output_type": "stream",
     "text": [
      "[MoviePy] Done.\n",
      "[MoviePy] >>>> Video ready: ./clip/6H4VsHbynQc__1226__1228.mp4 \n",
      "\n",
      "[MoviePy] >>>> Building video ./clip/6H4VsHbynQc__1228__1230.mp4\n",
      "[MoviePy] Writing audio in 6H4VsHbynQc__1228__1230TEMP_MPY_wvf_snd.mp4\n"
     ]
    },
    {
     "name": "stderr",
     "output_type": "stream",
     "text": [
      "100%|██████████| 45/45 [00:00<00:00, 195.03it/s]"
     ]
    },
    {
     "name": "stdout",
     "output_type": "stream",
     "text": [
      "[MoviePy] Done.\n",
      "[MoviePy] Writing video ./clip/6H4VsHbynQc__1228__1230.mp4\n"
     ]
    },
    {
     "name": "stderr",
     "output_type": "stream",
     "text": [
      "\n",
      "100%|██████████| 60/60 [00:00<00:00, 304.70it/s]\n"
     ]
    },
    {
     "name": "stdout",
     "output_type": "stream",
     "text": [
      "[MoviePy] Done.\n",
      "[MoviePy] >>>> Video ready: ./clip/6H4VsHbynQc__1228__1230.mp4 \n",
      "\n",
      "[MoviePy] >>>> Building video ./clip/6H4VsHbynQc__1230__1232.mp4\n",
      "[MoviePy] Writing audio in 6H4VsHbynQc__1230__1232TEMP_MPY_wvf_snd.mp4\n"
     ]
    },
    {
     "name": "stderr",
     "output_type": "stream",
     "text": [
      "100%|██████████| 45/45 [00:00<00:00, 199.20it/s]"
     ]
    },
    {
     "name": "stdout",
     "output_type": "stream",
     "text": [
      "[MoviePy] Done.\n",
      "[MoviePy] Writing video ./clip/6H4VsHbynQc__1230__1232.mp4\n"
     ]
    },
    {
     "name": "stderr",
     "output_type": "stream",
     "text": [
      "\n",
      "100%|██████████| 60/60 [00:00<00:00, 267.16it/s]\n"
     ]
    },
    {
     "name": "stdout",
     "output_type": "stream",
     "text": [
      "[MoviePy] Done.\n",
      "[MoviePy] >>>> Video ready: ./clip/6H4VsHbynQc__1230__1232.mp4 \n",
      "\n",
      "[MoviePy] >>>> Building video ./clip/6H4VsHbynQc__1232__1234.mp4\n",
      "[MoviePy] Writing audio in 6H4VsHbynQc__1232__1234TEMP_MPY_wvf_snd.mp4\n"
     ]
    },
    {
     "name": "stderr",
     "output_type": "stream",
     "text": [
      "100%|██████████| 45/45 [00:00<00:00, 172.13it/s]"
     ]
    },
    {
     "name": "stdout",
     "output_type": "stream",
     "text": [
      "[MoviePy] Done.\n",
      "[MoviePy] Writing video ./clip/6H4VsHbynQc__1232__1234.mp4\n"
     ]
    },
    {
     "name": "stderr",
     "output_type": "stream",
     "text": [
      "\n",
      "100%|██████████| 60/60 [00:00<00:00, 307.74it/s]\n"
     ]
    },
    {
     "name": "stdout",
     "output_type": "stream",
     "text": [
      "[MoviePy] Done.\n",
      "[MoviePy] >>>> Video ready: ./clip/6H4VsHbynQc__1232__1234.mp4 \n",
      "\n",
      "[MoviePy] >>>> Building video ./clip/6H4VsHbynQc__1234__1236.mp4\n",
      "[MoviePy] Writing audio in 6H4VsHbynQc__1234__1236TEMP_MPY_wvf_snd.mp4\n"
     ]
    },
    {
     "name": "stderr",
     "output_type": "stream",
     "text": [
      "100%|██████████| 45/45 [00:00<00:00, 181.04it/s]"
     ]
    },
    {
     "name": "stdout",
     "output_type": "stream",
     "text": [
      "[MoviePy] Done.\n",
      "[MoviePy] Writing video ./clip/6H4VsHbynQc__1234__1236.mp4\n"
     ]
    },
    {
     "name": "stderr",
     "output_type": "stream",
     "text": [
      "\n",
      "100%|██████████| 60/60 [00:00<00:00, 305.15it/s]\n"
     ]
    },
    {
     "name": "stdout",
     "output_type": "stream",
     "text": [
      "[MoviePy] Done.\n",
      "[MoviePy] >>>> Video ready: ./clip/6H4VsHbynQc__1234__1236.mp4 \n",
      "\n",
      "[MoviePy] >>>> Building video ./clip/6H4VsHbynQc__1236__1238.mp4\n",
      "[MoviePy] Writing audio in 6H4VsHbynQc__1236__1238TEMP_MPY_wvf_snd.mp4\n"
     ]
    },
    {
     "name": "stderr",
     "output_type": "stream",
     "text": [
      "100%|██████████| 45/45 [00:00<00:00, 190.97it/s]"
     ]
    },
    {
     "name": "stdout",
     "output_type": "stream",
     "text": [
      "[MoviePy] Done.\n",
      "[MoviePy] Writing video ./clip/6H4VsHbynQc__1236__1238.mp4\n"
     ]
    },
    {
     "name": "stderr",
     "output_type": "stream",
     "text": [
      "\n",
      "100%|██████████| 60/60 [00:00<00:00, 288.14it/s]\n"
     ]
    },
    {
     "name": "stdout",
     "output_type": "stream",
     "text": [
      "[MoviePy] Done.\n",
      "[MoviePy] >>>> Video ready: ./clip/6H4VsHbynQc__1236__1238.mp4 \n",
      "\n",
      "[MoviePy] >>>> Building video ./clip/6H4VsHbynQc__1238__1240.mp4\n",
      "[MoviePy] Writing audio in 6H4VsHbynQc__1238__1240TEMP_MPY_wvf_snd.mp4\n"
     ]
    },
    {
     "name": "stderr",
     "output_type": "stream",
     "text": [
      "100%|██████████| 45/45 [00:00<00:00, 202.34it/s]"
     ]
    },
    {
     "name": "stdout",
     "output_type": "stream",
     "text": [
      "[MoviePy] Done.\n",
      "[MoviePy] Writing video ./clip/6H4VsHbynQc__1238__1240.mp4\n"
     ]
    },
    {
     "name": "stderr",
     "output_type": "stream",
     "text": [
      "\n",
      "100%|██████████| 60/60 [00:00<00:00, 272.70it/s]\n"
     ]
    },
    {
     "name": "stdout",
     "output_type": "stream",
     "text": [
      "[MoviePy] Done.\n",
      "[MoviePy] >>>> Video ready: ./clip/6H4VsHbynQc__1238__1240.mp4 \n",
      "\n",
      "[MoviePy] >>>> Building video ./clip/6H4VsHbynQc__1240__1242.mp4\n",
      "[MoviePy] Writing audio in 6H4VsHbynQc__1240__1242TEMP_MPY_wvf_snd.mp4\n"
     ]
    },
    {
     "name": "stderr",
     "output_type": "stream",
     "text": [
      "100%|██████████| 45/45 [00:00<00:00, 192.18it/s]"
     ]
    },
    {
     "name": "stdout",
     "output_type": "stream",
     "text": [
      "[MoviePy] Done.\n",
      "[MoviePy] Writing video ./clip/6H4VsHbynQc__1240__1242.mp4\n"
     ]
    },
    {
     "name": "stderr",
     "output_type": "stream",
     "text": [
      "\n",
      "100%|██████████| 60/60 [00:00<00:00, 286.10it/s]\n"
     ]
    },
    {
     "name": "stdout",
     "output_type": "stream",
     "text": [
      "[MoviePy] Done.\n",
      "[MoviePy] >>>> Video ready: ./clip/6H4VsHbynQc__1240__1242.mp4 \n",
      "\n",
      "[MoviePy] >>>> Building video ./clip/6H4VsHbynQc__1242__1244.mp4\n",
      "[MoviePy] Writing audio in 6H4VsHbynQc__1242__1244TEMP_MPY_wvf_snd.mp4\n"
     ]
    },
    {
     "name": "stderr",
     "output_type": "stream",
     "text": [
      "100%|██████████| 45/45 [00:00<00:00, 183.65it/s]"
     ]
    },
    {
     "name": "stdout",
     "output_type": "stream",
     "text": [
      "[MoviePy] Done.\n",
      "[MoviePy] Writing video ./clip/6H4VsHbynQc__1242__1244.mp4\n"
     ]
    },
    {
     "name": "stderr",
     "output_type": "stream",
     "text": [
      "\n",
      "100%|██████████| 60/60 [00:00<00:00, 301.05it/s]\n"
     ]
    },
    {
     "name": "stdout",
     "output_type": "stream",
     "text": [
      "[MoviePy] Done.\n",
      "[MoviePy] >>>> Video ready: ./clip/6H4VsHbynQc__1242__1244.mp4 \n",
      "\n",
      "[MoviePy] >>>> Building video ./clip/6H4VsHbynQc__1244__1246.mp4\n",
      "[MoviePy] Writing audio in 6H4VsHbynQc__1244__1246TEMP_MPY_wvf_snd.mp4\n"
     ]
    },
    {
     "name": "stderr",
     "output_type": "stream",
     "text": [
      "100%|██████████| 45/45 [00:00<00:00, 203.66it/s]"
     ]
    },
    {
     "name": "stdout",
     "output_type": "stream",
     "text": [
      "[MoviePy] Done.\n",
      "[MoviePy] Writing video ./clip/6H4VsHbynQc__1244__1246.mp4\n"
     ]
    },
    {
     "name": "stderr",
     "output_type": "stream",
     "text": [
      "\n",
      "100%|██████████| 60/60 [00:00<00:00, 283.61it/s]\n"
     ]
    },
    {
     "name": "stdout",
     "output_type": "stream",
     "text": [
      "[MoviePy] Done.\n",
      "[MoviePy] >>>> Video ready: ./clip/6H4VsHbynQc__1244__1246.mp4 \n",
      "\n",
      "[MoviePy] >>>> Building video ./clip/6H4VsHbynQc__1246__1248.mp4\n",
      "[MoviePy] Writing audio in 6H4VsHbynQc__1246__1248TEMP_MPY_wvf_snd.mp4\n"
     ]
    },
    {
     "name": "stderr",
     "output_type": "stream",
     "text": [
      "100%|██████████| 45/45 [00:00<00:00, 180.87it/s]"
     ]
    },
    {
     "name": "stdout",
     "output_type": "stream",
     "text": [
      "[MoviePy] Done.\n",
      "[MoviePy] Writing video ./clip/6H4VsHbynQc__1246__1248.mp4\n"
     ]
    },
    {
     "name": "stderr",
     "output_type": "stream",
     "text": [
      "\n",
      "100%|██████████| 60/60 [00:00<00:00, 279.48it/s]\n"
     ]
    },
    {
     "name": "stdout",
     "output_type": "stream",
     "text": [
      "[MoviePy] Done.\n",
      "[MoviePy] >>>> Video ready: ./clip/6H4VsHbynQc__1246__1248.mp4 \n",
      "\n",
      "[MoviePy] >>>> Building video ./clip/6H4VsHbynQc__1248__1250.mp4\n",
      "[MoviePy] Writing audio in 6H4VsHbynQc__1248__1250TEMP_MPY_wvf_snd.mp4\n"
     ]
    },
    {
     "name": "stderr",
     "output_type": "stream",
     "text": [
      "100%|██████████| 45/45 [00:00<00:00, 185.47it/s]"
     ]
    },
    {
     "name": "stdout",
     "output_type": "stream",
     "text": [
      "[MoviePy] Done.\n",
      "[MoviePy] Writing video ./clip/6H4VsHbynQc__1248__1250.mp4\n"
     ]
    },
    {
     "name": "stderr",
     "output_type": "stream",
     "text": [
      "\n",
      "100%|██████████| 60/60 [00:00<00:00, 283.01it/s]\n"
     ]
    },
    {
     "name": "stdout",
     "output_type": "stream",
     "text": [
      "[MoviePy] Done.\n",
      "[MoviePy] >>>> Video ready: ./clip/6H4VsHbynQc__1248__1250.mp4 \n",
      "\n",
      "[MoviePy] >>>> Building video ./clip/6H4VsHbynQc__1250__1252.mp4\n",
      "[MoviePy] Writing audio in 6H4VsHbynQc__1250__1252TEMP_MPY_wvf_snd.mp4\n"
     ]
    },
    {
     "name": "stderr",
     "output_type": "stream",
     "text": [
      "100%|██████████| 45/45 [00:00<00:00, 193.03it/s]"
     ]
    },
    {
     "name": "stdout",
     "output_type": "stream",
     "text": [
      "[MoviePy] Done.\n",
      "[MoviePy] Writing video ./clip/6H4VsHbynQc__1250__1252.mp4\n"
     ]
    },
    {
     "name": "stderr",
     "output_type": "stream",
     "text": [
      "\n",
      "100%|██████████| 60/60 [00:00<00:00, 306.78it/s]\n"
     ]
    },
    {
     "name": "stdout",
     "output_type": "stream",
     "text": [
      "[MoviePy] Done.\n",
      "[MoviePy] >>>> Video ready: ./clip/6H4VsHbynQc__1250__1252.mp4 \n",
      "\n",
      "[MoviePy] >>>> Building video ./clip/6H4VsHbynQc__1252__1254.mp4\n",
      "[MoviePy] Writing audio in 6H4VsHbynQc__1252__1254TEMP_MPY_wvf_snd.mp4\n"
     ]
    },
    {
     "name": "stderr",
     "output_type": "stream",
     "text": [
      "100%|██████████| 45/45 [00:00<00:00, 225.02it/s]"
     ]
    },
    {
     "name": "stdout",
     "output_type": "stream",
     "text": [
      "[MoviePy] Done.\n",
      "[MoviePy] Writing video ./clip/6H4VsHbynQc__1252__1254.mp4\n"
     ]
    },
    {
     "name": "stderr",
     "output_type": "stream",
     "text": [
      "\n",
      "100%|██████████| 60/60 [00:00<00:00, 298.46it/s]\n"
     ]
    },
    {
     "name": "stdout",
     "output_type": "stream",
     "text": [
      "[MoviePy] Done.\n",
      "[MoviePy] >>>> Video ready: ./clip/6H4VsHbynQc__1252__1254.mp4 \n",
      "\n",
      "[MoviePy] >>>> Building video ./clip/6H4VsHbynQc__1254__1256.mp4\n",
      "[MoviePy] Writing audio in 6H4VsHbynQc__1254__1256TEMP_MPY_wvf_snd.mp4\n"
     ]
    },
    {
     "name": "stderr",
     "output_type": "stream",
     "text": [
      "100%|██████████| 45/45 [00:00<00:00, 192.31it/s]"
     ]
    },
    {
     "name": "stdout",
     "output_type": "stream",
     "text": [
      "[MoviePy] Done.\n",
      "[MoviePy] Writing video ./clip/6H4VsHbynQc__1254__1256.mp4\n"
     ]
    },
    {
     "name": "stderr",
     "output_type": "stream",
     "text": [
      "\n",
      "100%|██████████| 60/60 [00:00<00:00, 283.30it/s]\n"
     ]
    },
    {
     "name": "stdout",
     "output_type": "stream",
     "text": [
      "[MoviePy] Done.\n",
      "[MoviePy] >>>> Video ready: ./clip/6H4VsHbynQc__1254__1256.mp4 \n",
      "\n",
      "[MoviePy] >>>> Building video ./clip/6H4VsHbynQc__1256__1258.mp4\n",
      "[MoviePy] Writing audio in 6H4VsHbynQc__1256__1258TEMP_MPY_wvf_snd.mp4\n"
     ]
    },
    {
     "name": "stderr",
     "output_type": "stream",
     "text": [
      "100%|██████████| 45/45 [00:00<00:00, 178.64it/s]"
     ]
    },
    {
     "name": "stdout",
     "output_type": "stream",
     "text": [
      "[MoviePy] Done.\n",
      "[MoviePy] Writing video ./clip/6H4VsHbynQc__1256__1258.mp4\n"
     ]
    },
    {
     "name": "stderr",
     "output_type": "stream",
     "text": [
      "\n",
      "100%|██████████| 60/60 [00:00<00:00, 304.60it/s]\n"
     ]
    },
    {
     "name": "stdout",
     "output_type": "stream",
     "text": [
      "[MoviePy] Done.\n",
      "[MoviePy] >>>> Video ready: ./clip/6H4VsHbynQc__1256__1258.mp4 \n",
      "\n",
      "[MoviePy] >>>> Building video ./clip/6H4VsHbynQc__1258__1260.mp4\n",
      "[MoviePy] Writing audio in 6H4VsHbynQc__1258__1260TEMP_MPY_wvf_snd.mp4\n"
     ]
    },
    {
     "name": "stderr",
     "output_type": "stream",
     "text": [
      "100%|██████████| 45/45 [00:00<00:00, 188.51it/s]"
     ]
    },
    {
     "name": "stdout",
     "output_type": "stream",
     "text": [
      "[MoviePy] Done.\n",
      "[MoviePy] Writing video ./clip/6H4VsHbynQc__1258__1260.mp4\n"
     ]
    },
    {
     "name": "stderr",
     "output_type": "stream",
     "text": [
      "\n",
      "100%|██████████| 60/60 [00:00<00:00, 293.83it/s]\n"
     ]
    },
    {
     "name": "stdout",
     "output_type": "stream",
     "text": [
      "[MoviePy] Done.\n",
      "[MoviePy] >>>> Video ready: ./clip/6H4VsHbynQc__1258__1260.mp4 \n",
      "\n",
      "[MoviePy] >>>> Building video ./clip/6H4VsHbynQc__1260__1262.mp4\n",
      "[MoviePy] Writing audio in 6H4VsHbynQc__1260__1262TEMP_MPY_wvf_snd.mp4\n"
     ]
    },
    {
     "name": "stderr",
     "output_type": "stream",
     "text": [
      "100%|██████████| 45/45 [00:00<00:00, 206.26it/s]"
     ]
    },
    {
     "name": "stdout",
     "output_type": "stream",
     "text": [
      "[MoviePy] Done.\n",
      "[MoviePy] Writing video ./clip/6H4VsHbynQc__1260__1262.mp4\n"
     ]
    },
    {
     "name": "stderr",
     "output_type": "stream",
     "text": [
      "\n",
      "100%|██████████| 60/60 [00:00<00:00, 281.59it/s]\n"
     ]
    },
    {
     "name": "stdout",
     "output_type": "stream",
     "text": [
      "[MoviePy] Done.\n",
      "[MoviePy] >>>> Video ready: ./clip/6H4VsHbynQc__1260__1262.mp4 \n",
      "\n",
      "[MoviePy] >>>> Building video ./clip/6H4VsHbynQc__1262__1264.mp4\n",
      "[MoviePy] Writing audio in 6H4VsHbynQc__1262__1264TEMP_MPY_wvf_snd.mp4\n"
     ]
    },
    {
     "name": "stderr",
     "output_type": "stream",
     "text": [
      "100%|██████████| 45/45 [00:00<00:00, 189.73it/s]"
     ]
    },
    {
     "name": "stdout",
     "output_type": "stream",
     "text": [
      "[MoviePy] Done.\n",
      "[MoviePy] Writing video ./clip/6H4VsHbynQc__1262__1264.mp4\n"
     ]
    },
    {
     "name": "stderr",
     "output_type": "stream",
     "text": [
      "\n",
      "100%|██████████| 60/60 [00:00<00:00, 259.44it/s]\n"
     ]
    },
    {
     "name": "stdout",
     "output_type": "stream",
     "text": [
      "[MoviePy] Done.\n",
      "[MoviePy] >>>> Video ready: ./clip/6H4VsHbynQc__1262__1264.mp4 \n",
      "\n",
      "[MoviePy] >>>> Building video ./clip/6H4VsHbynQc__1264__1266.mp4\n",
      "[MoviePy] Writing audio in 6H4VsHbynQc__1264__1266TEMP_MPY_wvf_snd.mp4\n"
     ]
    },
    {
     "name": "stderr",
     "output_type": "stream",
     "text": [
      "100%|██████████| 45/45 [00:00<00:00, 210.56it/s]"
     ]
    },
    {
     "name": "stdout",
     "output_type": "stream",
     "text": [
      "[MoviePy] Done.\n",
      "[MoviePy] Writing video ./clip/6H4VsHbynQc__1264__1266.mp4\n"
     ]
    },
    {
     "name": "stderr",
     "output_type": "stream",
     "text": [
      "\n",
      "100%|██████████| 60/60 [00:00<00:00, 285.95it/s]\n"
     ]
    },
    {
     "name": "stdout",
     "output_type": "stream",
     "text": [
      "[MoviePy] Done.\n",
      "[MoviePy] >>>> Video ready: ./clip/6H4VsHbynQc__1264__1266.mp4 \n",
      "\n",
      "[MoviePy] >>>> Building video ./clip/6H4VsHbynQc__1266__1268.mp4\n",
      "[MoviePy] Writing audio in 6H4VsHbynQc__1266__1268TEMP_MPY_wvf_snd.mp4\n"
     ]
    },
    {
     "name": "stderr",
     "output_type": "stream",
     "text": [
      "100%|██████████| 45/45 [00:00<00:00, 192.77it/s]"
     ]
    },
    {
     "name": "stdout",
     "output_type": "stream",
     "text": [
      "[MoviePy] Done.\n",
      "[MoviePy] Writing video ./clip/6H4VsHbynQc__1266__1268.mp4\n"
     ]
    },
    {
     "name": "stderr",
     "output_type": "stream",
     "text": [
      "\n",
      "100%|██████████| 60/60 [00:00<00:00, 275.80it/s]\n"
     ]
    },
    {
     "name": "stdout",
     "output_type": "stream",
     "text": [
      "[MoviePy] Done.\n",
      "[MoviePy] >>>> Video ready: ./clip/6H4VsHbynQc__1266__1268.mp4 \n",
      "\n",
      "[MoviePy] >>>> Building video ./clip/6H4VsHbynQc__1268__1270.mp4\n",
      "[MoviePy] Writing audio in 6H4VsHbynQc__1268__1270TEMP_MPY_wvf_snd.mp4\n"
     ]
    },
    {
     "name": "stderr",
     "output_type": "stream",
     "text": [
      "100%|██████████| 45/45 [00:00<00:00, 188.81it/s]"
     ]
    },
    {
     "name": "stdout",
     "output_type": "stream",
     "text": [
      "[MoviePy] Done.\n",
      "[MoviePy] Writing video ./clip/6H4VsHbynQc__1268__1270.mp4\n"
     ]
    },
    {
     "name": "stderr",
     "output_type": "stream",
     "text": [
      "\n",
      "100%|██████████| 60/60 [00:00<00:00, 273.35it/s]\n"
     ]
    },
    {
     "name": "stdout",
     "output_type": "stream",
     "text": [
      "[MoviePy] Done.\n",
      "[MoviePy] >>>> Video ready: ./clip/6H4VsHbynQc__1268__1270.mp4 \n",
      "\n",
      "[MoviePy] >>>> Building video ./clip/6H4VsHbynQc__1270__1272.mp4\n",
      "[MoviePy] Writing audio in 6H4VsHbynQc__1270__1272TEMP_MPY_wvf_snd.mp4\n"
     ]
    },
    {
     "name": "stderr",
     "output_type": "stream",
     "text": [
      "100%|██████████| 45/45 [00:00<00:00, 186.24it/s]"
     ]
    },
    {
     "name": "stdout",
     "output_type": "stream",
     "text": [
      "[MoviePy] Done.\n",
      "[MoviePy] Writing video ./clip/6H4VsHbynQc__1270__1272.mp4\n"
     ]
    },
    {
     "name": "stderr",
     "output_type": "stream",
     "text": [
      "\n",
      "100%|██████████| 60/60 [00:00<00:00, 304.64it/s]\n"
     ]
    },
    {
     "name": "stdout",
     "output_type": "stream",
     "text": [
      "[MoviePy] Done.\n",
      "[MoviePy] >>>> Video ready: ./clip/6H4VsHbynQc__1270__1272.mp4 \n",
      "\n",
      "[MoviePy] >>>> Building video ./clip/6H4VsHbynQc__1272__1274.mp4\n",
      "[MoviePy] Writing audio in 6H4VsHbynQc__1272__1274TEMP_MPY_wvf_snd.mp4\n"
     ]
    },
    {
     "name": "stderr",
     "output_type": "stream",
     "text": [
      "100%|██████████| 45/45 [00:00<00:00, 183.63it/s]"
     ]
    },
    {
     "name": "stdout",
     "output_type": "stream",
     "text": [
      "[MoviePy] Done.\n",
      "[MoviePy] Writing video ./clip/6H4VsHbynQc__1272__1274.mp4\n"
     ]
    },
    {
     "name": "stderr",
     "output_type": "stream",
     "text": [
      "\n",
      "100%|██████████| 60/60 [00:00<00:00, 241.49it/s]\n"
     ]
    },
    {
     "name": "stdout",
     "output_type": "stream",
     "text": [
      "[MoviePy] Done.\n",
      "[MoviePy] >>>> Video ready: ./clip/6H4VsHbynQc__1272__1274.mp4 \n",
      "\n",
      "[MoviePy] >>>> Building video ./clip/6H4VsHbynQc__1274__1276.mp4\n",
      "[MoviePy] Writing audio in 6H4VsHbynQc__1274__1276TEMP_MPY_wvf_snd.mp4\n"
     ]
    },
    {
     "name": "stderr",
     "output_type": "stream",
     "text": [
      "100%|██████████| 45/45 [00:00<00:00, 187.44it/s]"
     ]
    },
    {
     "name": "stdout",
     "output_type": "stream",
     "text": [
      "[MoviePy] Done.\n",
      "[MoviePy] Writing video ./clip/6H4VsHbynQc__1274__1276.mp4\n"
     ]
    },
    {
     "name": "stderr",
     "output_type": "stream",
     "text": [
      "\n",
      "100%|██████████| 60/60 [00:00<00:00, 300.52it/s]\n"
     ]
    },
    {
     "name": "stdout",
     "output_type": "stream",
     "text": [
      "[MoviePy] Done.\n",
      "[MoviePy] >>>> Video ready: ./clip/6H4VsHbynQc__1274__1276.mp4 \n",
      "\n",
      "[MoviePy] >>>> Building video ./clip/6H4VsHbynQc__1276__1278.mp4\n",
      "[MoviePy] Writing audio in 6H4VsHbynQc__1276__1278TEMP_MPY_wvf_snd.mp4\n"
     ]
    },
    {
     "name": "stderr",
     "output_type": "stream",
     "text": [
      "100%|██████████| 45/45 [00:00<00:00, 191.68it/s]"
     ]
    },
    {
     "name": "stdout",
     "output_type": "stream",
     "text": [
      "[MoviePy] Done.\n",
      "[MoviePy] Writing video ./clip/6H4VsHbynQc__1276__1278.mp4\n"
     ]
    },
    {
     "name": "stderr",
     "output_type": "stream",
     "text": [
      "\n",
      "100%|██████████| 60/60 [00:00<00:00, 287.63it/s]\n"
     ]
    },
    {
     "name": "stdout",
     "output_type": "stream",
     "text": [
      "[MoviePy] Done.\n",
      "[MoviePy] >>>> Video ready: ./clip/6H4VsHbynQc__1276__1278.mp4 \n",
      "\n",
      "[MoviePy] >>>> Building video ./clip/6H4VsHbynQc__1278__1280.mp4\n",
      "[MoviePy] Writing audio in 6H4VsHbynQc__1278__1280TEMP_MPY_wvf_snd.mp4\n"
     ]
    },
    {
     "name": "stderr",
     "output_type": "stream",
     "text": [
      "100%|██████████| 45/45 [00:00<00:00, 189.82it/s]"
     ]
    },
    {
     "name": "stdout",
     "output_type": "stream",
     "text": [
      "[MoviePy] Done.\n",
      "[MoviePy] Writing video ./clip/6H4VsHbynQc__1278__1280.mp4\n"
     ]
    },
    {
     "name": "stderr",
     "output_type": "stream",
     "text": [
      "\n",
      "100%|██████████| 60/60 [00:00<00:00, 291.35it/s]\n"
     ]
    },
    {
     "name": "stdout",
     "output_type": "stream",
     "text": [
      "[MoviePy] Done.\n",
      "[MoviePy] >>>> Video ready: ./clip/6H4VsHbynQc__1278__1280.mp4 \n",
      "\n",
      "[MoviePy] >>>> Building video ./clip/6H4VsHbynQc__1280__1282.mp4\n",
      "[MoviePy] Writing audio in 6H4VsHbynQc__1280__1282TEMP_MPY_wvf_snd.mp4\n"
     ]
    },
    {
     "name": "stderr",
     "output_type": "stream",
     "text": [
      "100%|██████████| 45/45 [00:00<00:00, 197.44it/s]"
     ]
    },
    {
     "name": "stdout",
     "output_type": "stream",
     "text": [
      "[MoviePy] Done.\n",
      "[MoviePy] Writing video ./clip/6H4VsHbynQc__1280__1282.mp4\n"
     ]
    },
    {
     "name": "stderr",
     "output_type": "stream",
     "text": [
      "\n",
      "100%|██████████| 60/60 [00:00<00:00, 263.11it/s]\n"
     ]
    },
    {
     "name": "stdout",
     "output_type": "stream",
     "text": [
      "[MoviePy] Done.\n",
      "[MoviePy] >>>> Video ready: ./clip/6H4VsHbynQc__1280__1282.mp4 \n",
      "\n",
      "[MoviePy] >>>> Building video ./clip/6H4VsHbynQc__1282__1284.mp4\n",
      "[MoviePy] Writing audio in 6H4VsHbynQc__1282__1284TEMP_MPY_wvf_snd.mp4\n"
     ]
    },
    {
     "name": "stderr",
     "output_type": "stream",
     "text": [
      "100%|██████████| 45/45 [00:00<00:00, 182.50it/s]"
     ]
    },
    {
     "name": "stdout",
     "output_type": "stream",
     "text": [
      "[MoviePy] Done.\n",
      "[MoviePy] Writing video ./clip/6H4VsHbynQc__1282__1284.mp4\n"
     ]
    },
    {
     "name": "stderr",
     "output_type": "stream",
     "text": [
      "\n",
      "100%|██████████| 60/60 [00:00<00:00, 262.14it/s]\n"
     ]
    },
    {
     "name": "stdout",
     "output_type": "stream",
     "text": [
      "[MoviePy] Done.\n",
      "[MoviePy] >>>> Video ready: ./clip/6H4VsHbynQc__1282__1284.mp4 \n",
      "\n",
      "[MoviePy] >>>> Building video ./clip/6H4VsHbynQc__1284__1286.mp4\n",
      "[MoviePy] Writing audio in 6H4VsHbynQc__1284__1286TEMP_MPY_wvf_snd.mp4\n"
     ]
    },
    {
     "name": "stderr",
     "output_type": "stream",
     "text": [
      "100%|██████████| 45/45 [00:00<00:00, 184.77it/s]"
     ]
    },
    {
     "name": "stdout",
     "output_type": "stream",
     "text": [
      "[MoviePy] Done.\n",
      "[MoviePy] Writing video ./clip/6H4VsHbynQc__1284__1286.mp4\n"
     ]
    },
    {
     "name": "stderr",
     "output_type": "stream",
     "text": [
      "\n",
      "100%|██████████| 60/60 [00:00<00:00, 261.50it/s]\n"
     ]
    },
    {
     "name": "stdout",
     "output_type": "stream",
     "text": [
      "[MoviePy] Done.\n",
      "[MoviePy] >>>> Video ready: ./clip/6H4VsHbynQc__1284__1286.mp4 \n",
      "\n",
      "[MoviePy] >>>> Building video ./clip/6H4VsHbynQc__1286__1288.mp4\n",
      "[MoviePy] Writing audio in 6H4VsHbynQc__1286__1288TEMP_MPY_wvf_snd.mp4\n"
     ]
    },
    {
     "name": "stderr",
     "output_type": "stream",
     "text": [
      "100%|██████████| 45/45 [00:00<00:00, 176.35it/s]"
     ]
    },
    {
     "name": "stdout",
     "output_type": "stream",
     "text": [
      "[MoviePy] Done.\n",
      "[MoviePy] Writing video ./clip/6H4VsHbynQc__1286__1288.mp4\n"
     ]
    },
    {
     "name": "stderr",
     "output_type": "stream",
     "text": [
      "\n",
      "100%|██████████| 60/60 [00:00<00:00, 279.64it/s]\n"
     ]
    },
    {
     "name": "stdout",
     "output_type": "stream",
     "text": [
      "[MoviePy] Done.\n",
      "[MoviePy] >>>> Video ready: ./clip/6H4VsHbynQc__1286__1288.mp4 \n",
      "\n",
      "[MoviePy] >>>> Building video ./clip/6H4VsHbynQc__1288__1290.mp4\n",
      "[MoviePy] Writing audio in 6H4VsHbynQc__1288__1290TEMP_MPY_wvf_snd.mp4\n"
     ]
    },
    {
     "name": "stderr",
     "output_type": "stream",
     "text": [
      "100%|██████████| 45/45 [00:00<00:00, 186.67it/s]"
     ]
    },
    {
     "name": "stdout",
     "output_type": "stream",
     "text": [
      "[MoviePy] Done.\n",
      "[MoviePy] Writing video ./clip/6H4VsHbynQc__1288__1290.mp4\n"
     ]
    },
    {
     "name": "stderr",
     "output_type": "stream",
     "text": [
      "\n",
      "100%|██████████| 60/60 [00:00<00:00, 297.62it/s]\n"
     ]
    },
    {
     "name": "stdout",
     "output_type": "stream",
     "text": [
      "[MoviePy] Done.\n",
      "[MoviePy] >>>> Video ready: ./clip/6H4VsHbynQc__1288__1290.mp4 \n",
      "\n",
      "[MoviePy] >>>> Building video ./clip/6H4VsHbynQc__1290__1292.mp4\n",
      "[MoviePy] Writing audio in 6H4VsHbynQc__1290__1292TEMP_MPY_wvf_snd.mp4\n"
     ]
    },
    {
     "name": "stderr",
     "output_type": "stream",
     "text": [
      "100%|██████████| 45/45 [00:00<00:00, 177.42it/s]"
     ]
    },
    {
     "name": "stdout",
     "output_type": "stream",
     "text": [
      "[MoviePy] Done.\n",
      "[MoviePy] Writing video ./clip/6H4VsHbynQc__1290__1292.mp4\n"
     ]
    },
    {
     "name": "stderr",
     "output_type": "stream",
     "text": [
      "\n",
      "100%|██████████| 60/60 [00:00<00:00, 327.37it/s]\n"
     ]
    },
    {
     "name": "stdout",
     "output_type": "stream",
     "text": [
      "[MoviePy] Done.\n",
      "[MoviePy] >>>> Video ready: ./clip/6H4VsHbynQc__1290__1292.mp4 \n",
      "\n",
      "[MoviePy] >>>> Building video ./clip/6H4VsHbynQc__1292__1294.mp4\n",
      "[MoviePy] Writing audio in 6H4VsHbynQc__1292__1294TEMP_MPY_wvf_snd.mp4\n"
     ]
    },
    {
     "name": "stderr",
     "output_type": "stream",
     "text": [
      "100%|██████████| 45/45 [00:00<00:00, 187.37it/s]"
     ]
    },
    {
     "name": "stdout",
     "output_type": "stream",
     "text": [
      "[MoviePy] Done.\n",
      "[MoviePy] Writing video ./clip/6H4VsHbynQc__1292__1294.mp4\n"
     ]
    },
    {
     "name": "stderr",
     "output_type": "stream",
     "text": [
      "\n",
      "100%|██████████| 60/60 [00:00<00:00, 297.69it/s]\n"
     ]
    },
    {
     "name": "stdout",
     "output_type": "stream",
     "text": [
      "[MoviePy] Done.\n",
      "[MoviePy] >>>> Video ready: ./clip/6H4VsHbynQc__1292__1294.mp4 \n",
      "\n",
      "[MoviePy] >>>> Building video ./clip/6H4VsHbynQc__1294__1296.mp4\n",
      "[MoviePy] Writing audio in 6H4VsHbynQc__1294__1296TEMP_MPY_wvf_snd.mp4\n"
     ]
    },
    {
     "name": "stderr",
     "output_type": "stream",
     "text": [
      "100%|██████████| 45/45 [00:00<00:00, 176.40it/s]"
     ]
    },
    {
     "name": "stdout",
     "output_type": "stream",
     "text": [
      "[MoviePy] Done.\n",
      "[MoviePy] Writing video ./clip/6H4VsHbynQc__1294__1296.mp4\n"
     ]
    },
    {
     "name": "stderr",
     "output_type": "stream",
     "text": [
      "\n",
      "100%|██████████| 60/60 [00:00<00:00, 283.71it/s]\n"
     ]
    },
    {
     "name": "stdout",
     "output_type": "stream",
     "text": [
      "[MoviePy] Done.\n",
      "[MoviePy] >>>> Video ready: ./clip/6H4VsHbynQc__1294__1296.mp4 \n",
      "\n",
      "[MoviePy] >>>> Building video ./clip/6H4VsHbynQc__1296__1298.mp4\n",
      "[MoviePy] Writing audio in 6H4VsHbynQc__1296__1298TEMP_MPY_wvf_snd.mp4\n"
     ]
    },
    {
     "name": "stderr",
     "output_type": "stream",
     "text": [
      "100%|██████████| 45/45 [00:00<00:00, 188.31it/s]"
     ]
    },
    {
     "name": "stdout",
     "output_type": "stream",
     "text": [
      "[MoviePy] Done.\n",
      "[MoviePy] Writing video ./clip/6H4VsHbynQc__1296__1298.mp4\n"
     ]
    },
    {
     "name": "stderr",
     "output_type": "stream",
     "text": [
      "\n",
      "100%|██████████| 60/60 [00:00<00:00, 260.43it/s]\n"
     ]
    },
    {
     "name": "stdout",
     "output_type": "stream",
     "text": [
      "[MoviePy] Done.\n",
      "[MoviePy] >>>> Video ready: ./clip/6H4VsHbynQc__1296__1298.mp4 \n",
      "\n",
      "[MoviePy] >>>> Building video ./clip/6H4VsHbynQc__1298__1300.mp4\n",
      "[MoviePy] Writing audio in 6H4VsHbynQc__1298__1300TEMP_MPY_wvf_snd.mp4\n"
     ]
    },
    {
     "name": "stderr",
     "output_type": "stream",
     "text": [
      "100%|██████████| 45/45 [00:00<00:00, 193.80it/s]"
     ]
    },
    {
     "name": "stdout",
     "output_type": "stream",
     "text": [
      "[MoviePy] Done.\n",
      "[MoviePy] Writing video ./clip/6H4VsHbynQc__1298__1300.mp4\n"
     ]
    },
    {
     "name": "stderr",
     "output_type": "stream",
     "text": [
      "\n",
      "100%|██████████| 60/60 [00:00<00:00, 273.28it/s]\n"
     ]
    },
    {
     "name": "stdout",
     "output_type": "stream",
     "text": [
      "[MoviePy] Done.\n",
      "[MoviePy] >>>> Video ready: ./clip/6H4VsHbynQc__1298__1300.mp4 \n",
      "\n",
      "[MoviePy] >>>> Building video ./clip/6H4VsHbynQc__1300__1302.mp4\n",
      "[MoviePy] Writing audio in 6H4VsHbynQc__1300__1302TEMP_MPY_wvf_snd.mp4\n"
     ]
    },
    {
     "name": "stderr",
     "output_type": "stream",
     "text": [
      "100%|██████████| 45/45 [00:00<00:00, 182.90it/s]"
     ]
    },
    {
     "name": "stdout",
     "output_type": "stream",
     "text": [
      "[MoviePy] Done.\n",
      "[MoviePy] Writing video ./clip/6H4VsHbynQc__1300__1302.mp4\n"
     ]
    },
    {
     "name": "stderr",
     "output_type": "stream",
     "text": [
      "\n",
      "100%|██████████| 60/60 [00:00<00:00, 261.77it/s]\n"
     ]
    },
    {
     "name": "stdout",
     "output_type": "stream",
     "text": [
      "[MoviePy] Done.\n",
      "[MoviePy] >>>> Video ready: ./clip/6H4VsHbynQc__1300__1302.mp4 \n",
      "\n",
      "[MoviePy] >>>> Building video ./clip/6H4VsHbynQc__1302__1304.mp4\n",
      "[MoviePy] Writing audio in 6H4VsHbynQc__1302__1304TEMP_MPY_wvf_snd.mp4\n"
     ]
    },
    {
     "name": "stderr",
     "output_type": "stream",
     "text": [
      "100%|██████████| 45/45 [00:00<00:00, 184.85it/s]"
     ]
    },
    {
     "name": "stdout",
     "output_type": "stream",
     "text": [
      "[MoviePy] Done.\n",
      "[MoviePy] Writing video ./clip/6H4VsHbynQc__1302__1304.mp4\n"
     ]
    },
    {
     "name": "stderr",
     "output_type": "stream",
     "text": [
      "\n",
      "100%|██████████| 60/60 [00:00<00:00, 260.40it/s]\n"
     ]
    },
    {
     "name": "stdout",
     "output_type": "stream",
     "text": [
      "[MoviePy] Done.\n",
      "[MoviePy] >>>> Video ready: ./clip/6H4VsHbynQc__1302__1304.mp4 \n",
      "\n",
      "[MoviePy] >>>> Building video ./clip/6H4VsHbynQc__1304__1306.mp4\n",
      "[MoviePy] Writing audio in 6H4VsHbynQc__1304__1306TEMP_MPY_wvf_snd.mp4\n"
     ]
    },
    {
     "name": "stderr",
     "output_type": "stream",
     "text": [
      "100%|██████████| 45/45 [00:00<00:00, 187.31it/s]"
     ]
    },
    {
     "name": "stdout",
     "output_type": "stream",
     "text": [
      "[MoviePy] Done.\n",
      "[MoviePy] Writing video ./clip/6H4VsHbynQc__1304__1306.mp4\n"
     ]
    },
    {
     "name": "stderr",
     "output_type": "stream",
     "text": [
      "\n",
      "100%|██████████| 60/60 [00:00<00:00, 258.75it/s]\n"
     ]
    },
    {
     "name": "stdout",
     "output_type": "stream",
     "text": [
      "[MoviePy] Done.\n",
      "[MoviePy] >>>> Video ready: ./clip/6H4VsHbynQc__1304__1306.mp4 \n",
      "\n",
      "[MoviePy] >>>> Building video ./clip/6H4VsHbynQc__1306__1308.mp4\n",
      "[MoviePy] Writing audio in 6H4VsHbynQc__1306__1308TEMP_MPY_wvf_snd.mp4\n"
     ]
    },
    {
     "name": "stderr",
     "output_type": "stream",
     "text": [
      "100%|██████████| 45/45 [00:00<00:00, 188.23it/s]"
     ]
    },
    {
     "name": "stdout",
     "output_type": "stream",
     "text": [
      "[MoviePy] Done.\n",
      "[MoviePy] Writing video ./clip/6H4VsHbynQc__1306__1308.mp4\n"
     ]
    },
    {
     "name": "stderr",
     "output_type": "stream",
     "text": [
      "\n",
      "100%|██████████| 60/60 [00:00<00:00, 253.34it/s]\n"
     ]
    },
    {
     "name": "stdout",
     "output_type": "stream",
     "text": [
      "[MoviePy] Done.\n",
      "[MoviePy] >>>> Video ready: ./clip/6H4VsHbynQc__1306__1308.mp4 \n",
      "\n",
      "[MoviePy] >>>> Building video ./clip/6H4VsHbynQc__1308__1310.mp4\n",
      "[MoviePy] Writing audio in 6H4VsHbynQc__1308__1310TEMP_MPY_wvf_snd.mp4\n"
     ]
    },
    {
     "name": "stderr",
     "output_type": "stream",
     "text": [
      "100%|██████████| 45/45 [00:00<00:00, 183.38it/s]"
     ]
    },
    {
     "name": "stdout",
     "output_type": "stream",
     "text": [
      "[MoviePy] Done.\n",
      "[MoviePy] Writing video ./clip/6H4VsHbynQc__1308__1310.mp4\n"
     ]
    },
    {
     "name": "stderr",
     "output_type": "stream",
     "text": [
      "\n",
      "100%|██████████| 60/60 [00:00<00:00, 276.77it/s]\n"
     ]
    },
    {
     "name": "stdout",
     "output_type": "stream",
     "text": [
      "[MoviePy] Done.\n",
      "[MoviePy] >>>> Video ready: ./clip/6H4VsHbynQc__1308__1310.mp4 \n",
      "\n",
      "[MoviePy] >>>> Building video ./clip/6H4VsHbynQc__1310__1312.mp4\n",
      "[MoviePy] Writing audio in 6H4VsHbynQc__1310__1312TEMP_MPY_wvf_snd.mp4\n"
     ]
    },
    {
     "name": "stderr",
     "output_type": "stream",
     "text": [
      "100%|██████████| 45/45 [00:00<00:00, 191.45it/s]"
     ]
    },
    {
     "name": "stdout",
     "output_type": "stream",
     "text": [
      "[MoviePy] Done.\n",
      "[MoviePy] Writing video ./clip/6H4VsHbynQc__1310__1312.mp4\n"
     ]
    },
    {
     "name": "stderr",
     "output_type": "stream",
     "text": [
      "\n",
      "100%|██████████| 60/60 [00:00<00:00, 278.72it/s]\n"
     ]
    },
    {
     "name": "stdout",
     "output_type": "stream",
     "text": [
      "[MoviePy] Done.\n",
      "[MoviePy] >>>> Video ready: ./clip/6H4VsHbynQc__1310__1312.mp4 \n",
      "\n",
      "[MoviePy] >>>> Building video ./clip/6H4VsHbynQc__1312__1314.mp4\n",
      "[MoviePy] Writing audio in 6H4VsHbynQc__1312__1314TEMP_MPY_wvf_snd.mp4\n"
     ]
    },
    {
     "name": "stderr",
     "output_type": "stream",
     "text": [
      "100%|██████████| 45/45 [00:00<00:00, 176.70it/s]"
     ]
    },
    {
     "name": "stdout",
     "output_type": "stream",
     "text": [
      "[MoviePy] Done.\n",
      "[MoviePy] Writing video ./clip/6H4VsHbynQc__1312__1314.mp4\n"
     ]
    },
    {
     "name": "stderr",
     "output_type": "stream",
     "text": [
      "\n",
      "100%|██████████| 60/60 [00:00<00:00, 265.92it/s]\n"
     ]
    },
    {
     "name": "stdout",
     "output_type": "stream",
     "text": [
      "[MoviePy] Done.\n",
      "[MoviePy] >>>> Video ready: ./clip/6H4VsHbynQc__1312__1314.mp4 \n",
      "\n",
      "[MoviePy] >>>> Building video ./clip/6H4VsHbynQc__1314__1316.mp4\n",
      "[MoviePy] Writing audio in 6H4VsHbynQc__1314__1316TEMP_MPY_wvf_snd.mp4\n"
     ]
    },
    {
     "name": "stderr",
     "output_type": "stream",
     "text": [
      "100%|██████████| 45/45 [00:00<00:00, 187.05it/s]"
     ]
    },
    {
     "name": "stdout",
     "output_type": "stream",
     "text": [
      "[MoviePy] Done.\n",
      "[MoviePy] Writing video ./clip/6H4VsHbynQc__1314__1316.mp4\n"
     ]
    },
    {
     "name": "stderr",
     "output_type": "stream",
     "text": [
      "\n",
      "100%|██████████| 60/60 [00:00<00:00, 273.39it/s]\n"
     ]
    },
    {
     "name": "stdout",
     "output_type": "stream",
     "text": [
      "[MoviePy] Done.\n",
      "[MoviePy] >>>> Video ready: ./clip/6H4VsHbynQc__1314__1316.mp4 \n",
      "\n",
      "[MoviePy] >>>> Building video ./clip/6H4VsHbynQc__1316__1318.mp4\n",
      "[MoviePy] Writing audio in 6H4VsHbynQc__1316__1318TEMP_MPY_wvf_snd.mp4\n"
     ]
    },
    {
     "name": "stderr",
     "output_type": "stream",
     "text": [
      "100%|██████████| 45/45 [00:00<00:00, 187.34it/s]"
     ]
    },
    {
     "name": "stdout",
     "output_type": "stream",
     "text": [
      "[MoviePy] Done.\n",
      "[MoviePy] Writing video ./clip/6H4VsHbynQc__1316__1318.mp4\n"
     ]
    },
    {
     "name": "stderr",
     "output_type": "stream",
     "text": [
      "\n",
      "100%|██████████| 60/60 [00:00<00:00, 264.82it/s]\n"
     ]
    },
    {
     "name": "stdout",
     "output_type": "stream",
     "text": [
      "[MoviePy] Done.\n",
      "[MoviePy] >>>> Video ready: ./clip/6H4VsHbynQc__1316__1318.mp4 \n",
      "\n",
      "[MoviePy] >>>> Building video ./clip/6H4VsHbynQc__1318__1320.mp4\n",
      "[MoviePy] Writing audio in 6H4VsHbynQc__1318__1320TEMP_MPY_wvf_snd.mp4\n"
     ]
    },
    {
     "name": "stderr",
     "output_type": "stream",
     "text": [
      "100%|██████████| 45/45 [00:00<00:00, 187.78it/s]"
     ]
    },
    {
     "name": "stdout",
     "output_type": "stream",
     "text": [
      "[MoviePy] Done.\n",
      "[MoviePy] Writing video ./clip/6H4VsHbynQc__1318__1320.mp4\n"
     ]
    },
    {
     "name": "stderr",
     "output_type": "stream",
     "text": [
      "\n",
      "100%|██████████| 60/60 [00:00<00:00, 269.63it/s]\n"
     ]
    },
    {
     "name": "stdout",
     "output_type": "stream",
     "text": [
      "[MoviePy] Done.\n",
      "[MoviePy] >>>> Video ready: ./clip/6H4VsHbynQc__1318__1320.mp4 \n",
      "\n",
      "[MoviePy] >>>> Building video ./clip/6H4VsHbynQc__1320__1322.mp4\n",
      "[MoviePy] Writing audio in 6H4VsHbynQc__1320__1322TEMP_MPY_wvf_snd.mp4\n"
     ]
    },
    {
     "name": "stderr",
     "output_type": "stream",
     "text": [
      "100%|██████████| 45/45 [00:00<00:00, 191.06it/s]"
     ]
    },
    {
     "name": "stdout",
     "output_type": "stream",
     "text": [
      "[MoviePy] Done.\n",
      "[MoviePy] Writing video ./clip/6H4VsHbynQc__1320__1322.mp4\n"
     ]
    },
    {
     "name": "stderr",
     "output_type": "stream",
     "text": [
      "\n",
      "100%|██████████| 60/60 [00:00<00:00, 276.76it/s]\n"
     ]
    },
    {
     "name": "stdout",
     "output_type": "stream",
     "text": [
      "[MoviePy] Done.\n",
      "[MoviePy] >>>> Video ready: ./clip/6H4VsHbynQc__1320__1322.mp4 \n",
      "\n",
      "[MoviePy] >>>> Building video ./clip/6H4VsHbynQc__1322__1324.mp4\n",
      "[MoviePy] Writing audio in 6H4VsHbynQc__1322__1324TEMP_MPY_wvf_snd.mp4\n"
     ]
    },
    {
     "name": "stderr",
     "output_type": "stream",
     "text": [
      "100%|██████████| 45/45 [00:00<00:00, 174.34it/s]"
     ]
    },
    {
     "name": "stdout",
     "output_type": "stream",
     "text": [
      "[MoviePy] Done.\n",
      "[MoviePy] Writing video ./clip/6H4VsHbynQc__1322__1324.mp4\n"
     ]
    },
    {
     "name": "stderr",
     "output_type": "stream",
     "text": [
      "\n",
      "100%|██████████| 60/60 [00:00<00:00, 265.29it/s]\n"
     ]
    },
    {
     "name": "stdout",
     "output_type": "stream",
     "text": [
      "[MoviePy] Done.\n",
      "[MoviePy] >>>> Video ready: ./clip/6H4VsHbynQc__1322__1324.mp4 \n",
      "\n",
      "[MoviePy] >>>> Building video ./clip/6H4VsHbynQc__1324__1326.mp4\n",
      "[MoviePy] Writing audio in 6H4VsHbynQc__1324__1326TEMP_MPY_wvf_snd.mp4\n"
     ]
    },
    {
     "name": "stderr",
     "output_type": "stream",
     "text": [
      "100%|██████████| 45/45 [00:00<00:00, 176.68it/s]"
     ]
    },
    {
     "name": "stdout",
     "output_type": "stream",
     "text": [
      "[MoviePy] Done.\n",
      "[MoviePy] Writing video ./clip/6H4VsHbynQc__1324__1326.mp4\n"
     ]
    },
    {
     "name": "stderr",
     "output_type": "stream",
     "text": [
      "\n",
      "100%|██████████| 60/60 [00:00<00:00, 260.06it/s]\n"
     ]
    },
    {
     "name": "stdout",
     "output_type": "stream",
     "text": [
      "[MoviePy] Done.\n",
      "[MoviePy] >>>> Video ready: ./clip/6H4VsHbynQc__1324__1326.mp4 \n",
      "\n",
      "[MoviePy] >>>> Building video ./clip/6H4VsHbynQc__1326__1328.mp4\n",
      "[MoviePy] Writing audio in 6H4VsHbynQc__1326__1328TEMP_MPY_wvf_snd.mp4\n"
     ]
    },
    {
     "name": "stderr",
     "output_type": "stream",
     "text": [
      "100%|██████████| 45/45 [00:00<00:00, 188.87it/s]"
     ]
    },
    {
     "name": "stdout",
     "output_type": "stream",
     "text": [
      "[MoviePy] Done.\n",
      "[MoviePy] Writing video ./clip/6H4VsHbynQc__1326__1328.mp4\n"
     ]
    },
    {
     "name": "stderr",
     "output_type": "stream",
     "text": [
      "\n",
      "100%|██████████| 60/60 [00:00<00:00, 285.49it/s]\n"
     ]
    },
    {
     "name": "stdout",
     "output_type": "stream",
     "text": [
      "[MoviePy] Done.\n",
      "[MoviePy] >>>> Video ready: ./clip/6H4VsHbynQc__1326__1328.mp4 \n",
      "\n",
      "[MoviePy] >>>> Building video ./clip/6H4VsHbynQc__1328__1330.mp4\n",
      "[MoviePy] Writing audio in 6H4VsHbynQc__1328__1330TEMP_MPY_wvf_snd.mp4\n"
     ]
    },
    {
     "name": "stderr",
     "output_type": "stream",
     "text": [
      "100%|██████████| 45/45 [00:00<00:00, 199.34it/s]"
     ]
    },
    {
     "name": "stdout",
     "output_type": "stream",
     "text": [
      "[MoviePy] Done.\n",
      "[MoviePy] Writing video ./clip/6H4VsHbynQc__1328__1330.mp4\n"
     ]
    },
    {
     "name": "stderr",
     "output_type": "stream",
     "text": [
      "\n",
      "100%|██████████| 60/60 [00:00<00:00, 266.00it/s]\n"
     ]
    },
    {
     "name": "stdout",
     "output_type": "stream",
     "text": [
      "[MoviePy] Done.\n",
      "[MoviePy] >>>> Video ready: ./clip/6H4VsHbynQc__1328__1330.mp4 \n",
      "\n",
      "[MoviePy] >>>> Building video ./clip/6H4VsHbynQc__1330__1332.mp4\n",
      "[MoviePy] Writing audio in 6H4VsHbynQc__1330__1332TEMP_MPY_wvf_snd.mp4\n"
     ]
    },
    {
     "name": "stderr",
     "output_type": "stream",
     "text": [
      "100%|██████████| 45/45 [00:00<00:00, 191.36it/s]"
     ]
    },
    {
     "name": "stdout",
     "output_type": "stream",
     "text": [
      "[MoviePy] Done.\n",
      "[MoviePy] Writing video ./clip/6H4VsHbynQc__1330__1332.mp4\n"
     ]
    },
    {
     "name": "stderr",
     "output_type": "stream",
     "text": [
      "\n",
      "100%|██████████| 60/60 [00:00<00:00, 298.44it/s]\n"
     ]
    },
    {
     "name": "stdout",
     "output_type": "stream",
     "text": [
      "[MoviePy] Done.\n",
      "[MoviePy] >>>> Video ready: ./clip/6H4VsHbynQc__1330__1332.mp4 \n",
      "\n",
      "[MoviePy] >>>> Building video ./clip/6H4VsHbynQc__1332__1334.mp4\n",
      "[MoviePy] Writing audio in 6H4VsHbynQc__1332__1334TEMP_MPY_wvf_snd.mp4\n"
     ]
    },
    {
     "name": "stderr",
     "output_type": "stream",
     "text": [
      "100%|██████████| 45/45 [00:00<00:00, 196.02it/s]"
     ]
    },
    {
     "name": "stdout",
     "output_type": "stream",
     "text": [
      "[MoviePy] Done.\n",
      "[MoviePy] Writing video ./clip/6H4VsHbynQc__1332__1334.mp4\n"
     ]
    },
    {
     "name": "stderr",
     "output_type": "stream",
     "text": [
      "\n",
      "100%|██████████| 60/60 [00:00<00:00, 280.46it/s]\n"
     ]
    },
    {
     "name": "stdout",
     "output_type": "stream",
     "text": [
      "[MoviePy] Done.\n",
      "[MoviePy] >>>> Video ready: ./clip/6H4VsHbynQc__1332__1334.mp4 \n",
      "\n",
      "[MoviePy] >>>> Building video ./clip/6H4VsHbynQc__1334__1336.mp4\n",
      "[MoviePy] Writing audio in 6H4VsHbynQc__1334__1336TEMP_MPY_wvf_snd.mp4\n"
     ]
    },
    {
     "name": "stderr",
     "output_type": "stream",
     "text": [
      "100%|██████████| 45/45 [00:00<00:00, 195.76it/s]"
     ]
    },
    {
     "name": "stdout",
     "output_type": "stream",
     "text": [
      "[MoviePy] Done.\n",
      "[MoviePy] Writing video ./clip/6H4VsHbynQc__1334__1336.mp4\n"
     ]
    },
    {
     "name": "stderr",
     "output_type": "stream",
     "text": [
      "\n",
      "100%|██████████| 60/60 [00:00<00:00, 286.41it/s]\n"
     ]
    },
    {
     "name": "stdout",
     "output_type": "stream",
     "text": [
      "[MoviePy] Done.\n",
      "[MoviePy] >>>> Video ready: ./clip/6H4VsHbynQc__1334__1336.mp4 \n",
      "\n",
      "[MoviePy] >>>> Building video ./clip/6H4VsHbynQc__1336__1338.mp4\n",
      "[MoviePy] Writing audio in 6H4VsHbynQc__1336__1338TEMP_MPY_wvf_snd.mp4\n"
     ]
    },
    {
     "name": "stderr",
     "output_type": "stream",
     "text": [
      "100%|██████████| 45/45 [00:00<00:00, 205.53it/s]"
     ]
    },
    {
     "name": "stdout",
     "output_type": "stream",
     "text": [
      "[MoviePy] Done.\n",
      "[MoviePy] Writing video ./clip/6H4VsHbynQc__1336__1338.mp4\n"
     ]
    },
    {
     "name": "stderr",
     "output_type": "stream",
     "text": [
      "\n",
      "100%|██████████| 60/60 [00:00<00:00, 277.11it/s]\n"
     ]
    },
    {
     "name": "stdout",
     "output_type": "stream",
     "text": [
      "[MoviePy] Done.\n",
      "[MoviePy] >>>> Video ready: ./clip/6H4VsHbynQc__1336__1338.mp4 \n",
      "\n",
      "[MoviePy] >>>> Building video ./clip/6H4VsHbynQc__1338__1340.mp4\n",
      "[MoviePy] Writing audio in 6H4VsHbynQc__1338__1340TEMP_MPY_wvf_snd.mp4\n"
     ]
    },
    {
     "name": "stderr",
     "output_type": "stream",
     "text": [
      "100%|██████████| 45/45 [00:00<00:00, 192.04it/s]"
     ]
    },
    {
     "name": "stdout",
     "output_type": "stream",
     "text": [
      "[MoviePy] Done.\n",
      "[MoviePy] Writing video ./clip/6H4VsHbynQc__1338__1340.mp4\n"
     ]
    },
    {
     "name": "stderr",
     "output_type": "stream",
     "text": [
      "\n",
      "100%|██████████| 60/60 [00:00<00:00, 279.38it/s]\n"
     ]
    },
    {
     "name": "stdout",
     "output_type": "stream",
     "text": [
      "[MoviePy] Done.\n",
      "[MoviePy] >>>> Video ready: ./clip/6H4VsHbynQc__1338__1340.mp4 \n",
      "\n",
      "[MoviePy] >>>> Building video ./clip/6H4VsHbynQc__1340__1342.mp4\n",
      "[MoviePy] Writing audio in 6H4VsHbynQc__1340__1342TEMP_MPY_wvf_snd.mp4\n"
     ]
    },
    {
     "name": "stderr",
     "output_type": "stream",
     "text": [
      "100%|██████████| 45/45 [00:00<00:00, 182.87it/s]"
     ]
    },
    {
     "name": "stdout",
     "output_type": "stream",
     "text": [
      "[MoviePy] Done.\n",
      "[MoviePy] Writing video ./clip/6H4VsHbynQc__1340__1342.mp4\n"
     ]
    },
    {
     "name": "stderr",
     "output_type": "stream",
     "text": [
      "\n",
      "100%|██████████| 60/60 [00:00<00:00, 286.14it/s]\n"
     ]
    },
    {
     "name": "stdout",
     "output_type": "stream",
     "text": [
      "[MoviePy] Done.\n",
      "[MoviePy] >>>> Video ready: ./clip/6H4VsHbynQc__1340__1342.mp4 \n",
      "\n",
      "[MoviePy] >>>> Building video ./clip/6H4VsHbynQc__1342__1344.mp4\n",
      "[MoviePy] Writing audio in 6H4VsHbynQc__1342__1344TEMP_MPY_wvf_snd.mp4\n"
     ]
    },
    {
     "name": "stderr",
     "output_type": "stream",
     "text": [
      "100%|██████████| 45/45 [00:00<00:00, 195.10it/s]"
     ]
    },
    {
     "name": "stdout",
     "output_type": "stream",
     "text": [
      "[MoviePy] Done.\n",
      "[MoviePy] Writing video ./clip/6H4VsHbynQc__1342__1344.mp4\n"
     ]
    },
    {
     "name": "stderr",
     "output_type": "stream",
     "text": [
      "\n",
      "100%|██████████| 60/60 [00:00<00:00, 290.17it/s]\n"
     ]
    },
    {
     "name": "stdout",
     "output_type": "stream",
     "text": [
      "[MoviePy] Done.\n",
      "[MoviePy] >>>> Video ready: ./clip/6H4VsHbynQc__1342__1344.mp4 \n",
      "\n",
      "[MoviePy] >>>> Building video ./clip/6H4VsHbynQc__1344__1346.mp4\n",
      "[MoviePy] Writing audio in 6H4VsHbynQc__1344__1346TEMP_MPY_wvf_snd.mp4\n"
     ]
    },
    {
     "name": "stderr",
     "output_type": "stream",
     "text": [
      "100%|██████████| 45/45 [00:00<00:00, 202.36it/s]"
     ]
    },
    {
     "name": "stdout",
     "output_type": "stream",
     "text": [
      "[MoviePy] Done.\n",
      "[MoviePy] Writing video ./clip/6H4VsHbynQc__1344__1346.mp4\n"
     ]
    },
    {
     "name": "stderr",
     "output_type": "stream",
     "text": [
      "\n",
      "100%|██████████| 60/60 [00:00<00:00, 292.29it/s]\n"
     ]
    },
    {
     "name": "stdout",
     "output_type": "stream",
     "text": [
      "[MoviePy] Done.\n",
      "[MoviePy] >>>> Video ready: ./clip/6H4VsHbynQc__1344__1346.mp4 \n",
      "\n",
      "[MoviePy] >>>> Building video ./clip/6H4VsHbynQc__1346__1348.mp4\n",
      "[MoviePy] Writing audio in 6H4VsHbynQc__1346__1348TEMP_MPY_wvf_snd.mp4\n"
     ]
    },
    {
     "name": "stderr",
     "output_type": "stream",
     "text": [
      "100%|██████████| 45/45 [00:00<00:00, 192.80it/s]"
     ]
    },
    {
     "name": "stdout",
     "output_type": "stream",
     "text": [
      "[MoviePy] Done.\n",
      "[MoviePy] Writing video ./clip/6H4VsHbynQc__1346__1348.mp4\n"
     ]
    },
    {
     "name": "stderr",
     "output_type": "stream",
     "text": [
      "\n",
      "100%|██████████| 60/60 [00:00<00:00, 262.75it/s]\n"
     ]
    },
    {
     "name": "stdout",
     "output_type": "stream",
     "text": [
      "[MoviePy] Done.\n",
      "[MoviePy] >>>> Video ready: ./clip/6H4VsHbynQc__1346__1348.mp4 \n",
      "\n",
      "[MoviePy] >>>> Building video ./clip/6H4VsHbynQc__1348__1350.mp4\n",
      "[MoviePy] Writing audio in 6H4VsHbynQc__1348__1350TEMP_MPY_wvf_snd.mp4\n"
     ]
    },
    {
     "name": "stderr",
     "output_type": "stream",
     "text": [
      "100%|██████████| 45/45 [00:00<00:00, 188.62it/s]"
     ]
    },
    {
     "name": "stdout",
     "output_type": "stream",
     "text": [
      "[MoviePy] Done.\n",
      "[MoviePy] Writing video ./clip/6H4VsHbynQc__1348__1350.mp4\n"
     ]
    },
    {
     "name": "stderr",
     "output_type": "stream",
     "text": [
      "\n",
      "100%|██████████| 60/60 [00:00<00:00, 271.48it/s]\n"
     ]
    },
    {
     "name": "stdout",
     "output_type": "stream",
     "text": [
      "[MoviePy] Done.\n",
      "[MoviePy] >>>> Video ready: ./clip/6H4VsHbynQc__1348__1350.mp4 \n",
      "\n",
      "[MoviePy] >>>> Building video ./clip/6H4VsHbynQc__1350__1352.mp4\n",
      "[MoviePy] Writing audio in 6H4VsHbynQc__1350__1352TEMP_MPY_wvf_snd.mp4\n"
     ]
    },
    {
     "name": "stderr",
     "output_type": "stream",
     "text": [
      "100%|██████████| 45/45 [00:00<00:00, 193.02it/s]"
     ]
    },
    {
     "name": "stdout",
     "output_type": "stream",
     "text": [
      "[MoviePy] Done.\n",
      "[MoviePy] Writing video ./clip/6H4VsHbynQc__1350__1352.mp4\n"
     ]
    },
    {
     "name": "stderr",
     "output_type": "stream",
     "text": [
      "\n",
      "100%|██████████| 60/60 [00:00<00:00, 280.19it/s]\n"
     ]
    },
    {
     "name": "stdout",
     "output_type": "stream",
     "text": [
      "[MoviePy] Done.\n",
      "[MoviePy] >>>> Video ready: ./clip/6H4VsHbynQc__1350__1352.mp4 \n",
      "\n",
      "[MoviePy] >>>> Building video ./clip/6H4VsHbynQc__1352__1354.mp4\n",
      "[MoviePy] Writing audio in 6H4VsHbynQc__1352__1354TEMP_MPY_wvf_snd.mp4\n"
     ]
    },
    {
     "name": "stderr",
     "output_type": "stream",
     "text": [
      "100%|██████████| 45/45 [00:00<00:00, 190.87it/s]"
     ]
    },
    {
     "name": "stdout",
     "output_type": "stream",
     "text": [
      "[MoviePy] Done.\n",
      "[MoviePy] Writing video ./clip/6H4VsHbynQc__1352__1354.mp4\n"
     ]
    },
    {
     "name": "stderr",
     "output_type": "stream",
     "text": [
      "\n",
      "100%|██████████| 60/60 [00:00<00:00, 283.78it/s]\n"
     ]
    },
    {
     "name": "stdout",
     "output_type": "stream",
     "text": [
      "[MoviePy] Done.\n",
      "[MoviePy] >>>> Video ready: ./clip/6H4VsHbynQc__1352__1354.mp4 \n",
      "\n",
      "[MoviePy] >>>> Building video ./clip/6H4VsHbynQc__1354__1356.mp4\n",
      "[MoviePy] Writing audio in 6H4VsHbynQc__1354__1356TEMP_MPY_wvf_snd.mp4\n"
     ]
    },
    {
     "name": "stderr",
     "output_type": "stream",
     "text": [
      "100%|██████████| 45/45 [00:00<00:00, 184.90it/s]"
     ]
    },
    {
     "name": "stdout",
     "output_type": "stream",
     "text": [
      "[MoviePy] Done.\n",
      "[MoviePy] Writing video ./clip/6H4VsHbynQc__1354__1356.mp4\n"
     ]
    },
    {
     "name": "stderr",
     "output_type": "stream",
     "text": [
      "\n",
      "100%|██████████| 60/60 [00:00<00:00, 271.01it/s]\n"
     ]
    },
    {
     "name": "stdout",
     "output_type": "stream",
     "text": [
      "[MoviePy] Done.\n",
      "[MoviePy] >>>> Video ready: ./clip/6H4VsHbynQc__1354__1356.mp4 \n",
      "\n",
      "[MoviePy] >>>> Building video ./clip/6H4VsHbynQc__1356__1358.mp4\n",
      "[MoviePy] Writing audio in 6H4VsHbynQc__1356__1358TEMP_MPY_wvf_snd.mp4\n"
     ]
    },
    {
     "name": "stderr",
     "output_type": "stream",
     "text": [
      "100%|██████████| 45/45 [00:00<00:00, 185.32it/s]"
     ]
    },
    {
     "name": "stdout",
     "output_type": "stream",
     "text": [
      "[MoviePy] Done.\n",
      "[MoviePy] Writing video ./clip/6H4VsHbynQc__1356__1358.mp4\n"
     ]
    },
    {
     "name": "stderr",
     "output_type": "stream",
     "text": [
      "\n",
      "100%|██████████| 60/60 [00:00<00:00, 240.79it/s]\n"
     ]
    },
    {
     "name": "stdout",
     "output_type": "stream",
     "text": [
      "[MoviePy] Done.\n",
      "[MoviePy] >>>> Video ready: ./clip/6H4VsHbynQc__1356__1358.mp4 \n",
      "\n",
      "[MoviePy] >>>> Building video ./clip/6H4VsHbynQc__1358__1360.mp4\n",
      "[MoviePy] Writing audio in 6H4VsHbynQc__1358__1360TEMP_MPY_wvf_snd.mp4\n"
     ]
    },
    {
     "name": "stderr",
     "output_type": "stream",
     "text": [
      "100%|██████████| 45/45 [00:00<00:00, 184.87it/s]"
     ]
    },
    {
     "name": "stdout",
     "output_type": "stream",
     "text": [
      "[MoviePy] Done.\n",
      "[MoviePy] Writing video ./clip/6H4VsHbynQc__1358__1360.mp4\n"
     ]
    },
    {
     "name": "stderr",
     "output_type": "stream",
     "text": [
      "\n",
      "100%|██████████| 60/60 [00:00<00:00, 287.45it/s]\n"
     ]
    },
    {
     "name": "stdout",
     "output_type": "stream",
     "text": [
      "[MoviePy] Done.\n",
      "[MoviePy] >>>> Video ready: ./clip/6H4VsHbynQc__1358__1360.mp4 \n",
      "\n",
      "[MoviePy] >>>> Building video ./clip/6H4VsHbynQc__1360__1362.mp4\n",
      "[MoviePy] Writing audio in 6H4VsHbynQc__1360__1362TEMP_MPY_wvf_snd.mp4\n"
     ]
    },
    {
     "name": "stderr",
     "output_type": "stream",
     "text": [
      "100%|██████████| 45/45 [00:00<00:00, 189.33it/s]"
     ]
    },
    {
     "name": "stdout",
     "output_type": "stream",
     "text": [
      "[MoviePy] Done.\n",
      "[MoviePy] Writing video ./clip/6H4VsHbynQc__1360__1362.mp4\n"
     ]
    },
    {
     "name": "stderr",
     "output_type": "stream",
     "text": [
      "\n",
      "100%|██████████| 60/60 [00:00<00:00, 270.06it/s]\n"
     ]
    },
    {
     "name": "stdout",
     "output_type": "stream",
     "text": [
      "[MoviePy] Done.\n",
      "[MoviePy] >>>> Video ready: ./clip/6H4VsHbynQc__1360__1362.mp4 \n",
      "\n",
      "[MoviePy] >>>> Building video ./clip/6H4VsHbynQc__1362__1364.mp4\n",
      "[MoviePy] Writing audio in 6H4VsHbynQc__1362__1364TEMP_MPY_wvf_snd.mp4\n"
     ]
    },
    {
     "name": "stderr",
     "output_type": "stream",
     "text": [
      "100%|██████████| 45/45 [00:00<00:00, 179.21it/s]"
     ]
    },
    {
     "name": "stdout",
     "output_type": "stream",
     "text": [
      "[MoviePy] Done.\n",
      "[MoviePy] Writing video ./clip/6H4VsHbynQc__1362__1364.mp4\n"
     ]
    },
    {
     "name": "stderr",
     "output_type": "stream",
     "text": [
      "\n",
      "100%|██████████| 60/60 [00:00<00:00, 273.77it/s]\n"
     ]
    },
    {
     "name": "stdout",
     "output_type": "stream",
     "text": [
      "[MoviePy] Done.\n",
      "[MoviePy] >>>> Video ready: ./clip/6H4VsHbynQc__1362__1364.mp4 \n",
      "\n",
      "[MoviePy] >>>> Building video ./clip/6H4VsHbynQc__1364__1366.mp4\n",
      "[MoviePy] Writing audio in 6H4VsHbynQc__1364__1366TEMP_MPY_wvf_snd.mp4\n"
     ]
    },
    {
     "name": "stderr",
     "output_type": "stream",
     "text": [
      "100%|██████████| 45/45 [00:00<00:00, 187.31it/s]"
     ]
    },
    {
     "name": "stdout",
     "output_type": "stream",
     "text": [
      "[MoviePy] Done.\n",
      "[MoviePy] Writing video ./clip/6H4VsHbynQc__1364__1366.mp4\n"
     ]
    },
    {
     "name": "stderr",
     "output_type": "stream",
     "text": [
      "\n",
      "100%|██████████| 60/60 [00:00<00:00, 288.30it/s]\n"
     ]
    },
    {
     "name": "stdout",
     "output_type": "stream",
     "text": [
      "[MoviePy] Done.\n",
      "[MoviePy] >>>> Video ready: ./clip/6H4VsHbynQc__1364__1366.mp4 \n",
      "\n"
     ]
    }
   ],
   "source": [
    "#Split videos into clips\n",
    "import glob\n",
    "from moviepy.video.io.ffmpeg_tools import ffmpeg_extract_subclip\n",
    "from moviepy.editor import *\n",
    "\n",
    "os.mkdir(\"clip\")\n",
    "\n",
    "import glob\n",
    "vid = glob.glob(\"./youtube_downloads/*.mp4\")\n",
    "for i in range(len(vid)):\n",
    "    segment_length = 2\n",
    "    original_video = vid[i]\n",
    "    video_file =VideoFileClip(vid[i])\n",
    "    duration = video_file.duration\n",
    "    clip_start = 0\n",
    "\n",
    "    while clip_start < duration:\n",
    "        clip_end = clip_start + segment_length\n",
    "        if clip_end < duration:\n",
    "            vid_name=vid[i].split(\"/\")[2].split(\".\")[0] + \"__\" + str(clip_start) + \"__\" + str(clip_end)+\".mp4\"\n",
    "            output_video_path=os.path.join(\"./clip\",vid_name)\n",
    "            with VideoFileClip(vid[i]) as video:\n",
    "              new = video.subclip(clip_start, clip_end)\n",
    "              new.write_videofile(output_video_path,audio_codec='aac')\n",
    "        clip_start = clip_end"
   ]
  },
  {
   "cell_type": "code",
   "execution_count": 21,
   "metadata": {
    "colab": {
     "base_uri": "https://localhost:8080/",
     "height": 35
    },
    "id": "axh5KlIrU5QZ",
    "outputId": "f3bba6a3-4622-4cef-c4e3-859f6489941b"
   },
   "outputs": [
    {
     "data": {
      "application/vnd.google.colaboratory.intrinsic+json": {
       "type": "string"
      },
      "text/plain": [
       "'/content'"
      ]
     },
     "execution_count": 21,
     "metadata": {
      "tags": []
     },
     "output_type": "execute_result"
    }
   ],
   "source": [
    "os.getcwd()"
   ]
  },
  {
   "cell_type": "code",
   "execution_count": 22,
   "metadata": {
    "id": "gZZCeJsnYGnQ"
   },
   "outputs": [],
   "source": [
    "modelu_cnlst =load_model('files/model/eat_model_conv_3d.h5')\n",
    "#haar_cascade_face = cv2.CascadeClassifier('haarcascade_frontalface_default.xml')\n",
    "haar_cascade_face = cv2.CascadeClassifier(cv2.data.haarcascades + \"haarcascade_frontalface_default.xml\")"
   ]
  },
  {
   "cell_type": "code",
   "execution_count": 23,
   "metadata": {
    "id": "l_5UfgvtUDHp"
   },
   "outputs": [],
   "source": [
    "import numpy as np\n",
    "import cv2\n",
    "import matplotlib.pyplot as plt\n",
    "%matplotlib inline"
   ]
  },
  {
   "cell_type": "code",
   "execution_count": 31,
   "metadata": {
    "id": "zEfnTCbyYPAD"
   },
   "outputs": [],
   "source": [
    "def real_time_prediction(path,video_folder_name):\n",
    "    folder_path=os.path.join(path,video_folder_name)\n",
    "    video_list=os.listdir(folder_path)\n",
    "    prediction_list = []\n",
    "    face = []\n",
    "    for i in np.arange(len(video_list)):\n",
    "        video_path=os.path.join(folder_path,video_list[i])\n",
    "        cap=cv2.VideoCapture(video_path)\n",
    "        cap.set(cv2.CAP_PROP_FPS, 1)\n",
    "        frameRate=cap.get(5)\n",
    "        x=1\n",
    "        count=0\n",
    "        t = 0\n",
    "        frame_saved=[]\n",
    "        while(cap.isOpened()):\n",
    "            frameId = cap.get(1) #current frame number\n",
    "            ret, frame = cap.read()\n",
    "            if (ret != True):\n",
    "                break\n",
    "            if (frameId % math.floor(frameRate) == 0):\n",
    "                frame_grey=cv2.cvtColor(frame, cv2.COLOR_BGR2GRAY)\n",
    "                 #cv2 to check if human face in image\n",
    "                faces_rects = haar_cascade_face.detectMultiScale(frame_grey, scaleFactor = 1.2, minNeighbors = 5)      \n",
    "                if len(faces_rects) > 0:\n",
    "                  t = t+1\n",
    "                frame_grey=cv2.resize(frame_grey,(250,250))\n",
    "                frame_grey=frame_grey/255\n",
    "                frame_saved.append(frame_grey)\n",
    "        cap.release()\n",
    "        frame_diff=10-len(frame_saved)\n",
    "        if frame_diff>0:\n",
    "            for k in np.arange(frame_diff):\n",
    "                frame_saved.append(frame_saved[k])\n",
    "        else:\n",
    "            pass\n",
    "        frame_saved=frame_saved[:10]\n",
    "        frame_saved=np.array(frame_saved)\n",
    "        frame_saved2 = np.array(frame_saved, dtype='uint8')\n",
    "        dats=frame_saved.reshape((1,10,250,250,1))\n",
    "        prediction_list.append(modelu_cnlst.predict(dats))\n",
    "        face.append(t)\n",
    "    return prediction_list, video_list, face"
   ]
  },
  {
   "cell_type": "code",
   "execution_count": 32,
   "metadata": {
    "id": "sWaiFXabYRop"
   },
   "outputs": [],
   "source": [
    "path = \"./\"\n",
    "prediction_model, vid, face =real_time_prediction(path ,\"clip\")"
   ]
  },
  {
   "cell_type": "code",
   "execution_count": 36,
   "metadata": {
    "id": "FRjA0v4_aVY0"
   },
   "outputs": [],
   "source": [
    "output = pd.DataFrame()\n",
    "\n",
    "output['video'] = vid\n",
    "output['prediction'] = prediction_model\n",
    "output['class_pred'] = 0\n",
    "output['start_time'] = 0\n",
    "output['end_time'] = 0\n",
    "output['video_id'] = \"id\"\n",
    "output['faces'] = face\n",
    "for i in range(len(output)):\n",
    "  output['start_time'][i] = output['video'][i].split(\".\")[0].split(\"__\")[1]\n",
    "  output['end_time'][i] = output['video'][i].split(\".\")[0].split(\"__\")[2]\n",
    "  output['video_id'][i] = output['video'][i].split(\".\")[0].split(\"__\")[0]\n",
    "  if output['prediction'][i] > 0.5 and output['faces'][i] > 0:\n",
    "    output['class_pred'][i] = 1"
   ]
  },
  {
   "cell_type": "code",
   "execution_count": 37,
   "metadata": {
    "colab": {
     "base_uri": "https://localhost:8080/",
     "height": 419
    },
    "id": "8it9uebhaWzc",
    "outputId": "abbe7213-eef4-40fd-cdc4-ecca342cc825"
   },
   "outputs": [
    {
     "data": {
      "text/html": [
       "<div>\n",
       "<style scoped>\n",
       "    .dataframe tbody tr th:only-of-type {\n",
       "        vertical-align: middle;\n",
       "    }\n",
       "\n",
       "    .dataframe tbody tr th {\n",
       "        vertical-align: top;\n",
       "    }\n",
       "\n",
       "    .dataframe thead th {\n",
       "        text-align: right;\n",
       "    }\n",
       "</style>\n",
       "<table border=\"1\" class=\"dataframe\">\n",
       "  <thead>\n",
       "    <tr style=\"text-align: right;\">\n",
       "      <th></th>\n",
       "      <th>index</th>\n",
       "      <th>video</th>\n",
       "      <th>prediction</th>\n",
       "      <th>class_pred</th>\n",
       "      <th>start_time</th>\n",
       "      <th>end_time</th>\n",
       "      <th>video_id</th>\n",
       "      <th>faces</th>\n",
       "    </tr>\n",
       "  </thead>\n",
       "  <tbody>\n",
       "    <tr>\n",
       "      <th>0</th>\n",
       "      <td>1</td>\n",
       "      <td>6H4VsHbynQc__70__72.mp4</td>\n",
       "      <td>[[0.98959947]]</td>\n",
       "      <td>1</td>\n",
       "      <td>70</td>\n",
       "      <td>72</td>\n",
       "      <td>6H4VsHbynQc</td>\n",
       "      <td>2</td>\n",
       "    </tr>\n",
       "    <tr>\n",
       "      <th>1</th>\n",
       "      <td>3</td>\n",
       "      <td>6H4VsHbynQc__1050__1052.mp4</td>\n",
       "      <td>[[0.9825386]]</td>\n",
       "      <td>1</td>\n",
       "      <td>1050</td>\n",
       "      <td>1052</td>\n",
       "      <td>6H4VsHbynQc</td>\n",
       "      <td>3</td>\n",
       "    </tr>\n",
       "    <tr>\n",
       "      <th>2</th>\n",
       "      <td>4</td>\n",
       "      <td>6H4VsHbynQc__74__76.mp4</td>\n",
       "      <td>[[0.9825926]]</td>\n",
       "      <td>1</td>\n",
       "      <td>74</td>\n",
       "      <td>76</td>\n",
       "      <td>6H4VsHbynQc</td>\n",
       "      <td>2</td>\n",
       "    </tr>\n",
       "    <tr>\n",
       "      <th>3</th>\n",
       "      <td>6</td>\n",
       "      <td>6H4VsHbynQc__744__746.mp4</td>\n",
       "      <td>[[0.76454294]]</td>\n",
       "      <td>1</td>\n",
       "      <td>744</td>\n",
       "      <td>746</td>\n",
       "      <td>6H4VsHbynQc</td>\n",
       "      <td>3</td>\n",
       "    </tr>\n",
       "    <tr>\n",
       "      <th>4</th>\n",
       "      <td>7</td>\n",
       "      <td>6H4VsHbynQc__1014__1016.mp4</td>\n",
       "      <td>[[0.70920885]]</td>\n",
       "      <td>1</td>\n",
       "      <td>1014</td>\n",
       "      <td>1016</td>\n",
       "      <td>6H4VsHbynQc</td>\n",
       "      <td>3</td>\n",
       "    </tr>\n",
       "    <tr>\n",
       "      <th>...</th>\n",
       "      <td>...</td>\n",
       "      <td>...</td>\n",
       "      <td>...</td>\n",
       "      <td>...</td>\n",
       "      <td>...</td>\n",
       "      <td>...</td>\n",
       "      <td>...</td>\n",
       "      <td>...</td>\n",
       "    </tr>\n",
       "    <tr>\n",
       "      <th>607</th>\n",
       "      <td>677</td>\n",
       "      <td>6H4VsHbynQc__308__310.mp4</td>\n",
       "      <td>[[0.8316658]]</td>\n",
       "      <td>1</td>\n",
       "      <td>308</td>\n",
       "      <td>310</td>\n",
       "      <td>6H4VsHbynQc</td>\n",
       "      <td>3</td>\n",
       "    </tr>\n",
       "    <tr>\n",
       "      <th>608</th>\n",
       "      <td>679</td>\n",
       "      <td>6H4VsHbynQc__968__970.mp4</td>\n",
       "      <td>[[0.683848]]</td>\n",
       "      <td>1</td>\n",
       "      <td>968</td>\n",
       "      <td>970</td>\n",
       "      <td>6H4VsHbynQc</td>\n",
       "      <td>3</td>\n",
       "    </tr>\n",
       "    <tr>\n",
       "      <th>609</th>\n",
       "      <td>680</td>\n",
       "      <td>6H4VsHbynQc__76__78.mp4</td>\n",
       "      <td>[[0.78330404]]</td>\n",
       "      <td>1</td>\n",
       "      <td>76</td>\n",
       "      <td>78</td>\n",
       "      <td>6H4VsHbynQc</td>\n",
       "      <td>3</td>\n",
       "    </tr>\n",
       "    <tr>\n",
       "      <th>610</th>\n",
       "      <td>681</td>\n",
       "      <td>6H4VsHbynQc__1026__1028.mp4</td>\n",
       "      <td>[[0.8657204]]</td>\n",
       "      <td>1</td>\n",
       "      <td>1026</td>\n",
       "      <td>1028</td>\n",
       "      <td>6H4VsHbynQc</td>\n",
       "      <td>2</td>\n",
       "    </tr>\n",
       "    <tr>\n",
       "      <th>611</th>\n",
       "      <td>682</td>\n",
       "      <td>6H4VsHbynQc__116__118.mp4</td>\n",
       "      <td>[[0.7776875]]</td>\n",
       "      <td>1</td>\n",
       "      <td>116</td>\n",
       "      <td>118</td>\n",
       "      <td>6H4VsHbynQc</td>\n",
       "      <td>3</td>\n",
       "    </tr>\n",
       "  </tbody>\n",
       "</table>\n",
       "<p>612 rows × 8 columns</p>\n",
       "</div>"
      ],
      "text/plain": [
       "     index                        video  ...     video_id  faces\n",
       "0        1      6H4VsHbynQc__70__72.mp4  ...  6H4VsHbynQc      2\n",
       "1        3  6H4VsHbynQc__1050__1052.mp4  ...  6H4VsHbynQc      3\n",
       "2        4      6H4VsHbynQc__74__76.mp4  ...  6H4VsHbynQc      2\n",
       "3        6    6H4VsHbynQc__744__746.mp4  ...  6H4VsHbynQc      3\n",
       "4        7  6H4VsHbynQc__1014__1016.mp4  ...  6H4VsHbynQc      3\n",
       "..     ...                          ...  ...          ...    ...\n",
       "607    677    6H4VsHbynQc__308__310.mp4  ...  6H4VsHbynQc      3\n",
       "608    679    6H4VsHbynQc__968__970.mp4  ...  6H4VsHbynQc      3\n",
       "609    680      6H4VsHbynQc__76__78.mp4  ...  6H4VsHbynQc      3\n",
       "610    681  6H4VsHbynQc__1026__1028.mp4  ...  6H4VsHbynQc      2\n",
       "611    682    6H4VsHbynQc__116__118.mp4  ...  6H4VsHbynQc      3\n",
       "\n",
       "[612 rows x 8 columns]"
      ]
     },
     "execution_count": 37,
     "metadata": {
      "tags": []
     },
     "output_type": "execute_result"
    }
   ],
   "source": [
    "clips = output[output['class_pred'] == 1]\n",
    "clips = clips.reset_index()\n",
    "clips"
   ]
  },
  {
   "cell_type": "code",
   "execution_count": 38,
   "metadata": {
    "id": "84sjmf4DagrA"
   },
   "outputs": [],
   "source": [
    "#Create a list for json file\n",
    "ls = []\n",
    "for i in range(len(clips)):\n",
    "    x = {\n",
    "        \"videoId\": clips['video_id'][i],\n",
    "        \"type\": \"segment\",\n",
    "        \"startTime\": float(clips['start_time'][i]),\n",
    "        \"endTime\": float(clips['end_time'][i]),\n",
    "        \"observer\": \"CSCE636Spring2021-Sjain-10\",\n",
    "        \"isHuman\": False,\n",
    "        \"confirmedBySomeone\": False,\n",
    "        \"rejectedBySomeone\": False,\n",
    "        \"observation\": \n",
    "        {\n",
    "            \"label\": \"Eating\",\n",
    "            \"labelConfidence\": 0.75}\n",
    "        }\n",
    "    ls.append(x)"
   ]
  },
  {
   "cell_type": "code",
   "execution_count": 39,
   "metadata": {
    "id": "_OmnU5g9clJx"
   },
   "outputs": [],
   "source": [
    "import json\n",
    "#Create json file\n",
    "with open('ResultOfDetection10.json', 'w') as json_file:\n",
    "  json.dump(ls, json_file)"
   ]
  },
  {
   "cell_type": "code",
   "execution_count": null,
   "metadata": {
    "id": "03JHuo7MAd-O"
   },
   "outputs": [],
   "source": []
  }
 ],
 "metadata": {
  "accelerator": "GPU",
  "colab": {
   "collapsed_sections": [],
   "machine_shape": "hm",
   "name": "DemoApplyToVideo10.ipynb",
   "provenance": []
  },
  "kernelspec": {
   "display_name": "Python 3",
   "language": "python",
   "name": "python3"
  },
  "language_info": {
   "codemirror_mode": {
    "name": "ipython",
    "version": 3
   },
   "file_extension": ".py",
   "mimetype": "text/x-python",
   "name": "python",
   "nbconvert_exporter": "python",
   "pygments_lexer": "ipython3",
   "version": "3.8.5"
  }
 },
 "nbformat": 4,
 "nbformat_minor": 1
}
