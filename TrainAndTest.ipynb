{
  "nbformat": 4,
  "nbformat_minor": 0,
  "metadata": {
    "accelerator": "GPU",
    "colab": {
      "name": "DemoTrainAndTest.ipynb",
      "provenance": [],
      "collapsed_sections": [],
      "machine_shape": "hm"
    },
    "kernelspec": {
      "display_name": "Python 3",
      "language": "python",
      "name": "python3"
    },
    "language_info": {
      "codemirror_mode": {
        "name": "ipython",
        "version": 3
      },
      "file_extension": ".py",
      "mimetype": "text/x-python",
      "name": "python",
      "nbconvert_exporter": "python",
      "pygments_lexer": "ipython3",
      "version": "3.8.5"
    }
  },
  "cells": [
    {
      "cell_type": "code",
      "metadata": {
        "id": "mISu_SUUQPx4"
      },
      "source": [
        "import cv2\n",
        "import math\n",
        "import matplotlib.pyplot as plt\n",
        "%matplotlib inline\n",
        "import pandas as pd\n",
        "import numpy as np\n",
        "from keras.preprocessing import image\n",
        "import numpy as np\n",
        "from keras.utils import np_utils\n",
        "from skimage.transform import resize\n",
        "from PIL import Image\n",
        "import re\n",
        "import os\n",
        "import random\n",
        "import shutil\n",
        "import keras\n",
        "from keras.models import load_model"
      ],
      "execution_count": 1,
      "outputs": []
    },
    {
      "cell_type": "code",
      "metadata": {
        "colab": {
          "base_uri": "https://localhost:8080/"
        },
        "id": "1bs2WTYEQc79",
        "outputId": "b803c4b4-f288-46a8-f1b6-cdac66ed0106"
      },
      "source": [
        "import os\n",
        "import urllib.request\n",
        "url = \"https://onedrive.live.com/download?cid=6906019B94799E0F&resid=6906019B94799E0F%211317&authkey=AAZ6VGVqYiX7WGE\"\n",
        "filename = 'dataset6.zip'\n",
        "urllib.request.urlretrieve(url, filename)"
      ],
      "execution_count": 2,
      "outputs": [
        {
          "output_type": "execute_result",
          "data": {
            "text/plain": [
              "('dataset6.zip', <http.client.HTTPMessage at 0x7f107525dc90>)"
            ]
          },
          "metadata": {
            "tags": []
          },
          "execution_count": 2
        }
      ]
    },
    {
      "cell_type": "code",
      "metadata": {
        "id": "s86WKtwfQxBS"
      },
      "source": [
        "import zipfile\n",
        "with zipfile.ZipFile(\"dataset6.zip\", 'r') as zip_ref:\n",
        "    zip_ref.extractall(\"files\")"
      ],
      "execution_count": 3,
      "outputs": []
    },
    {
      "cell_type": "code",
      "metadata": {
        "id": "b_NpoQz5QxkZ"
      },
      "source": [
        "os.chdir(\"./files\")"
      ],
      "execution_count": 4,
      "outputs": []
    },
    {
      "cell_type": "code",
      "metadata": {
        "colab": {
          "base_uri": "https://localhost:8080/",
          "height": 142
        },
        "id": "zk0abpYuSRXI",
        "outputId": "834b4320-6cec-4878-d1ef-70945f98e09a"
      },
      "source": [
        "# Loading video names in a column and labels:\n",
        "os.getcwd()\n",
        "path=''\n",
        "video_directory=os.path.join(path,\"videos\")\n",
        "videos=os.listdir(video_directory)\n",
        "\n",
        "label=[]\n",
        "for i in videos:\n",
        "    if \"no_eat_\" in i:\n",
        "        label.append(0)\n",
        "    elif \"eat_\" in i:\n",
        "        label.append(1)\n",
        "    else:\n",
        "        label.append(\"file_name_incorrect\")\n",
        "        \n",
        "videos=pd.DataFrame(videos,label).reset_index()\n",
        "videos.columns=[\"labels\",\"video_name\"]\n",
        "\n",
        "videos.groupby('labels').count()"
      ],
      "execution_count": 5,
      "outputs": [
        {
          "output_type": "execute_result",
          "data": {
            "text/html": [
              "<div>\n",
              "<style scoped>\n",
              "    .dataframe tbody tr th:only-of-type {\n",
              "        vertical-align: middle;\n",
              "    }\n",
              "\n",
              "    .dataframe tbody tr th {\n",
              "        vertical-align: top;\n",
              "    }\n",
              "\n",
              "    .dataframe thead th {\n",
              "        text-align: right;\n",
              "    }\n",
              "</style>\n",
              "<table border=\"1\" class=\"dataframe\">\n",
              "  <thead>\n",
              "    <tr style=\"text-align: right;\">\n",
              "      <th></th>\n",
              "      <th>video_name</th>\n",
              "    </tr>\n",
              "    <tr>\n",
              "      <th>labels</th>\n",
              "      <th></th>\n",
              "    </tr>\n",
              "  </thead>\n",
              "  <tbody>\n",
              "    <tr>\n",
              "      <th>0</th>\n",
              "      <td>800</td>\n",
              "    </tr>\n",
              "    <tr>\n",
              "      <th>1</th>\n",
              "      <td>705</td>\n",
              "    </tr>\n",
              "  </tbody>\n",
              "</table>\n",
              "</div>"
            ],
            "text/plain": [
              "        video_name\n",
              "labels            \n",
              "0              800\n",
              "1              705"
            ]
          },
          "metadata": {
            "tags": []
          },
          "execution_count": 5
        }
      ]
    },
    {
      "cell_type": "code",
      "metadata": {
        "id": "z6DG7R1IHVhe"
      },
      "source": [
        "train_set = pd.DataFrame()\n",
        "test_set = pd.DataFrame()\n",
        "train_video = []\n",
        "test_video = []\n",
        "train_label = []\n",
        "test_label = []\n",
        "for i in range(len(videos)):\n",
        "  if \"train\" in videos['video_name'][i]:\n",
        "    train_video.append(videos['video_name'][i])\n",
        "    train_label.append(videos['labels'][i])\n",
        "  elif \"test\" in videos['video_name'][i]:\n",
        "    test_video.append(videos['video_name'][i])\n",
        "    test_label.append(videos['labels'][i])\n",
        "\n",
        "train_set['labels'] = train_label\n",
        "train_set['video_name'] = train_video\n",
        "\n",
        "test_set['labels'] = test_label\n",
        "test_set['video_name'] = test_video\n",
        "\n"
      ],
      "execution_count": 6,
      "outputs": []
    },
    {
      "cell_type": "code",
      "metadata": {
        "colab": {
          "base_uri": "https://localhost:8080/"
        },
        "id": "4UY7VoTXSiTx",
        "outputId": "36e0e529-5d95-4e04-ded9-2f47c0645c94"
      },
      "source": [
        "print(train_set.groupby('labels').count())\n",
        "print(test_set.groupby('labels').count())"
      ],
      "execution_count": 7,
      "outputs": [
        {
          "output_type": "stream",
          "text": [
            "        video_name\n",
            "labels            \n",
            "0              560\n",
            "1              465\n",
            "        video_name\n",
            "labels            \n",
            "0              240\n",
            "1              240\n"
          ],
          "name": "stdout"
        }
      ]
    },
    {
      "cell_type": "code",
      "metadata": {
        "id": "XN2U6Vp5SkW1"
      },
      "source": [
        "path = \"\"\n",
        "hair_dir_path=os.path.join(path,'train_test')\n",
        "train_videos_dir=os.path.join(hair_dir_path,\"Train_Videos\")\n",
        "test_videos_dir=os.path.join(hair_dir_path,\"Test_Videos\")\n",
        "try:\n",
        "    os.mkdir(hair_dir_path)\n",
        "except FileExistsError as ae:\n",
        "    print(\"Folder Already Created\")\n",
        "\n",
        "try:\n",
        "    os.mkdir(train_videos_dir)\n",
        "except FileExistsError as ae:\n",
        "    print(\"Folder Already Created\")\n",
        "    \n",
        "try:\n",
        "    os.mkdir(test_videos_dir)\n",
        "except FileExistsError as ae:\n",
        "    print(\"Folder Already Created\")"
      ],
      "execution_count": 8,
      "outputs": []
    },
    {
      "cell_type": "code",
      "metadata": {
        "colab": {
          "base_uri": "https://localhost:8080/"
        },
        "id": "-l7lff8ySwDM",
        "outputId": "71a3a15f-0d2c-4759-c5fc-cda343a0669d"
      },
      "source": [
        "#Reading the video files, extracting frames from each corresponding video and putting them in the respective train/test folder:\n",
        "hair_path=os.path.join(path,\"train_test\")\n",
        "\n",
        "def video_capturing_function(dataset,folder_name):\n",
        "    for i in np.arange(len(dataset)):\n",
        "        video_name=dataset.video_name[i]\n",
        "        video_read_path=os.path.join(video_directory,video_name)\n",
        "        cap=cv2.VideoCapture(video_read_path)\n",
        "        try:\n",
        "            os.mkdir(os.path.join(os.path.join(hair_path,folder_name),\n",
        "                                  video_name.split(\".\")[0]))\n",
        "        except:\n",
        "            print(\"File Already Created\")\n",
        "        \n",
        "        train_write_file=os.path.join(os.path.join(hair_path,folder_name),\n",
        "                                  video_name.split(\".\")[0])\n",
        "        cap.set(cv2.CAP_PROP_FPS, 20)\n",
        "        frameRate=cap.get(5)\n",
        "        x=1\n",
        "        count=0\n",
        "        while(cap.isOpened()):\n",
        "            frameId = cap.get(1) #current frame number\n",
        "            ret, frame = cap.read()\n",
        "            if (ret != True):\n",
        "                break\n",
        "            if (frameId % math.floor(frameRate) == 0):\n",
        "                filename =\"frame%d.jpg\" % count;count+=1\n",
        "                frame_grey=cv2.cvtColor(frame, cv2.COLOR_BGR2GRAY)\n",
        "                cv2.imwrite(os.path.join(train_write_file,filename), frame_grey)\n",
        "        cap.release()\n",
        "    return print(\"All frames written in the: \"+folder_name+\" Folder\")\n",
        "    \n",
        "video_capturing_function(train_set,\"Train_Videos\")\n",
        "video_capturing_function(test_set,\"Test_Videos\")"
      ],
      "execution_count": 9,
      "outputs": [
        {
          "output_type": "stream",
          "text": [
            "All frames written in the: Train_Videos Folder\n",
            "All frames written in the: Test_Videos Folder\n"
          ],
          "name": "stdout"
        }
      ]
    },
    {
      "cell_type": "code",
      "metadata": {
        "id": "MWsGE3UDS0yt"
      },
      "source": [
        "# Code to see how many frames are captured for each video:\n",
        "train_dir_path='train_test/Train_Videos'\n",
        "test_dir_path='train_test/Test_Videos'\n",
        "\n",
        "vid_file_name=train_set.video_name[0].split('.')[0]\n",
        "\n",
        "train_frames=[]\n",
        "for i in np.arange(len(train_set.video_name)):\n",
        "    vid_file_name=train_set.video_name[i].split('.')[0]\n",
        "    train_frames.append(len(os.listdir(os.path.join(train_dir_path,vid_file_name))))\n",
        "\n",
        "test_frames=[]\n",
        "for i in np.arange(len(test_set.video_name)):\n",
        "    vid_file_name=test_set.video_name[i].split('.')[0]\n",
        "    test_frames.append(len(os.listdir(os.path.join(test_dir_path,vid_file_name))))"
      ],
      "execution_count": 10,
      "outputs": []
    },
    {
      "cell_type": "code",
      "metadata": {
        "colab": {
          "base_uri": "https://localhost:8080/"
        },
        "id": "0T8gCJkiTUCQ",
        "outputId": "f57b6cb0-d600-498e-c089-e73ea706ab16"
      },
      "source": [
        "def frame_generating_function(dataset,dir_path):\n",
        "    for i in np.arange(len(dataset.video_name)):\n",
        "        vid_namu=dataset.video_name[i]\n",
        "        vid_path=os.path.join(dir_path,vid_namu.split(\".\")[0])\n",
        "        len_frame=len(os.listdir(vid_path))\n",
        "        j=10-len(os.listdir(vid_path))\n",
        "        if j>0:\n",
        "            list_frames=os.listdir(vid_path)\n",
        "            c=0\n",
        "            for k in np.arange(j):\n",
        "                list_frames=os.listdir(vid_path)\n",
        "                frame=os.path.join(vid_path,list_frames[c])\n",
        "                countu=k+len_frame\n",
        "                new_frame=\"frame%d.jpg\" % countu\n",
        "                shutil.copy2(frame,os.path.join(vid_path,new_frame))\n",
        "                c+=1\n",
        "        else:\n",
        "            pass\n",
        "    return print(\"Frame Generation Done!\")\n",
        "    \n",
        "frame_generating_function(train_set,train_dir_path)\n",
        "frame_generating_function(test_set,test_dir_path)"
      ],
      "execution_count": 11,
      "outputs": [
        {
          "output_type": "stream",
          "text": [
            "Frame Generation Done!\n",
            "Frame Generation Done!\n"
          ],
          "name": "stdout"
        }
      ]
    },
    {
      "cell_type": "code",
      "metadata": {
        "id": "Dei4785vTZ0P"
      },
      "source": [
        "# Train and Validation Splitting:\n",
        "label_1_dat=train_set.loc[train_set[\"labels\"]==1,]\n",
        "label_0_dat=train_set.loc[train_set[\"labels\"]==0,]\n",
        "\n",
        "train_len_label1=math.floor(len(label_1_dat)*0.80)\n",
        "train_len_label0=math.floor(len(label_0_dat)*0.80)\n",
        "\n",
        "train_dat_label1=label_1_dat.iloc[:train_len_label1,]\n",
        "train_dat_label0=label_0_dat.iloc[:train_len_label0,]\n",
        "\n",
        "validation_dat_label1=label_1_dat.iloc[train_len_label1:,]\n",
        "validation_dat_label0=label_0_dat.iloc[train_len_label0:,]\n",
        "\n",
        "train_vid_dat=train_dat_label1.append(train_dat_label0,ignore_index=True)\n",
        "validation_vid_dat=validation_dat_label1.append(validation_dat_label0,ignore_index=True)"
      ],
      "execution_count": 12,
      "outputs": []
    },
    {
      "cell_type": "code",
      "metadata": {
        "id": "E7j8_MYhTaZH"
      },
      "source": [
        "# Data load function for 10 frames:\n",
        "\n",
        "def data_load_function_10frames(dataset,directory):\n",
        "    frames=[]\n",
        "    for i in np.arange(len(dataset)):\n",
        "        vid_name=dataset.video_name[i].split(\".\")[0]\n",
        "        vid_dir_path=os.path.join(directory,vid_name)\n",
        "        frames_to_select=[]\n",
        "        for l in np.arange(0,10):\n",
        "            frames_to_select.append('frame%d.jpg' % l)\n",
        "        vid_data=[]\n",
        "        for frame in frames_to_select:\n",
        "            image=Image.open(os.path.join(vid_dir_path,frame))\n",
        "            image=image.resize((250, 250), Image.ANTIALIAS) \n",
        "            datu=np.asarray(image)\n",
        "            normu_dat=datu/255\n",
        "            vid_data.append(normu_dat)\n",
        "        vid_data=np.array(vid_data)\n",
        "        frames.append(vid_data)\n",
        "    return np.array(frames)"
      ],
      "execution_count": 13,
      "outputs": []
    },
    {
      "cell_type": "code",
      "metadata": {
        "id": "bo3raoVJTeEI"
      },
      "source": [
        "# 10 frames train,validation and test data:\n",
        "\n",
        "test_dataset_new=data_load_function_10frames(test_set,test_dir_path)\n",
        "train_dataset_new=data_load_function_10frames(train_vid_dat,train_dir_path)\n",
        "validation_dataset_new=data_load_function_10frames(validation_vid_dat,train_dir_path)\n",
        "\n",
        "test_labels=np.array(test_set.labels)\n",
        "train_labels=np.array(train_vid_dat.labels)\n",
        "validation_labels=np.array(validation_vid_dat.labels)"
      ],
      "execution_count": 14,
      "outputs": []
    },
    {
      "cell_type": "code",
      "metadata": {
        "id": "gxJtOMaQTfrk"
      },
      "source": [
        "# Reshaping tensors to confirm with the model we are going to train:\n",
        "test_dataset_new=test_dataset_new.reshape((test_dataset_new.shape[0],10,250,250,1))\n",
        "train_dataset_new=train_dataset_new.reshape((train_dataset_new.shape[0],10,250,250,1))\n",
        "validation_dataset_new=validation_dataset_new.reshape((validation_dataset_new.shape[0],10,250,250,1))"
      ],
      "execution_count": 15,
      "outputs": []
    },
    {
      "cell_type": "code",
      "metadata": {
        "colab": {
          "base_uri": "https://localhost:8080/"
        },
        "id": "MhP469ehTim7",
        "outputId": "f41c70bf-03ba-4ef2-e24b-c34e136f3f5a"
      },
      "source": [
        "baseline_predictions=np.ones(len(test_labels))\n",
        "test_accuracy_naive=np.where(baseline_predictions==test_labels)[0].shape[0]/len(test_labels)\n",
        "test_accuracy_naive"
      ],
      "execution_count": 16,
      "outputs": [
        {
          "output_type": "execute_result",
          "data": {
            "text/plain": [
              "0.5"
            ]
          },
          "metadata": {
            "tags": []
          },
          "execution_count": 16
        }
      ]
    },
    {
      "cell_type": "code",
      "metadata": {
        "colab": {
          "base_uri": "https://localhost:8080/"
        },
        "id": "iFPjzc5STk4T",
        "outputId": "d3fd21c4-572f-44dc-b475-d9a770b1ff03"
      },
      "source": [
        "from keras.layers import Conv3D, MaxPooling3D, BatchNormalization, Dropout, Dense, Flatten, concatenate\n",
        "from keras.models import Model\n",
        "from keras import Input\n",
        "# 3D Convolutional Model:\n",
        "input_model=Input(shape=(10,250,250,1))\n",
        "layer=Conv3D(32,(3,3,3),strides=(1,1,1),activation='relu')(input_model)\n",
        "layer=MaxPooling3D((2,2,2))(layer)\n",
        "layer=Conv3D(64,(3,3,3),strides=(1,1,1),activation='relu')(layer)\n",
        "layer=MaxPooling3D((2,2,2))(layer)\n",
        "layer=BatchNormalization()(layer)\n",
        "layer=Flatten()(layer)\n",
        "layer=Dense(128,activation='relu')(layer)\n",
        "layer=Dropout(0.1)(layer)\n",
        "layer=Dense(64,activation='relu')(layer)\n",
        "layer=Dense(32,activation='relu')(layer)\n",
        "layer_output=Dense(1,activation='sigmoid')(layer)\n",
        "\n",
        "model_3dConv=Model(input_model,layer_output)\n",
        "\n",
        "model_3dConv.summary()"
      ],
      "execution_count": 17,
      "outputs": [
        {
          "output_type": "stream",
          "text": [
            "Model: \"model\"\n",
            "_________________________________________________________________\n",
            "Layer (type)                 Output Shape              Param #   \n",
            "=================================================================\n",
            "input_1 (InputLayer)         [(None, 10, 250, 250, 1)] 0         \n",
            "_________________________________________________________________\n",
            "conv3d (Conv3D)              (None, 8, 248, 248, 32)   896       \n",
            "_________________________________________________________________\n",
            "max_pooling3d (MaxPooling3D) (None, 4, 124, 124, 32)   0         \n",
            "_________________________________________________________________\n",
            "conv3d_1 (Conv3D)            (None, 2, 122, 122, 64)   55360     \n",
            "_________________________________________________________________\n",
            "max_pooling3d_1 (MaxPooling3 (None, 1, 61, 61, 64)     0         \n",
            "_________________________________________________________________\n",
            "batch_normalization (BatchNo (None, 1, 61, 61, 64)     256       \n",
            "_________________________________________________________________\n",
            "flatten (Flatten)            (None, 238144)            0         \n",
            "_________________________________________________________________\n",
            "dense (Dense)                (None, 128)               30482560  \n",
            "_________________________________________________________________\n",
            "dropout (Dropout)            (None, 128)               0         \n",
            "_________________________________________________________________\n",
            "dense_1 (Dense)              (None, 64)                8256      \n",
            "_________________________________________________________________\n",
            "dense_2 (Dense)              (None, 32)                2080      \n",
            "_________________________________________________________________\n",
            "dense_3 (Dense)              (None, 1)                 33        \n",
            "=================================================================\n",
            "Total params: 30,549,441\n",
            "Trainable params: 30,549,313\n",
            "Non-trainable params: 128\n",
            "_________________________________________________________________\n"
          ],
          "name": "stdout"
        }
      ]
    },
    {
      "cell_type": "code",
      "metadata": {
        "colab": {
          "base_uri": "https://localhost:8080/"
        },
        "id": "-yvUb8sYT6zA",
        "outputId": "0c3dc9e8-b957-4d30-8e36-bc2df5a394b1"
      },
      "source": [
        "# Conv3d model training:\n",
        "from keras import optimizers\n",
        "optimizer_new=optimizers.RMSprop(lr=0.1)\n",
        "optimizer_adagrad=keras.optimizers.Adagrad(lr=0.01)\n",
        "callbacks_list_conv_3d=[keras.callbacks.EarlyStopping(\n",
        "monitor='acc',patience=6),\n",
        "               keras.callbacks.ModelCheckpoint(\n",
        "               filepath='eat_model_conv_3d.h5',\n",
        "               monitor='val_loss',\n",
        "               save_best_only=True),\n",
        "                        keras.callbacks.ReduceLROnPlateau(monitor = \"val_loss\", factor = 0.1, patience = 2)\n",
        "               ]\n",
        "model_3dConv.compile(optimizer=optimizer_adagrad,loss='binary_crossentropy',metrics=['acc'])\n",
        "conv_3d_model_history=model_3dConv.fit(train_dataset_new,train_labels,batch_size=10,epochs=15,\n",
        "               validation_data=(validation_dataset_new,validation_labels),\n",
        "               callbacks=callbacks_list_conv_3d)"
      ],
      "execution_count": 18,
      "outputs": [
        {
          "output_type": "stream",
          "text": [
            "Epoch 1/15\n",
            "82/82 [==============================] - 26s 125ms/step - loss: 0.8595 - acc: 0.6844 - val_loss: 0.6426 - val_acc: 0.7415\n",
            "Epoch 2/15\n",
            "82/82 [==============================] - 10s 118ms/step - loss: 0.4568 - acc: 0.8145 - val_loss: 0.6308 - val_acc: 0.8341\n",
            "Epoch 3/15\n",
            "82/82 [==============================] - 10s 118ms/step - loss: 0.3427 - acc: 0.8636 - val_loss: 0.5266 - val_acc: 0.8488\n",
            "Epoch 4/15\n",
            "82/82 [==============================] - 10s 118ms/step - loss: 0.2760 - acc: 0.8927 - val_loss: 0.4713 - val_acc: 0.8390\n",
            "Epoch 5/15\n",
            "82/82 [==============================] - 10s 118ms/step - loss: 0.1524 - acc: 0.9387 - val_loss: 0.4568 - val_acc: 0.8341\n",
            "Epoch 6/15\n",
            "82/82 [==============================] - 10s 118ms/step - loss: 0.1192 - acc: 0.9526 - val_loss: 0.4506 - val_acc: 0.8244\n",
            "Epoch 7/15\n",
            "82/82 [==============================] - 10s 118ms/step - loss: 0.0833 - acc: 0.9764 - val_loss: 0.5394 - val_acc: 0.8000\n",
            "Epoch 8/15\n",
            "82/82 [==============================] - 10s 118ms/step - loss: 0.0421 - acc: 0.9896 - val_loss: 0.5903 - val_acc: 0.8293\n",
            "Epoch 9/15\n",
            "82/82 [==============================] - 10s 118ms/step - loss: 0.0211 - acc: 0.9968 - val_loss: 0.6134 - val_acc: 0.8390\n",
            "Epoch 10/15\n",
            "82/82 [==============================] - 10s 118ms/step - loss: 0.0247 - acc: 0.9945 - val_loss: 0.6278 - val_acc: 0.8439\n",
            "Epoch 11/15\n",
            "82/82 [==============================] - 10s 118ms/step - loss: 0.0181 - acc: 0.9952 - val_loss: 0.6392 - val_acc: 0.8293\n",
            "Epoch 12/15\n",
            "82/82 [==============================] - 10s 118ms/step - loss: 0.0149 - acc: 0.9971 - val_loss: 0.6457 - val_acc: 0.8244\n",
            "Epoch 13/15\n",
            "82/82 [==============================] - 10s 118ms/step - loss: 0.0153 - acc: 0.9948 - val_loss: 0.6483 - val_acc: 0.8244\n",
            "Epoch 14/15\n",
            "82/82 [==============================] - 10s 117ms/step - loss: 0.0196 - acc: 0.9971 - val_loss: 0.6495 - val_acc: 0.8195\n",
            "Epoch 15/15\n",
            "82/82 [==============================] - 10s 118ms/step - loss: 0.0142 - acc: 0.9988 - val_loss: 0.6504 - val_acc: 0.8195\n"
          ],
          "name": "stdout"
        }
      ]
    },
    {
      "cell_type": "code",
      "metadata": {
        "colab": {
          "base_uri": "https://localhost:8080/",
          "height": 297
        },
        "id": "eJ-cNJKUT865",
        "outputId": "1113b0ef-44c2-416f-9a0e-ccd755a456ed"
      },
      "source": [
        "acc=conv_3d_model_history.history[\"acc\"]\n",
        "val_acc=conv_3d_model_history.history[\"val_acc\"]\n",
        "loss=conv_3d_model_history.history[\"loss\"]\n",
        "val_loss=conv_3d_model_history.history[\"val_loss\"]\n",
        "\n",
        "\n",
        "epochs=np.arange(1,16)\n",
        "\n",
        "plt.figure()\n",
        "plt.subplot(2,2,1)\n",
        "plt.plot(epochs,val_acc,'-o')\n",
        "plt.title('Validation Accuracy')\n",
        "\n",
        "plt.subplot(2,2,2)\n",
        "plt.plot(epochs,acc,'-o')\n",
        "plt.title('Train Accuracy')\n",
        "\n",
        "plt.subplot(2,2,3)\n",
        "plt.plot(epochs,val_loss,'-o')\n",
        "plt.title('Validation Loss')\n",
        "\n",
        "plt.subplot(2,2,4)\n",
        "plt.plot(epochs,loss,'-o')\n",
        "plt.title('Training Loss')\n",
        "\n",
        "\n",
        "plt.tight_layout()"
      ],
      "execution_count": 19,
      "outputs": [
        {
          "output_type": "display_data",
          "data": {
            "image/png": "[encoded data removed]",
            "text/plain": [
              "<Figure size 432x288 with 4 Axes>"
            ]
          },
          "metadata": {
            "tags": [],
            "needs_background": "light"
          }
        }
      ]
    },
    {
      "cell_type": "code",
      "metadata": {
        "colab": {
          "base_uri": "https://localhost:8080/"
        },
        "id": "2iAIo4zjaF-c",
        "outputId": "4f5028a9-8f27-469b-dad7-0503cd1ba85f"
      },
      "source": [
        "model=load_model('eat_model_conv_3d.h5')\n",
        "\n",
        "model.evaluate(test_dataset_new,test_labels)"
      ],
      "execution_count": 20,
      "outputs": [
        {
          "output_type": "stream",
          "text": [
            "15/15 [==============================] - 2s 134ms/step - loss: 0.4160 - acc: 0.8271\n"
          ],
          "name": "stdout"
        },
        {
          "output_type": "execute_result",
          "data": {
            "text/plain": [
              "[0.41599634289741516, 0.8270833492279053]"
            ]
          },
          "metadata": {
            "tags": []
          },
          "execution_count": 20
        }
      ]
    }
  ]
}